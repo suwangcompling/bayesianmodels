{
 "cells": [
  {
   "cell_type": "markdown",
   "metadata": {},
   "source": [
    "## Description\n",
    "\n",
    "* Count-Based Word Property Learning"
   ]
  },
  {
   "cell_type": "markdown",
   "metadata": {},
   "source": [
    "## I. Prepare Input\n",
    "\n",
    "* norms: list of all McRae norms (541)\n",
    "* props: list of all McRae properties (2526)\n",
    "* norm2prop: norm -> prop mapping\n",
    "* corpus triples: (word, dep, head)"
   ]
  },
  {
   "cell_type": "code",
   "execution_count": 3,
   "metadata": {
    "collapsed": true
   },
   "outputs": [],
   "source": [
    "import cPickle"
   ]
  },
  {
   "cell_type": "code",
   "execution_count": 8,
   "metadata": {
    "collapsed": false
   },
   "outputs": [],
   "source": [
    "norms,norm2prop,norm2propprob,props = cPickle.load(open(\"/Users/jacobsw/Desktop/UNIV/FALL_2016/LIN389C_RSCH_COMPLING/BAYESIAN/DATA/MCRAE/mcare_norm_data.p\",'rb'))\n",
    "dep_triples = cPickle.load(open(\"/Users/jacobsw/Desktop/UNIV/FALL_2016/LIN389C_RSCH_COMPLING/BAYESIAN/DATA/BROWN/brown_triples.p\",'rb'))"
   ]
  },
  {
   "cell_type": "markdown",
   "metadata": {},
   "source": [
    "## II. Facilities"
   ]
  },
  {
   "cell_type": "code",
   "execution_count": 36,
   "metadata": {
    "collapsed": true
   },
   "outputs": [],
   "source": [
    "import random\n",
    "import numpy as np\n",
    "from itertools import chain\n",
    "from collections import defaultdict\n",
    "from __future__ import division"
   ]
  },
  {
   "cell_type": "code",
   "execution_count": 61,
   "metadata": {
    "collapsed": true
   },
   "outputs": [],
   "source": [
    "# HELPERS\n",
    "\n",
    "def partition(l, k):\n",
    "    k = max(1, k)\n",
    "    chunk_size = len(l)//k\n",
    "    return [l[i:i+chunk_size] for i in xrange(0, len(l), chunk_size)]\n",
    "\n",
    "def cosine(norm2vr): # should take ppmi matrix as input\n",
    "    norm2vr_norm = norm2vr / np.apply_along_axis(lambda r: np.sqrt(np.dot(r,r)), 1, norm2vr)[:,np.newaxis]\n",
    "    return np.dot(norm2vr_norm, norm2vr_norm.T)\n",
    "    \n",
    "def ppmi(norm2vr):\n",
    "    def iszero(m): return m==0\n",
    "    row_sums, col_sums, total_sums = norm2vr.sum(axis=1), norm2vr.sum(axis=0), norm2vr.sum()\n",
    "    pwi, pwj, ppmi_mat = row_sums/total_sums, col_sums/total_sums, norm2vr/total_sums\n",
    "    ppmi_mat /= pwi[:,np.newaxis] # * 1/pwi by row.\n",
    "    ppmi_mat /= pwj # * 1/pwj by col.\n",
    "    ppmi_mat[iszero(ppmi_mat)] = 1e-10 # handling logging-on-0 issue.\n",
    "    ppmi_mat = np.log(ppmi_mat) # compute pmi.\n",
    "    ppmi_mat = np.maximum(ppmi_mat, 0) # compute ppmi.\n",
    "    return ppmi_mat"
   ]
  },
  {
   "cell_type": "code",
   "execution_count": 132,
   "metadata": {
    "collapsed": true
   },
   "outputs": [],
   "source": [
    "# EVALUATORS\n",
    "\n",
    "def topk_evaluate(norm2propwgts, k): # test norms.\n",
    "    accuracies = []\n",
    "    for norm in norm2propwgts.iterkeys():\n",
    "        true_props = norm2prop[norm]\n",
    "        pred_props = map(lambda idx:props[idx], np.argsort(norm2propwgts[norm])[::-1][:k])\n",
    "        accuracy = 0.\n",
    "        for pred_prop in pred_props:\n",
    "            if pred_prop in true_props: \n",
    "                accuracy = 1. # gold-standard prop retrieved, count 'accuracy'.\n",
    "                break\n",
    "        accuracies.append(accuracy)\n",
    "    print \"Percentage Accurate (Test Norms) in Top %d Predictions: %.6f%%\" % (k, np.mean(accuracies)*100)\n",
    "\n",
    "def map_evaluate(norm2propwgts):\n",
    "    avg_precs = []\n",
    "    for norm in norm2propwgts.iterkeys():\n",
    "        true_props = norm2prop[norm]\n",
    "        pred_props = map(lambda idx:props[idx], np.argsort(norm2propwgts[norm])[::-1])\n",
    "        num_correct, precs = 0, []\n",
    "        for i,pred_prop in enumerate(pred_props):\n",
    "            if pred_prop in true_props:\n",
    "                num_correct += 1\n",
    "                precs.append(num_correct/(i+1))\n",
    "        avg_precs.append(np.mean(precs))\n",
    "    print \"MAP: %.6f%%\" % (np.mean(avg_precs)*100)"
   ]
  },
  {
   "cell_type": "code",
   "execution_count": 182,
   "metadata": {
    "collapsed": false
   },
   "outputs": [],
   "source": [
    "# MAIN CLASS\n",
    "\n",
    "class WPCount:\n",
    "    \n",
    "    def __init__(self, norms, props, norm2prop, triples):\n",
    "        self.all_norms = norms\n",
    "        self.props = props\n",
    "        self.f2i = {f:i for i,f in enumerate(props)}\n",
    "        self.norm2prop = norm2prop\n",
    "        self.triples = triples\n",
    "    \n",
    "    def learn(self):\n",
    "        # build (norm,vr) dict\n",
    "        all_norms_set = set(self.all_norms)\n",
    "        norms, vrs = set(), set()\n",
    "        normvr2count = defaultdict(int)\n",
    "        for word,dep,head in self.triples:\n",
    "            if word in all_norms_set and (dep=='nsubj' or dep=='dobj'):\n",
    "                vr = head+'-'+dep\n",
    "                norms.add(word)\n",
    "                vrs.add(vr)\n",
    "                normvr2count[(word, vr)] += 1\n",
    "        self.norms = list(norms)\n",
    "        self.vrs = list(vrs)\n",
    "        self.n2i = {n:i for i,n in enumerate(self.norms)}\n",
    "        self.vr2i = {vr:i for i,vr in enumerate(self.vrs)}\n",
    "        # build (norm,vr) master matrix\n",
    "        norm2vr = np.zeros((len(self.norms),len(self.vrs)))\n",
    "        for (norm,vr),count in normvr2count.iteritems():\n",
    "            norm2vr[self.n2i[norm],self.vr2i[vr]] = count\n",
    "        self.norm2vr = norm2vr\n",
    "        # build (norm,norm) similarity matrix\n",
    "        self.norm2vr_ppmi = ppmi(self.norm2vr)\n",
    "        self.norm2norm_sim = cosine(self.norm2vr_ppmi)\n",
    "    \n",
    "    def infer(self, cv=5): \n",
    "        # norm set chunking\n",
    "        random.shuffle(self.norms)\n",
    "        norm_chunks = partition(self.norms, cv)\n",
    "        # keep record for cv results\n",
    "        results = []\n",
    "        for i in range(cv): # CV\n",
    "            # train-test split\n",
    "            train_norms = list(chain.from_iterable([norm_chunk for j,norm_chunk in enumerate(norm_chunks)\n",
    "                                                    if j!=i])) # flatten.\n",
    "            test_norms = norm_chunks[i]\n",
    "            test_norms_ids = set(map(self.n2i.get, test_norms))\n",
    "            # get top similar norms for each test norm\n",
    "            norm2mostsim = defaultdict(list)\n",
    "            for test_norm in test_norms:\n",
    "                sim_vec = self.norm2norm_sim[self.n2i[test_norm]]\n",
    "                topk_ids = filter(lambda idx:idx not in test_norms_ids, np.argsort(sim_vec)[::-1])\n",
    "                topk_sims = map(lambda idx:self.norms[idx], topk_ids)\n",
    "                norm2mostsim[test_norm] = topk_sims   \n",
    "            results.append(norm2mostsim)\n",
    "        self.results = results\n",
    "    \n",
    "    def evaluate(self):\n",
    "        for i,result in enumerate(self.results):\n",
    "            test_norm2propwgts = defaultdict(list)\n",
    "            for test_norm in result.iterkeys():\n",
    "                prop_wgts = np.ones(len(self.props))\n",
    "                pred_props = list(chain.from_iterable([self.norm2prop[norm] for norm in result[test_norm]]))\n",
    "                for pred_prop in pred_props:\n",
    "                    prop_wgts[self.f2i[pred_prop]] += 1\n",
    "                test_norm2propwgts[test_norm] = prop_wgts\n",
    "            print \"CV round %d results:\" % (i+1)\n",
    "            topk_evaluate(test_norm2propwgts, k=1)\n",
    "            topk_evaluate(test_norm2propwgts, k=5)\n",
    "            topk_evaluate(test_norm2propwgts, k=10)\n",
    "            topk_evaluate(test_norm2propwgts, k=20)\n",
    "            map_evaluate(test_norm2propwgts)\n",
    "            print\n",
    "      "
   ]
  },
  {
   "cell_type": "code",
   "execution_count": 187,
   "metadata": {
    "collapsed": false
   },
   "outputs": [
    {
     "name": "stdout",
     "output_type": "stream",
     "text": [
      "CV round 1 results:\n",
      "Percentage Accurate (Test Norms) in Top 1 Predictions: 27.692308%\n",
      "Percentage Accurate (Test Norms) in Top 5 Predictions: 67.692308%\n",
      "Percentage Accurate (Test Norms) in Top 10 Predictions: 87.692308%\n",
      "Percentage Accurate (Test Norms) in Top 20 Predictions: 92.307692%\n",
      "MAP: 10.852882%\n",
      "\n",
      "CV round 2 results:\n",
      "Percentage Accurate (Test Norms) in Top 1 Predictions: 26.153846%\n",
      "Percentage Accurate (Test Norms) in Top 5 Predictions: 67.692308%\n",
      "Percentage Accurate (Test Norms) in Top 10 Predictions: 90.769231%\n",
      "Percentage Accurate (Test Norms) in Top 20 Predictions: 93.846154%\n",
      "MAP: 10.486773%\n",
      "\n",
      "CV round 3 results:\n",
      "Percentage Accurate (Test Norms) in Top 1 Predictions: 27.692308%\n",
      "Percentage Accurate (Test Norms) in Top 5 Predictions: 70.769231%\n",
      "Percentage Accurate (Test Norms) in Top 10 Predictions: 92.307692%\n",
      "Percentage Accurate (Test Norms) in Top 20 Predictions: 96.923077%\n",
      "MAP: 11.575330%\n",
      "\n",
      "CV round 4 results:\n",
      "Percentage Accurate (Test Norms) in Top 1 Predictions: 35.384615%\n",
      "Percentage Accurate (Test Norms) in Top 5 Predictions: 67.692308%\n",
      "Percentage Accurate (Test Norms) in Top 10 Predictions: 86.153846%\n",
      "Percentage Accurate (Test Norms) in Top 20 Predictions: 89.230769%\n",
      "MAP: 11.422930%\n",
      "\n",
      "CV round 5 results:\n",
      "Percentage Accurate (Test Norms) in Top 1 Predictions: 16.923077%\n",
      "Percentage Accurate (Test Norms) in Top 5 Predictions: 66.153846%\n",
      "Percentage Accurate (Test Norms) in Top 10 Predictions: 87.692308%\n",
      "Percentage Accurate (Test Norms) in Top 20 Predictions: 95.384615%\n",
      "MAP: 11.108139%\n",
      "\n"
     ]
    }
   ],
   "source": [
    "wpc = WPCount(norms, props, norm2prop, dep_triples)\n",
    "wpc.learn()\n",
    "wpc.infer(cv=5)\n",
    "wpc.evaluate()"
   ]
  },
  {
   "cell_type": "code",
   "execution_count": 188,
   "metadata": {
    "collapsed": false
   },
   "outputs": [
    {
     "name": "stdout",
     "output_type": "stream",
     "text": [
      "CV round 1 results:\n",
      "Percentage Accurate (Test Norms) in Top 1 Predictions: 21.875000%\n",
      "Percentage Accurate (Test Norms) in Top 5 Predictions: 59.375000%\n",
      "Percentage Accurate (Test Norms) in Top 10 Predictions: 81.250000%\n",
      "Percentage Accurate (Test Norms) in Top 20 Predictions: 87.500000%\n",
      "MAP: 9.323167%\n",
      "\n",
      "CV round 2 results:\n",
      "Percentage Accurate (Test Norms) in Top 1 Predictions: 34.375000%\n",
      "Percentage Accurate (Test Norms) in Top 5 Predictions: 78.125000%\n",
      "Percentage Accurate (Test Norms) in Top 10 Predictions: 90.625000%\n",
      "Percentage Accurate (Test Norms) in Top 20 Predictions: 93.750000%\n",
      "MAP: 10.208668%\n",
      "\n",
      "CV round 3 results:\n",
      "Percentage Accurate (Test Norms) in Top 1 Predictions: 28.125000%\n",
      "Percentage Accurate (Test Norms) in Top 5 Predictions: 68.750000%\n",
      "Percentage Accurate (Test Norms) in Top 10 Predictions: 93.750000%\n",
      "Percentage Accurate (Test Norms) in Top 20 Predictions: 100.000000%\n",
      "MAP: 13.114250%\n",
      "\n",
      "CV round 4 results:\n",
      "Percentage Accurate (Test Norms) in Top 1 Predictions: 18.750000%\n",
      "Percentage Accurate (Test Norms) in Top 5 Predictions: 68.750000%\n",
      "Percentage Accurate (Test Norms) in Top 10 Predictions: 90.625000%\n",
      "Percentage Accurate (Test Norms) in Top 20 Predictions: 93.750000%\n",
      "MAP: 10.447391%\n",
      "\n",
      "CV round 5 results:\n",
      "Percentage Accurate (Test Norms) in Top 1 Predictions: 28.125000%\n",
      "Percentage Accurate (Test Norms) in Top 5 Predictions: 84.375000%\n",
      "Percentage Accurate (Test Norms) in Top 10 Predictions: 96.875000%\n",
      "Percentage Accurate (Test Norms) in Top 20 Predictions: 96.875000%\n",
      "MAP: 12.148816%\n",
      "\n",
      "CV round 6 results:\n",
      "Percentage Accurate (Test Norms) in Top 1 Predictions: 18.750000%\n",
      "Percentage Accurate (Test Norms) in Top 5 Predictions: 65.625000%\n",
      "Percentage Accurate (Test Norms) in Top 10 Predictions: 84.375000%\n",
      "Percentage Accurate (Test Norms) in Top 20 Predictions: 90.625000%\n",
      "MAP: 10.658487%\n",
      "\n",
      "CV round 7 results:\n",
      "Percentage Accurate (Test Norms) in Top 1 Predictions: 31.250000%\n",
      "Percentage Accurate (Test Norms) in Top 5 Predictions: 75.000000%\n",
      "Percentage Accurate (Test Norms) in Top 10 Predictions: 87.500000%\n",
      "Percentage Accurate (Test Norms) in Top 20 Predictions: 87.500000%\n",
      "MAP: 11.246190%\n",
      "\n",
      "CV round 8 results:\n",
      "Percentage Accurate (Test Norms) in Top 1 Predictions: 28.125000%\n",
      "Percentage Accurate (Test Norms) in Top 5 Predictions: 65.625000%\n",
      "Percentage Accurate (Test Norms) in Top 10 Predictions: 84.375000%\n",
      "Percentage Accurate (Test Norms) in Top 20 Predictions: 84.375000%\n",
      "MAP: 11.078879%\n",
      "\n",
      "CV round 9 results:\n",
      "Percentage Accurate (Test Norms) in Top 1 Predictions: 21.875000%\n",
      "Percentage Accurate (Test Norms) in Top 5 Predictions: 68.750000%\n",
      "Percentage Accurate (Test Norms) in Top 10 Predictions: 87.500000%\n",
      "Percentage Accurate (Test Norms) in Top 20 Predictions: 90.625000%\n",
      "MAP: 9.103721%\n",
      "\n",
      "CV round 10 results:\n",
      "Percentage Accurate (Test Norms) in Top 1 Predictions: 34.375000%\n",
      "Percentage Accurate (Test Norms) in Top 5 Predictions: 75.000000%\n",
      "Percentage Accurate (Test Norms) in Top 10 Predictions: 90.625000%\n",
      "Percentage Accurate (Test Norms) in Top 20 Predictions: 96.875000%\n",
      "MAP: 13.620513%\n",
      "\n"
     ]
    }
   ],
   "source": [
    "wpc = WPCount(norms, props, norm2prop, dep_triples)\n",
    "wpc.learn()\n",
    "wpc.infer(cv=10)\n",
    "wpc.evaluate()"
   ]
  },
  {
   "cell_type": "code",
   "execution_count": null,
   "metadata": {
    "collapsed": true
   },
   "outputs": [],
   "source": []
  }
 ],
 "metadata": {
  "kernelspec": {
   "display_name": "Python 2",
   "language": "python",
   "name": "python2"
  },
  "language_info": {
   "codemirror_mode": {
    "name": "ipython",
    "version": 2
   },
   "file_extension": ".py",
   "mimetype": "text/x-python",
   "name": "python",
   "nbconvert_exporter": "python",
   "pygments_lexer": "ipython2",
   "version": "2.7.11"
  }
 },
 "nbformat": 4,
 "nbformat_minor": 0
}
