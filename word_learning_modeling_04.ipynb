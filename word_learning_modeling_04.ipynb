{
 "cells": [
  {
   "cell_type": "markdown",
   "metadata": {},
   "source": [
    "## Model IV\n",
    "\n",
    "* **Corpora**: \n",
    "\n",
    "    * Norms: McRae et al. (2005)\n",
    "    * Information Corpus: Brown\n",
    "\n",
    "* **Model**: Jacob & Katrin Model\n",
    "\n",
    "    * Ideas:\n",
    "        * [ASSUMPTION] The properties of an unknown word $u$ are only learned from the predicates $V=\\{v_1,...,v_k\\}$ for which $w$ is an argument in either of two core argument positions -- subject, object.\n",
    "        * [ASSUMPTION] $P$ is representative of all the possible properties.\n",
    "        * [DEFINITION] A predicate $v$ is an information unit which comprises two Dirichlet Distributions over the set of all properties $P$: $Dir(\\alpha_{subj}),Dir(\\alpha_{obj})$.\n",
    "        * [DEFINITION] A word $w$ is associated with a Dirichlet Distribution over $P$: $Dir(\\beta)$. The corresponding distribution of an unknown word $u$ is $Dir(\\beta),\\beta=(1,...)$.\n",
    "    \n",
    "    * Procedure:\n",
    "        * Training: Learning predicates (i.e. information units) $V=\\{v_1,...,v_k\\}$ with a corpus -- updating their Dirichlet Distributions over $P$: $Dir(\\alpha_{subj}),Dir(\\alpha_{obj})$.\n",
    "        * Learning: On encounter a sentence $s$ where $u$ is the target unknown word and $v$ is the predicate of $u$, update $Dir(\\beta)$ of $u$ to $Dir(\\alpha+\\beta)$, where $\\alpha$ could either be $\\alpha_{subj}$ or $\\alpha_{obj}$.\n",
    "        * Evalution: After exposure to a set of sentences, take $k$ samples from the final $Dir(\\beta)$, and\n",
    "            * Qualitative: Observe the spikes in the samples, see if they correspond to intuition.\n",
    "            * Quantitative: Compute average entropy of sample distribution (multinomials) -- lower entropy indicates good learning outcome.\n",
    "    \n",
    "    * Algorithm:\n",
    "        * Let $W$ be the set of norm nouns ($W_{subj},W_{obj}$ are subj/obj-only sets), $V$ be the set of verbs which have at least one $w\\in W$ evidenced in its core argument position, $P$ be the set of properties.\n",
    "        * For each $v\\in V$, make two lists $v_{subj}$ and $v_{obj}$ -- lists of occurred $w$s in the subject and the object position.\n",
    "        * Count the associated properties of $w$s in $v_{subj}$ and $v_{obj}$ for each $v\\in V$, with which we then construct $Dir(\\alpha_{subj})$ and $Dir(\\alpha_{obj})$ for $v\\in V$.\n",
    "        * For the target unknown word $u$, expose it to $n$ sentences, and do $Dir(\\alpha+\\beta)$ updates.\n",
    "        * Evaluate a sample set of $k$ from the final $Dir(\\beta)$."
   ]
  },
  {
   "cell_type": "markdown",
   "metadata": {},
   "source": [
    "## 0. Load Corpora"
   ]
  },
  {
   "cell_type": "markdown",
   "metadata": {},
   "source": [
    "### A. Norms"
   ]
  },
  {
   "cell_type": "code",
   "execution_count": 1,
   "metadata": {
    "collapsed": true
   },
   "outputs": [],
   "source": [
    "import pandas as pd"
   ]
  },
  {
   "cell_type": "code",
   "execution_count": 2,
   "metadata": {
    "collapsed": true
   },
   "outputs": [],
   "source": [
    "data_path = \"/Users/jacobsw/Desktop/CODER/IMPLEMENTATION_CAMP/BASIC_TOPICS/DISTRIBUTIONAL_SEMANTICS/DATA/McRae-BRM-InPress/\""
   ]
  },
  {
   "cell_type": "code",
   "execution_count": 3,
   "metadata": {
    "collapsed": true
   },
   "outputs": [],
   "source": [
    "df = pd.read_csv(data_path+\"CONCS_FEATS_concstats_brm.xls\", delimiter='\\t')"
   ]
  },
  {
   "cell_type": "code",
   "execution_count": 4,
   "metadata": {
    "collapsed": false
   },
   "outputs": [
    {
     "name": "stdout",
     "output_type": "stream",
     "text": [
      "Index([u'Concept', u'Feature', u'WB_Label', u'WB_Maj', u'WB_Min', u'BR_Label',\n",
      "       u'Prod_Freq', u'Rank_PF', u'Sum_PF_No_Tax', u'CPF', u'Disting',\n",
      "       u'Distinct', u'CV_No_Tax', u'Intercorr_Str_Tax',\n",
      "       u'Intercorr_Str_No_Tax', u'Feat_Length_Including_Spaces', u'Phon_1st',\n",
      "       u'KF', u'ln(KF)', u'BNC', u'ln(BNC)', u'Familiarity', u'Length_Letters',\n",
      "       u'Length_Phonemes', u'Length_Syllables', u'Bigram', u'Trigram',\n",
      "       u'ColtheartN', u'Num_Feats_Tax', u'Num_Feats_No_Tax',\n",
      "       u'Num_Disting_Feats_No_Tax', u'Disting_Feats_%_No_Tax',\n",
      "       u'Mean_Distinct_No_Tax', u'Mean_CV_No_Tax', u'Density_No_Tax',\n",
      "       u'Num_Corred_Pairs_No_Tax', u'%_Corred_Pairs_No_Tax', u'Num_Func',\n",
      "       u'Num_Vis_Mot', u'Num_VisF&S', u'Num_Vis_Col', u'Num_Sound',\n",
      "       u'Num_Taste', u'Num_Smell', u'Num_Tact', u'Num_Ency', u'Num_Tax'],\n",
      "      dtype='object')\n"
     ]
    }
   ],
   "source": [
    "print df.columns"
   ]
  },
  {
   "cell_type": "code",
   "execution_count": 5,
   "metadata": {
    "collapsed": false
   },
   "outputs": [
    {
     "data": {
      "text/html": [
       "<div>\n",
       "<table border=\"1\" class=\"dataframe\">\n",
       "  <thead>\n",
       "    <tr style=\"text-align: right;\">\n",
       "      <th></th>\n",
       "      <th>Concept</th>\n",
       "      <th>Feature</th>\n",
       "      <th>WB_Label</th>\n",
       "      <th>WB_Maj</th>\n",
       "      <th>WB_Min</th>\n",
       "      <th>BR_Label</th>\n",
       "      <th>Prod_Freq</th>\n",
       "      <th>Rank_PF</th>\n",
       "      <th>Sum_PF_No_Tax</th>\n",
       "      <th>CPF</th>\n",
       "      <th>...</th>\n",
       "      <th>Num_Func</th>\n",
       "      <th>Num_Vis_Mot</th>\n",
       "      <th>Num_VisF&amp;S</th>\n",
       "      <th>Num_Vis_Col</th>\n",
       "      <th>Num_Sound</th>\n",
       "      <th>Num_Taste</th>\n",
       "      <th>Num_Smell</th>\n",
       "      <th>Num_Tact</th>\n",
       "      <th>Num_Ency</th>\n",
       "      <th>Num_Tax</th>\n",
       "    </tr>\n",
       "  </thead>\n",
       "  <tbody>\n",
       "    <tr>\n",
       "      <th>0</th>\n",
       "      <td>accordion</td>\n",
       "      <td>a_musical_instrument</td>\n",
       "      <td>superordinate</td>\n",
       "      <td>c</td>\n",
       "      <td>h</td>\n",
       "      <td>taxonomic</td>\n",
       "      <td>28</td>\n",
       "      <td>1</td>\n",
       "      <td>NaN</td>\n",
       "      <td>18</td>\n",
       "      <td>...</td>\n",
       "      <td>2</td>\n",
       "      <td>0</td>\n",
       "      <td>2</td>\n",
       "      <td>0</td>\n",
       "      <td>2</td>\n",
       "      <td>0</td>\n",
       "      <td>0</td>\n",
       "      <td>0</td>\n",
       "      <td>2</td>\n",
       "      <td>1</td>\n",
       "    </tr>\n",
       "    <tr>\n",
       "      <th>1</th>\n",
       "      <td>accordion</td>\n",
       "      <td>associated_with_polkas</td>\n",
       "      <td>associated_entity</td>\n",
       "      <td>s</td>\n",
       "      <td>e</td>\n",
       "      <td>encyclopaedic</td>\n",
       "      <td>9</td>\n",
       "      <td>4</td>\n",
       "      <td>9.0</td>\n",
       "      <td>1</td>\n",
       "      <td>...</td>\n",
       "      <td>2</td>\n",
       "      <td>0</td>\n",
       "      <td>2</td>\n",
       "      <td>0</td>\n",
       "      <td>2</td>\n",
       "      <td>0</td>\n",
       "      <td>0</td>\n",
       "      <td>0</td>\n",
       "      <td>2</td>\n",
       "      <td>1</td>\n",
       "    </tr>\n",
       "    <tr>\n",
       "      <th>2</th>\n",
       "      <td>accordion</td>\n",
       "      <td>has_buttons</td>\n",
       "      <td>external_component</td>\n",
       "      <td>e</td>\n",
       "      <td>ce</td>\n",
       "      <td>visual-form_and_surface</td>\n",
       "      <td>8</td>\n",
       "      <td>5</td>\n",
       "      <td>163.0</td>\n",
       "      <td>13</td>\n",
       "      <td>...</td>\n",
       "      <td>2</td>\n",
       "      <td>0</td>\n",
       "      <td>2</td>\n",
       "      <td>0</td>\n",
       "      <td>2</td>\n",
       "      <td>0</td>\n",
       "      <td>0</td>\n",
       "      <td>0</td>\n",
       "      <td>2</td>\n",
       "      <td>1</td>\n",
       "    </tr>\n",
       "    <tr>\n",
       "      <th>3</th>\n",
       "      <td>accordion</td>\n",
       "      <td>has_keys</td>\n",
       "      <td>external_component</td>\n",
       "      <td>e</td>\n",
       "      <td>ce</td>\n",
       "      <td>visual-form_and_surface</td>\n",
       "      <td>17</td>\n",
       "      <td>2</td>\n",
       "      <td>108.0</td>\n",
       "      <td>7</td>\n",
       "      <td>...</td>\n",
       "      <td>2</td>\n",
       "      <td>0</td>\n",
       "      <td>2</td>\n",
       "      <td>0</td>\n",
       "      <td>2</td>\n",
       "      <td>0</td>\n",
       "      <td>0</td>\n",
       "      <td>0</td>\n",
       "      <td>2</td>\n",
       "      <td>1</td>\n",
       "    </tr>\n",
       "    <tr>\n",
       "      <th>4</th>\n",
       "      <td>accordion</td>\n",
       "      <td>inbeh_-_produces_music</td>\n",
       "      <td>entity_behavior</td>\n",
       "      <td>e</td>\n",
       "      <td>b</td>\n",
       "      <td>sound</td>\n",
       "      <td>6</td>\n",
       "      <td>7</td>\n",
       "      <td>178.0</td>\n",
       "      <td>13</td>\n",
       "      <td>...</td>\n",
       "      <td>2</td>\n",
       "      <td>0</td>\n",
       "      <td>2</td>\n",
       "      <td>0</td>\n",
       "      <td>2</td>\n",
       "      <td>0</td>\n",
       "      <td>0</td>\n",
       "      <td>0</td>\n",
       "      <td>2</td>\n",
       "      <td>1</td>\n",
       "    </tr>\n",
       "    <tr>\n",
       "      <th>5</th>\n",
       "      <td>accordion</td>\n",
       "      <td>is_loud</td>\n",
       "      <td>external_surface_property</td>\n",
       "      <td>e</td>\n",
       "      <td>se</td>\n",
       "      <td>sound</td>\n",
       "      <td>6</td>\n",
       "      <td>7</td>\n",
       "      <td>317.0</td>\n",
       "      <td>34</td>\n",
       "      <td>...</td>\n",
       "      <td>2</td>\n",
       "      <td>0</td>\n",
       "      <td>2</td>\n",
       "      <td>0</td>\n",
       "      <td>2</td>\n",
       "      <td>0</td>\n",
       "      <td>0</td>\n",
       "      <td>0</td>\n",
       "      <td>2</td>\n",
       "      <td>1</td>\n",
       "    </tr>\n",
       "    <tr>\n",
       "      <th>6</th>\n",
       "      <td>accordion</td>\n",
       "      <td>requires_air</td>\n",
       "      <td>contingency</td>\n",
       "      <td>i</td>\n",
       "      <td>c</td>\n",
       "      <td>encyclopaedic</td>\n",
       "      <td>11</td>\n",
       "      <td>3</td>\n",
       "      <td>49.0</td>\n",
       "      <td>4</td>\n",
       "      <td>...</td>\n",
       "      <td>2</td>\n",
       "      <td>0</td>\n",
       "      <td>2</td>\n",
       "      <td>0</td>\n",
       "      <td>2</td>\n",
       "      <td>0</td>\n",
       "      <td>0</td>\n",
       "      <td>0</td>\n",
       "      <td>2</td>\n",
       "      <td>1</td>\n",
       "    </tr>\n",
       "    <tr>\n",
       "      <th>7</th>\n",
       "      <td>accordion</td>\n",
       "      <td>used_by_moving_bellows</td>\n",
       "      <td>action</td>\n",
       "      <td>s</td>\n",
       "      <td>a</td>\n",
       "      <td>function</td>\n",
       "      <td>8</td>\n",
       "      <td>5</td>\n",
       "      <td>8.0</td>\n",
       "      <td>1</td>\n",
       "      <td>...</td>\n",
       "      <td>2</td>\n",
       "      <td>0</td>\n",
       "      <td>2</td>\n",
       "      <td>0</td>\n",
       "      <td>2</td>\n",
       "      <td>0</td>\n",
       "      <td>0</td>\n",
       "      <td>0</td>\n",
       "      <td>2</td>\n",
       "      <td>1</td>\n",
       "    </tr>\n",
       "    <tr>\n",
       "      <th>8</th>\n",
       "      <td>accordion</td>\n",
       "      <td>worn_on_chest</td>\n",
       "      <td>function</td>\n",
       "      <td>s</td>\n",
       "      <td>f</td>\n",
       "      <td>function</td>\n",
       "      <td>6</td>\n",
       "      <td>7</td>\n",
       "      <td>6.0</td>\n",
       "      <td>1</td>\n",
       "      <td>...</td>\n",
       "      <td>2</td>\n",
       "      <td>0</td>\n",
       "      <td>2</td>\n",
       "      <td>0</td>\n",
       "      <td>2</td>\n",
       "      <td>0</td>\n",
       "      <td>0</td>\n",
       "      <td>0</td>\n",
       "      <td>2</td>\n",
       "      <td>1</td>\n",
       "    </tr>\n",
       "    <tr>\n",
       "      <th>9</th>\n",
       "      <td>airplane</td>\n",
       "      <td>beh_-_flies</td>\n",
       "      <td>entity_behavior</td>\n",
       "      <td>e</td>\n",
       "      <td>b</td>\n",
       "      <td>visual-motion</td>\n",
       "      <td>25</td>\n",
       "      <td>1</td>\n",
       "      <td>712.0</td>\n",
       "      <td>46</td>\n",
       "      <td>...</td>\n",
       "      <td>3</td>\n",
       "      <td>3</td>\n",
       "      <td>5</td>\n",
       "      <td>0</td>\n",
       "      <td>0</td>\n",
       "      <td>0</td>\n",
       "      <td>0</td>\n",
       "      <td>0</td>\n",
       "      <td>2</td>\n",
       "      <td>0</td>\n",
       "    </tr>\n",
       "  </tbody>\n",
       "</table>\n",
       "<p>10 rows × 47 columns</p>\n",
       "</div>"
      ],
      "text/plain": [
       "     Concept                 Feature                   WB_Label WB_Maj WB_Min  \\\n",
       "0  accordion    a_musical_instrument              superordinate      c      h   \n",
       "1  accordion  associated_with_polkas          associated_entity      s      e   \n",
       "2  accordion             has_buttons         external_component      e     ce   \n",
       "3  accordion                has_keys         external_component      e     ce   \n",
       "4  accordion  inbeh_-_produces_music            entity_behavior      e      b   \n",
       "5  accordion                 is_loud  external_surface_property      e     se   \n",
       "6  accordion            requires_air                contingency      i      c   \n",
       "7  accordion  used_by_moving_bellows                     action      s      a   \n",
       "8  accordion           worn_on_chest                   function      s      f   \n",
       "9   airplane             beh_-_flies            entity_behavior      e      b   \n",
       "\n",
       "                  BR_Label  Prod_Freq  Rank_PF  Sum_PF_No_Tax  CPF   ...     \\\n",
       "0                taxonomic         28        1            NaN   18   ...      \n",
       "1            encyclopaedic          9        4            9.0    1   ...      \n",
       "2  visual-form_and_surface          8        5          163.0   13   ...      \n",
       "3  visual-form_and_surface         17        2          108.0    7   ...      \n",
       "4                    sound          6        7          178.0   13   ...      \n",
       "5                    sound          6        7          317.0   34   ...      \n",
       "6            encyclopaedic         11        3           49.0    4   ...      \n",
       "7                 function          8        5            8.0    1   ...      \n",
       "8                 function          6        7            6.0    1   ...      \n",
       "9            visual-motion         25        1          712.0   46   ...      \n",
       "\n",
       "  Num_Func  Num_Vis_Mot  Num_VisF&S  Num_Vis_Col  Num_Sound  Num_Taste  \\\n",
       "0        2            0           2            0          2          0   \n",
       "1        2            0           2            0          2          0   \n",
       "2        2            0           2            0          2          0   \n",
       "3        2            0           2            0          2          0   \n",
       "4        2            0           2            0          2          0   \n",
       "5        2            0           2            0          2          0   \n",
       "6        2            0           2            0          2          0   \n",
       "7        2            0           2            0          2          0   \n",
       "8        2            0           2            0          2          0   \n",
       "9        3            3           5            0          0          0   \n",
       "\n",
       "  Num_Smell  Num_Tact  Num_Ency  Num_Tax  \n",
       "0         0         0         2        1  \n",
       "1         0         0         2        1  \n",
       "2         0         0         2        1  \n",
       "3         0         0         2        1  \n",
       "4         0         0         2        1  \n",
       "5         0         0         2        1  \n",
       "6         0         0         2        1  \n",
       "7         0         0         2        1  \n",
       "8         0         0         2        1  \n",
       "9         0         0         2        0  \n",
       "\n",
       "[10 rows x 47 columns]"
      ]
     },
     "execution_count": 5,
     "metadata": {},
     "output_type": "execute_result"
    }
   ],
   "source": [
    "df.head(10)"
   ]
  },
  {
   "cell_type": "markdown",
   "metadata": {},
   "source": [
    "### B. Brown"
   ]
  },
  {
   "cell_type": "code",
   "execution_count": 6,
   "metadata": {
    "collapsed": true
   },
   "outputs": [],
   "source": [
    "from nltk.corpus import brown\n",
    "from spacy.en import English"
   ]
  },
  {
   "cell_type": "code",
   "execution_count": 7,
   "metadata": {
    "collapsed": true
   },
   "outputs": [],
   "source": [
    "parser = English()"
   ]
  },
  {
   "cell_type": "code",
   "execution_count": 8,
   "metadata": {
    "collapsed": true
   },
   "outputs": [],
   "source": [
    "brown_sents = [unicode(' '.join(sent)) for sent in brown.sents()]"
   ]
  },
  {
   "cell_type": "code",
   "execution_count": 9,
   "metadata": {
    "collapsed": false
   },
   "outputs": [
    {
     "name": "stdout",
     "output_type": "stream",
     "text": [
      "CPU times: user 1min 34s, sys: 746 ms, total: 1min 35s\n",
      "Wall time: 1min 35s\n"
     ]
    }
   ],
   "source": [
    "%%time\n",
    "parsed_sents = [parser(sent) for sent in brown_sents]"
   ]
  },
  {
   "cell_type": "code",
   "execution_count": 10,
   "metadata": {
    "collapsed": true
   },
   "outputs": [],
   "source": [
    "def make_token2lemma_dict(parsed_sents):\n",
    "    \n",
    "    lemmas = set()\n",
    "    token2lemma = {}\n",
    "    for parsed_sent in parsed_sents:\n",
    "        for token in parsed_sent:\n",
    "            token2lemma[token.orth_] = token.lemma_\n",
    "            lemmas.add(token.lemma_)\n",
    "    \n",
    "    return lemmas, token2lemma"
   ]
  },
  {
   "cell_type": "code",
   "execution_count": 11,
   "metadata": {
    "collapsed": false
   },
   "outputs": [
    {
     "name": "stdout",
     "output_type": "stream",
     "text": [
      "CPU times: user 1.28 s, sys: 40.2 ms, total: 1.32 s\n",
      "Wall time: 1.3 s\n"
     ]
    }
   ],
   "source": [
    "%%time\n",
    "brown_lemmas, brown_t2l = make_token2lemma_dict(parsed_sents)"
   ]
  },
  {
   "cell_type": "code",
   "execution_count": 12,
   "metadata": {
    "collapsed": false
   },
   "outputs": [
    {
     "name": "stdout",
     "output_type": "stream",
     "text": [
      "book\n"
     ]
    }
   ],
   "source": [
    "print brown_t2l['books']"
   ]
  },
  {
   "cell_type": "markdown",
   "metadata": {},
   "source": [
    "### C. Synchronize Norms & Brown"
   ]
  },
  {
   "cell_type": "code",
   "execution_count": 13,
   "metadata": {
    "collapsed": true
   },
   "outputs": [],
   "source": [
    "norms = {df.ix[i]['Concept'] for i in range(df.shape[0])}"
   ]
  },
  {
   "cell_type": "code",
   "execution_count": 14,
   "metadata": {
    "collapsed": true
   },
   "outputs": [],
   "source": [
    "def norm_normalize(norm):\n",
    "    \n",
    "    norm = norm.split('_')[0] if '_' in norm else norm\n",
    "    if norm in brown_t2l: return brown_t2l[norm]\n",
    "    return norm\n"
   ]
  },
  {
   "cell_type": "code",
   "execution_count": 15,
   "metadata": {
    "collapsed": false
   },
   "outputs": [
    {
     "name": "stdout",
     "output_type": "stream",
     "text": [
      "cat\n",
      "cat\n"
     ]
    }
   ],
   "source": [
    "print norm_normalize('cat_(kitchen)')\n",
    "print norm_normalize('cat')"
   ]
  },
  {
   "cell_type": "code",
   "execution_count": 16,
   "metadata": {
    "collapsed": true
   },
   "outputs": [],
   "source": [
    "# Count Out-Of-Vocab Norms For Brown\n",
    "t = [] \n",
    "for norm in norms:\n",
    "    norm = norm.split('_')[0] if '_' in norm else norm\n",
    "    if norm in brown_lemmas or norm in brown_t2l: continue\n",
    "    t.append(norm)"
   ]
  },
  {
   "cell_type": "code",
   "execution_count": 17,
   "metadata": {
    "collapsed": false
   },
   "outputs": [
    {
     "name": "stdout",
     "output_type": "stream",
     "text": [
      "['earmuffs', 'bike', 'screwdriver', 'unicycle', 'camisole', 'crossbow', 'hamster', 'bra', 'sledgehammer', 'skateboard', 'leotards', 'rhubarb', 'platypus', 'pelican', 'minnow', 'canary', 'spatula', 'motorcycle', 'iguana', 'chickadee', 'giraffe', 'tricycle', 'bazooka', 'tomahawk', 'ostrich', 'cucumber', 'lettuce', 'whale', 'stork', 'bluejay', 'colander', 'chipmunk', 'escalator', 'partridge', 'parka', 'zucchini', 'dunebuggy', 'machete', 'crowbar', 'housefly', 'blender', 'nectarine', 'scooter', 'cougar', 'penguin', 'emu', 'honeydew', 'wheelbarrow', 'harmonica', 'eggplant', 'groundhog', 'harpoon', 'yam', 'squid', 'toaster', 'moose', 'tuna', 'surfboard', 'nylons', 'raven', 'budgie', 'fridge', 'gopher', 'flamingo', 'sleigh', 'trombone', 'strainer', 'dagger', 'chimp', 'buzzard', 'guppy', 'grater', 'nightgown', 'cello', 'hornet', 'finch', 'tangerine', 'gorilla', 'caribou']\n",
      "79\n"
     ]
    }
   ],
   "source": [
    "print t\n",
    "print len(t)"
   ]
  },
  {
   "cell_type": "markdown",
   "metadata": {},
   "source": [
    "** SPECIAL BLOCK: FOR LEAVE-ONE-OUT **"
   ]
  },
  {
   "cell_type": "code",
   "execution_count": 21,
   "metadata": {
    "collapsed": true
   },
   "outputs": [],
   "source": [
    "out_word = 'alligator'\n",
    "norms = filter(lambda norm: norm!=out_word, map(lambda norm:norm_normalize(norm), norms))"
   ]
  },
  {
   "cell_type": "code",
   "execution_count": 22,
   "metadata": {
    "collapsed": true
   },
   "outputs": [],
   "source": [
    "norms = map(lambda norm:norm_normalize(norm), norms)"
   ]
  },
  {
   "cell_type": "code",
   "execution_count": 23,
   "metadata": {
    "collapsed": true
   },
   "outputs": [],
   "source": [
    "norms_set = set(norms) # for faster lookup"
   ]
  },
  {
   "cell_type": "markdown",
   "metadata": {},
   "source": [
    "### D. Make Norm2Prop Dictionary"
   ]
  },
  {
   "cell_type": "code",
   "execution_count": 114,
   "metadata": {
    "collapsed": false
   },
   "outputs": [],
   "source": [
    "def make_norm2prop(df):\n",
    "\n",
    "    norm2prop = defaultdict(list)\n",
    "    for i in xrange(df.shape[0]):\n",
    "        norm2prop[norm_normalize(df['Concept'][i])].append(df['Feature'][i]) # all unique in McRae.\n",
    "    \n",
    "    return norm2prop"
   ]
  },
  {
   "cell_type": "code",
   "execution_count": 115,
   "metadata": {
    "collapsed": true
   },
   "outputs": [],
   "source": [
    "norm2prop = make_norm2prop(df) # only 532 after normalization, diminished distinction a bit, but who cares."
   ]
  },
  {
   "cell_type": "markdown",
   "metadata": {},
   "source": [
    "## I. Training"
   ]
  },
  {
   "cell_type": "code",
   "execution_count": 24,
   "metadata": {
    "collapsed": true
   },
   "outputs": [],
   "source": [
    "def extract_dep_triples(parsed_sents):\n",
    "    \n",
    "    triples = []\n",
    "    for parsed_sent in parsed_sents:\n",
    "        for token in parsed_sent:\n",
    "            lemma_triple = (token.lemma_, token.dep_, token.head.lemma_)\n",
    "            triples.append(lemma_triple)\n",
    "    \n",
    "    return triples"
   ]
  },
  {
   "cell_type": "code",
   "execution_count": 25,
   "metadata": {
    "collapsed": false
   },
   "outputs": [
    {
     "name": "stdout",
     "output_type": "stream",
     "text": [
      "CPU times: user 1.02 s, sys: 135 ms, total: 1.15 s\n",
      "Wall time: 1.15 s\n"
     ]
    }
   ],
   "source": [
    "%%time\n",
    "dep_triples = extract_dep_triples(parsed_sents)"
   ]
  },
  {
   "cell_type": "code",
   "execution_count": 116,
   "metadata": {
    "collapsed": true
   },
   "outputs": [],
   "source": [
    "features = {df.ix[i]['Feature'] for i in range(df.shape[0])}\n",
    "f2i = {f:i for i,f in enumerate(features)}\n",
    "feature_list = list(features)"
   ]
  },
  {
   "cell_type": "code",
   "execution_count": 117,
   "metadata": {
    "collapsed": true
   },
   "outputs": [],
   "source": [
    "from collections import defaultdict\n",
    "import numpy as np"
   ]
  },
  {
   "cell_type": "code",
   "execution_count": 205,
   "metadata": {
    "collapsed": false
   },
   "outputs": [],
   "source": [
    "P = len(features)\n",
    "def initialize_propdist(P): \n",
    "    return np.zeros(P) + 1e-20\n",
    "def get_props(w):\n",
    "    return norm2prop[w]"
   ]
  },
  {
   "cell_type": "code",
   "execution_count": 206,
   "metadata": {
    "collapsed": true
   },
   "outputs": [],
   "source": [
    "def training(triples):\n",
    "    \n",
    "    V = defaultdict(lambda : defaultdict(lambda : initialize_propdist(P)))\n",
    "    for triple in triples:\n",
    "        if triple[1].endswith('subj') and norm in norms_set:\n",
    "            props = get_props(triple[0])\n",
    "            for prop in props:\n",
    "                V[triple[2]]['subj'][f2i[prop]] += 1\n",
    "        elif triple[1].endswith('obj') and norm in norms_set:\n",
    "            props = get_props(triple[0])\n",
    "            for prop in props:\n",
    "                V[triple[2]]['obj'][f2i[prop]] += 1\n",
    "        else: pass\n",
    "    \n",
    "    return V"
   ]
  },
  {
   "cell_type": "code",
   "execution_count": 207,
   "metadata": {
    "collapsed": false
   },
   "outputs": [
    {
     "name": "stdout",
     "output_type": "stream",
     "text": [
      "CPU times: user 1.03 s, sys: 12.5 ms, total: 1.05 s\n",
      "Wall time: 1.04 s\n"
     ]
    }
   ],
   "source": [
    "%%time\n",
    "V = training(dep_triples)"
   ]
  },
  {
   "cell_type": "code",
   "execution_count": 208,
   "metadata": {
    "collapsed": false
   },
   "outputs": [
    {
     "name": "stdout",
     "output_type": "stream",
     "text": [
      "845\n"
     ]
    }
   ],
   "source": [
    "print len(V) # 845 predicates trained"
   ]
  },
  {
   "cell_type": "code",
   "execution_count": 209,
   "metadata": {
    "collapsed": false
   },
   "outputs": [
    {
     "name": "stdout",
     "output_type": "stream",
     "text": [
      "[  1.00000000e-20   1.00000000e-20   1.00000000e-20 ...,   1.00000000e-20\n",
      "   1.00000000e-20   1.00000000e-20]\n",
      "[  1.00000000e-20   1.00000000e-20   1.00000000e-20 ...,   1.00000000e-20\n",
      "   1.00000000e-20   1.00000000e-20]\n"
     ]
    }
   ],
   "source": [
    "print V['feed']['subj']\n",
    "print V['feed']['obj']"
   ]
  },
  {
   "cell_type": "code",
   "execution_count": 211,
   "metadata": {
    "collapsed": false
   },
   "outputs": [],
   "source": [
    "feed_obj_fts = [(feature_list[i],wgt) for i,wgt in enumerate(V['feed']['obj']) if wgt!=1]"
   ]
  },
  {
   "cell_type": "markdown",
   "metadata": {},
   "source": [
    "## II. Learning"
   ]
  },
  {
   "cell_type": "markdown",
   "metadata": {},
   "source": [
    "### A. Example I: 'Alligator' with 'Feed' vs. 'Is'"
   ]
  },
  {
   "cell_type": "code",
   "execution_count": 212,
   "metadata": {
    "collapsed": true
   },
   "outputs": [],
   "source": [
    "import matplotlib.pyplot as plt\n",
    "%matplotlib inline"
   ]
  },
  {
   "cell_type": "code",
   "execution_count": 213,
   "metadata": {
    "collapsed": true
   },
   "outputs": [],
   "source": [
    "def single_update(v, argtype): # argtype = {subj, obj}\n",
    "    \n",
    "    w_beta = initialize_propdist(P)\n",
    "    v_alphas = V[v][argtype] # alpha as a list\n",
    "    for i,alpha_i in enumerate(v_alphas):\n",
    "        if alpha_i!=1: # i.e. the prop at the position has been seen\n",
    "            w_beta[i] += alpha_i\n",
    "    \n",
    "    return w_beta\n"
   ]
  },
  {
   "cell_type": "code",
   "execution_count": 214,
   "metadata": {
    "collapsed": false
   },
   "outputs": [],
   "source": [
    "def normalized_weight_plot(w, v, w_beta, topk=5):\n",
    "    \n",
    "    w_beta = w_beta / w_beta.sum()\n",
    "    plt.plot(w_beta)\n",
    "    plt.title('Word: %s | Updated by %s' % (w, v))\n",
    "    plt.xlabel('Prop Weights')\n",
    "    plt.ylabel('Weights')\n",
    "    plt.show()\n",
    "    \n",
    "    topk_props_idx = np.argsort(w_beta)[::-1][:topk]\n",
    "    for i,idx in enumerate(topk_props_idx):\n",
    "        print \"%dth Property: %s (prob=%.6f%%,idx=%d)\" % (i+1,feature_list[idx],w_beta[idx],idx)\n"
   ]
  },
  {
   "cell_type": "code",
   "execution_count": 215,
   "metadata": {
    "collapsed": true
   },
   "outputs": [],
   "source": [
    "# sent: 'john fed an alligator.'\n",
    "feed_update = single_update('feed', 'obj')"
   ]
  },
  {
   "cell_type": "code",
   "execution_count": 216,
   "metadata": {
    "collapsed": false
   },
   "outputs": [
    {
     "data": {
      "image/png": "[encoded data removed]",
      "text/plain": [
       "<matplotlib.figure.Figure at 0x1bbed66d0>"
      ]
     },
     "metadata": {},
     "output_type": "display_data"
    },
    {
     "name": "stdout",
     "output_type": "stream",
     "text": [
      "1th Property: an_animal (prob=0.148148%,idx=931)\n",
      "2th Property: has_4_legs (prob=0.148148%,idx=1508)\n",
      "3th Property: has_a_tail (prob=0.148148%,idx=333)\n",
      "4th Property: beh_-_eats (prob=0.111111%,idx=1993)\n",
      "5th Property: is_edible (prob=0.111111%,idx=1493)\n"
     ]
    }
   ],
   "source": [
    "normalized_weight_plot('alligator', 'feed', feed_update)"
   ]
  },
  {
   "cell_type": "code",
   "execution_count": 217,
   "metadata": {
    "collapsed": true
   },
   "outputs": [],
   "source": [
    "# sent: 'this alligator is a start.'\n",
    "is_update = single_update('be', 'subj')"
   ]
  },
  {
   "cell_type": "code",
   "execution_count": 218,
   "metadata": {
    "collapsed": false
   },
   "outputs": [
    {
     "data": {
      "image/png": "[encoded data removed]",
      "text/plain": [
       "<matplotlib.figure.Figure at 0x1bb943a90>"
      ]
     },
     "metadata": {},
     "output_type": "display_data"
    },
    {
     "name": "stdout",
     "output_type": "stream",
     "text": [
      "1th Property: made_of_wood (prob=0.023876%,idx=2012)\n",
      "2th Property: is_large (prob=0.023876%,idx=735)\n",
      "3th Property: made_of_metal (prob=0.022488%,idx=1874)\n",
      "4th Property: is_small (prob=0.014714%,idx=2493)\n",
      "5th Property: has_doors (prob=0.011938%,idx=1377)\n"
     ]
    }
   ],
   "source": [
    "normalized_weight_plot('alligator', 'is', is_update)"
   ]
  },
  {
   "cell_type": "markdown",
   "metadata": {},
   "source": [
    "### B. Example II: 3 Step Updates"
   ]
  },
  {
   "cell_type": "code",
   "execution_count": 219,
   "metadata": {
    "collapsed": true
   },
   "outputs": [],
   "source": [
    "from scipy.stats import entropy"
   ]
  },
  {
   "cell_type": "code",
   "execution_count": 231,
   "metadata": {
    "collapsed": true
   },
   "outputs": [],
   "source": [
    "class Update:\n",
    "    \n",
    "    def __init__(self, word):\n",
    "        self.word = word\n",
    "        self.w_beta = initialize_propdist(P)\n",
    "        \n",
    "    def single_update(self, v, argtype): \n",
    "        v_alphas = V[v][argtype] \n",
    "        for i,alpha_i in enumerate(v_alphas):\n",
    "            if alpha_i!=1: \n",
    "                self.w_beta[i] += alpha_i\n",
    "    \n",
    "    def top_k_properties(self, topk=5):\n",
    "        topk_props_idx = np.argsort(self.w_beta)[::-1][:topk]\n",
    "        for i,idx in enumerate(topk_props_idx):\n",
    "            print \"%dth Property: %s (wgt=%.6f,idx=%d)\" % (i+1,feature_list[idx],self.w_beta[idx],idx)\n",
    "\n",
    "    def plot_propdist_sample(self, size=5, figsize=(12,4)):\n",
    "        \n",
    "        propdists = np.random.dirichlet(self.w_beta, size)\n",
    "        \n",
    "        plt.subplots(figsize=figsize)\n",
    "        for i in range(size):\n",
    "            plt.subplot(100+size*10+i+1)\n",
    "            plt.plot(propdists[i])\n",
    "        plt.show()\n",
    "    \n",
    "    def compute_avg_ent(self, size=10):\n",
    "        \n",
    "        propdists = np.random.dirichlet(self.w_beta, size)\n",
    "        \n",
    "        avg_ent = np.mean([entropy(propdist) for propdist in propdists])\n",
    "        print \"Average Entropy: %.6f\" % avg_ent    \n"
   ]
  },
  {
   "cell_type": "code",
   "execution_count": 232,
   "metadata": {
    "collapsed": true
   },
   "outputs": [],
   "source": [
    "informative_updates = Update('alligator')"
   ]
  },
  {
   "cell_type": "code",
   "execution_count": 233,
   "metadata": {
    "collapsed": true
   },
   "outputs": [],
   "source": [
    "informative_updates.single_update('feed','obj')\n",
    "informative_updates.single_update('catch','obj')\n",
    "informative_updates.single_update('roam','subj')"
   ]
  },
  {
   "cell_type": "code",
   "execution_count": 234,
   "metadata": {
    "collapsed": false
   },
   "outputs": [
    {
     "name": "stdout",
     "output_type": "stream",
     "text": [
      "1th Property: an_animal (wgt=6.000000,idx=931)\n",
      "2th Property: has_4_legs (wgt=6.000000,idx=1508)\n",
      "3th Property: has_a_tail (wgt=4.000000,idx=333)\n",
      "4th Property: used_for_transportation (wgt=4.000000,idx=155)\n",
      "5th Property: is_large (wgt=4.000000,idx=735)\n"
     ]
    }
   ],
   "source": [
    "informative_updates.top_k_properties()"
   ]
  },
  {
   "cell_type": "code",
   "execution_count": 235,
   "metadata": {
    "collapsed": false
   },
   "outputs": [
    {
     "data": {
      "image/png": "[encoded data removed]",
      "text/plain": [
       "<matplotlib.figure.Figure at 0x1be82ce50>"
      ]
     },
     "metadata": {},
     "output_type": "display_data"
    }
   ],
   "source": [
    "informative_updates.plot_propdist_sample()"
   ]
  },
  {
   "cell_type": "code",
   "execution_count": 236,
   "metadata": {
    "collapsed": false
   },
   "outputs": [
    {
     "name": "stdout",
     "output_type": "stream",
     "text": [
      "Average Entropy: 3.281605\n"
     ]
    }
   ],
   "source": [
    "informative_updates.compute_avg_ent()"
   ]
  },
  {
   "cell_type": "code",
   "execution_count": 237,
   "metadata": {
    "collapsed": true
   },
   "outputs": [],
   "source": [
    "uninformative_updates = Update('alligator')"
   ]
  },
  {
   "cell_type": "code",
   "execution_count": 238,
   "metadata": {
    "collapsed": true
   },
   "outputs": [],
   "source": [
    "uninformative_updates.single_update('be','subj')\n",
    "uninformative_updates.single_update('have','obj')\n",
    "uninformative_updates.single_update('get','obj')"
   ]
  },
  {
   "cell_type": "code",
   "execution_count": 239,
   "metadata": {
    "collapsed": false
   },
   "outputs": [
    {
     "name": "stdout",
     "output_type": "stream",
     "text": [
      "1th Property: made_of_metal (wgt=122.000000,idx=1874)\n",
      "2th Property: made_of_wood (wgt=115.000000,idx=2012)\n",
      "3th Property: is_large (wgt=106.000000,idx=735)\n",
      "4th Property: is_small (wgt=79.000000,idx=2493)\n",
      "5th Property: different_colours (wgt=75.000000,idx=348)\n"
     ]
    }
   ],
   "source": [
    "uninformative_updates.top_k_properties()"
   ]
  },
  {
   "cell_type": "code",
   "execution_count": 240,
   "metadata": {
    "collapsed": false
   },
   "outputs": [
    {
     "data": {
      "image/png": "[encoded data removed]",
      "text/plain": [
       "<matplotlib.figure.Figure at 0x1be81a5d0>"
      ]
     },
     "metadata": {},
     "output_type": "display_data"
    }
   ],
   "source": [
    "uninformative_updates.plot_propdist_sample()"
   ]
  },
  {
   "cell_type": "code",
   "execution_count": 241,
   "metadata": {
    "collapsed": false
   },
   "outputs": [
    {
     "name": "stdout",
     "output_type": "stream",
     "text": [
      "Average Entropy: 5.666444\n"
     ]
    }
   ],
   "source": [
    "uninformative_updates.compute_avg_ent()"
   ]
  },
  {
   "cell_type": "code",
   "execution_count": null,
   "metadata": {
    "collapsed": true
   },
   "outputs": [],
   "source": []
  }
 ],
 "metadata": {
  "kernelspec": {
   "display_name": "Python 2",
   "language": "python",
   "name": "python2"
  },
  "language_info": {
   "codemirror_mode": {
    "name": "ipython",
    "version": 2
   },
   "file_extension": ".py",
   "mimetype": "text/x-python",
   "name": "python",
   "nbconvert_exporter": "python",
   "pygments_lexer": "ipython2",
   "version": "2.7.11"
  }
 },
 "nbformat": 4,
 "nbformat_minor": 0
}
