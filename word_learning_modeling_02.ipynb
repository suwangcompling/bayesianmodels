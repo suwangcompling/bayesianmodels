{
 "cells": [
  {
   "cell_type": "markdown",
   "metadata": {},
   "source": [
    "## Model II\n",
    "\n",
    "* **Norms**: McRae et al. (2005)\n",
    "* **Model**: Dinu & Lapata (2010) Extension 2\n",
    "    * Main Idea:\n",
    "        * The meaning of a target word $t$ is modeled by a distribution over topics $z$.\n",
    "        * An input \"document\" to the topic model that produces the distribution of $t$ is generated from $t$'s selected set of contexts $C = \\{c_1,...,c_n\\}$ and the contexts' frequencies.\n",
    "        * When the selected contexts are the paradigmatic subjects of $t$, we get a $t$-$z_{subj}$ matrix, when they are the paradigmatic objects of $t$, we get a $t$-$z_{obj}$ matrix.\n",
    "        * If we were able to compute $p(prop\\mid topic)$, then we will be able to obtain a $t$-$prop_{subj}$ matrix and a $t$-$prop_{obj}$ matrix.\n",
    "        * We can also compute a \"general distributional matrix\" $t$-$c$ by taking a $[-2,+2]$ word-window (w/ tfidf or PMI conversion).\n",
    "        * Given a new word $w$, let $t$ be a paradigmatic subject/object of $w$, the similarity of $w$ and $t$ is computed with $SIM(w,t) = \\lambda sim_1(w,t) + (1-\\lambda) sim_2(w,t)$, where $sim_1$ is computed using the paradigmatic matrix (i.e. $t$-$z_{subj}$ or $t$-$z_{obj}$, depending on whether $w$ and $t$ are paradigmatic subjects/objects), and $sim_2$ is computed using the general distributional matrix $t$-$c$. $\\lambda,\\lambda\\in[0,1]$ be a hyperparameter.\n",
    "    * Algorithm:\n",
    "        * [GOAL] = Find a distribution over properties for an input word $w$.\n",
    "        * For $t$s in a set of selected target words, obtain 3 cooccurrence matrices:\n",
    "            * $t$-$subj$ matrix: $t$'s paradigmatic subject cohort,\n",
    "            * $t$-$obj$ matrix, $t$'s paradigmatic object cohort,\n",
    "            * $t$-$c$ matrix, $t$'s $[-2,+2]$ word-window contexts.\n",
    "        * Compute paradigmatic matrices as follows:\n",
    "            * Topic Model using the DL10 \"pseudo-documents\" using $t$-$subj$ matrix and $t$-$obj$ matrix, producing $t$-$z_{subj}$ matrix and $t$-$z_{obj}$ matrix,\n",
    "            * Using $p(prop\\mid z) = \\sum_{c\\in topic\\,z}p(c\\mid z)f(c,prop)$, compute $t$-$prop_{subj}$ matrix and $t$-$prop_{obj}$ matrix.\n",
    "        * Compute general distributional matrix $t$-$c$ using either tfidf or PMI conversion.\n",
    "        * Find $w$'s property distribution (**NB: Modified Later to Incorporate Katrin's Model. For detail see last section**).\n",
    "    * Similarity Functions:\n",
    "        * $Cosine(w,t) = \\frac{w\\cdot t}{|w||t|}$.\n",
    "        * $SKLD(w,t) = \\frac{1}{2}\\left(\\sum_iw(i)log\\frac{w(i)}{t(i)} + \\sum_it(i)log\\frac{t(i)}{w(i)}\\right)$, (cf. Griffiths & Steyvers 2004:10(5)).\n",
    "    * Property Indicator Functions:\n",
    "        * $f_{binary}(c,prop) = \\begin{cases}1 & \\text{if context word has prop}\\\\ 0 & \\text{otherwise}\\end{cases}$.\n",
    "        * $f_{stochastic}(c,prop) = wgt(t,prop) = \\frac{production\\_freq(w)}{30}$ (computed from McRae data)."
   ]
  },
  {
   "cell_type": "markdown",
   "metadata": {},
   "source": [
    "## 0. Norms"
   ]
  },
  {
   "cell_type": "markdown",
   "metadata": {},
   "source": [
    "### A. Load Norms"
   ]
  },
  {
   "cell_type": "code",
   "execution_count": 1,
   "metadata": {
    "collapsed": true
   },
   "outputs": [],
   "source": [
    "import pandas as pd"
   ]
  },
  {
   "cell_type": "code",
   "execution_count": 2,
   "metadata": {
    "collapsed": true
   },
   "outputs": [],
   "source": [
    "data_path = \"/Users/jacobsw/Desktop/CODER/IMPLEMENTATION_CAMP/BASIC_TOPICS/DISTRIBUTIONAL_SEMANTICS/DATA/McRae-BRM-InPress/\""
   ]
  },
  {
   "cell_type": "code",
   "execution_count": 3,
   "metadata": {
    "collapsed": true
   },
   "outputs": [],
   "source": [
    "df = pd.read_csv(data_path+\"CONCS_FEATS_concstats_brm.xls\", delimiter='\\t')"
   ]
  },
  {
   "cell_type": "code",
   "execution_count": 4,
   "metadata": {
    "collapsed": false
   },
   "outputs": [
    {
     "name": "stdout",
     "output_type": "stream",
     "text": [
      "Index([u'Concept', u'Feature', u'WB_Label', u'WB_Maj', u'WB_Min', u'BR_Label',\n",
      "       u'Prod_Freq', u'Rank_PF', u'Sum_PF_No_Tax', u'CPF', u'Disting',\n",
      "       u'Distinct', u'CV_No_Tax', u'Intercorr_Str_Tax',\n",
      "       u'Intercorr_Str_No_Tax', u'Feat_Length_Including_Spaces', u'Phon_1st',\n",
      "       u'KF', u'ln(KF)', u'BNC', u'ln(BNC)', u'Familiarity', u'Length_Letters',\n",
      "       u'Length_Phonemes', u'Length_Syllables', u'Bigram', u'Trigram',\n",
      "       u'ColtheartN', u'Num_Feats_Tax', u'Num_Feats_No_Tax',\n",
      "       u'Num_Disting_Feats_No_Tax', u'Disting_Feats_%_No_Tax',\n",
      "       u'Mean_Distinct_No_Tax', u'Mean_CV_No_Tax', u'Density_No_Tax',\n",
      "       u'Num_Corred_Pairs_No_Tax', u'%_Corred_Pairs_No_Tax', u'Num_Func',\n",
      "       u'Num_Vis_Mot', u'Num_VisF&S', u'Num_Vis_Col', u'Num_Sound',\n",
      "       u'Num_Taste', u'Num_Smell', u'Num_Tact', u'Num_Ency', u'Num_Tax'],\n",
      "      dtype='object')\n"
     ]
    }
   ],
   "source": [
    "print df.columns"
   ]
  },
  {
   "cell_type": "code",
   "execution_count": 5,
   "metadata": {
    "collapsed": false,
    "scrolled": false
   },
   "outputs": [
    {
     "data": {
      "text/html": [
       "<div>\n",
       "<table border=\"1\" class=\"dataframe\">\n",
       "  <thead>\n",
       "    <tr style=\"text-align: right;\">\n",
       "      <th></th>\n",
       "      <th>Concept</th>\n",
       "      <th>Feature</th>\n",
       "      <th>WB_Label</th>\n",
       "      <th>WB_Maj</th>\n",
       "      <th>WB_Min</th>\n",
       "      <th>BR_Label</th>\n",
       "      <th>Prod_Freq</th>\n",
       "      <th>Rank_PF</th>\n",
       "      <th>Sum_PF_No_Tax</th>\n",
       "      <th>CPF</th>\n",
       "      <th>...</th>\n",
       "      <th>Num_Func</th>\n",
       "      <th>Num_Vis_Mot</th>\n",
       "      <th>Num_VisF&amp;S</th>\n",
       "      <th>Num_Vis_Col</th>\n",
       "      <th>Num_Sound</th>\n",
       "      <th>Num_Taste</th>\n",
       "      <th>Num_Smell</th>\n",
       "      <th>Num_Tact</th>\n",
       "      <th>Num_Ency</th>\n",
       "      <th>Num_Tax</th>\n",
       "    </tr>\n",
       "  </thead>\n",
       "  <tbody>\n",
       "    <tr>\n",
       "      <th>0</th>\n",
       "      <td>accordion</td>\n",
       "      <td>a_musical_instrument</td>\n",
       "      <td>superordinate</td>\n",
       "      <td>c</td>\n",
       "      <td>h</td>\n",
       "      <td>taxonomic</td>\n",
       "      <td>28</td>\n",
       "      <td>1</td>\n",
       "      <td>NaN</td>\n",
       "      <td>18</td>\n",
       "      <td>...</td>\n",
       "      <td>2</td>\n",
       "      <td>0</td>\n",
       "      <td>2</td>\n",
       "      <td>0</td>\n",
       "      <td>2</td>\n",
       "      <td>0</td>\n",
       "      <td>0</td>\n",
       "      <td>0</td>\n",
       "      <td>2</td>\n",
       "      <td>1</td>\n",
       "    </tr>\n",
       "    <tr>\n",
       "      <th>1</th>\n",
       "      <td>accordion</td>\n",
       "      <td>associated_with_polkas</td>\n",
       "      <td>associated_entity</td>\n",
       "      <td>s</td>\n",
       "      <td>e</td>\n",
       "      <td>encyclopaedic</td>\n",
       "      <td>9</td>\n",
       "      <td>4</td>\n",
       "      <td>9.0</td>\n",
       "      <td>1</td>\n",
       "      <td>...</td>\n",
       "      <td>2</td>\n",
       "      <td>0</td>\n",
       "      <td>2</td>\n",
       "      <td>0</td>\n",
       "      <td>2</td>\n",
       "      <td>0</td>\n",
       "      <td>0</td>\n",
       "      <td>0</td>\n",
       "      <td>2</td>\n",
       "      <td>1</td>\n",
       "    </tr>\n",
       "    <tr>\n",
       "      <th>2</th>\n",
       "      <td>accordion</td>\n",
       "      <td>has_buttons</td>\n",
       "      <td>external_component</td>\n",
       "      <td>e</td>\n",
       "      <td>ce</td>\n",
       "      <td>visual-form_and_surface</td>\n",
       "      <td>8</td>\n",
       "      <td>5</td>\n",
       "      <td>163.0</td>\n",
       "      <td>13</td>\n",
       "      <td>...</td>\n",
       "      <td>2</td>\n",
       "      <td>0</td>\n",
       "      <td>2</td>\n",
       "      <td>0</td>\n",
       "      <td>2</td>\n",
       "      <td>0</td>\n",
       "      <td>0</td>\n",
       "      <td>0</td>\n",
       "      <td>2</td>\n",
       "      <td>1</td>\n",
       "    </tr>\n",
       "    <tr>\n",
       "      <th>3</th>\n",
       "      <td>accordion</td>\n",
       "      <td>has_keys</td>\n",
       "      <td>external_component</td>\n",
       "      <td>e</td>\n",
       "      <td>ce</td>\n",
       "      <td>visual-form_and_surface</td>\n",
       "      <td>17</td>\n",
       "      <td>2</td>\n",
       "      <td>108.0</td>\n",
       "      <td>7</td>\n",
       "      <td>...</td>\n",
       "      <td>2</td>\n",
       "      <td>0</td>\n",
       "      <td>2</td>\n",
       "      <td>0</td>\n",
       "      <td>2</td>\n",
       "      <td>0</td>\n",
       "      <td>0</td>\n",
       "      <td>0</td>\n",
       "      <td>2</td>\n",
       "      <td>1</td>\n",
       "    </tr>\n",
       "    <tr>\n",
       "      <th>4</th>\n",
       "      <td>accordion</td>\n",
       "      <td>inbeh_-_produces_music</td>\n",
       "      <td>entity_behavior</td>\n",
       "      <td>e</td>\n",
       "      <td>b</td>\n",
       "      <td>sound</td>\n",
       "      <td>6</td>\n",
       "      <td>7</td>\n",
       "      <td>178.0</td>\n",
       "      <td>13</td>\n",
       "      <td>...</td>\n",
       "      <td>2</td>\n",
       "      <td>0</td>\n",
       "      <td>2</td>\n",
       "      <td>0</td>\n",
       "      <td>2</td>\n",
       "      <td>0</td>\n",
       "      <td>0</td>\n",
       "      <td>0</td>\n",
       "      <td>2</td>\n",
       "      <td>1</td>\n",
       "    </tr>\n",
       "    <tr>\n",
       "      <th>5</th>\n",
       "      <td>accordion</td>\n",
       "      <td>is_loud</td>\n",
       "      <td>external_surface_property</td>\n",
       "      <td>e</td>\n",
       "      <td>se</td>\n",
       "      <td>sound</td>\n",
       "      <td>6</td>\n",
       "      <td>7</td>\n",
       "      <td>317.0</td>\n",
       "      <td>34</td>\n",
       "      <td>...</td>\n",
       "      <td>2</td>\n",
       "      <td>0</td>\n",
       "      <td>2</td>\n",
       "      <td>0</td>\n",
       "      <td>2</td>\n",
       "      <td>0</td>\n",
       "      <td>0</td>\n",
       "      <td>0</td>\n",
       "      <td>2</td>\n",
       "      <td>1</td>\n",
       "    </tr>\n",
       "    <tr>\n",
       "      <th>6</th>\n",
       "      <td>accordion</td>\n",
       "      <td>requires_air</td>\n",
       "      <td>contingency</td>\n",
       "      <td>i</td>\n",
       "      <td>c</td>\n",
       "      <td>encyclopaedic</td>\n",
       "      <td>11</td>\n",
       "      <td>3</td>\n",
       "      <td>49.0</td>\n",
       "      <td>4</td>\n",
       "      <td>...</td>\n",
       "      <td>2</td>\n",
       "      <td>0</td>\n",
       "      <td>2</td>\n",
       "      <td>0</td>\n",
       "      <td>2</td>\n",
       "      <td>0</td>\n",
       "      <td>0</td>\n",
       "      <td>0</td>\n",
       "      <td>2</td>\n",
       "      <td>1</td>\n",
       "    </tr>\n",
       "    <tr>\n",
       "      <th>7</th>\n",
       "      <td>accordion</td>\n",
       "      <td>used_by_moving_bellows</td>\n",
       "      <td>action</td>\n",
       "      <td>s</td>\n",
       "      <td>a</td>\n",
       "      <td>function</td>\n",
       "      <td>8</td>\n",
       "      <td>5</td>\n",
       "      <td>8.0</td>\n",
       "      <td>1</td>\n",
       "      <td>...</td>\n",
       "      <td>2</td>\n",
       "      <td>0</td>\n",
       "      <td>2</td>\n",
       "      <td>0</td>\n",
       "      <td>2</td>\n",
       "      <td>0</td>\n",
       "      <td>0</td>\n",
       "      <td>0</td>\n",
       "      <td>2</td>\n",
       "      <td>1</td>\n",
       "    </tr>\n",
       "    <tr>\n",
       "      <th>8</th>\n",
       "      <td>accordion</td>\n",
       "      <td>worn_on_chest</td>\n",
       "      <td>function</td>\n",
       "      <td>s</td>\n",
       "      <td>f</td>\n",
       "      <td>function</td>\n",
       "      <td>6</td>\n",
       "      <td>7</td>\n",
       "      <td>6.0</td>\n",
       "      <td>1</td>\n",
       "      <td>...</td>\n",
       "      <td>2</td>\n",
       "      <td>0</td>\n",
       "      <td>2</td>\n",
       "      <td>0</td>\n",
       "      <td>2</td>\n",
       "      <td>0</td>\n",
       "      <td>0</td>\n",
       "      <td>0</td>\n",
       "      <td>2</td>\n",
       "      <td>1</td>\n",
       "    </tr>\n",
       "    <tr>\n",
       "      <th>9</th>\n",
       "      <td>airplane</td>\n",
       "      <td>beh_-_flies</td>\n",
       "      <td>entity_behavior</td>\n",
       "      <td>e</td>\n",
       "      <td>b</td>\n",
       "      <td>visual-motion</td>\n",
       "      <td>25</td>\n",
       "      <td>1</td>\n",
       "      <td>712.0</td>\n",
       "      <td>46</td>\n",
       "      <td>...</td>\n",
       "      <td>3</td>\n",
       "      <td>3</td>\n",
       "      <td>5</td>\n",
       "      <td>0</td>\n",
       "      <td>0</td>\n",
       "      <td>0</td>\n",
       "      <td>0</td>\n",
       "      <td>0</td>\n",
       "      <td>2</td>\n",
       "      <td>0</td>\n",
       "    </tr>\n",
       "    <tr>\n",
       "      <th>10</th>\n",
       "      <td>airplane</td>\n",
       "      <td>found_in_airports</td>\n",
       "      <td>location</td>\n",
       "      <td>s</td>\n",
       "      <td>l</td>\n",
       "      <td>encyclopaedic</td>\n",
       "      <td>8</td>\n",
       "      <td>7</td>\n",
       "      <td>8.0</td>\n",
       "      <td>1</td>\n",
       "      <td>...</td>\n",
       "      <td>3</td>\n",
       "      <td>3</td>\n",
       "      <td>5</td>\n",
       "      <td>0</td>\n",
       "      <td>0</td>\n",
       "      <td>0</td>\n",
       "      <td>0</td>\n",
       "      <td>0</td>\n",
       "      <td>2</td>\n",
       "      <td>0</td>\n",
       "    </tr>\n",
       "    <tr>\n",
       "      <th>11</th>\n",
       "      <td>airplane</td>\n",
       "      <td>has_a_propeller</td>\n",
       "      <td>external_component</td>\n",
       "      <td>e</td>\n",
       "      <td>ce</td>\n",
       "      <td>visual-form_and_surface</td>\n",
       "      <td>5</td>\n",
       "      <td>12</td>\n",
       "      <td>10.0</td>\n",
       "      <td>2</td>\n",
       "      <td>...</td>\n",
       "      <td>3</td>\n",
       "      <td>3</td>\n",
       "      <td>5</td>\n",
       "      <td>0</td>\n",
       "      <td>0</td>\n",
       "      <td>0</td>\n",
       "      <td>0</td>\n",
       "      <td>0</td>\n",
       "      <td>2</td>\n",
       "      <td>0</td>\n",
       "    </tr>\n",
       "    <tr>\n",
       "      <th>12</th>\n",
       "      <td>airplane</td>\n",
       "      <td>has_engines</td>\n",
       "      <td>internal_component</td>\n",
       "      <td>e</td>\n",
       "      <td>ci</td>\n",
       "      <td>visual-form_and_surface</td>\n",
       "      <td>5</td>\n",
       "      <td>12</td>\n",
       "      <td>14.0</td>\n",
       "      <td>2</td>\n",
       "      <td>...</td>\n",
       "      <td>3</td>\n",
       "      <td>3</td>\n",
       "      <td>5</td>\n",
       "      <td>0</td>\n",
       "      <td>0</td>\n",
       "      <td>0</td>\n",
       "      <td>0</td>\n",
       "      <td>0</td>\n",
       "      <td>2</td>\n",
       "      <td>0</td>\n",
       "    </tr>\n",
       "    <tr>\n",
       "      <th>13</th>\n",
       "      <td>airplane</td>\n",
       "      <td>has_wings</td>\n",
       "      <td>external_component</td>\n",
       "      <td>e</td>\n",
       "      <td>ce</td>\n",
       "      <td>visual-form_and_surface</td>\n",
       "      <td>20</td>\n",
       "      <td>2</td>\n",
       "      <td>529.0</td>\n",
       "      <td>44</td>\n",
       "      <td>...</td>\n",
       "      <td>3</td>\n",
       "      <td>3</td>\n",
       "      <td>5</td>\n",
       "      <td>0</td>\n",
       "      <td>0</td>\n",
       "      <td>0</td>\n",
       "      <td>0</td>\n",
       "      <td>0</td>\n",
       "      <td>2</td>\n",
       "      <td>0</td>\n",
       "    </tr>\n",
       "    <tr>\n",
       "      <th>14</th>\n",
       "      <td>airplane</td>\n",
       "      <td>inbeh_-_crashes</td>\n",
       "      <td>entity_behavior</td>\n",
       "      <td>e</td>\n",
       "      <td>b</td>\n",
       "      <td>visual-motion</td>\n",
       "      <td>7</td>\n",
       "      <td>10</td>\n",
       "      <td>7.0</td>\n",
       "      <td>1</td>\n",
       "      <td>...</td>\n",
       "      <td>3</td>\n",
       "      <td>3</td>\n",
       "      <td>5</td>\n",
       "      <td>0</td>\n",
       "      <td>0</td>\n",
       "      <td>0</td>\n",
       "      <td>0</td>\n",
       "      <td>0</td>\n",
       "      <td>2</td>\n",
       "      <td>0</td>\n",
       "    </tr>\n",
       "    <tr>\n",
       "      <th>15</th>\n",
       "      <td>airplane</td>\n",
       "      <td>is_fast</td>\n",
       "      <td>systemic_property</td>\n",
       "      <td>e</td>\n",
       "      <td>sys</td>\n",
       "      <td>visual-motion</td>\n",
       "      <td>11</td>\n",
       "      <td>4</td>\n",
       "      <td>346.0</td>\n",
       "      <td>33</td>\n",
       "      <td>...</td>\n",
       "      <td>3</td>\n",
       "      <td>3</td>\n",
       "      <td>5</td>\n",
       "      <td>0</td>\n",
       "      <td>0</td>\n",
       "      <td>0</td>\n",
       "      <td>0</td>\n",
       "      <td>0</td>\n",
       "      <td>2</td>\n",
       "      <td>0</td>\n",
       "    </tr>\n",
       "    <tr>\n",
       "      <th>16</th>\n",
       "      <td>airplane</td>\n",
       "      <td>is_large</td>\n",
       "      <td>external_surface_property</td>\n",
       "      <td>e</td>\n",
       "      <td>se</td>\n",
       "      <td>visual-form_and_surface</td>\n",
       "      <td>8</td>\n",
       "      <td>7</td>\n",
       "      <td>1076.0</td>\n",
       "      <td>106</td>\n",
       "      <td>...</td>\n",
       "      <td>3</td>\n",
       "      <td>3</td>\n",
       "      <td>5</td>\n",
       "      <td>0</td>\n",
       "      <td>0</td>\n",
       "      <td>0</td>\n",
       "      <td>0</td>\n",
       "      <td>0</td>\n",
       "      <td>2</td>\n",
       "      <td>0</td>\n",
       "    </tr>\n",
       "    <tr>\n",
       "      <th>17</th>\n",
       "      <td>airplane</td>\n",
       "      <td>made_of_metal</td>\n",
       "      <td>made_of</td>\n",
       "      <td>e</td>\n",
       "      <td>m</td>\n",
       "      <td>visual-form_and_surface</td>\n",
       "      <td>8</td>\n",
       "      <td>7</td>\n",
       "      <td>1472.0</td>\n",
       "      <td>133</td>\n",
       "      <td>...</td>\n",
       "      <td>3</td>\n",
       "      <td>3</td>\n",
       "      <td>5</td>\n",
       "      <td>0</td>\n",
       "      <td>0</td>\n",
       "      <td>0</td>\n",
       "      <td>0</td>\n",
       "      <td>0</td>\n",
       "      <td>2</td>\n",
       "      <td>0</td>\n",
       "    </tr>\n",
       "    <tr>\n",
       "      <th>18</th>\n",
       "      <td>airplane</td>\n",
       "      <td>requires_pilots</td>\n",
       "      <td>contingency</td>\n",
       "      <td>i</td>\n",
       "      <td>c</td>\n",
       "      <td>encyclopaedic</td>\n",
       "      <td>11</td>\n",
       "      <td>4</td>\n",
       "      <td>24.0</td>\n",
       "      <td>3</td>\n",
       "      <td>...</td>\n",
       "      <td>3</td>\n",
       "      <td>3</td>\n",
       "      <td>5</td>\n",
       "      <td>0</td>\n",
       "      <td>0</td>\n",
       "      <td>0</td>\n",
       "      <td>0</td>\n",
       "      <td>0</td>\n",
       "      <td>2</td>\n",
       "      <td>0</td>\n",
       "    </tr>\n",
       "    <tr>\n",
       "      <th>19</th>\n",
       "      <td>airplane</td>\n",
       "      <td>used_for_passengers</td>\n",
       "      <td>participant</td>\n",
       "      <td>s</td>\n",
       "      <td>p</td>\n",
       "      <td>function</td>\n",
       "      <td>15</td>\n",
       "      <td>3</td>\n",
       "      <td>115.0</td>\n",
       "      <td>9</td>\n",
       "      <td>...</td>\n",
       "      <td>3</td>\n",
       "      <td>3</td>\n",
       "      <td>5</td>\n",
       "      <td>0</td>\n",
       "      <td>0</td>\n",
       "      <td>0</td>\n",
       "      <td>0</td>\n",
       "      <td>0</td>\n",
       "      <td>2</td>\n",
       "      <td>0</td>\n",
       "    </tr>\n",
       "  </tbody>\n",
       "</table>\n",
       "<p>20 rows × 47 columns</p>\n",
       "</div>"
      ],
      "text/plain": [
       "      Concept                 Feature                   WB_Label WB_Maj  \\\n",
       "0   accordion    a_musical_instrument              superordinate      c   \n",
       "1   accordion  associated_with_polkas          associated_entity      s   \n",
       "2   accordion             has_buttons         external_component      e   \n",
       "3   accordion                has_keys         external_component      e   \n",
       "4   accordion  inbeh_-_produces_music            entity_behavior      e   \n",
       "5   accordion                 is_loud  external_surface_property      e   \n",
       "6   accordion            requires_air                contingency      i   \n",
       "7   accordion  used_by_moving_bellows                     action      s   \n",
       "8   accordion           worn_on_chest                   function      s   \n",
       "9    airplane             beh_-_flies            entity_behavior      e   \n",
       "10   airplane       found_in_airports                   location      s   \n",
       "11   airplane         has_a_propeller         external_component      e   \n",
       "12   airplane             has_engines         internal_component      e   \n",
       "13   airplane               has_wings         external_component      e   \n",
       "14   airplane         inbeh_-_crashes            entity_behavior      e   \n",
       "15   airplane                 is_fast          systemic_property      e   \n",
       "16   airplane                is_large  external_surface_property      e   \n",
       "17   airplane           made_of_metal                    made_of      e   \n",
       "18   airplane         requires_pilots                contingency      i   \n",
       "19   airplane     used_for_passengers                participant      s   \n",
       "\n",
       "   WB_Min                 BR_Label  Prod_Freq  Rank_PF  Sum_PF_No_Tax  CPF  \\\n",
       "0       h                taxonomic         28        1            NaN   18   \n",
       "1       e            encyclopaedic          9        4            9.0    1   \n",
       "2      ce  visual-form_and_surface          8        5          163.0   13   \n",
       "3      ce  visual-form_and_surface         17        2          108.0    7   \n",
       "4       b                    sound          6        7          178.0   13   \n",
       "5      se                    sound          6        7          317.0   34   \n",
       "6       c            encyclopaedic         11        3           49.0    4   \n",
       "7       a                 function          8        5            8.0    1   \n",
       "8       f                 function          6        7            6.0    1   \n",
       "9       b            visual-motion         25        1          712.0   46   \n",
       "10      l            encyclopaedic          8        7            8.0    1   \n",
       "11     ce  visual-form_and_surface          5       12           10.0    2   \n",
       "12     ci  visual-form_and_surface          5       12           14.0    2   \n",
       "13     ce  visual-form_and_surface         20        2          529.0   44   \n",
       "14      b            visual-motion          7       10            7.0    1   \n",
       "15    sys            visual-motion         11        4          346.0   33   \n",
       "16     se  visual-form_and_surface          8        7         1076.0  106   \n",
       "17      m  visual-form_and_surface          8        7         1472.0  133   \n",
       "18      c            encyclopaedic         11        4           24.0    3   \n",
       "19      p                 function         15        3          115.0    9   \n",
       "\n",
       "     ...    Num_Func  Num_Vis_Mot  Num_VisF&S  Num_Vis_Col  Num_Sound  \\\n",
       "0    ...           2            0           2            0          2   \n",
       "1    ...           2            0           2            0          2   \n",
       "2    ...           2            0           2            0          2   \n",
       "3    ...           2            0           2            0          2   \n",
       "4    ...           2            0           2            0          2   \n",
       "5    ...           2            0           2            0          2   \n",
       "6    ...           2            0           2            0          2   \n",
       "7    ...           2            0           2            0          2   \n",
       "8    ...           2            0           2            0          2   \n",
       "9    ...           3            3           5            0          0   \n",
       "10   ...           3            3           5            0          0   \n",
       "11   ...           3            3           5            0          0   \n",
       "12   ...           3            3           5            0          0   \n",
       "13   ...           3            3           5            0          0   \n",
       "14   ...           3            3           5            0          0   \n",
       "15   ...           3            3           5            0          0   \n",
       "16   ...           3            3           5            0          0   \n",
       "17   ...           3            3           5            0          0   \n",
       "18   ...           3            3           5            0          0   \n",
       "19   ...           3            3           5            0          0   \n",
       "\n",
       "    Num_Taste Num_Smell  Num_Tact  Num_Ency  Num_Tax  \n",
       "0           0         0         0         2        1  \n",
       "1           0         0         0         2        1  \n",
       "2           0         0         0         2        1  \n",
       "3           0         0         0         2        1  \n",
       "4           0         0         0         2        1  \n",
       "5           0         0         0         2        1  \n",
       "6           0         0         0         2        1  \n",
       "7           0         0         0         2        1  \n",
       "8           0         0         0         2        1  \n",
       "9           0         0         0         2        0  \n",
       "10          0         0         0         2        0  \n",
       "11          0         0         0         2        0  \n",
       "12          0         0         0         2        0  \n",
       "13          0         0         0         2        0  \n",
       "14          0         0         0         2        0  \n",
       "15          0         0         0         2        0  \n",
       "16          0         0         0         2        0  \n",
       "17          0         0         0         2        0  \n",
       "18          0         0         0         2        0  \n",
       "19          0         0         0         2        0  \n",
       "\n",
       "[20 rows x 47 columns]"
      ]
     },
     "execution_count": 5,
     "metadata": {},
     "output_type": "execute_result"
    }
   ],
   "source": [
    "df.head(20)"
   ]
  },
  {
   "cell_type": "markdown",
   "metadata": {},
   "source": [
    "### B. Build Token-Lemma Lookup"
   ]
  },
  {
   "cell_type": "code",
   "execution_count": 6,
   "metadata": {
    "collapsed": true
   },
   "outputs": [],
   "source": [
    "from nltk.corpus import brown\n",
    "from spacy.en import English"
   ]
  },
  {
   "cell_type": "code",
   "execution_count": 7,
   "metadata": {
    "collapsed": true
   },
   "outputs": [],
   "source": [
    "parser = English()"
   ]
  },
  {
   "cell_type": "code",
   "execution_count": 8,
   "metadata": {
    "collapsed": true
   },
   "outputs": [],
   "source": [
    "brown_sents = [unicode(' '.join(sent)) for sent in brown.sents()]"
   ]
  },
  {
   "cell_type": "code",
   "execution_count": 9,
   "metadata": {
    "collapsed": false
   },
   "outputs": [
    {
     "name": "stdout",
     "output_type": "stream",
     "text": [
      "CPU times: user 1min 36s, sys: 1.06 s, total: 1min 37s\n",
      "Wall time: 1min 37s\n"
     ]
    }
   ],
   "source": [
    "%%time\n",
    "parsed_sents = [parser(sent) for sent in brown_sents]"
   ]
  },
  {
   "cell_type": "code",
   "execution_count": 10,
   "metadata": {
    "collapsed": true
   },
   "outputs": [],
   "source": [
    "def make_token2lemma_dict(parsed_sents):\n",
    "    \n",
    "    lemmas = set()\n",
    "    token2lemma = {}\n",
    "    for parsed_sent in parsed_sents:\n",
    "        for token in parsed_sent:\n",
    "            token2lemma[token.orth_] = token.lemma_\n",
    "            lemmas.add(token.lemma_)\n",
    "    \n",
    "    return lemmas, token2lemma"
   ]
  },
  {
   "cell_type": "code",
   "execution_count": 11,
   "metadata": {
    "collapsed": false
   },
   "outputs": [
    {
     "name": "stdout",
     "output_type": "stream",
     "text": [
      "CPU times: user 1.39 s, sys: 63.2 ms, total: 1.46 s\n",
      "Wall time: 1.44 s\n"
     ]
    }
   ],
   "source": [
    "%%time\n",
    "brown_lemmas, brown_t2l = make_token2lemma_dict(parsed_sents)"
   ]
  },
  {
   "cell_type": "code",
   "execution_count": 12,
   "metadata": {
    "collapsed": false
   },
   "outputs": [
    {
     "name": "stdout",
     "output_type": "stream",
     "text": [
      "book\n"
     ]
    }
   ],
   "source": [
    "print brown_t2l['books']"
   ]
  },
  {
   "cell_type": "markdown",
   "metadata": {},
   "source": [
    "### C. Build Norm-Feature Lookup"
   ]
  },
  {
   "cell_type": "code",
   "execution_count": 13,
   "metadata": {
    "collapsed": true
   },
   "outputs": [],
   "source": [
    "norms = {df.ix[i]['Concept'] for i in range(df.shape[0])}\n",
    "features = {df.ix[i]['Feature'] for i in range(df.shape[0])}"
   ]
  },
  {
   "cell_type": "code",
   "execution_count": 14,
   "metadata": {
    "collapsed": true
   },
   "outputs": [],
   "source": [
    "def norm_normalize(norm):\n",
    "    \n",
    "    norm = norm.split('_')[0] if '_' in norm else norm\n",
    "    if norm in brown_t2l: return brown_t2l[norm]\n",
    "    return norm\n"
   ]
  },
  {
   "cell_type": "code",
   "execution_count": 15,
   "metadata": {
    "collapsed": false,
    "scrolled": false
   },
   "outputs": [
    {
     "name": "stdout",
     "output_type": "stream",
     "text": [
      "cat\n",
      "cat\n"
     ]
    }
   ],
   "source": [
    "print norm_normalize('cat_(kitchen)')\n",
    "print norm_normalize('cat')"
   ]
  },
  {
   "cell_type": "code",
   "execution_count": 16,
   "metadata": {
    "collapsed": true
   },
   "outputs": [],
   "source": [
    "# Count Out-Of-Vocab Norms For Brown\n",
    "t = [] \n",
    "for norm in norms:\n",
    "    norm = norm.split('_')[0] if '_' in norm else norm\n",
    "    if norm in brown_lemmas or norm in brown_t2l: continue\n",
    "    t.append(norm)"
   ]
  },
  {
   "cell_type": "code",
   "execution_count": 17,
   "metadata": {
    "collapsed": false
   },
   "outputs": [
    {
     "name": "stdout",
     "output_type": "stream",
     "text": [
      "['earmuffs', 'bike', 'screwdriver', 'unicycle', 'camisole', 'crossbow', 'hamster', 'bra', 'sledgehammer', 'skateboard', 'leotards', 'rhubarb', 'platypus', 'pelican', 'minnow', 'canary', 'spatula', 'motorcycle', 'iguana', 'chickadee', 'giraffe', 'tricycle', 'bazooka', 'tomahawk', 'ostrich', 'cucumber', 'lettuce', 'whale', 'stork', 'bluejay', 'colander', 'chipmunk', 'escalator', 'partridge', 'parka', 'zucchini', 'dunebuggy', 'machete', 'crowbar', 'housefly', 'blender', 'nectarine', 'scooter', 'cougar', 'penguin', 'emu', 'honeydew', 'wheelbarrow', 'harmonica', 'eggplant', 'groundhog', 'harpoon', 'yam', 'squid', 'toaster', 'moose', 'tuna', 'surfboard', 'nylons', 'raven', 'budgie', 'fridge', 'gopher', 'flamingo', 'sleigh', 'trombone', 'strainer', 'dagger', 'chimp', 'buzzard', 'guppy', 'grater', 'nightgown', 'cello', 'hornet', 'finch', 'tangerine', 'gorilla', 'caribou']\n",
      "79\n"
     ]
    }
   ],
   "source": [
    "print t\n",
    "print len(t)"
   ]
  },
  {
   "cell_type": "code",
   "execution_count": 18,
   "metadata": {
    "collapsed": true
   },
   "outputs": [],
   "source": [
    "from collections import defaultdict"
   ]
  },
  {
   "cell_type": "code",
   "execution_count": 19,
   "metadata": {
    "collapsed": true
   },
   "outputs": [],
   "source": [
    "def make_norm2feature_dict(df):\n",
    "    \n",
    "    norm2feature = defaultdict(int)\n",
    "    for i in xrange(df.shape[0]):\n",
    "        norm = norm_normalize(df.ix[i]['Concept'])\n",
    "        prop = df.ix[i]['Feature']\n",
    "        norm2feature[(norm,prop)] = df.ix[i]['Prod_Freq'] # production frequency.\n",
    "    \n",
    "    return norm2feature"
   ]
  },
  {
   "cell_type": "code",
   "execution_count": 20,
   "metadata": {
    "collapsed": false
   },
   "outputs": [
    {
     "name": "stdout",
     "output_type": "stream",
     "text": [
      "accordion\n",
      "a_musical_instrument\n",
      "28\n"
     ]
    }
   ],
   "source": [
    "print df.ix[0]['Concept']\n",
    "print df.ix[0]['Feature']\n",
    "print df.ix[0]['Prod_Freq']"
   ]
  },
  {
   "cell_type": "code",
   "execution_count": 21,
   "metadata": {
    "collapsed": false
   },
   "outputs": [
    {
     "name": "stdout",
     "output_type": "stream",
     "text": [
      "CPU times: user 4.36 s, sys: 69.7 ms, total: 4.43 s\n",
      "Wall time: 4.46 s\n"
     ]
    }
   ],
   "source": [
    "%%time\n",
    "norm2feature = make_norm2feature_dict(df)"
   ]
  },
  {
   "cell_type": "code",
   "execution_count": 22,
   "metadata": {
    "collapsed": false,
    "scrolled": true
   },
   "outputs": [
    {
     "name": "stdout",
     "output_type": "stream",
     "text": [
      "used_for_transportation 10\n",
      "is_fast 11\n",
      "used_for_travel 7\n",
      "has_a_propeller 5\n",
      "has_wings 20\n",
      "beh_-_flies 25\n",
      "is_large 8\n",
      "requires_pilots 11\n",
      "has_engines 5\n",
      "used_for_passengers 15\n",
      "found_in_airports 8\n",
      "made_of_metal 8\n",
      "inbeh_-_crashes 7\n"
     ]
    }
   ],
   "source": [
    "for prop in features:\n",
    "    count = norm2feature[('airplane',prop)]\n",
    "    if count!=0: print prop, count"
   ]
  },
  {
   "cell_type": "markdown",
   "metadata": {},
   "source": [
    "## I. Compute Cooccurrence Matrices"
   ]
  },
  {
   "cell_type": "markdown",
   "metadata": {},
   "source": [
    "### A. Build Cooccurrence Matrix I: General Distributional Matrix $t$-$c$"
   ]
  },
  {
   "cell_type": "code",
   "execution_count": 23,
   "metadata": {
    "collapsed": true
   },
   "outputs": [],
   "source": [
    "from collections import Counter\n",
    "from string import punctuation as punc\n",
    "from spacy.en import STOPWORDS"
   ]
  },
  {
   "cell_type": "code",
   "execution_count": 24,
   "metadata": {
    "collapsed": false
   },
   "outputs": [],
   "source": [
    "brown_fdist = Counter(list(brown.words()))"
   ]
  },
  {
   "cell_type": "code",
   "execution_count": 25,
   "metadata": {
    "collapsed": true
   },
   "outputs": [],
   "source": [
    "norms = set(map(lambda norm:norm_normalize(norm), norms)) # faster lookup."
   ]
  },
  {
   "cell_type": "code",
   "execution_count": 26,
   "metadata": {
    "collapsed": true
   },
   "outputs": [],
   "source": [
    "stopwords = STOPWORDS\n",
    "stopwords.add('``'); stopwords.add(\"''\")"
   ]
  },
  {
   "cell_type": "code",
   "execution_count": 27,
   "metadata": {
    "collapsed": true
   },
   "outputs": [],
   "source": [
    "def tokensent2lemmasent(parsed_sents, fdist, norms, freq=20):\n",
    "    \n",
    "    sents_in_lemmas = []\n",
    "    for parsed_sent in parsed_sents:\n",
    "        sent = []\n",
    "        for token in parsed_sent:\n",
    "            if token.orth_ in norms or token.lemma_ in norms:\n",
    "                sent.append(token.lemma_)\n",
    "            elif fdist[token.orth_] < freq \\\n",
    "                or token.lemma_ in STOPWORDS \\\n",
    "                or token.lemma_ in punc: continue\n",
    "            else: \n",
    "                sent.append(token.lemma_)\n",
    "        sents_in_lemmas.append(sent)\n",
    "    \n",
    "    return sents_in_lemmas"
   ]
  },
  {
   "cell_type": "code",
   "execution_count": 28,
   "metadata": {
    "collapsed": false
   },
   "outputs": [
    {
     "name": "stdout",
     "output_type": "stream",
     "text": [
      "CPU times: user 2 s, sys: 22.5 ms, total: 2.02 s\n",
      "Wall time: 2.02 s\n"
     ]
    }
   ],
   "source": [
    "%%time\n",
    "brown_lemmasents = tokensent2lemmasent(parsed_sents, brown_fdist, norms)"
   ]
  },
  {
   "cell_type": "code",
   "execution_count": 29,
   "metadata": {
    "collapsed": true
   },
   "outputs": [],
   "source": [
    "vocab = {word for sent in brown_lemmasents for word in sent}"
   ]
  },
  {
   "cell_type": "code",
   "execution_count": 30,
   "metadata": {
    "collapsed": false,
    "scrolled": true
   },
   "outputs": [
    {
     "data": {
      "text/plain": [
       "3988"
      ]
     },
     "execution_count": 30,
     "metadata": {},
     "output_type": "execute_result"
    }
   ],
   "source": [
    "len(vocab)"
   ]
  },
  {
   "cell_type": "code",
   "execution_count": 31,
   "metadata": {
    "collapsed": true
   },
   "outputs": [],
   "source": [
    "import numpy as np"
   ]
  },
  {
   "cell_type": "code",
   "execution_count": 32,
   "metadata": {
    "collapsed": true
   },
   "outputs": [],
   "source": [
    "def build_cooccurrence_matrix(sents, vocab, win_size):\n",
    "    \n",
    "    w2i = {w:i for i,w in enumerate(vocab)}\n",
    "    i2w = {i:w for i,w in enumerate(vocab)}\n",
    "    print \"... building dictionary\"\n",
    "    cooccurrence_dict = defaultdict(int)\n",
    "    for sent in sents:\n",
    "        for i,target in enumerate(sent):\n",
    "            contexts = sent[max(0,i-win_size):i] + sent[min(i+1,len(sent)):min(i+1+win_size,len(sent))]\n",
    "            for context in contexts:\n",
    "                cooccurrence_dict[(target,context)] += 1\n",
    "    print \"... building cooccurrence matrix\"\n",
    "    cooccurrence_matrix = np.zeros((len(vocab),len(vocab)))\n",
    "    for target in vocab:\n",
    "        for context in vocab:\n",
    "            cooccurrence_matrix[w2i[target]][w2i[context]] += cooccurrence_dict[(target,context)]\n",
    "    \n",
    "    return w2i, i2w, cooccurrence_matrix"
   ]
  },
  {
   "cell_type": "code",
   "execution_count": 33,
   "metadata": {
    "collapsed": false
   },
   "outputs": [
    {
     "name": "stdout",
     "output_type": "stream",
     "text": [
      "... building dictionary\n",
      "... building cooccurrence matrix\n",
      "CPU times: user 26.8 s, sys: 2.09 s, total: 28.9 s\n",
      "Wall time: 29.2 s\n"
     ]
    }
   ],
   "source": [
    "%%time\n",
    "w2i, i2w, t2c_mat = build_cooccurrence_matrix(brown_lemmasents, vocab, 2)"
   ]
  },
  {
   "cell_type": "code",
   "execution_count": 34,
   "metadata": {
    "collapsed": false
   },
   "outputs": [
    {
     "data": {
      "text/plain": [
       "1190"
      ]
     },
     "execution_count": 34,
     "metadata": {},
     "output_type": "execute_result"
    }
   ],
   "source": [
    "w2i['cat']"
   ]
  },
  {
   "cell_type": "code",
   "execution_count": 35,
   "metadata": {
    "collapsed": false
   },
   "outputs": [
    {
     "data": {
      "text/plain": [
       "136.0"
      ]
     },
     "execution_count": 35,
     "metadata": {},
     "output_type": "execute_result"
    }
   ],
   "source": [
    "t2c_mat[1190].sum()"
   ]
  },
  {
   "cell_type": "markdown",
   "metadata": {},
   "source": [
    "### B. Build Cooccurrence Matrix II: Paradigmatic Matrix $t$-$subj$ & $t$-$obj$"
   ]
  },
  {
   "cell_type": "code",
   "execution_count": 36,
   "metadata": {
    "collapsed": true
   },
   "outputs": [],
   "source": [
    "def extract_dep_triples(parsed_sents):\n",
    "    \n",
    "    triples = []\n",
    "    for parsed_sent in parsed_sents:\n",
    "        for token in parsed_sent:\n",
    "            lemma_triple = (token.lemma_, token.dep_, token.head.lemma_)\n",
    "            triples.append(lemma_triple)\n",
    "    \n",
    "    return triples"
   ]
  },
  {
   "cell_type": "code",
   "execution_count": 37,
   "metadata": {
    "collapsed": false
   },
   "outputs": [
    {
     "name": "stdout",
     "output_type": "stream",
     "text": [
      "CPU times: user 953 ms, sys: 188 ms, total: 1.14 s\n",
      "Wall time: 1.14 s\n"
     ]
    }
   ],
   "source": [
    "%%time\n",
    "dep_triples = extract_dep_triples(parsed_sents)"
   ]
  },
  {
   "cell_type": "code",
   "execution_count": 38,
   "metadata": {
    "collapsed": false
   },
   "outputs": [],
   "source": [
    "# get subj/obj vocabs\n",
    "def get_arg_set(triples, argtype): # argtype = {subj, obj}\n",
    "    \n",
    "    arg_set = set()\n",
    "    for triple in triples:\n",
    "        if triple[1].endswith(argtype):\n",
    "            arg_set.add(triple[0])\n",
    "    \n",
    "    return arg_set\n"
   ]
  },
  {
   "cell_type": "code",
   "execution_count": 39,
   "metadata": {
    "collapsed": false
   },
   "outputs": [
    {
     "name": "stdout",
     "output_type": "stream",
     "text": [
      "CPU times: user 918 ms, sys: 12.3 ms, total: 930 ms\n",
      "Wall time: 927 ms\n"
     ]
    }
   ],
   "source": [
    "%%time\n",
    "subj_set, obj_set = get_arg_set(dep_triples, 'subj'), get_arg_set(dep_triples, 'obj')"
   ]
  },
  {
   "cell_type": "code",
   "execution_count": 40,
   "metadata": {
    "collapsed": false
   },
   "outputs": [
    {
     "name": "stdout",
     "output_type": "stream",
     "text": [
      "8729\n",
      "16274\n"
     ]
    }
   ],
   "source": [
    "print len(subj_set)\n",
    "print len(obj_set)"
   ]
  },
  {
   "cell_type": "code",
   "execution_count": 41,
   "metadata": {
    "collapsed": true
   },
   "outputs": [],
   "source": [
    "# get N:[v1...vn] dict\n",
    "def get_pred_list(triples, argtype): # argtype = {subj, obj}\n",
    "    \n",
    "    pred_list = defaultdict(list)\n",
    "    for triple in triples:\n",
    "        if triple[1].endswith(argtype):\n",
    "            pred_list[triple[0]].append(triple[2])\n",
    "    \n",
    "    return pred_list\n"
   ]
  },
  {
   "cell_type": "code",
   "execution_count": 42,
   "metadata": {
    "collapsed": false
   },
   "outputs": [
    {
     "name": "stdout",
     "output_type": "stream",
     "text": [
      "CPU times: user 1.02 s, sys: 18.8 ms, total: 1.04 s\n",
      "Wall time: 1.04 s\n"
     ]
    }
   ],
   "source": [
    "%%time\n",
    "subj2pred, obj2pred = get_pred_list(dep_triples, 'subj'), get_pred_list(dep_triples, 'obj')"
   ]
  },
  {
   "cell_type": "code",
   "execution_count": 43,
   "metadata": {
    "collapsed": false
   },
   "outputs": [
    {
     "name": "stdout",
     "output_type": "stream",
     "text": [
      "[u'be', u'come', u'out', u'be', u'complement', u'be', u'go', u'meet', u'manage']\n",
      "[u'for', u'like', u'feed', u'have', u'put', u'as', u'like', u'like', u'like', u'to', u'at', u'like', u'like', u'like', u'watch', u'dye', u'of', u'send']\n"
     ]
    }
   ],
   "source": [
    "print subj2pred['cat']\n",
    "print obj2pred['cat']"
   ]
  },
  {
   "cell_type": "code",
   "execution_count": 44,
   "metadata": {
    "collapsed": true
   },
   "outputs": [],
   "source": [
    "def build_para_matrix(pred_list, vocab): # pred_list: dict; vocab: list\n",
    "    \n",
    "    w2i = {w:i for i,w in enumerate(vocab)}\n",
    "    i2w = {i:w for i,w in enumerate(vocab)}\n",
    "    para_matrix = np.zeros((len(vocab),len(vocab)))\n",
    "    for i,wi in enumerate(vocab):\n",
    "        if i!=0 and i%1000==0: print \"... processed %d words.\" % i\n",
    "        for wj in vocab:\n",
    "            if wi==wj: continue\n",
    "            for pred in pred_list[wi]: # if wi has v*3, wj has v*2, then wiwj cell = 3*2 = 6 <= \"paradigmatic weight\"\n",
    "                para_matrix[w2i[wi]][w2i[wj]] += pred_list[wj].count(pred)\n",
    "    \n",
    "    return w2i, i2w, para_matrix\n",
    "    "
   ]
  },
  {
   "cell_type": "code",
   "execution_count": 156,
   "metadata": {
    "collapsed": false
   },
   "outputs": [
    {
     "name": "stdout",
     "output_type": "stream",
     "text": [
      "... processed 1000 words.\n",
      "... processed 2000 words.\n",
      "... processed 3000 words.\n",
      "... processed 4000 words.\n",
      "... processed 5000 words.\n",
      "... processed 6000 words.\n",
      "... processed 7000 words.\n",
      "... processed 8000 words.\n",
      "CPU times: user 15min 41s, sys: 3.99 s, total: 15min 45s\n",
      "Wall time: 15min 46s\n"
     ]
    }
   ],
   "source": [
    "%%time\n",
    "w2i_subj, i2w_subj, subj_para_mat = build_para_matrix(subj2pred, list(subj_set)) # expected: 8~9 mins"
   ]
  },
  {
   "cell_type": "code",
   "execution_count": 163,
   "metadata": {
    "collapsed": false
   },
   "outputs": [
    {
     "name": "stdout",
     "output_type": "stream",
     "text": [
      "... processed 1000 words.\n",
      "... processed 2000 words.\n",
      "... processed 3000 words.\n",
      "... processed 4000 words.\n",
      "... processed 5000 words.\n",
      "... processed 6000 words.\n",
      "... processed 7000 words.\n",
      "... processed 8000 words.\n",
      "... processed 9000 words.\n",
      "... processed 10000 words.\n",
      "... processed 11000 words.\n",
      "... processed 12000 words.\n",
      "... processed 13000 words.\n",
      "... processed 14000 words.\n",
      "... processed 15000 words.\n",
      "... processed 16000 words.\n",
      "CPU times: user 57min 48s, sys: 19.8 s, total: 58min 8s\n",
      "Wall time: 58min 7s\n"
     ]
    }
   ],
   "source": [
    "%%time\n",
    "w2i_obj, i2w_obj, obj_para_mat = build_para_matrix(obj2pred, list(obj_set)) # expected: 16~17 mins"
   ]
  },
  {
   "cell_type": "code",
   "execution_count": 45,
   "metadata": {
    "collapsed": false
   },
   "outputs": [],
   "source": [
    "import cPickle"
   ]
  },
  {
   "cell_type": "code",
   "execution_count": 48,
   "metadata": {
    "collapsed": false
   },
   "outputs": [],
   "source": [
    "# %%time\n",
    "path = \"/Users/jacobsw/Desktop/UNIV/FALL_2016/LIN389C_RSCH_COMPLING/BAYESIAN/CODE_DRAFTS/DATA/\"\n",
    "# cPickle.dump((w2i_subj,i2w_subj,subj_para_mat), open(path+\"subj_para_mat.p\",'wb'))\n",
    "# cPickle.dump(obj_para_mat, open(path+\"obj_para_mat.p\",'wb'))\n",
    "# w2i_subj,i2w_subj,subj_para_mat = cPickle.load(open(path+\"subj_para_mat.p\",'rb'))\n",
    "# w2i_obj,i2w_obj,obj_para_mat = cPickle.load(open(path+\"obj_para_mat.p\",'rb'))"
   ]
  },
  {
   "cell_type": "markdown",
   "metadata": {},
   "source": [
    "## III. Topic Modeling"
   ]
  },
  {
   "cell_type": "code",
   "execution_count": 46,
   "metadata": {
    "collapsed": true
   },
   "outputs": [],
   "source": [
    "from gensim import corpora\n",
    "from gensim.models.ldamodel import LdaModel"
   ]
  },
  {
   "cell_type": "code",
   "execution_count": 47,
   "metadata": {
    "collapsed": true
   },
   "outputs": [],
   "source": [
    "class TopicModel:\n",
    "    \n",
    "    def __init__(self, documents, num_topics=100, num_iters=5):\n",
    "        dic = corpora.Dictionary(documents)\n",
    "        documents = [dic.doc2bow(document) for document in documents]\n",
    "        self.documents = documents\n",
    "        self.lda = LdaModel(documents, num_topics=num_topics, id2word=dic, passes=num_iters)\n",
    "    \n",
    "    def summarize(self, num_topics=100, num_words=5):\n",
    "        freq_stats = self.lda.print_topics(num_topics=num_topics, num_words=num_words)\n",
    "        print \"Statistics\"\n",
    "        print \n",
    "        for i,document in enumerate(self.documents):\n",
    "            print \"Most %d-Frequent Words in Topic %d:\" % (num_words,freq_stats[i][0])\n",
    "            print freq_stats[i][1]\n",
    "            print \"Topic-Distribution:\"\n",
    "            print self.lda.get_document_topics(document)\n",
    "            print"
   ]
  },
  {
   "cell_type": "code",
   "execution_count": 54,
   "metadata": {
    "collapsed": true
   },
   "outputs": [],
   "source": [
    "def make_fake_documents(matrix, vocab):\n",
    "    \n",
    "    docs = []\n",
    "    m, n = matrix.shape\n",
    "    for i in xrange(m):\n",
    "        if i!=0 and i%1000==0: print \"... processed %d targets.\" % i\n",
    "        doc = []\n",
    "        for j in xrange(n): \n",
    "            doc += [vocab[j]] * matrix[i][j]\n",
    "        docs.append(doc)\n",
    "    \n",
    "    return docs"
   ]
  },
  {
   "cell_type": "code",
   "execution_count": 170,
   "metadata": {
    "collapsed": false
   },
   "outputs": [
    {
     "name": "stdout",
     "output_type": "stream",
     "text": [
      "... processed 1000 targets.\n",
      "... processed 2000 targets.\n",
      "... processed 3000 targets.\n",
      "CPU times: user 29.5 s, sys: 1.07 s, total: 30.5 s\n",
      "Wall time: 30.1 s\n"
     ]
    }
   ],
   "source": [
    "%%time\n",
    "general_docs = make_fake_documents(t2c_mat, i2w)"
   ]
  },
  {
   "cell_type": "code",
   "execution_count": 178,
   "metadata": {
    "collapsed": false
   },
   "outputs": [
    {
     "name": "stdout",
     "output_type": "stream",
     "text": [
      "... processed 1000 targets.\n",
      "... processed 2000 targets.\n",
      "... processed 3000 targets.\n",
      "... processed 4000 targets.\n",
      "... processed 5000 targets.\n",
      "... processed 6000 targets.\n",
      "... processed 7000 targets.\n",
      "... processed 8000 targets.\n",
      "CPU times: user 2min 34s, sys: 5.76 s, total: 2min 40s\n",
      "Wall time: 2min 38s\n"
     ]
    }
   ],
   "source": [
    "%%time\n",
    "subj_docs = make_fake_documents(subj_para_mat, i2w_subj)"
   ]
  },
  {
   "cell_type": "code",
   "execution_count": 179,
   "metadata": {
    "collapsed": false
   },
   "outputs": [
    {
     "name": "stdout",
     "output_type": "stream",
     "text": [
      "... processed 1000 targets.\n",
      "... processed 2000 targets.\n",
      "... processed 3000 targets.\n",
      "... processed 4000 targets.\n",
      "... processed 5000 targets.\n",
      "... processed 6000 targets.\n",
      "... processed 7000 targets.\n",
      "... processed 8000 targets.\n",
      "... processed 9000 targets.\n",
      "... processed 10000 targets.\n",
      "... processed 11000 targets.\n",
      "... processed 12000 targets.\n",
      "... processed 13000 targets.\n",
      "... processed 14000 targets.\n",
      "... processed 15000 targets.\n",
      "... processed 16000 targets.\n",
      "CPU times: user 8min 52s, sys: 26 s, total: 9min 18s\n",
      "Wall time: 9min 15s\n"
     ]
    }
   ],
   "source": [
    "%%time\n",
    "obj_docs = make_fake_documents(obj_para_mat, i2w_obj)"
   ]
  },
  {
   "cell_type": "code",
   "execution_count": 55,
   "metadata": {
    "collapsed": false
   },
   "outputs": [],
   "source": [
    "%%time\n",
    "# cPickle.dump((general_docs, subj_docs, obj_docs), open(path+\"fake_general_subj_obj_documents.p\",'wb'))\n",
    "# general_docs, subj_docs, obj_docs = cPickle.load(open(path+\"fake_general_subj_obj_documents.p\",'rb'))"
   ]
  },
  {
   "cell_type": "code",
   "execution_count": 56,
   "metadata": {
    "collapsed": false
   },
   "outputs": [
    {
     "name": "stdout",
     "output_type": "stream",
     "text": [
      "CPU times: user 2min 6s, sys: 2.21 s, total: 2min 9s\n",
      "Wall time: 2min 8s\n"
     ]
    }
   ],
   "source": [
    "%%time\n",
    "tm_general = TopicModel(general_docs, num_topics=100, num_iters=5)"
   ]
  },
  {
   "cell_type": "code",
   "execution_count": 63,
   "metadata": {
    "collapsed": false
   },
   "outputs": [
    {
     "name": "stdout",
     "output_type": "stream",
     "text": [
      "CPU times: user 17min 13s, sys: 1min 12s, total: 18min 25s\n",
      "Wall time: 16min 43s\n"
     ]
    }
   ],
   "source": [
    "%%time\n",
    "tm_subj = TopicModel(subj_docs, num_topics=100, num_iters=5)"
   ]
  },
  {
   "cell_type": "code",
   "execution_count": 64,
   "metadata": {
    "collapsed": false
   },
   "outputs": [
    {
     "name": "stdout",
     "output_type": "stream",
     "text": [
      "CPU times: user 1h 6min 37s, sys: 6min, total: 1h 12min 37s\n",
      "Wall time: 1h 3min 20s\n"
     ]
    }
   ],
   "source": [
    "%%time\n",
    "tm_obj = TopicModel(obj_docs, num_topics=100, num_iters=5)"
   ]
  },
  {
   "cell_type": "code",
   "execution_count": 49,
   "metadata": {
    "collapsed": false
   },
   "outputs": [],
   "source": [
    "# %%time\n",
    "# cPickle.dump((tm_general, tm_subj, tm_obj), open(path+\"general_subj_obj_topic_model.p\",'wb'))\n",
    "# tm_general, tm_subj, tm_obj = cPickle.load(open(path+\"general_subj_obj_topic_model.p\",'rb'))"
   ]
  },
  {
   "cell_type": "markdown",
   "metadata": {},
   "source": [
    "## IV. Words As Distributions Over Properties"
   ]
  },
  {
   "cell_type": "markdown",
   "metadata": {},
   "source": [
    "* Probability of Property Given Topic:\n",
    "    * $p(prop\\mid z) = \\sum_{c\\in topic\\,z}p(c\\mid z)f(c,prop)$\n",
    "    \n",
    "    \n",
    "* Property Indicator Functions:\n",
    "    * $f_{binary}(c,prop) = \\begin{cases}1 & \\text{if context word has prop}\\\\ 0 & \\text{otherwise}\\end{cases}$.\n",
    "    * $f_{stochastic}(c,prop) = wgt(c,prop) = \\frac{production\\_freq(w)}{30}$ (computed from McRae data).\n",
    "    \n",
    "    \n",
    "* Target-Property Matrices\n",
    "    * Let $T, Z, P$ be the vocabularies of target words, topics, and properties respectively,\n",
    "    * $M_{|T|\\times |P|} = A_{|T|\\times |Z|}\\cdot B_{|Z|\\times |P|}$"
   ]
  },
  {
   "cell_type": "markdown",
   "metadata": {},
   "source": [
    "### A. Distribution Over Properties for Topics"
   ]
  },
  {
   "cell_type": "code",
   "execution_count": 50,
   "metadata": {
    "collapsed": true
   },
   "outputs": [],
   "source": [
    "def make_topic_word_dict(lda, ntopics=100):\n",
    "    \n",
    "    nwords = lda.num_terms\n",
    "    i2w = lda.id2word\n",
    "    topicword_dict = defaultdict(float)\n",
    "    for i in xrange(ntopics):\n",
    "        for w_id,prob in lda.get_topic_terms(i,topn=nwords):\n",
    "            topicword_dict[(i,i2w[w_id])] = prob\n",
    "    \n",
    "    return topicword_dict\n",
    "\n",
    "def p_word_given_topic(topicword_dict, word, topic):\n",
    "    \n",
    "    return topicword_dict[(topic,word)]\n",
    "\n",
    "def f_word_prop_bi(word, prop):\n",
    "    \n",
    "    return 1 if norm2feature[(word,prop)] else 0\n",
    "\n",
    "def f_word_prop_stc(word, prop):\n",
    "    \n",
    "    return norm2feature[(word,prop)] / 30."
   ]
  },
  {
   "cell_type": "code",
   "execution_count": 51,
   "metadata": {
    "collapsed": false
   },
   "outputs": [
    {
     "name": "stdout",
     "output_type": "stream",
     "text": [
      "CPU times: user 701 ms, sys: 130 ms, total: 831 ms\n",
      "Wall time: 994 ms\n"
     ]
    }
   ],
   "source": [
    "%%time\n",
    "general_topicword_dict = make_topic_word_dict(tm_general.lda)"
   ]
  },
  {
   "cell_type": "code",
   "execution_count": 52,
   "metadata": {
    "collapsed": false
   },
   "outputs": [
    {
     "name": "stdout",
     "output_type": "stream",
     "text": [
      "CPU times: user 1.57 s, sys: 269 ms, total: 1.84 s\n",
      "Wall time: 1.95 s\n"
     ]
    }
   ],
   "source": [
    "%%time\n",
    "subj_topicword_dict = make_topic_word_dict(tm_subj.lda)"
   ]
  },
  {
   "cell_type": "code",
   "execution_count": 53,
   "metadata": {
    "collapsed": false
   },
   "outputs": [
    {
     "name": "stdout",
     "output_type": "stream",
     "text": [
      "CPU times: user 3.2 s, sys: 525 ms, total: 3.72 s\n",
      "Wall time: 3.95 s\n"
     ]
    }
   ],
   "source": [
    "%%time\n",
    "obj_topicword_dict = make_topic_word_dict(tm_obj.lda)"
   ]
  },
  {
   "cell_type": "code",
   "execution_count": 54,
   "metadata": {
    "collapsed": false
   },
   "outputs": [
    {
     "name": "stdout",
     "output_type": "stream",
     "text": [
      "1.93929531407e-06\n",
      "0.00024524160111\n",
      "2.03681198576e-05\n"
     ]
    }
   ],
   "source": [
    "print p_word_given_topic(general_topicword_dict, 'cat', 0)\n",
    "print p_word_given_topic(subj_topicword_dict, 'cat', 0)\n",
    "print p_word_given_topic(obj_topicword_dict, 'cat', 0)"
   ]
  },
  {
   "cell_type": "code",
   "execution_count": 55,
   "metadata": {
    "collapsed": false
   },
   "outputs": [
    {
     "name": "stdout",
     "output_type": "stream",
     "text": [
      "Binary:\n",
      "1\n",
      "1\n",
      "Stochastic:\n",
      "0.933333333333\n",
      "0.266666666667\n"
     ]
    }
   ],
   "source": [
    "print \"Binary:\"\n",
    "print f_word_prop_bi('accordion','a_musical_instrument')\n",
    "print f_word_prop_bi('accordion','has_buttons')\n",
    "print \"Stochastic:\"\n",
    "print f_word_prop_stc('accordion','a_musical_instrument')\n",
    "print f_word_prop_stc('accordion','has_buttons')"
   ]
  },
  {
   "cell_type": "code",
   "execution_count": 56,
   "metadata": {
    "collapsed": true
   },
   "outputs": [],
   "source": [
    "def make_topic_prop_dict(lda, topicword_dict, f=f_word_prop_stc, ntopics=100):\n",
    "    \n",
    "    nwords = lda.num_terms\n",
    "    i2w = lda.id2word\n",
    "    topicprop_dict = defaultdict(float)\n",
    "    for i in xrange(ntopics):\n",
    "        if i!=0 and i%5==0: print \"... processed %d topics.\" % i\n",
    "        for prop in features: # features defined at the top.\n",
    "            ret = 0.0\n",
    "            for c_id,prob in lda.get_topic_terms(i,topn=nwords):\n",
    "                c = i2w[c_id]\n",
    "                ret += p_word_given_topic(topicword_dict,c,i)*f(c,prop)\n",
    "            topicprop_dict[(i,prop)] = ret\n",
    "    \n",
    "    return topicprop_dict\n"
   ]
  },
  {
   "cell_type": "code",
   "execution_count": 97,
   "metadata": {
    "collapsed": false
   },
   "outputs": [
    {
     "name": "stdout",
     "output_type": "stream",
     "text": [
      "... processed 5 topics.\n",
      "... processed 10 topics.\n",
      "... processed 15 topics.\n",
      "... processed 20 topics.\n",
      "... processed 25 topics.\n",
      "... processed 30 topics.\n",
      "... processed 35 topics.\n",
      "... processed 40 topics.\n",
      "... processed 45 topics.\n",
      "... processed 50 topics.\n",
      "... processed 55 topics.\n",
      "... processed 60 topics.\n",
      "... processed 65 topics.\n",
      "... processed 70 topics.\n",
      "... processed 75 topics.\n",
      "... processed 80 topics.\n",
      "... processed 85 topics.\n",
      "... processed 90 topics.\n",
      "... processed 95 topics.\n",
      "CPU times: user 1h 36min 6s, sys: 1min 51s, total: 1h 37min 58s\n",
      "Wall time: 1h 38min 53s\n"
     ]
    }
   ],
   "source": [
    "%%time\n",
    "subj_topicprop_dict = make_topic_prop_dict(tm_subj.lda, subj_topicword_dict)"
   ]
  },
  {
   "cell_type": "code",
   "execution_count": 99,
   "metadata": {
    "collapsed": false
   },
   "outputs": [
    {
     "name": "stdout",
     "output_type": "stream",
     "text": [
      "... processed 5 topics.\n",
      "... processed 10 topics.\n",
      "... processed 15 topics.\n",
      "... processed 20 topics.\n",
      "... processed 25 topics.\n",
      "... processed 30 topics.\n",
      "... processed 35 topics.\n",
      "... processed 40 topics.\n",
      "... processed 45 topics.\n",
      "... processed 50 topics.\n",
      "... processed 55 topics.\n",
      "... processed 60 topics.\n",
      "... processed 65 topics.\n",
      "... processed 70 topics.\n",
      "... processed 75 topics.\n",
      "... processed 80 topics.\n",
      "... processed 85 topics.\n",
      "... processed 90 topics.\n",
      "... processed 95 topics.\n",
      "CPU times: user 3h 15min 25s, sys: 7min 12s, total: 3h 22min 37s\n",
      "Wall time: 3h 25min 18s\n"
     ]
    }
   ],
   "source": [
    "%%time\n",
    "obj_topicprop_dict = make_topic_prop_dict(tm_obj.lda, obj_topicword_dict)"
   ]
  },
  {
   "cell_type": "code",
   "execution_count": 57,
   "metadata": {
    "collapsed": true
   },
   "outputs": [],
   "source": [
    "# cPickle.dump(subj_topicprop_dict, open(path+\"subj_topicprop_dict.p\",'wb'))\n",
    "# cPickle.dump(obj_topicprop_dict, open(path+\"obj_topicprop_dict.p\",'wb'))\n",
    "# subj_topicprop_dict = cPickle.load(open(path+\"subj_topicprop_dict.p\",'rb'))\n",
    "# obj_topicprop_dict = cPickle.load(open(path+\"obj_topicprop_dict.p\",'rb'))"
   ]
  },
  {
   "cell_type": "code",
   "execution_count": 66,
   "metadata": {
    "collapsed": true
   },
   "outputs": [],
   "source": [
    "import matplotlib.pyplot as plt\n",
    "%matplotlib inline"
   ]
  },
  {
   "cell_type": "code",
   "execution_count": 101,
   "metadata": {
    "collapsed": true
   },
   "outputs": [],
   "source": [
    "def plot_prop_distribution(topic,topk=5):\n",
    "    props = []\n",
    "    probs = []\n",
    "    for key,value in subj_topicprop_dict.iteritems():\n",
    "        if key[0]==topic:\n",
    "            props.append(key[1]); probs.append(value)\n",
    "    top_props_idx = np.argsort(probs)[::-1][:topk]\n",
    "    for i,idx in enumerate(top_props_idx):\n",
    "        print \"%dth Property: %s (prop=%.6f%%)\" % (i+1,props[idx],probs[idx])\n",
    "    plt.plot(probs)\n",
    "    plt.show()"
   ]
  },
  {
   "cell_type": "code",
   "execution_count": 102,
   "metadata": {
    "collapsed": false
   },
   "outputs": [
    {
     "name": "stdout",
     "output_type": "stream",
     "text": [
      "1th Property: made_of_metal (prop=0.001697%)\n",
      "2th Property: made_of_wood (prop=0.001680%)\n",
      "3th Property: is_large (prop=0.001419%)\n",
      "4th Property: used_for_transportation (prop=0.000924%)\n",
      "5th Property: has_wheels (prop=0.000888%)\n"
     ]
    },
    {
     "data": {
      "image/png": "[encoded data removed]",
      "text/plain": [
       "<matplotlib.figure.Figure at 0x5055742d0>"
      ]
     },
     "metadata": {},
     "output_type": "display_data"
    }
   ],
   "source": [
    "plot_prop_distribution(0)"
   ]
  },
  {
   "cell_type": "markdown",
   "metadata": {},
   "source": [
    "### B. Make Normalized $target-topic$ Matrices\n",
    "\n",
    "** i.e. probability distributions, for each target word, of topics. **"
   ]
  },
  {
   "cell_type": "code",
   "execution_count": 138,
   "metadata": {
    "collapsed": true
   },
   "outputs": [],
   "source": [
    "from __future__ import division"
   ]
  },
  {
   "cell_type": "code",
   "execution_count": 140,
   "metadata": {
    "collapsed": true
   },
   "outputs": [],
   "source": [
    "def normalize_matrix(mat):\n",
    "    \n",
    "    return np.apply_along_axis(lambda r: r/sum(r), 1, mat)\n"
   ]
  },
  {
   "cell_type": "code",
   "execution_count": 141,
   "metadata": {
    "collapsed": true
   },
   "outputs": [],
   "source": [
    "def make_word_topic_matrix(lda):\n",
    "    \n",
    "    nwords, ntopics = lda.num_terms, lda.num_topics\n",
    "    word2topic_mat = np.zeros((nwords,ntopics))\n",
    "    for i in xrange(ntopics):\n",
    "        for w_id,prob in lda.get_topic_terms(i,topn=nwords):\n",
    "            word2topic_mat[w_id][i] = prob\n",
    "    \n",
    "    return normalize_matrix(word2topic_mat)"
   ]
  },
  {
   "cell_type": "code",
   "execution_count": 142,
   "metadata": {
    "collapsed": false
   },
   "outputs": [
    {
     "name": "stdout",
     "output_type": "stream",
     "text": [
      "CPU times: user 383 ms, sys: 6.45 ms, total: 389 ms\n",
      "Wall time: 388 ms\n"
     ]
    }
   ],
   "source": [
    "%%time\n",
    "general_word2topic_mat = make_word_topic_matrix(tm_general.lda)"
   ]
  },
  {
   "cell_type": "code",
   "execution_count": 145,
   "metadata": {
    "collapsed": false
   },
   "outputs": [
    {
     "name": "stdout",
     "output_type": "stream",
     "text": [
      "CPU times: user 877 ms, sys: 133 ms, total: 1.01 s\n",
      "Wall time: 1.01 s\n"
     ]
    }
   ],
   "source": [
    "%%time\n",
    "subj_word2topic_mat = make_word_topic_matrix(tm_subj.lda)"
   ]
  },
  {
   "cell_type": "code",
   "execution_count": 146,
   "metadata": {
    "collapsed": false
   },
   "outputs": [
    {
     "name": "stdout",
     "output_type": "stream",
     "text": [
      "CPU times: user 1.7 s, sys: 211 ms, total: 1.91 s\n",
      "Wall time: 1.92 s\n"
     ]
    }
   ],
   "source": [
    "%%time\n",
    "obj_word2topic_mat = make_word_topic_matrix(tm_obj.lda)"
   ]
  },
  {
   "cell_type": "markdown",
   "metadata": {},
   "source": [
    "### C. Make Normalized $topic-prop$ Matrices"
   ]
  },
  {
   "cell_type": "code",
   "execution_count": 148,
   "metadata": {
    "collapsed": true
   },
   "outputs": [],
   "source": [
    "def make_topic_prop_matrix(topicprop_dict, ntopics=100):\n",
    "    \n",
    "    topic2prop_mat = np.zeros((ntopics,len(features))) # features defined earlier\n",
    "    for i in xrange(ntopics):\n",
    "        for j,prop in enumerate(features):\n",
    "            topic2prop_mat[i][j] = topicprop_dict[(i,prop)]\n",
    "    \n",
    "    return normalize_matrix(topic2prop_mat) \n",
    "\n",
    "# note that the assumptions is that only subj/obj property distributions make sense.\n",
    "# specifically, we don't want to say that because \"cat\" appears in \"cat sat on a mat\", it somehow\n",
    "# has the properties of a \"mat\"."
   ]
  },
  {
   "cell_type": "code",
   "execution_count": 149,
   "metadata": {
    "collapsed": false
   },
   "outputs": [
    {
     "name": "stdout",
     "output_type": "stream",
     "text": [
      "CPU times: user 245 ms, sys: 27 ms, total: 272 ms\n",
      "Wall time: 260 ms\n"
     ]
    }
   ],
   "source": [
    "%%time\n",
    "subj_topic2prop_mat = make_topic_prop_matrix(subj_topicprop_dict)"
   ]
  },
  {
   "cell_type": "code",
   "execution_count": 150,
   "metadata": {
    "collapsed": false
   },
   "outputs": [
    {
     "name": "stdout",
     "output_type": "stream",
     "text": [
      "CPU times: user 255 ms, sys: 39.7 ms, total: 294 ms\n",
      "Wall time: 284 ms\n"
     ]
    }
   ],
   "source": [
    "%%time\n",
    "obj_topic2prop_mat = make_topic_prop_matrix(obj_topicprop_dict)"
   ]
  },
  {
   "cell_type": "markdown",
   "metadata": {},
   "source": [
    "### D. Finalize -- Compute $target-prop$ Matrices (Subj/Obj Only)"
   ]
  },
  {
   "cell_type": "code",
   "execution_count": 155,
   "metadata": {
    "collapsed": false
   },
   "outputs": [
    {
     "name": "stdout",
     "output_type": "stream",
     "text": [
      "CPU times: user 308 ms, sys: 59.7 ms, total: 367 ms\n",
      "Wall time: 162 ms\n"
     ]
    }
   ],
   "source": [
    "%%time\n",
    "subj_word2prop_mat = np.dot(subj_word2topic_mat,subj_topic2prop_mat)"
   ]
  },
  {
   "cell_type": "code",
   "execution_count": 156,
   "metadata": {
    "collapsed": false,
    "scrolled": true
   },
   "outputs": [
    {
     "name": "stdout",
     "output_type": "stream",
     "text": [
      "CPU times: user 647 ms, sys: 121 ms, total: 769 ms\n",
      "Wall time: 326 ms\n"
     ]
    }
   ],
   "source": [
    "%%time\n",
    "obj_word2prop_mat = np.dot(obj_word2topic_mat,obj_topic2prop_mat)"
   ]
  },
  {
   "cell_type": "code",
   "execution_count": 157,
   "metadata": {
    "collapsed": false
   },
   "outputs": [
    {
     "name": "stdout",
     "output_type": "stream",
     "text": [
      "(8616, 2526)\n",
      "(16196, 2526)\n"
     ]
    }
   ],
   "source": [
    "print subj_word2prop_mat.shape\n",
    "print obj_word2prop_mat.shape"
   ]
  },
  {
   "cell_type": "code",
   "execution_count": 108,
   "metadata": {
    "collapsed": false
   },
   "outputs": [
    {
     "name": "stdout",
     "output_type": "stream",
     "text": [
      "1190 2762 5144\n"
     ]
    }
   ],
   "source": [
    "print w2i['cat'], w2i_subj['cat'], w2i_obj['cat']"
   ]
  },
  {
   "cell_type": "code",
   "execution_count": 109,
   "metadata": {
    "collapsed": false
   },
   "outputs": [
    {
     "name": "stdout",
     "output_type": "stream",
     "text": [
      "(3988, 3988) (8729, 8729) (16274, 16274)\n"
     ]
    }
   ],
   "source": [
    "print t2c_mat.shape, subj_para_mat.shape, obj_para_mat.shape"
   ]
  },
  {
   "cell_type": "code",
   "execution_count": 112,
   "metadata": {
    "collapsed": false
   },
   "outputs": [
    {
     "name": "stdout",
     "output_type": "stream",
     "text": [
      "136.0 1.0 9.0\n"
     ]
    }
   ],
   "source": [
    "print t2c_mat[1190].sum(), subj_para_mat[1190].sum(), obj_para_mat[1190].sum()"
   ]
  },
  {
   "cell_type": "markdown",
   "metadata": {},
   "source": [
    "## V. Compute Similarity"
   ]
  },
  {
   "cell_type": "markdown",
   "metadata": {},
   "source": [
    "### A. Cosine\n",
    "\n",
    "* $Cosine(w,t) = \\frac{w\\cdot t}{|w||t|}$."
   ]
  },
  {
   "cell_type": "code",
   "execution_count": 165,
   "metadata": {
    "collapsed": true
   },
   "outputs": [],
   "source": [
    "def cosine(x, y):\n",
    "    return x.dot(y) / (np.linalg.norm(x)*np.linalg.norm(y))\n"
   ]
  },
  {
   "cell_type": "code",
   "execution_count": 170,
   "metadata": {
    "collapsed": true
   },
   "outputs": [],
   "source": [
    "def sim_cosine(w, t, mode): # mode: genenral, subj, obj\n",
    "    \n",
    "    if mode=='subj':\n",
    "        return cosine(subj_word2prop_mat[w2i[w]],subj_word2prop_mat[w2i[t]])\n",
    "    elif mode=='obj':\n",
    "        return cosine(obj_word2prop_mat[w2i[w]],obj_word2prop_mat[w2i[t]])\n",
    "    else: \n",
    "        return cosine(general_word2topic_mat[w2i[w]],general_word2topic_mat[w2i[t]])"
   ]
  },
  {
   "cell_type": "code",
   "execution_count": 177,
   "metadata": {
    "collapsed": false
   },
   "outputs": [
    {
     "name": "stdout",
     "output_type": "stream",
     "text": [
      "0.255002191852\n",
      "0.9998739764\n",
      "0.999805562048\n"
     ]
    }
   ],
   "source": [
    "print sim_cosine('cat','dog','general')\n",
    "print sim_cosine('cat','dog','subj')\n",
    "print sim_cosine('cat','dog','obj')"
   ]
  },
  {
   "cell_type": "markdown",
   "metadata": {},
   "source": [
    "### B. SKLD\n",
    "\n",
    "* $SKLD(w,t) = \\frac{1}{2}\\left(\\sum_iw(i)log\\frac{w(i)}{t(i)} + \\sum_it(i)log\\frac{t(i)}{w(i)}\\right)$, (cf. Griffiths & Steyvers 2004:10(5))."
   ]
  },
  {
   "cell_type": "code",
   "execution_count": 197,
   "metadata": {
    "collapsed": true
   },
   "outputs": [],
   "source": [
    "def log(x): return np.log(x) if x!=0 else np.log(1e-20)\n",
    "def div(x,y): return x/y if y!=0 else 1e10"
   ]
  },
  {
   "cell_type": "code",
   "execution_count": 198,
   "metadata": {
    "collapsed": false
   },
   "outputs": [],
   "source": [
    "def kld(w, t):\n",
    "    \n",
    "    return sum(w_i*log(div(w_i,t_i)) for w_i,t_i in zip(w,t))\n",
    "\n",
    "def skld(w, t):\n",
    "    \n",
    "    return .5 * (kld(w,t) + kld(t,w))"
   ]
  },
  {
   "cell_type": "code",
   "execution_count": 199,
   "metadata": {
    "collapsed": false
   },
   "outputs": [],
   "source": [
    "def sim_skld(w, t, mode):\n",
    "    \n",
    "    if mode=='subj':\n",
    "        return skld(subj_word2prop_mat[w2i[w]],subj_word2prop_mat[w2i[t]])\n",
    "    elif mode=='obj':\n",
    "        return skld(obj_word2prop_mat[w2i[w]],obj_word2prop_mat[w2i[t]])\n",
    "    else: \n",
    "        return skld(general_word2topic_mat[w2i[w]],general_word2topic_mat[w2i[t]])"
   ]
  },
  {
   "cell_type": "code",
   "execution_count": 200,
   "metadata": {
    "collapsed": false
   },
   "outputs": [
    {
     "name": "stdout",
     "output_type": "stream",
     "text": [
      "1.84274016857\n",
      "0.00201145877196\n",
      "0.00163546484176\n"
     ]
    }
   ],
   "source": [
    "print sim_skld('cat','dog','general')\n",
    "print sim_skld('cat','dog','subj')\n",
    "print sim_skld('cat','dog','obj')"
   ]
  },
  {
   "cell_type": "markdown",
   "metadata": {
    "collapsed": true
   },
   "source": [
    "### C. Overall Similarity\n",
    "\n",
    "* $SIM(w,t) = \\lambda sim_1(w,t) + (1-\\lambda) sim_2(w,t)$"
   ]
  },
  {
   "cell_type": "code",
   "execution_count": 201,
   "metadata": {
    "collapsed": true
   },
   "outputs": [],
   "source": [
    "def sim(w, t, mode, sim_func=sim_skld, lmd=.8):\n",
    "    \n",
    "    return lmd * sim_func(w,t,mode) + lmd * sim_func(w,t,'general')"
   ]
  },
  {
   "cell_type": "code",
   "execution_count": 210,
   "metadata": {
    "collapsed": false
   },
   "outputs": [],
   "source": [
    "def sim_summary(w, t, lmds):\n",
    "    \n",
    "    for lmd in lmds:\n",
    "        print \"lmd=%.1f\" % lmd\n",
    "        print \"%s, %s: subj sim=%.6f\" % (w,t,sim(w,t,'subj',lmd=lmd))\n",
    "        print \"%s, %s: obj sim=%.6f\" % (w,t,sim(w,t,'obj',lmd=lmd))\n",
    "        print "
   ]
  },
  {
   "cell_type": "code",
   "execution_count": 215,
   "metadata": {
    "collapsed": false
   },
   "outputs": [
    {
     "name": "stdout",
     "output_type": "stream",
     "text": [
      "lmd=0.1\n",
      "crocodile, alligator: subj sim=0.287984\n",
      "crocodile, alligator: obj sim=0.294597\n",
      "\n",
      "lmd=0.5\n",
      "crocodile, alligator: subj sim=1.439921\n",
      "crocodile, alligator: obj sim=1.472986\n",
      "\n",
      "lmd=0.8\n",
      "crocodile, alligator: subj sim=2.303874\n",
      "crocodile, alligator: obj sim=2.356778\n",
      "\n"
     ]
    }
   ],
   "source": [
    "sim_summary('crocodile', 'alligator', [.1,.5,.8])"
   ]
  },
  {
   "cell_type": "code",
   "execution_count": 214,
   "metadata": {
    "collapsed": false
   },
   "outputs": [
    {
     "name": "stdout",
     "output_type": "stream",
     "text": [
      "lmd=0.1\n",
      "accordion, alligator: subj sim=0.221243\n",
      "accordion, alligator: obj sim=0.221054\n",
      "\n",
      "lmd=0.5\n",
      "accordion, alligator: subj sim=1.106214\n",
      "accordion, alligator: obj sim=1.105272\n",
      "\n",
      "lmd=0.8\n",
      "accordion, alligator: subj sim=1.769943\n",
      "accordion, alligator: obj sim=1.768434\n",
      "\n"
     ]
    }
   ],
   "source": [
    "sim_summary('accordion', 'alligator', [.1,.5,.8])"
   ]
  },
  {
   "cell_type": "markdown",
   "metadata": {},
   "source": [
    "## VI. What's the Probability Distriubiton of New Word $w$ Which is Observed in Sentence $s$\n",
    "\n",
    "* Model:\n",
    "    * $d(w) = f(c(w),g(w),l(s))$,\n",
    "    * $d(w)$: Learned property distribution; $c(w)$: Prior property distribution; $g(w)$: Properties from ground information; $l(s)$: learned property distribution based on contextual information.\n",
    "    * $d(w) = p(\\theta\\mid w) = \\frac{1}{Z}p(w\\mid \\theta)p(\\theta)$, i.e. the posterior distribution of properties, where $\\theta$ is the parameter of the distribution, $Z$ is the normalizing constant $\\int_\\Theta p(w\\mid \\theta_i)p(\\theta_i), \\Theta = \\{\\theta_1,...,\\theta_i,...,\\theta_{|P|}\\}$ ($P$ is the set of properties).\n",
    "\n",
    "* General Algorithm:\n",
    "    * Set $c(w)$ as \n",
    "        * Case 1: $w$ unknown, a uniform distribution over properties,\n",
    "        * Case 2: $w$ known, $w$'s distribution over properties\n",
    "    * Set $g(w)$ as a list of observed properties,\n",
    "    * Compute $l(s)$: Using the predicate $v$ of the sentence, find $w$'s cohort (either subject/object) $T$, then\n",
    "        * If $w$ is known, \n",
    "            * For $t\\in T$, compute $\\lambda sim_1(w,t) + (1-\\lambda) sim_2(w,t)$.\n",
    "            * $w$'s learned property distribution $l(s) = normalize(\\prod_{t\\in T}SIM(w,t)\\cdot\\theta_t)$ (pointwise multiplication, $SIM(w,t)$ can be seen as the weighting, i.e. $t$'s relative importance to $w$).\n",
    "        * Otherwise, \n",
    "            * $w$'s learned property distribution $l(s) = normalize(\\prod_{t\\in T}\\theta_t)$ (i.e. treating cohort members as equally important).\n",
    "    * Compute $d(w)$:\n",
    "        * Case 1: $g(w)=\\emptyset$, \n",
    "            * Perform pointwise multiplication of $c(w)$ and $l(s)$, then normalize,\n",
    "            * Reture the top $k$ most likely properties.\n",
    "        * Case 2: $g(w)\\neq\\emptyset$, \n",
    "            * Perform the same operation as in Case 1,\n",
    "            * Return in addition the properties in $g(w)$ (**TODO**: This is only for the single-exposure method. For multiple-exposure method, we'd like to incorporate $g(w)$ in the distribution $d(w)$ somehow).\n",
    "            \n",
    "* ** Current Demo **:\n",
    "    * $w$ is known or unknown,\n",
    "    * $g(w)$ is empty.\n",
    "\n",
    "* Bayesian Update:\n",
    "    * At each exposure to a sentence $s$ containing $w$, update $c(w)$ with $d(w)$\n",
    "    "
   ]
  },
  {
   "cell_type": "markdown",
   "metadata": {},
   "source": [
    "### A. Facilities"
   ]
  },
  {
   "cell_type": "code",
   "execution_count": 231,
   "metadata": {
    "collapsed": true
   },
   "outputs": [],
   "source": [
    "def normalize_vector(vec):\n",
    "    \n",
    "    return vec / vec.sum()"
   ]
  },
  {
   "cell_type": "code",
   "execution_count": 250,
   "metadata": {
    "collapsed": true
   },
   "outputs": [],
   "source": [
    "P = features\n",
    "features_list = list(features)"
   ]
  },
  {
   "cell_type": "code",
   "execution_count": 234,
   "metadata": {
    "collapsed": false
   },
   "outputs": [],
   "source": [
    "def c(w):\n",
    "    vec = np.ones(len(P))\n",
    "    return normalize_vector(vec)"
   ]
  },
  {
   "cell_type": "code",
   "execution_count": 235,
   "metadata": {
    "collapsed": false
   },
   "outputs": [
    {
     "name": "stdout",
     "output_type": "stream",
     "text": [
      "[ 0.00039588  0.00039588  0.00039588 ...,  0.00039588  0.00039588\n",
      "  0.00039588] 2526\n"
     ]
    }
   ],
   "source": [
    "print c('cat'), len(c('cat'))"
   ]
  },
  {
   "cell_type": "code",
   "execution_count": 224,
   "metadata": {
    "collapsed": true
   },
   "outputs": [],
   "source": [
    "# get V:[n1...nn] dict, i.e. for paradigmatic cohort\n",
    "def get_arg_list(triples, argtype): # argtype = {subj, obj}\n",
    "    \n",
    "    arg_list = defaultdict(list)\n",
    "    for triple in triples:\n",
    "        if triple[1].endswith(argtype):\n",
    "            arg_list[triple[2]].append(triple[0])\n",
    "    \n",
    "    return arg_list"
   ]
  },
  {
   "cell_type": "code",
   "execution_count": 225,
   "metadata": {
    "collapsed": false
   },
   "outputs": [
    {
     "name": "stdout",
     "output_type": "stream",
     "text": [
      "CPU times: user 943 ms, sys: 592 ms, total: 1.53 s\n",
      "Wall time: 1.9 s\n"
     ]
    }
   ],
   "source": [
    "%%time\n",
    "subj2args, obj2args = get_arg_list(dep_triples, 'subj'), get_arg_list(dep_triples, 'obj')"
   ]
  },
  {
   "cell_type": "code",
   "execution_count": 227,
   "metadata": {
    "collapsed": false,
    "scrolled": false
   },
   "outputs": [
    {
     "name": "stdout",
     "output_type": "stream",
     "text": [
      "[u'child', u'they', u'people', u'americans', u'americans', u'americans', u'they', u'they', u'one', u'animal', u'he', u'they', u'student', u'they', u'i', u'i', u'we', u'which', u'who', u'he', u'i', u'boy', u'it', u'they', u'he', u'you', u'he', u'i', u'it', u'charlie', u'she', u'she', u'who', u'you', u'you', u'i', u'she', u'parent', u'she', u'fish', u'lord', u'he', u'we', u'i', u'people', u'gasp', u'you', u'i', u'he', u'he', u'we', u'child', u'he', u'they', u'they', u'we', u'she', u'we', u'people', u'you', u'he', u'they', u'they', u'dave']\n",
      "[u'it', u'hat', u'man', u'daisy', u'what', u'much', u'fat', u'portion', u'much', u'flesh', u'flesh', u'skin', u'facility', u'facility', u'what', u'garbage', u'much', u'cereal', u'it', u'rider', u'egg', u'seed', u'profit', u'celery', u'luncheon', u'soup', u'what', u'stress', u'leg', u'it', u'food', u'nothing', u'enough', u'more', u'meal', u'supper', u'dinner', u'it', u'salad', u'mussel', u'body', u'what', u'dust', u'this', u'litle', u'what', u'breakfast', u'other', u'breakfast', u'breakfast', u'bread', u'bread', u'amount', u'chicken', u'chicken', u'piece', u'tamale']\n"
     ]
    }
   ],
   "source": [
    "print subj2args['eat']\n",
    "print obj2args['eat']"
   ]
  },
  {
   "cell_type": "markdown",
   "metadata": {},
   "source": [
    "### B. Unknow Words"
   ]
  },
  {
   "cell_type": "code",
   "execution_count": 242,
   "metadata": {
    "collapsed": true
   },
   "outputs": [],
   "source": [
    "from operator import mul"
   ]
  },
  {
   "cell_type": "code",
   "execution_count": 255,
   "metadata": {
    "collapsed": false
   },
   "outputs": [],
   "source": [
    "def learn_prop_unknown(w, v, rel, verbose=1, topk=5): # w: the new boy; v: the predicate observed; rel = {subj, obj}\n",
    "    \n",
    "    c_w = c(w)\n",
    "    \n",
    "    cohort = subj2args[w] if rel=='subj' else obj2args[w]\n",
    "    cohort = filter(lambda cm: cm in w2i_subj if rel=='subj' else cm in w2i_obj, cohort)\n",
    "    cohort_vecs = [subj_word2prop_mat[w2i_subj[cm]] for cm in cohort] if rel=='subj' else \\\n",
    "                  [obj_word2prop_mat[w2i_obj[cm]] for cm in cohort]\n",
    "    l_s = normalize_vector(reduce(mul, cohort_vecs))\n",
    "    \n",
    "    prop_dist = normalize_vector(c_w * l_s)\n",
    "    \n",
    "    if verbose:\n",
    "        top_props_idx = np.argsort(prop_dist)[::-1][:topk]\n",
    "        for i,idx in enumerate(top_props_idx):\n",
    "            print \"%dth Property: %s (prop=%.6f%%)\" % (i+1,features_list[idx],prop_dist[idx])\n",
    "  "
   ]
  },
  {
   "cell_type": "code",
   "execution_count": 252,
   "metadata": {
    "collapsed": false
   },
   "outputs": [
    {
     "name": "stdout",
     "output_type": "stream",
     "text": [
      "3988 8729 16274\n"
     ]
    }
   ],
   "source": [
    "print len(w2i), len(w2i_subj), len(w2i_obj)"
   ]
  },
  {
   "cell_type": "code",
   "execution_count": 256,
   "metadata": {
    "collapsed": false
   },
   "outputs": [
    {
     "name": "stdout",
     "output_type": "stream",
     "text": [
      "1th Property: is_large (prop=0.022168%)\n",
      "2th Property: made_of_wood (prop=0.020466%)\n",
      "3th Property: made_of_metal (prop=0.019516%)\n",
      "4th Property: used_for_transportation (prop=0.013822%)\n",
      "5th Property: has_wheels (prop=0.012755%)\n"
     ]
    }
   ],
   "source": [
    "learn_prop_unknown('alligator', 'eat', 'subj')"
   ]
  },
  {
   "cell_type": "code",
   "execution_count": null,
   "metadata": {
    "collapsed": true
   },
   "outputs": [],
   "source": []
  },
  {
   "cell_type": "code",
   "execution_count": null,
   "metadata": {
    "collapsed": true
   },
   "outputs": [],
   "source": []
  }
 ],
 "metadata": {
  "kernelspec": {
   "display_name": "Python 2",
   "language": "python",
   "name": "python2"
  },
  "language_info": {
   "codemirror_mode": {
    "name": "ipython",
    "version": 2
   },
   "file_extension": ".py",
   "mimetype": "text/x-python",
   "name": "python",
   "nbconvert_exporter": "python",
   "pygments_lexer": "ipython2",
   "version": "2.7.11"
  }
 },
 "nbformat": 4,
 "nbformat_minor": 0
}
