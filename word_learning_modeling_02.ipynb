{
 "cells": [
  {
   "cell_type": "markdown",
   "metadata": {},
   "source": [
    "## Model II\n",
    "\n",
    "* **Norms**: McRae et al. (2005)\n",
    "* **Model**: Dinu & Lapata (2010) Extension 2\n",
    "    * Main Idea:\n",
    "        * The meaning of a target word $t$ is modeled by a distribution over topics $z$.\n",
    "        * An input \"document\" to the topic model that produces the distribution of $t$ is generated from $t$'s selected set of contexts $C = \\{c_1,...,c_n\\}$ and the contexts' frequencies.\n",
    "        * When the selected contexts are the paradigmatic subjects of $t$, we get a $t$-$z_{subj}$ matrix, when they are the paradigmatic objects of $t$, we get a $t$-$z_{obj}$ matrix.\n",
    "        * If we were able to compute $p(prop\\mid topic)$, then we will be able to obtain a $t$-$prop_{subj}$ matrix and a $t$-$prop_{obj}$ matrix.\n",
    "        * We can also compute a \"general distributional matrix\" $t$-$c$ by taking a $[-2,+2]$ word-window (w/ tfidf or PMI conversion).\n",
    "        * Given a new word $w$, let $t$ a paradigmatic subject/object of $w$, the similarity of $w$ and $t$ is computed with $SIM(w,t) = \\lambda sim_1(w,t) + (1-\\lambda) sim_2(w,t)$, where $sim_1$ is computed using the paradigmatic matrix (i.e. $t$-$z_{subj}$ or $t$-$z_{obj}$, depending on whether $w$ and $t$ are paradigmatic subjects/objects), and $sim_2$ is computed using the general distributional matrix $t$-$c$. $\\lambda,\\lambda\\in[0,1]$ be a hyperparameter.\n",
    "    * Algorithm:\n",
    "        * [GOAL] = Find a distribution over properties for an input word $w$.\n",
    "        * For $t$s in a set of selected target words, obtain 3 cooccurrence matrices:\n",
    "            * $t$-$subj$ matrix: $t$'s paradigmatic subject cohort,\n",
    "            * $t$-$obj$ matrix, $t$'s paradigmatic object cohort,\n",
    "            * $t$-$c$ matrix, $t$'s $[-2,+2]$ word-window contexts.\n",
    "        * Compute paradigmatic matrices as follows:\n",
    "            * Topic Model using the DL10 \"pseudo-documents\" using $t$-$subj$ matrix and $t$-$obj$ matrix, producing $t$-$z_{subj}$ matrix and $t$-$z_{obj}$ matrix,\n",
    "            * Using $p(prop\\mid z) = \\sum_{t\\in topic\\,z}p(t\\mid z)f(t,prop)$, compute $t$-$prop_{subj}$ matrix and $t$-$prop_{obj}$ matrix.\n",
    "        * Compute general distributional matrix $t$-$c$ using either tfidf or PMI conversion.\n",
    "        * Find $w$'s property distribution as follows:\n",
    "            * Given a sentence where $w$ appears, using the predicate $v$ of the sentence, find $w$'s cohort (either subject/object) $T$,\n",
    "            * For $t_i\\in T$, compute $\\lambda sim_1(w,t_i) + (1-\\lambda) sim_2(w,t_i)$.\n",
    "            * $w$'s property distribution will be the average of $SIM(w,t_i),t_i\\in T$.\n",
    "    * Similarity Functions:\n",
    "        * $Cosine(w,t) = \\frac{w\\cdot t}{|w||t|}$.\n",
    "        * $SKLD(w,t) = \\frac{1}{2}\\left(\\sum_iw(i)log\\frac{w(i)}{t(i)} + \\sum_it(i)log\\frac{t(i)}{w(i)}\\right)$, (cf. Griffiths & Steyvers 2004:10(5)).\n",
    "    * Property Indicator Functions:\n",
    "        * $f_{binary}(t,prop) = \\begin{cases}1 & \\text{if word has prop}\\\\ 0 & \\text{otherwise}\\end{cases}$.\n",
    "        * $f_{stochastic}(t,prop) = w(t,prop) = \\frac{production\\_freq(w)}{30}$ (computed from McRae data)."
   ]
  },
  {
   "cell_type": "markdown",
   "metadata": {},
   "source": [
    "## 0. Norms"
   ]
  },
  {
   "cell_type": "markdown",
   "metadata": {},
   "source": [
    "### A. Load Norms"
   ]
  },
  {
   "cell_type": "code",
   "execution_count": 2,
   "metadata": {
    "collapsed": true
   },
   "outputs": [],
   "source": [
    "import pandas as pd"
   ]
  },
  {
   "cell_type": "code",
   "execution_count": 3,
   "metadata": {
    "collapsed": true
   },
   "outputs": [],
   "source": [
    "data_path = \"/Users/jacobsw/Desktop/CODER/IMPLEMENTATION_CAMP/BASIC_TOPICS/DISTRIBUTIONAL_SEMANTICS/DATA/McRae-BRM-InPress/\""
   ]
  },
  {
   "cell_type": "code",
   "execution_count": 4,
   "metadata": {
    "collapsed": true
   },
   "outputs": [],
   "source": [
    "df = pd.read_csv(data_path+\"CONCS_FEATS_concstats_brm.xls\", delimiter='\\t')"
   ]
  },
  {
   "cell_type": "code",
   "execution_count": 5,
   "metadata": {
    "collapsed": false
   },
   "outputs": [
    {
     "name": "stdout",
     "output_type": "stream",
     "text": [
      "Index([u'Concept', u'Feature', u'WB_Label', u'WB_Maj', u'WB_Min', u'BR_Label',\n",
      "       u'Prod_Freq', u'Rank_PF', u'Sum_PF_No_Tax', u'CPF', u'Disting',\n",
      "       u'Distinct', u'CV_No_Tax', u'Intercorr_Str_Tax',\n",
      "       u'Intercorr_Str_No_Tax', u'Feat_Length_Including_Spaces', u'Phon_1st',\n",
      "       u'KF', u'ln(KF)', u'BNC', u'ln(BNC)', u'Familiarity', u'Length_Letters',\n",
      "       u'Length_Phonemes', u'Length_Syllables', u'Bigram', u'Trigram',\n",
      "       u'ColtheartN', u'Num_Feats_Tax', u'Num_Feats_No_Tax',\n",
      "       u'Num_Disting_Feats_No_Tax', u'Disting_Feats_%_No_Tax',\n",
      "       u'Mean_Distinct_No_Tax', u'Mean_CV_No_Tax', u'Density_No_Tax',\n",
      "       u'Num_Corred_Pairs_No_Tax', u'%_Corred_Pairs_No_Tax', u'Num_Func',\n",
      "       u'Num_Vis_Mot', u'Num_VisF&S', u'Num_Vis_Col', u'Num_Sound',\n",
      "       u'Num_Taste', u'Num_Smell', u'Num_Tact', u'Num_Ency', u'Num_Tax'],\n",
      "      dtype='object')\n"
     ]
    }
   ],
   "source": [
    "print df.columns"
   ]
  },
  {
   "cell_type": "code",
   "execution_count": 7,
   "metadata": {
    "collapsed": false,
    "scrolled": false
   },
   "outputs": [
    {
     "data": {
      "text/html": [
       "<div>\n",
       "<table border=\"1\" class=\"dataframe\">\n",
       "  <thead>\n",
       "    <tr style=\"text-align: right;\">\n",
       "      <th></th>\n",
       "      <th>Concept</th>\n",
       "      <th>Feature</th>\n",
       "      <th>WB_Label</th>\n",
       "      <th>WB_Maj</th>\n",
       "      <th>WB_Min</th>\n",
       "      <th>BR_Label</th>\n",
       "      <th>Prod_Freq</th>\n",
       "      <th>Rank_PF</th>\n",
       "      <th>Sum_PF_No_Tax</th>\n",
       "      <th>CPF</th>\n",
       "      <th>...</th>\n",
       "      <th>Num_Func</th>\n",
       "      <th>Num_Vis_Mot</th>\n",
       "      <th>Num_VisF&amp;S</th>\n",
       "      <th>Num_Vis_Col</th>\n",
       "      <th>Num_Sound</th>\n",
       "      <th>Num_Taste</th>\n",
       "      <th>Num_Smell</th>\n",
       "      <th>Num_Tact</th>\n",
       "      <th>Num_Ency</th>\n",
       "      <th>Num_Tax</th>\n",
       "    </tr>\n",
       "  </thead>\n",
       "  <tbody>\n",
       "    <tr>\n",
       "      <th>0</th>\n",
       "      <td>accordion</td>\n",
       "      <td>a_musical_instrument</td>\n",
       "      <td>superordinate</td>\n",
       "      <td>c</td>\n",
       "      <td>h</td>\n",
       "      <td>taxonomic</td>\n",
       "      <td>28</td>\n",
       "      <td>1</td>\n",
       "      <td>NaN</td>\n",
       "      <td>18</td>\n",
       "      <td>...</td>\n",
       "      <td>2</td>\n",
       "      <td>0</td>\n",
       "      <td>2</td>\n",
       "      <td>0</td>\n",
       "      <td>2</td>\n",
       "      <td>0</td>\n",
       "      <td>0</td>\n",
       "      <td>0</td>\n",
       "      <td>2</td>\n",
       "      <td>1</td>\n",
       "    </tr>\n",
       "    <tr>\n",
       "      <th>1</th>\n",
       "      <td>accordion</td>\n",
       "      <td>associated_with_polkas</td>\n",
       "      <td>associated_entity</td>\n",
       "      <td>s</td>\n",
       "      <td>e</td>\n",
       "      <td>encyclopaedic</td>\n",
       "      <td>9</td>\n",
       "      <td>4</td>\n",
       "      <td>9.0</td>\n",
       "      <td>1</td>\n",
       "      <td>...</td>\n",
       "      <td>2</td>\n",
       "      <td>0</td>\n",
       "      <td>2</td>\n",
       "      <td>0</td>\n",
       "      <td>2</td>\n",
       "      <td>0</td>\n",
       "      <td>0</td>\n",
       "      <td>0</td>\n",
       "      <td>2</td>\n",
       "      <td>1</td>\n",
       "    </tr>\n",
       "    <tr>\n",
       "      <th>2</th>\n",
       "      <td>accordion</td>\n",
       "      <td>has_buttons</td>\n",
       "      <td>external_component</td>\n",
       "      <td>e</td>\n",
       "      <td>ce</td>\n",
       "      <td>visual-form_and_surface</td>\n",
       "      <td>8</td>\n",
       "      <td>5</td>\n",
       "      <td>163.0</td>\n",
       "      <td>13</td>\n",
       "      <td>...</td>\n",
       "      <td>2</td>\n",
       "      <td>0</td>\n",
       "      <td>2</td>\n",
       "      <td>0</td>\n",
       "      <td>2</td>\n",
       "      <td>0</td>\n",
       "      <td>0</td>\n",
       "      <td>0</td>\n",
       "      <td>2</td>\n",
       "      <td>1</td>\n",
       "    </tr>\n",
       "    <tr>\n",
       "      <th>3</th>\n",
       "      <td>accordion</td>\n",
       "      <td>has_keys</td>\n",
       "      <td>external_component</td>\n",
       "      <td>e</td>\n",
       "      <td>ce</td>\n",
       "      <td>visual-form_and_surface</td>\n",
       "      <td>17</td>\n",
       "      <td>2</td>\n",
       "      <td>108.0</td>\n",
       "      <td>7</td>\n",
       "      <td>...</td>\n",
       "      <td>2</td>\n",
       "      <td>0</td>\n",
       "      <td>2</td>\n",
       "      <td>0</td>\n",
       "      <td>2</td>\n",
       "      <td>0</td>\n",
       "      <td>0</td>\n",
       "      <td>0</td>\n",
       "      <td>2</td>\n",
       "      <td>1</td>\n",
       "    </tr>\n",
       "    <tr>\n",
       "      <th>4</th>\n",
       "      <td>accordion</td>\n",
       "      <td>inbeh_-_produces_music</td>\n",
       "      <td>entity_behavior</td>\n",
       "      <td>e</td>\n",
       "      <td>b</td>\n",
       "      <td>sound</td>\n",
       "      <td>6</td>\n",
       "      <td>7</td>\n",
       "      <td>178.0</td>\n",
       "      <td>13</td>\n",
       "      <td>...</td>\n",
       "      <td>2</td>\n",
       "      <td>0</td>\n",
       "      <td>2</td>\n",
       "      <td>0</td>\n",
       "      <td>2</td>\n",
       "      <td>0</td>\n",
       "      <td>0</td>\n",
       "      <td>0</td>\n",
       "      <td>2</td>\n",
       "      <td>1</td>\n",
       "    </tr>\n",
       "    <tr>\n",
       "      <th>5</th>\n",
       "      <td>accordion</td>\n",
       "      <td>is_loud</td>\n",
       "      <td>external_surface_property</td>\n",
       "      <td>e</td>\n",
       "      <td>se</td>\n",
       "      <td>sound</td>\n",
       "      <td>6</td>\n",
       "      <td>7</td>\n",
       "      <td>317.0</td>\n",
       "      <td>34</td>\n",
       "      <td>...</td>\n",
       "      <td>2</td>\n",
       "      <td>0</td>\n",
       "      <td>2</td>\n",
       "      <td>0</td>\n",
       "      <td>2</td>\n",
       "      <td>0</td>\n",
       "      <td>0</td>\n",
       "      <td>0</td>\n",
       "      <td>2</td>\n",
       "      <td>1</td>\n",
       "    </tr>\n",
       "    <tr>\n",
       "      <th>6</th>\n",
       "      <td>accordion</td>\n",
       "      <td>requires_air</td>\n",
       "      <td>contingency</td>\n",
       "      <td>i</td>\n",
       "      <td>c</td>\n",
       "      <td>encyclopaedic</td>\n",
       "      <td>11</td>\n",
       "      <td>3</td>\n",
       "      <td>49.0</td>\n",
       "      <td>4</td>\n",
       "      <td>...</td>\n",
       "      <td>2</td>\n",
       "      <td>0</td>\n",
       "      <td>2</td>\n",
       "      <td>0</td>\n",
       "      <td>2</td>\n",
       "      <td>0</td>\n",
       "      <td>0</td>\n",
       "      <td>0</td>\n",
       "      <td>2</td>\n",
       "      <td>1</td>\n",
       "    </tr>\n",
       "    <tr>\n",
       "      <th>7</th>\n",
       "      <td>accordion</td>\n",
       "      <td>used_by_moving_bellows</td>\n",
       "      <td>action</td>\n",
       "      <td>s</td>\n",
       "      <td>a</td>\n",
       "      <td>function</td>\n",
       "      <td>8</td>\n",
       "      <td>5</td>\n",
       "      <td>8.0</td>\n",
       "      <td>1</td>\n",
       "      <td>...</td>\n",
       "      <td>2</td>\n",
       "      <td>0</td>\n",
       "      <td>2</td>\n",
       "      <td>0</td>\n",
       "      <td>2</td>\n",
       "      <td>0</td>\n",
       "      <td>0</td>\n",
       "      <td>0</td>\n",
       "      <td>2</td>\n",
       "      <td>1</td>\n",
       "    </tr>\n",
       "    <tr>\n",
       "      <th>8</th>\n",
       "      <td>accordion</td>\n",
       "      <td>worn_on_chest</td>\n",
       "      <td>function</td>\n",
       "      <td>s</td>\n",
       "      <td>f</td>\n",
       "      <td>function</td>\n",
       "      <td>6</td>\n",
       "      <td>7</td>\n",
       "      <td>6.0</td>\n",
       "      <td>1</td>\n",
       "      <td>...</td>\n",
       "      <td>2</td>\n",
       "      <td>0</td>\n",
       "      <td>2</td>\n",
       "      <td>0</td>\n",
       "      <td>2</td>\n",
       "      <td>0</td>\n",
       "      <td>0</td>\n",
       "      <td>0</td>\n",
       "      <td>2</td>\n",
       "      <td>1</td>\n",
       "    </tr>\n",
       "    <tr>\n",
       "      <th>9</th>\n",
       "      <td>airplane</td>\n",
       "      <td>beh_-_flies</td>\n",
       "      <td>entity_behavior</td>\n",
       "      <td>e</td>\n",
       "      <td>b</td>\n",
       "      <td>visual-motion</td>\n",
       "      <td>25</td>\n",
       "      <td>1</td>\n",
       "      <td>712.0</td>\n",
       "      <td>46</td>\n",
       "      <td>...</td>\n",
       "      <td>3</td>\n",
       "      <td>3</td>\n",
       "      <td>5</td>\n",
       "      <td>0</td>\n",
       "      <td>0</td>\n",
       "      <td>0</td>\n",
       "      <td>0</td>\n",
       "      <td>0</td>\n",
       "      <td>2</td>\n",
       "      <td>0</td>\n",
       "    </tr>\n",
       "    <tr>\n",
       "      <th>10</th>\n",
       "      <td>airplane</td>\n",
       "      <td>found_in_airports</td>\n",
       "      <td>location</td>\n",
       "      <td>s</td>\n",
       "      <td>l</td>\n",
       "      <td>encyclopaedic</td>\n",
       "      <td>8</td>\n",
       "      <td>7</td>\n",
       "      <td>8.0</td>\n",
       "      <td>1</td>\n",
       "      <td>...</td>\n",
       "      <td>3</td>\n",
       "      <td>3</td>\n",
       "      <td>5</td>\n",
       "      <td>0</td>\n",
       "      <td>0</td>\n",
       "      <td>0</td>\n",
       "      <td>0</td>\n",
       "      <td>0</td>\n",
       "      <td>2</td>\n",
       "      <td>0</td>\n",
       "    </tr>\n",
       "    <tr>\n",
       "      <th>11</th>\n",
       "      <td>airplane</td>\n",
       "      <td>has_a_propeller</td>\n",
       "      <td>external_component</td>\n",
       "      <td>e</td>\n",
       "      <td>ce</td>\n",
       "      <td>visual-form_and_surface</td>\n",
       "      <td>5</td>\n",
       "      <td>12</td>\n",
       "      <td>10.0</td>\n",
       "      <td>2</td>\n",
       "      <td>...</td>\n",
       "      <td>3</td>\n",
       "      <td>3</td>\n",
       "      <td>5</td>\n",
       "      <td>0</td>\n",
       "      <td>0</td>\n",
       "      <td>0</td>\n",
       "      <td>0</td>\n",
       "      <td>0</td>\n",
       "      <td>2</td>\n",
       "      <td>0</td>\n",
       "    </tr>\n",
       "    <tr>\n",
       "      <th>12</th>\n",
       "      <td>airplane</td>\n",
       "      <td>has_engines</td>\n",
       "      <td>internal_component</td>\n",
       "      <td>e</td>\n",
       "      <td>ci</td>\n",
       "      <td>visual-form_and_surface</td>\n",
       "      <td>5</td>\n",
       "      <td>12</td>\n",
       "      <td>14.0</td>\n",
       "      <td>2</td>\n",
       "      <td>...</td>\n",
       "      <td>3</td>\n",
       "      <td>3</td>\n",
       "      <td>5</td>\n",
       "      <td>0</td>\n",
       "      <td>0</td>\n",
       "      <td>0</td>\n",
       "      <td>0</td>\n",
       "      <td>0</td>\n",
       "      <td>2</td>\n",
       "      <td>0</td>\n",
       "    </tr>\n",
       "    <tr>\n",
       "      <th>13</th>\n",
       "      <td>airplane</td>\n",
       "      <td>has_wings</td>\n",
       "      <td>external_component</td>\n",
       "      <td>e</td>\n",
       "      <td>ce</td>\n",
       "      <td>visual-form_and_surface</td>\n",
       "      <td>20</td>\n",
       "      <td>2</td>\n",
       "      <td>529.0</td>\n",
       "      <td>44</td>\n",
       "      <td>...</td>\n",
       "      <td>3</td>\n",
       "      <td>3</td>\n",
       "      <td>5</td>\n",
       "      <td>0</td>\n",
       "      <td>0</td>\n",
       "      <td>0</td>\n",
       "      <td>0</td>\n",
       "      <td>0</td>\n",
       "      <td>2</td>\n",
       "      <td>0</td>\n",
       "    </tr>\n",
       "    <tr>\n",
       "      <th>14</th>\n",
       "      <td>airplane</td>\n",
       "      <td>inbeh_-_crashes</td>\n",
       "      <td>entity_behavior</td>\n",
       "      <td>e</td>\n",
       "      <td>b</td>\n",
       "      <td>visual-motion</td>\n",
       "      <td>7</td>\n",
       "      <td>10</td>\n",
       "      <td>7.0</td>\n",
       "      <td>1</td>\n",
       "      <td>...</td>\n",
       "      <td>3</td>\n",
       "      <td>3</td>\n",
       "      <td>5</td>\n",
       "      <td>0</td>\n",
       "      <td>0</td>\n",
       "      <td>0</td>\n",
       "      <td>0</td>\n",
       "      <td>0</td>\n",
       "      <td>2</td>\n",
       "      <td>0</td>\n",
       "    </tr>\n",
       "    <tr>\n",
       "      <th>15</th>\n",
       "      <td>airplane</td>\n",
       "      <td>is_fast</td>\n",
       "      <td>systemic_property</td>\n",
       "      <td>e</td>\n",
       "      <td>sys</td>\n",
       "      <td>visual-motion</td>\n",
       "      <td>11</td>\n",
       "      <td>4</td>\n",
       "      <td>346.0</td>\n",
       "      <td>33</td>\n",
       "      <td>...</td>\n",
       "      <td>3</td>\n",
       "      <td>3</td>\n",
       "      <td>5</td>\n",
       "      <td>0</td>\n",
       "      <td>0</td>\n",
       "      <td>0</td>\n",
       "      <td>0</td>\n",
       "      <td>0</td>\n",
       "      <td>2</td>\n",
       "      <td>0</td>\n",
       "    </tr>\n",
       "    <tr>\n",
       "      <th>16</th>\n",
       "      <td>airplane</td>\n",
       "      <td>is_large</td>\n",
       "      <td>external_surface_property</td>\n",
       "      <td>e</td>\n",
       "      <td>se</td>\n",
       "      <td>visual-form_and_surface</td>\n",
       "      <td>8</td>\n",
       "      <td>7</td>\n",
       "      <td>1076.0</td>\n",
       "      <td>106</td>\n",
       "      <td>...</td>\n",
       "      <td>3</td>\n",
       "      <td>3</td>\n",
       "      <td>5</td>\n",
       "      <td>0</td>\n",
       "      <td>0</td>\n",
       "      <td>0</td>\n",
       "      <td>0</td>\n",
       "      <td>0</td>\n",
       "      <td>2</td>\n",
       "      <td>0</td>\n",
       "    </tr>\n",
       "    <tr>\n",
       "      <th>17</th>\n",
       "      <td>airplane</td>\n",
       "      <td>made_of_metal</td>\n",
       "      <td>made_of</td>\n",
       "      <td>e</td>\n",
       "      <td>m</td>\n",
       "      <td>visual-form_and_surface</td>\n",
       "      <td>8</td>\n",
       "      <td>7</td>\n",
       "      <td>1472.0</td>\n",
       "      <td>133</td>\n",
       "      <td>...</td>\n",
       "      <td>3</td>\n",
       "      <td>3</td>\n",
       "      <td>5</td>\n",
       "      <td>0</td>\n",
       "      <td>0</td>\n",
       "      <td>0</td>\n",
       "      <td>0</td>\n",
       "      <td>0</td>\n",
       "      <td>2</td>\n",
       "      <td>0</td>\n",
       "    </tr>\n",
       "    <tr>\n",
       "      <th>18</th>\n",
       "      <td>airplane</td>\n",
       "      <td>requires_pilots</td>\n",
       "      <td>contingency</td>\n",
       "      <td>i</td>\n",
       "      <td>c</td>\n",
       "      <td>encyclopaedic</td>\n",
       "      <td>11</td>\n",
       "      <td>4</td>\n",
       "      <td>24.0</td>\n",
       "      <td>3</td>\n",
       "      <td>...</td>\n",
       "      <td>3</td>\n",
       "      <td>3</td>\n",
       "      <td>5</td>\n",
       "      <td>0</td>\n",
       "      <td>0</td>\n",
       "      <td>0</td>\n",
       "      <td>0</td>\n",
       "      <td>0</td>\n",
       "      <td>2</td>\n",
       "      <td>0</td>\n",
       "    </tr>\n",
       "    <tr>\n",
       "      <th>19</th>\n",
       "      <td>airplane</td>\n",
       "      <td>used_for_passengers</td>\n",
       "      <td>participant</td>\n",
       "      <td>s</td>\n",
       "      <td>p</td>\n",
       "      <td>function</td>\n",
       "      <td>15</td>\n",
       "      <td>3</td>\n",
       "      <td>115.0</td>\n",
       "      <td>9</td>\n",
       "      <td>...</td>\n",
       "      <td>3</td>\n",
       "      <td>3</td>\n",
       "      <td>5</td>\n",
       "      <td>0</td>\n",
       "      <td>0</td>\n",
       "      <td>0</td>\n",
       "      <td>0</td>\n",
       "      <td>0</td>\n",
       "      <td>2</td>\n",
       "      <td>0</td>\n",
       "    </tr>\n",
       "  </tbody>\n",
       "</table>\n",
       "<p>20 rows × 47 columns</p>\n",
       "</div>"
      ],
      "text/plain": [
       "      Concept                 Feature                   WB_Label WB_Maj  \\\n",
       "0   accordion    a_musical_instrument              superordinate      c   \n",
       "1   accordion  associated_with_polkas          associated_entity      s   \n",
       "2   accordion             has_buttons         external_component      e   \n",
       "3   accordion                has_keys         external_component      e   \n",
       "4   accordion  inbeh_-_produces_music            entity_behavior      e   \n",
       "5   accordion                 is_loud  external_surface_property      e   \n",
       "6   accordion            requires_air                contingency      i   \n",
       "7   accordion  used_by_moving_bellows                     action      s   \n",
       "8   accordion           worn_on_chest                   function      s   \n",
       "9    airplane             beh_-_flies            entity_behavior      e   \n",
       "10   airplane       found_in_airports                   location      s   \n",
       "11   airplane         has_a_propeller         external_component      e   \n",
       "12   airplane             has_engines         internal_component      e   \n",
       "13   airplane               has_wings         external_component      e   \n",
       "14   airplane         inbeh_-_crashes            entity_behavior      e   \n",
       "15   airplane                 is_fast          systemic_property      e   \n",
       "16   airplane                is_large  external_surface_property      e   \n",
       "17   airplane           made_of_metal                    made_of      e   \n",
       "18   airplane         requires_pilots                contingency      i   \n",
       "19   airplane     used_for_passengers                participant      s   \n",
       "\n",
       "   WB_Min                 BR_Label  Prod_Freq  Rank_PF  Sum_PF_No_Tax  CPF  \\\n",
       "0       h                taxonomic         28        1            NaN   18   \n",
       "1       e            encyclopaedic          9        4            9.0    1   \n",
       "2      ce  visual-form_and_surface          8        5          163.0   13   \n",
       "3      ce  visual-form_and_surface         17        2          108.0    7   \n",
       "4       b                    sound          6        7          178.0   13   \n",
       "5      se                    sound          6        7          317.0   34   \n",
       "6       c            encyclopaedic         11        3           49.0    4   \n",
       "7       a                 function          8        5            8.0    1   \n",
       "8       f                 function          6        7            6.0    1   \n",
       "9       b            visual-motion         25        1          712.0   46   \n",
       "10      l            encyclopaedic          8        7            8.0    1   \n",
       "11     ce  visual-form_and_surface          5       12           10.0    2   \n",
       "12     ci  visual-form_and_surface          5       12           14.0    2   \n",
       "13     ce  visual-form_and_surface         20        2          529.0   44   \n",
       "14      b            visual-motion          7       10            7.0    1   \n",
       "15    sys            visual-motion         11        4          346.0   33   \n",
       "16     se  visual-form_and_surface          8        7         1076.0  106   \n",
       "17      m  visual-form_and_surface          8        7         1472.0  133   \n",
       "18      c            encyclopaedic         11        4           24.0    3   \n",
       "19      p                 function         15        3          115.0    9   \n",
       "\n",
       "     ...    Num_Func  Num_Vis_Mot  Num_VisF&S  Num_Vis_Col  Num_Sound  \\\n",
       "0    ...           2            0           2            0          2   \n",
       "1    ...           2            0           2            0          2   \n",
       "2    ...           2            0           2            0          2   \n",
       "3    ...           2            0           2            0          2   \n",
       "4    ...           2            0           2            0          2   \n",
       "5    ...           2            0           2            0          2   \n",
       "6    ...           2            0           2            0          2   \n",
       "7    ...           2            0           2            0          2   \n",
       "8    ...           2            0           2            0          2   \n",
       "9    ...           3            3           5            0          0   \n",
       "10   ...           3            3           5            0          0   \n",
       "11   ...           3            3           5            0          0   \n",
       "12   ...           3            3           5            0          0   \n",
       "13   ...           3            3           5            0          0   \n",
       "14   ...           3            3           5            0          0   \n",
       "15   ...           3            3           5            0          0   \n",
       "16   ...           3            3           5            0          0   \n",
       "17   ...           3            3           5            0          0   \n",
       "18   ...           3            3           5            0          0   \n",
       "19   ...           3            3           5            0          0   \n",
       "\n",
       "    Num_Taste Num_Smell  Num_Tact  Num_Ency  Num_Tax  \n",
       "0           0         0         0         2        1  \n",
       "1           0         0         0         2        1  \n",
       "2           0         0         0         2        1  \n",
       "3           0         0         0         2        1  \n",
       "4           0         0         0         2        1  \n",
       "5           0         0         0         2        1  \n",
       "6           0         0         0         2        1  \n",
       "7           0         0         0         2        1  \n",
       "8           0         0         0         2        1  \n",
       "9           0         0         0         2        0  \n",
       "10          0         0         0         2        0  \n",
       "11          0         0         0         2        0  \n",
       "12          0         0         0         2        0  \n",
       "13          0         0         0         2        0  \n",
       "14          0         0         0         2        0  \n",
       "15          0         0         0         2        0  \n",
       "16          0         0         0         2        0  \n",
       "17          0         0         0         2        0  \n",
       "18          0         0         0         2        0  \n",
       "19          0         0         0         2        0  \n",
       "\n",
       "[20 rows x 47 columns]"
      ]
     },
     "execution_count": 7,
     "metadata": {},
     "output_type": "execute_result"
    }
   ],
   "source": [
    "df.head(20)"
   ]
  },
  {
   "cell_type": "markdown",
   "metadata": {},
   "source": [
    "### B. Build Token-Lemma Lookup"
   ]
  },
  {
   "cell_type": "code",
   "execution_count": 11,
   "metadata": {
    "collapsed": true
   },
   "outputs": [],
   "source": [
    "from nltk.corpus import brown\n",
    "from spacy.en import English"
   ]
  },
  {
   "cell_type": "code",
   "execution_count": 12,
   "metadata": {
    "collapsed": true
   },
   "outputs": [],
   "source": [
    "parser = English()"
   ]
  },
  {
   "cell_type": "code",
   "execution_count": 13,
   "metadata": {
    "collapsed": true
   },
   "outputs": [],
   "source": [
    "brown_sents = [unicode(' '.join(sent)) for sent in brown.sents()]"
   ]
  },
  {
   "cell_type": "code",
   "execution_count": 14,
   "metadata": {
    "collapsed": false
   },
   "outputs": [
    {
     "name": "stdout",
     "output_type": "stream",
     "text": [
      "CPU times: user 1min 36s, sys: 661 ms, total: 1min 37s\n",
      "Wall time: 1min 37s\n"
     ]
    }
   ],
   "source": [
    "%%time\n",
    "parsed_sents = [parser(sent) for sent in brown_sents]"
   ]
  },
  {
   "cell_type": "code",
   "execution_count": 15,
   "metadata": {
    "collapsed": true
   },
   "outputs": [],
   "source": [
    "def make_token2lemma_dict(parsed_sents):\n",
    "    \n",
    "    lemmas = set()\n",
    "    token2lemma = {}\n",
    "    for parsed_sent in parsed_sents:\n",
    "        for token in parsed_sent:\n",
    "            token2lemma[token.orth_] = token.lemma_\n",
    "            lemmas.add(token.lemma_)\n",
    "    \n",
    "    return lemmas, token2lemma"
   ]
  },
  {
   "cell_type": "code",
   "execution_count": 16,
   "metadata": {
    "collapsed": false
   },
   "outputs": [
    {
     "name": "stdout",
     "output_type": "stream",
     "text": [
      "CPU times: user 1.22 s, sys: 32.9 ms, total: 1.26 s\n",
      "Wall time: 1.25 s\n"
     ]
    }
   ],
   "source": [
    "%%time\n",
    "brown_lemmas, brown_t2l = make_token2lemma_dict(parsed_sents)"
   ]
  },
  {
   "cell_type": "code",
   "execution_count": 25,
   "metadata": {
    "collapsed": false
   },
   "outputs": [
    {
     "name": "stdout",
     "output_type": "stream",
     "text": [
      "book\n"
     ]
    }
   ],
   "source": [
    "print brown_t2l['books']"
   ]
  },
  {
   "cell_type": "markdown",
   "metadata": {},
   "source": [
    "### C. Build Norm-Feature Lookup"
   ]
  },
  {
   "cell_type": "code",
   "execution_count": 55,
   "metadata": {
    "collapsed": true
   },
   "outputs": [],
   "source": [
    "norms = {df.ix[i]['Concept'] for i in range(df.shape[0])}\n",
    "features = {df.ix[i]['Feature'] for i in range(df.shape[0])}"
   ]
  },
  {
   "cell_type": "code",
   "execution_count": 46,
   "metadata": {
    "collapsed": true
   },
   "outputs": [],
   "source": [
    "def norm_normalize(norm):\n",
    "    \n",
    "    norm = norm.split('_')[0] if '_' in norm else norm\n",
    "    if norm in brown_t2l: return brown_t2l[norm]\n",
    "    return norm\n"
   ]
  },
  {
   "cell_type": "code",
   "execution_count": 47,
   "metadata": {
    "collapsed": false,
    "scrolled": false
   },
   "outputs": [
    {
     "name": "stdout",
     "output_type": "stream",
     "text": [
      "cat\n",
      "cat\n"
     ]
    }
   ],
   "source": [
    "print norm_normalize('cat_(kitchen)')\n",
    "print norm_normalize('cat')"
   ]
  },
  {
   "cell_type": "code",
   "execution_count": 43,
   "metadata": {
    "collapsed": true
   },
   "outputs": [],
   "source": [
    "# Count Out-Of-Vocab Norms For Brown\n",
    "t = [] \n",
    "for norm in norms:\n",
    "    norm = norm.split('_')[0] if '_' in norm else norm\n",
    "    if norm in brown_lemmas or norm in brown_t2l: continue\n",
    "    t.append(norm)"
   ]
  },
  {
   "cell_type": "code",
   "execution_count": 45,
   "metadata": {
    "collapsed": false
   },
   "outputs": [
    {
     "name": "stdout",
     "output_type": "stream",
     "text": [
      "['earmuffs', 'bike', 'screwdriver', 'unicycle', 'camisole', 'crossbow', 'hamster', 'bra', 'sledgehammer', 'skateboard', 'leotards', 'rhubarb', 'platypus', 'pelican', 'minnow', 'canary', 'spatula', 'motorcycle', 'iguana', 'chickadee', 'giraffe', 'tricycle', 'bazooka', 'tomahawk', 'ostrich', 'cucumber', 'lettuce', 'whale', 'stork', 'bluejay', 'colander', 'chipmunk', 'escalator', 'partridge', 'parka', 'zucchini', 'dunebuggy', 'machete', 'crowbar', 'housefly', 'blender', 'nectarine', 'scooter', 'cougar', 'penguin', 'emu', 'honeydew', 'wheelbarrow', 'harmonica', 'eggplant', 'groundhog', 'harpoon', 'yam', 'squid', 'toaster', 'moose', 'tuna', 'surfboard', 'nylons', 'raven', 'budgie', 'fridge', 'gopher', 'flamingo', 'sleigh', 'trombone', 'strainer', 'dagger', 'chimp', 'buzzard', 'guppy', 'grater', 'nightgown', 'cello', 'hornet', 'finch', 'tangerine', 'gorilla', 'caribou']\n",
      "79\n"
     ]
    }
   ],
   "source": [
    "print t\n",
    "print len(t)"
   ]
  },
  {
   "cell_type": "code",
   "execution_count": 48,
   "metadata": {
    "collapsed": true
   },
   "outputs": [],
   "source": [
    "from collections import defaultdict"
   ]
  },
  {
   "cell_type": "code",
   "execution_count": 49,
   "metadata": {
    "collapsed": true
   },
   "outputs": [],
   "source": [
    "def make_norm2feature_dict(df):\n",
    "    \n",
    "    norm2feature = defaultdict(int)\n",
    "    for i in xrange(df.shape[0]):\n",
    "        norm = norm_normalize(df.ix[i]['Concept'])\n",
    "        prop = df.ix[i]['Feature']\n",
    "        norm2feature[(norm,prop)] = df.ix[i]['Prod_Freq'] # production frequency.\n",
    "    \n",
    "    return norm2feature"
   ]
  },
  {
   "cell_type": "code",
   "execution_count": 50,
   "metadata": {
    "collapsed": false
   },
   "outputs": [
    {
     "name": "stdout",
     "output_type": "stream",
     "text": [
      "accordion\n",
      "a_musical_instrument\n",
      "28\n"
     ]
    }
   ],
   "source": [
    "print df.ix[0]['Concept']\n",
    "print df.ix[0]['Feature']\n",
    "print df.ix[0]['Prod_Freq']"
   ]
  },
  {
   "cell_type": "code",
   "execution_count": 51,
   "metadata": {
    "collapsed": false
   },
   "outputs": [
    {
     "name": "stdout",
     "output_type": "stream",
     "text": [
      "CPU times: user 4.13 s, sys: 42.8 ms, total: 4.18 s\n",
      "Wall time: 4.18 s\n"
     ]
    }
   ],
   "source": [
    "%%time\n",
    "norm2feature = make_norm2feature_dict(df)"
   ]
  },
  {
   "cell_type": "code",
   "execution_count": 60,
   "metadata": {
    "collapsed": false,
    "scrolled": true
   },
   "outputs": [
    {
     "name": "stdout",
     "output_type": "stream",
     "text": [
      "used_for_transportation 10\n",
      "is_fast 11\n",
      "used_for_travel 7\n",
      "has_a_propeller 5\n",
      "has_wings 20\n",
      "beh_-_flies 25\n",
      "is_large 8\n",
      "requires_pilots 11\n",
      "has_engines 5\n",
      "used_for_passengers 15\n",
      "found_in_airports 8\n",
      "made_of_metal 8\n",
      "inbeh_-_crashes 7\n"
     ]
    }
   ],
   "source": [
    "for prop in features:\n",
    "    count = norm2feature[('airplane',prop)]\n",
    "    if count!=0: print prop, count"
   ]
  },
  {
   "cell_type": "markdown",
   "metadata": {},
   "source": [
    "## I. Compute Cooccurrence Matrices"
   ]
  },
  {
   "cell_type": "markdown",
   "metadata": {},
   "source": [
    "### A. Build Cooccurrence Matrix I: General Distributional Matrix $t$-$c$"
   ]
  },
  {
   "cell_type": "code",
   "execution_count": 73,
   "metadata": {
    "collapsed": true
   },
   "outputs": [],
   "source": [
    "from collections import Counter\n",
    "from string import punctuation as punc\n",
    "from spacy.en import STOPWORDS"
   ]
  },
  {
   "cell_type": "code",
   "execution_count": 63,
   "metadata": {
    "collapsed": false
   },
   "outputs": [],
   "source": [
    "brown_fdist = Counter(list(brown.words()))"
   ]
  },
  {
   "cell_type": "code",
   "execution_count": 70,
   "metadata": {
    "collapsed": true
   },
   "outputs": [],
   "source": [
    "norms = set(map(lambda norm:norm_normalize(norm), norms)) # faster lookup."
   ]
  },
  {
   "cell_type": "code",
   "execution_count": 77,
   "metadata": {
    "collapsed": true
   },
   "outputs": [],
   "source": [
    "stopwords = STOPWORDS\n",
    "stopwords.add('``'); stopwords.add(\"''\")"
   ]
  },
  {
   "cell_type": "code",
   "execution_count": 78,
   "metadata": {
    "collapsed": true
   },
   "outputs": [],
   "source": [
    "def tokensent2lemmasent(parsed_sents, fdist, norms, freq=20):\n",
    "    \n",
    "    sents_in_lemmas = []\n",
    "    for parsed_sent in parsed_sents:\n",
    "        sent = []\n",
    "        for token in parsed_sent:\n",
    "            if token.orth_ in norms or token.lemma_ in norms:\n",
    "                sent.append(token.lemma_)\n",
    "            elif fdist[token.orth_] < freq \\\n",
    "                or token.lemma_ in STOPWORDS \\\n",
    "                or token.lemma_ in punc: continue\n",
    "            else: \n",
    "                sent.append(token.lemma_)\n",
    "        sents_in_lemmas.append(sent)\n",
    "    \n",
    "    return sents_in_lemmas"
   ]
  },
  {
   "cell_type": "code",
   "execution_count": 79,
   "metadata": {
    "collapsed": false
   },
   "outputs": [
    {
     "name": "stdout",
     "output_type": "stream",
     "text": [
      "CPU times: user 1.84 s, sys: 36.8 ms, total: 1.88 s\n",
      "Wall time: 1.87 s\n"
     ]
    }
   ],
   "source": [
    "%%time\n",
    "brown_lemmasents = tokensent2lemmasent(parsed_sents, brown_fdist, norms)"
   ]
  },
  {
   "cell_type": "code",
   "execution_count": 83,
   "metadata": {
    "collapsed": true
   },
   "outputs": [],
   "source": [
    "vocab = {word for sent in brown_lemmasents for word in sent}"
   ]
  },
  {
   "cell_type": "code",
   "execution_count": 84,
   "metadata": {
    "collapsed": false,
    "scrolled": true
   },
   "outputs": [
    {
     "data": {
      "text/plain": [
       "3988"
      ]
     },
     "execution_count": 84,
     "metadata": {},
     "output_type": "execute_result"
    }
   ],
   "source": [
    "len(vocab)"
   ]
  },
  {
   "cell_type": "code",
   "execution_count": 87,
   "metadata": {
    "collapsed": true
   },
   "outputs": [],
   "source": [
    "import numpy as np"
   ]
  },
  {
   "cell_type": "code",
   "execution_count": 88,
   "metadata": {
    "collapsed": true
   },
   "outputs": [],
   "source": [
    "def build_cooccurrence_matrix(sents, vocab, win_size):\n",
    "    \n",
    "    w2i = {w:i for i,w in enumerate(vocab)}\n",
    "    i2w = {i:w for i,w in enumerate(vocab)}\n",
    "    print \"... building dictionary\"\n",
    "    cooccurrence_dict = defaultdict(int)\n",
    "    for sent in sents:\n",
    "        for i,target in enumerate(sent):\n",
    "            contexts = sent[max(0,i-win_size):i] + sent[min(i+1,len(sent)):min(i+1+win_size,len(sent))]\n",
    "            for context in contexts:\n",
    "                cooccurrence_dict[(target,context)] += 1\n",
    "    print \"... building cooccurrence matrix\"\n",
    "    cooccurrence_matrix = np.zeros((len(vocab),len(vocab)))\n",
    "    for target in vocab:\n",
    "        for context in vocab:\n",
    "            cooccurrence_matrix[w2i[target]][w2i[context]] += cooccurrence_dict[(target,context)]\n",
    "    \n",
    "    return w2i, i2w, cooccurrence_matrix"
   ]
  },
  {
   "cell_type": "code",
   "execution_count": 94,
   "metadata": {
    "collapsed": false
   },
   "outputs": [
    {
     "name": "stdout",
     "output_type": "stream",
     "text": [
      "... building dictionary\n",
      "... building cooccurrence matrix\n",
      "CPU times: user 26.2 s, sys: 1.47 s, total: 27.7 s\n",
      "Wall time: 27.8 s\n"
     ]
    }
   ],
   "source": [
    "%%time\n",
    "w2i, i2w, t2c_mat = build_cooccurrence_matrix(brown_lemmasents, vocab, 2)"
   ]
  },
  {
   "cell_type": "code",
   "execution_count": 95,
   "metadata": {
    "collapsed": false
   },
   "outputs": [
    {
     "data": {
      "text/plain": [
       "1190"
      ]
     },
     "execution_count": 95,
     "metadata": {},
     "output_type": "execute_result"
    }
   ],
   "source": [
    "w2i['cat']"
   ]
  },
  {
   "cell_type": "code",
   "execution_count": 97,
   "metadata": {
    "collapsed": false
   },
   "outputs": [
    {
     "data": {
      "text/plain": [
       "136.0"
      ]
     },
     "execution_count": 97,
     "metadata": {},
     "output_type": "execute_result"
    }
   ],
   "source": [
    "t2c_mat[1190].sum()"
   ]
  },
  {
   "cell_type": "markdown",
   "metadata": {},
   "source": [
    "### B. Build Cooccurrence Matrix II: Paradigmatic Matrix $t$-$subj$ & $t$-$obj$"
   ]
  },
  {
   "cell_type": "code",
   "execution_count": 99,
   "metadata": {
    "collapsed": true
   },
   "outputs": [],
   "source": [
    "def extract_dep_triples(parsed_sents):\n",
    "    \n",
    "    triples = []\n",
    "    for parsed_sent in parsed_sents:\n",
    "        for token in parsed_sent:\n",
    "            lemma_triple = (token.lemma_, token.dep_, token.head.lemma_)\n",
    "            triples.append(lemma_triple)\n",
    "    \n",
    "    return triples"
   ]
  },
  {
   "cell_type": "code",
   "execution_count": 100,
   "metadata": {
    "collapsed": false
   },
   "outputs": [
    {
     "name": "stdout",
     "output_type": "stream",
     "text": [
      "CPU times: user 932 ms, sys: 102 ms, total: 1.03 s\n",
      "Wall time: 1.03 s\n"
     ]
    }
   ],
   "source": [
    "%%time\n",
    "dep_triples = extract_dep_triples(parsed_sents)"
   ]
  },
  {
   "cell_type": "code",
   "execution_count": 125,
   "metadata": {
    "collapsed": false
   },
   "outputs": [],
   "source": [
    "# get subj/obj vocabs\n",
    "def get_arg_set(triples, argtype): # argtype = {subj, obj}\n",
    "    \n",
    "    arg_set = set()\n",
    "    for triple in triples:\n",
    "        if triple[1].endswith(argtype):\n",
    "            arg_set.add(triple[0])\n",
    "    \n",
    "    return arg_set\n"
   ]
  },
  {
   "cell_type": "code",
   "execution_count": 104,
   "metadata": {
    "collapsed": false
   },
   "outputs": [
    {
     "name": "stdout",
     "output_type": "stream",
     "text": [
      "CPU times: user 906 ms, sys: 9.79 ms, total: 915 ms\n",
      "Wall time: 913 ms\n"
     ]
    }
   ],
   "source": [
    "%%time\n",
    "subj_set, obj_set = get_arg_set(dep_triples, 'subj'), get_arg_set(dep_triples, 'obj')"
   ]
  },
  {
   "cell_type": "code",
   "execution_count": 110,
   "metadata": {
    "collapsed": false
   },
   "outputs": [
    {
     "name": "stdout",
     "output_type": "stream",
     "text": [
      "8729\n",
      "16274\n"
     ]
    }
   ],
   "source": [
    "print len(subj_set)\n",
    "print len(obj_set)"
   ]
  },
  {
   "cell_type": "code",
   "execution_count": 126,
   "metadata": {
    "collapsed": true
   },
   "outputs": [],
   "source": [
    "# get N:[v1...vn] dict\n",
    "def get_pred_list(triples, argtype): # argtype = {subj, obj}\n",
    "    \n",
    "    pred_list = defaultdict(list)\n",
    "    for triple in triples:\n",
    "        if triple[1].endswith(argtype):\n",
    "            pred_list[triple[0]].append(triple[2])\n",
    "    \n",
    "    return pred_list\n"
   ]
  },
  {
   "cell_type": "code",
   "execution_count": 127,
   "metadata": {
    "collapsed": false
   },
   "outputs": [
    {
     "name": "stdout",
     "output_type": "stream",
     "text": [
      "CPU times: user 970 ms, sys: 365 ms, total: 1.34 s\n",
      "Wall time: 1.3 s\n"
     ]
    }
   ],
   "source": [
    "%%time\n",
    "subj2pred, obj2pred = get_pred_list(dep_triples, 'subj'), get_pred_list(dep_triples, 'obj')"
   ]
  },
  {
   "cell_type": "code",
   "execution_count": 135,
   "metadata": {
    "collapsed": false
   },
   "outputs": [
    {
     "name": "stdout",
     "output_type": "stream",
     "text": [
      "[u'be', u'come', u'out', u'be', u'complement', u'be', u'go', u'meet', u'manage']\n",
      "[u'for', u'like', u'feed', u'have', u'put', u'as', u'like', u'like', u'like', u'to', u'at', u'like', u'like', u'like', u'watch', u'dye', u'of', u'send']\n"
     ]
    }
   ],
   "source": [
    "print subj2pred['cat']\n",
    "print obj2pred['cat']"
   ]
  },
  {
   "cell_type": "code",
   "execution_count": 155,
   "metadata": {
    "collapsed": true
   },
   "outputs": [],
   "source": [
    "def build_para_matrix(pred_list, vocab): # pred_list: dict; vocab: list\n",
    "    \n",
    "    w2i = {w:i for i,w in enumerate(vocab)}\n",
    "    i2w = {i:w for i,w in enumerate(vocab)}\n",
    "    para_matrix = np.zeros((len(vocab),len(vocab)))\n",
    "    for i,wi in enumerate(vocab):\n",
    "        if i!=0 and i%1000==0: print \"... processed %d words.\" % i\n",
    "        for wj in vocab:\n",
    "            if wi==wj: continue\n",
    "            for pred in pred_list[wi]: # if wi has v*3, wj has v*2, then wiwj cell = 3*2 = 6 <= \"paradigmatic weight\"\n",
    "                para_matrix[w2i[wi]][w2i[wj]] += pred_list[wj].count(pred)\n",
    "    \n",
    "    return w2i, i2w, para_matrix\n",
    "    "
   ]
  },
  {
   "cell_type": "code",
   "execution_count": 156,
   "metadata": {
    "collapsed": false
   },
   "outputs": [
    {
     "name": "stdout",
     "output_type": "stream",
     "text": [
      "... processed 1000 words.\n",
      "... processed 2000 words.\n",
      "... processed 3000 words.\n",
      "... processed 4000 words.\n",
      "... processed 5000 words.\n",
      "... processed 6000 words.\n",
      "... processed 7000 words.\n",
      "... processed 8000 words.\n",
      "CPU times: user 15min 41s, sys: 3.99 s, total: 15min 45s\n",
      "Wall time: 15min 46s\n"
     ]
    }
   ],
   "source": [
    "%%time\n",
    "w2i_subj, i2w_subj, subj_para_mat = build_para_matrix(subj2pred, list(subj_set)) # expected: 8~9 mins"
   ]
  },
  {
   "cell_type": "code",
   "execution_count": 158,
   "metadata": {
    "collapsed": false
   },
   "outputs": [],
   "source": [
    "%%time\n",
    "obj_para_mat = build_para_matrix(obj2pred, list(obj_set)) # expected: 16~17 mins"
   ]
  },
  {
   "cell_type": "code",
   "execution_count": 160,
   "metadata": {
    "collapsed": false
   },
   "outputs": [],
   "source": [
    "import cPickle"
   ]
  },
  {
   "cell_type": "code",
   "execution_count": 162,
   "metadata": {
    "collapsed": false
   },
   "outputs": [],
   "source": [
    "path = \"/Users/jacobsw/Desktop/UNIV/FALL_2016/LIN389C_RSCH_COMPLING/BAYESIAN/CODE_DRAFTS/DATA/\"\n",
    "cPickle.dump((w2i_subj,i2w_subj,subj_para_mat), open(path+\"subj_para_mat.p\",'wb'))\n",
    "# cPickle.dump((w2i_obj,i2w_obj,obj_para_mat), open(path+\"obj_para_mat.p\",'wb'))\n",
    "# w2i_subj,i2w_subj,subj_para_mat = cPickle.load(open(path+\"subj_para_mat.p\",'rb'))\n",
    "# w2i_subj,i2w_obj,subj_para_mat = cPickle.load(open(path+\"obj_para_mat.p\",'rb'))"
   ]
  },
  {
   "cell_type": "markdown",
   "metadata": {},
   "source": [
    "## III. Topic Modeling"
   ]
  },
  {
   "cell_type": "markdown",
   "metadata": {},
   "source": [
    "## IV. Compute Similarity"
   ]
  },
  {
   "cell_type": "code",
   "execution_count": null,
   "metadata": {
    "collapsed": true
   },
   "outputs": [],
   "source": []
  },
  {
   "cell_type": "code",
   "execution_count": null,
   "metadata": {
    "collapsed": true
   },
   "outputs": [],
   "source": []
  },
  {
   "cell_type": "code",
   "execution_count": null,
   "metadata": {
    "collapsed": true
   },
   "outputs": [],
   "source": []
  },
  {
   "cell_type": "code",
   "execution_count": null,
   "metadata": {
    "collapsed": true
   },
   "outputs": [],
   "source": []
  }
 ],
 "metadata": {
  "kernelspec": {
   "display_name": "Python 2",
   "language": "python",
   "name": "python2"
  },
  "language_info": {
   "codemirror_mode": {
    "name": "ipython",
    "version": 2
   },
   "file_extension": ".py",
   "mimetype": "text/x-python",
   "name": "python",
   "nbconvert_exporter": "python",
   "pygments_lexer": "ipython2",
   "version": "2.7.11"
  }
 },
 "nbformat": 4,
 "nbformat_minor": 0
}
