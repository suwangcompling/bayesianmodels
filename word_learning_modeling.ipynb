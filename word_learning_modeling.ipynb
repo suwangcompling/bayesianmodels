{
 "cells": [
  {
   "cell_type": "markdown",
   "metadata": {},
   "source": [
    "## Content\n",
    "\n",
    "* **Norms**: McRae et al. (2005)\n",
    "* **Model 1**: Dinu & Lapata (2010)\n",
    "    * Topic Modeling for Properties: $p(prop\\mid topic) = \\sum_{word\\in topic}p(word\\mid topic)f(word,prop)$, where $f(word,prop) = \\begin{cases}1 & \\text{if word has prop}\\\\ 0 & otherwise\\end{cases}$.\n",
    "    * Word Property: $p(prop\\mid word) = \\sum_{topic}p(prop\\mid topic)p(topic\\mid word)p(word) = \\sum_{topic}p(prop\\mid topic)p(word\\mid topic)p(topic)$.\n",
    "    * New Word Property I: Paradigmatic Cohort Technique: \n",
    "        * Find $new\\_word$'s predicate,\n",
    "        * Find the set of $new\\_word$'s paradigmatic cohort wrt. the predict,\n",
    "        * The updated property is the intersection of all the properties of the words in the cohort.\n",
    "    * New Word Property II: Syntagmatic Cohort Technique (TODO):\n",
    "    * Evaluation"
   ]
  },
  {
   "cell_type": "markdown",
   "metadata": {},
   "source": [
    "## 0. Norms"
   ]
  },
  {
   "cell_type": "code",
   "execution_count": 2,
   "metadata": {
    "collapsed": true
   },
   "outputs": [],
   "source": [
    "import numpy as np\n",
    "import pandas as pd"
   ]
  },
  {
   "cell_type": "code",
   "execution_count": 3,
   "metadata": {
    "collapsed": true
   },
   "outputs": [],
   "source": [
    "data_path = \"/Users/jacobsw/Desktop/CODER/IMPLEMENTATION_CAMP/BASIC_TOPICS/DISTRIBUTIONAL_SEMANTICS/DATA/McRae-BRM-InPress/\""
   ]
  },
  {
   "cell_type": "code",
   "execution_count": 4,
   "metadata": {
    "collapsed": true
   },
   "outputs": [],
   "source": [
    "df = pd.read_csv(data_path+\"CONCS_FEATS_concstats_brm.xls\", delimiter='\\t')"
   ]
  },
  {
   "cell_type": "code",
   "execution_count": 5,
   "metadata": {
    "collapsed": false
   },
   "outputs": [
    {
     "data": {
      "text/plain": [
       "Index([u'Concept', u'Feature', u'WB_Label', u'WB_Maj', u'WB_Min', u'BR_Label',\n",
       "       u'Prod_Freq', u'Rank_PF', u'Sum_PF_No_Tax', u'CPF', u'Disting',\n",
       "       u'Distinct', u'CV_No_Tax', u'Intercorr_Str_Tax',\n",
       "       u'Intercorr_Str_No_Tax', u'Feat_Length_Including_Spaces', u'Phon_1st',\n",
       "       u'KF', u'ln(KF)', u'BNC', u'ln(BNC)', u'Familiarity', u'Length_Letters',\n",
       "       u'Length_Phonemes', u'Length_Syllables', u'Bigram', u'Trigram',\n",
       "       u'ColtheartN', u'Num_Feats_Tax', u'Num_Feats_No_Tax',\n",
       "       u'Num_Disting_Feats_No_Tax', u'Disting_Feats_%_No_Tax',\n",
       "       u'Mean_Distinct_No_Tax', u'Mean_CV_No_Tax', u'Density_No_Tax',\n",
       "       u'Num_Corred_Pairs_No_Tax', u'%_Corred_Pairs_No_Tax', u'Num_Func',\n",
       "       u'Num_Vis_Mot', u'Num_VisF&S', u'Num_Vis_Col', u'Num_Sound',\n",
       "       u'Num_Taste', u'Num_Smell', u'Num_Tact', u'Num_Ency', u'Num_Tax'],\n",
       "      dtype='object')"
      ]
     },
     "execution_count": 5,
     "metadata": {},
     "output_type": "execute_result"
    }
   ],
   "source": [
    "df.columns"
   ]
  },
  {
   "cell_type": "code",
   "execution_count": 6,
   "metadata": {
    "collapsed": false
   },
   "outputs": [
    {
     "data": {
      "text/html": [
       "<div>\n",
       "<table border=\"1\" class=\"dataframe\">\n",
       "  <thead>\n",
       "    <tr style=\"text-align: right;\">\n",
       "      <th></th>\n",
       "      <th>Concept</th>\n",
       "      <th>Feature</th>\n",
       "      <th>WB_Label</th>\n",
       "      <th>WB_Maj</th>\n",
       "      <th>WB_Min</th>\n",
       "      <th>BR_Label</th>\n",
       "      <th>Prod_Freq</th>\n",
       "      <th>Rank_PF</th>\n",
       "      <th>Sum_PF_No_Tax</th>\n",
       "      <th>CPF</th>\n",
       "      <th>...</th>\n",
       "      <th>Num_Func</th>\n",
       "      <th>Num_Vis_Mot</th>\n",
       "      <th>Num_VisF&amp;S</th>\n",
       "      <th>Num_Vis_Col</th>\n",
       "      <th>Num_Sound</th>\n",
       "      <th>Num_Taste</th>\n",
       "      <th>Num_Smell</th>\n",
       "      <th>Num_Tact</th>\n",
       "      <th>Num_Ency</th>\n",
       "      <th>Num_Tax</th>\n",
       "    </tr>\n",
       "  </thead>\n",
       "  <tbody>\n",
       "    <tr>\n",
       "      <th>0</th>\n",
       "      <td>accordion</td>\n",
       "      <td>a_musical_instrument</td>\n",
       "      <td>superordinate</td>\n",
       "      <td>c</td>\n",
       "      <td>h</td>\n",
       "      <td>taxonomic</td>\n",
       "      <td>28</td>\n",
       "      <td>1</td>\n",
       "      <td>NaN</td>\n",
       "      <td>18</td>\n",
       "      <td>...</td>\n",
       "      <td>2</td>\n",
       "      <td>0</td>\n",
       "      <td>2</td>\n",
       "      <td>0</td>\n",
       "      <td>2</td>\n",
       "      <td>0</td>\n",
       "      <td>0</td>\n",
       "      <td>0</td>\n",
       "      <td>2</td>\n",
       "      <td>1</td>\n",
       "    </tr>\n",
       "    <tr>\n",
       "      <th>1</th>\n",
       "      <td>accordion</td>\n",
       "      <td>associated_with_polkas</td>\n",
       "      <td>associated_entity</td>\n",
       "      <td>s</td>\n",
       "      <td>e</td>\n",
       "      <td>encyclopaedic</td>\n",
       "      <td>9</td>\n",
       "      <td>4</td>\n",
       "      <td>9.0</td>\n",
       "      <td>1</td>\n",
       "      <td>...</td>\n",
       "      <td>2</td>\n",
       "      <td>0</td>\n",
       "      <td>2</td>\n",
       "      <td>0</td>\n",
       "      <td>2</td>\n",
       "      <td>0</td>\n",
       "      <td>0</td>\n",
       "      <td>0</td>\n",
       "      <td>2</td>\n",
       "      <td>1</td>\n",
       "    </tr>\n",
       "    <tr>\n",
       "      <th>2</th>\n",
       "      <td>accordion</td>\n",
       "      <td>has_buttons</td>\n",
       "      <td>external_component</td>\n",
       "      <td>e</td>\n",
       "      <td>ce</td>\n",
       "      <td>visual-form_and_surface</td>\n",
       "      <td>8</td>\n",
       "      <td>5</td>\n",
       "      <td>163.0</td>\n",
       "      <td>13</td>\n",
       "      <td>...</td>\n",
       "      <td>2</td>\n",
       "      <td>0</td>\n",
       "      <td>2</td>\n",
       "      <td>0</td>\n",
       "      <td>2</td>\n",
       "      <td>0</td>\n",
       "      <td>0</td>\n",
       "      <td>0</td>\n",
       "      <td>2</td>\n",
       "      <td>1</td>\n",
       "    </tr>\n",
       "    <tr>\n",
       "      <th>3</th>\n",
       "      <td>accordion</td>\n",
       "      <td>has_keys</td>\n",
       "      <td>external_component</td>\n",
       "      <td>e</td>\n",
       "      <td>ce</td>\n",
       "      <td>visual-form_and_surface</td>\n",
       "      <td>17</td>\n",
       "      <td>2</td>\n",
       "      <td>108.0</td>\n",
       "      <td>7</td>\n",
       "      <td>...</td>\n",
       "      <td>2</td>\n",
       "      <td>0</td>\n",
       "      <td>2</td>\n",
       "      <td>0</td>\n",
       "      <td>2</td>\n",
       "      <td>0</td>\n",
       "      <td>0</td>\n",
       "      <td>0</td>\n",
       "      <td>2</td>\n",
       "      <td>1</td>\n",
       "    </tr>\n",
       "    <tr>\n",
       "      <th>4</th>\n",
       "      <td>accordion</td>\n",
       "      <td>inbeh_-_produces_music</td>\n",
       "      <td>entity_behavior</td>\n",
       "      <td>e</td>\n",
       "      <td>b</td>\n",
       "      <td>sound</td>\n",
       "      <td>6</td>\n",
       "      <td>7</td>\n",
       "      <td>178.0</td>\n",
       "      <td>13</td>\n",
       "      <td>...</td>\n",
       "      <td>2</td>\n",
       "      <td>0</td>\n",
       "      <td>2</td>\n",
       "      <td>0</td>\n",
       "      <td>2</td>\n",
       "      <td>0</td>\n",
       "      <td>0</td>\n",
       "      <td>0</td>\n",
       "      <td>2</td>\n",
       "      <td>1</td>\n",
       "    </tr>\n",
       "  </tbody>\n",
       "</table>\n",
       "<p>5 rows × 47 columns</p>\n",
       "</div>"
      ],
      "text/plain": [
       "     Concept                 Feature            WB_Label WB_Maj WB_Min  \\\n",
       "0  accordion    a_musical_instrument       superordinate      c      h   \n",
       "1  accordion  associated_with_polkas   associated_entity      s      e   \n",
       "2  accordion             has_buttons  external_component      e     ce   \n",
       "3  accordion                has_keys  external_component      e     ce   \n",
       "4  accordion  inbeh_-_produces_music     entity_behavior      e      b   \n",
       "\n",
       "                  BR_Label  Prod_Freq  Rank_PF  Sum_PF_No_Tax  CPF   ...     \\\n",
       "0                taxonomic         28        1            NaN   18   ...      \n",
       "1            encyclopaedic          9        4            9.0    1   ...      \n",
       "2  visual-form_and_surface          8        5          163.0   13   ...      \n",
       "3  visual-form_and_surface         17        2          108.0    7   ...      \n",
       "4                    sound          6        7          178.0   13   ...      \n",
       "\n",
       "  Num_Func  Num_Vis_Mot  Num_VisF&S  Num_Vis_Col  Num_Sound  Num_Taste  \\\n",
       "0        2            0           2            0          2          0   \n",
       "1        2            0           2            0          2          0   \n",
       "2        2            0           2            0          2          0   \n",
       "3        2            0           2            0          2          0   \n",
       "4        2            0           2            0          2          0   \n",
       "\n",
       "  Num_Smell  Num_Tact  Num_Ency  Num_Tax  \n",
       "0         0         0         2        1  \n",
       "1         0         0         2        1  \n",
       "2         0         0         2        1  \n",
       "3         0         0         2        1  \n",
       "4         0         0         2        1  \n",
       "\n",
       "[5 rows x 47 columns]"
      ]
     },
     "execution_count": 6,
     "metadata": {},
     "output_type": "execute_result"
    }
   ],
   "source": [
    "df.head()"
   ]
  },
  {
   "cell_type": "code",
   "execution_count": 7,
   "metadata": {
    "collapsed": false
   },
   "outputs": [],
   "source": [
    "norms = list(set(df['Concept']))"
   ]
  },
  {
   "cell_type": "markdown",
   "metadata": {},
   "source": [
    "##### Are all norms in Brown?"
   ]
  },
  {
   "cell_type": "code",
   "execution_count": 22,
   "metadata": {
    "collapsed": true
   },
   "outputs": [],
   "source": [
    "from nltk.corpus import brown\n",
    "from string import punctuation as punc\n",
    "from spacy.en import English, STOPWORDS"
   ]
  },
  {
   "cell_type": "code",
   "execution_count": 15,
   "metadata": {
    "collapsed": true
   },
   "outputs": [],
   "source": [
    "from collections import defaultdict, Counter"
   ]
  },
  {
   "cell_type": "code",
   "execution_count": 12,
   "metadata": {
    "collapsed": false
   },
   "outputs": [],
   "source": [
    "brown_words = list(brown.words())"
   ]
  },
  {
   "cell_type": "code",
   "execution_count": 16,
   "metadata": {
    "collapsed": false
   },
   "outputs": [],
   "source": [
    "brown_fdist = Counter(brown_words)"
   ]
  },
  {
   "cell_type": "code",
   "execution_count": 19,
   "metadata": {
    "collapsed": false
   },
   "outputs": [],
   "source": [
    "brown_sents = [unicode(' '.join(sent)) for sent in brown.sents()]\n",
    "parser = English()"
   ]
  },
  {
   "cell_type": "code",
   "execution_count": 35,
   "metadata": {
    "collapsed": false
   },
   "outputs": [],
   "source": [
    "def get_vocab_info(sents, parser):\n",
    "    \n",
    "    parsed_sents = [parser(sent) for sent in sents]\n",
    "    token_set = {token.orth_ for parsed_sent in parsed_sents for token in parsed_sent}\n",
    "    lemma_set = {token.lemma_ for parsed_sent in parsed_sents for token in parsed_sent}\n",
    "    lemma2pos = defaultdict(list)\n",
    "    token2pos = defaultdict(list)\n",
    "    token2lemma = {}\n",
    "    for parsed_sent in parsed_sents:\n",
    "        for token in parsed_sent:\n",
    "            lemma2pos[token.lemma_].append(token.pos_)\n",
    "            token2pos[token.orth_].append(token.pos_)\n",
    "            token2lemma[token.orth_] = token.lemma_\n",
    "    \n",
    "    return token_set, token2pos, lemma_set, lemma2pos, token2lemma"
   ]
  },
  {
   "cell_type": "code",
   "execution_count": 36,
   "metadata": {
    "collapsed": false,
    "scrolled": true
   },
   "outputs": [
    {
     "name": "stdout",
     "output_type": "stream",
     "text": [
      "CPU times: user 1min 30s, sys: 492 ms, total: 1min 30s\n",
      "Wall time: 1min 30s\n"
     ]
    }
   ],
   "source": [
    "%%time\n",
    "brown_tokens, brown_t2p, brown_lemmas, brown_l2p, brown_t2l = get_vocab_info(brown_sents, parser)"
   ]
  },
  {
   "cell_type": "code",
   "execution_count": 38,
   "metadata": {
    "collapsed": false,
    "scrolled": true
   },
   "outputs": [
    {
     "name": "stdout",
     "output_type": "stream",
     "text": [
      "set(['mole_(animal)', 'minnow', 'canary', 'housefly', 'spatula', 'motorcycle', 'iguana', 'earmuffs', 'nectarine', 'harmonica', 'scooter', 'fan_(appliance)', 'hose_(leggings)', 'chickadee', 'cougar', 'bike', 'board_(wood)', 'raven', 'pipe_(smoking)', 'bin_(waste)', 'budgie', 'screwdriver', 'giraffe', 'plug_(electric)', 'bat_(baseball)', 'partridge', 'nylons', 'flamingo', 'crane_(machine)', 'tricycle', 'emu', 'tank_(container)', 'sleigh', 'tape_(scotch)', 'board_(black)', 'nightgown', 'trombone', 'honeydew', 'bazooka', 'keyboard_(musical)', 'unicycle', 'blender', 'cap_(bottle)', 'camisole', 'bow_(weapon)', 'wheelbarrow', 'bat_(animal)', 'strainer', 'crossbow', 'penguin', 'card_(greeting)', 'bow_(ribbon)', 'tomahawk', 'skateboard', 'ostrich', 'mink_(coat)', 'hamster', 'eggplant', 'groundhog', 'pelican', 'dagger', 'chimp', 'gopher', 'lettuce', 'harpoon', 'guppy', 'tuna', 'bra', 'sledgehammer', 'stork', 'grater', 'buzzard', 'stool_(furniture)', 'yam', 'tangerine', 'tank_(army)', 'bluejay', 'mouse_(computer)', 'ring_(jewelry)', 'colander', 'cello', 'hornet', 'whale', 'chipmunk', 'squid', 'leotards', 'pipe_(plumbing)', 'escalator', 'rhubarb', 'toaster', 'finch', 'parka', 'zucchini', 'cap_(hat)', 'moose', 'fridge', 'dunebuggy', 'cucumber', 'machete', 'surfboard', 'platypus', 'gorilla', 'caribou', 'crowbar'])\n"
     ]
    }
   ],
   "source": [
    "print set(norms) - brown_tokens.union(brown_lemmas)"
   ]
  },
  {
   "cell_type": "markdown",
   "metadata": {},
   "source": [
    "##### Norm Standardization"
   ]
  },
  {
   "cell_type": "code",
   "execution_count": 215,
   "metadata": {
    "collapsed": true
   },
   "outputs": [],
   "source": [
    "def norm_cleanup(norms, corpus_tokens=brown_tokens, corpus_lemmas=brown_lemmas, corpus_t2l=brown_t2l):\n",
    "    \n",
    "    for i,norm in enumerate(norms):\n",
    "        if '_' in norm: \n",
    "            norm = norm.split('_')[0]\n",
    "            norms[i] = norm\n",
    "        if norm in corpus_lemmas: pass\n",
    "        elif norm in corpus_tokens:\n",
    "            norms[i] = corpus_t2l[norm]\n",
    "        else: pass\n",
    "        \n",
    "    return norms\n",
    "    "
   ]
  },
  {
   "cell_type": "code",
   "execution_count": 217,
   "metadata": {
    "collapsed": true
   },
   "outputs": [],
   "source": [
    "features = list(set(df['Feature'])) # i.e. properties"
   ]
  },
  {
   "cell_type": "code",
   "execution_count": 220,
   "metadata": {
    "collapsed": true
   },
   "outputs": [],
   "source": [
    "def make_norm2feature_dict(df):\n",
    "    \n",
    "    norm2feature = defaultdict(int)\n",
    "    for i in xrange(len(df)):\n",
    "        norm = norm_cleanup([df.ix[i]['Concept']])[0]\n",
    "        feature = df.ix[i]['Feature']\n",
    "        norm2feature[(norm,feature)] += 1\n",
    "    \n",
    "    return norm2feature\n"
   ]
  },
  {
   "cell_type": "code",
   "execution_count": 221,
   "metadata": {
    "collapsed": false
   },
   "outputs": [],
   "source": [
    "norm2feature = make_norm2feature_dict(df)"
   ]
  },
  {
   "cell_type": "markdown",
   "metadata": {},
   "source": [
    "## I. Model 1"
   ]
  },
  {
   "cell_type": "markdown",
   "metadata": {},
   "source": [
    "### A. Topic Modeling for Properties\n",
    "\n",
    "* $p(prop\\mid topic) = \\sum_{word\\in topic}p(word\\mid topic)f(word,prop)$, where $f(word,prop) = \\begin{cases}1 & \\text{if word has prop}\\\\ 0 & otherwise\\end{cases}$."
   ]
  },
  {
   "cell_type": "markdown",
   "metadata": {},
   "source": [
    "** a. Facilities (Gensim) **"
   ]
  },
  {
   "cell_type": "code",
   "execution_count": 44,
   "metadata": {
    "collapsed": true
   },
   "outputs": [],
   "source": [
    "from gensim import corpora\n",
    "from gensim.models.ldamodel import LdaModel"
   ]
  },
  {
   "cell_type": "code",
   "execution_count": 145,
   "metadata": {
    "collapsed": true
   },
   "outputs": [],
   "source": [
    "class TopicModel:\n",
    "    \n",
    "    def __init__(self, documents, num_topics=3, num_iters=10):\n",
    "        dic = corpora.Dictionary(documents)\n",
    "        documents = [dic.doc2bow(document) for document in documents]\n",
    "        self.documents = documents\n",
    "        self.lda = LdaModel(documents, num_topics=num_topics, id2word=dic, passes=num_iters)\n",
    "    \n",
    "    def summarize(self, num_topics=3, num_words=5):\n",
    "        freq_stats = self.lda.print_topics(num_topics=num_topics, num_words=num_words)\n",
    "        print \"Statistics\"\n",
    "        print \n",
    "        for i,document in enumerate(self.documents):\n",
    "            print \"Most %d-Frequent Words in Topic %d:\" % (num_words,freq_stats[i][0])\n",
    "            print freq_stats[i][1]\n",
    "            print \"Topic-Distribution:\"\n",
    "            print self.lda.get_document_topics(document)\n",
    "            print"
   ]
  },
  {
   "cell_type": "markdown",
   "metadata": {},
   "source": [
    "** b. Make DL10 Fake Documents **"
   ]
  },
  {
   "cell_type": "code",
   "execution_count": 81,
   "metadata": {
    "collapsed": true
   },
   "outputs": [],
   "source": [
    "brown_sents = list(brown.sents())"
   ]
  },
  {
   "cell_type": "code",
   "execution_count": 106,
   "metadata": {
    "collapsed": true
   },
   "outputs": [],
   "source": [
    "def tokensent2lemmasent(sents, fdist, norms, freq=20):\n",
    "    \n",
    "    parsed_sents = [parser(unicode(' '.join(sent))) for sent in sents]\n",
    "    sents_in_lemmas = []\n",
    "    for parsed_sent in parsed_sents:\n",
    "        sent = []\n",
    "        for token in parsed_sent:\n",
    "            if token.orth_ in norms or token.lemma_ in norms:\n",
    "                sent.append(token.lemma_)\n",
    "            elif fdist[token.orth_] < freq \\\n",
    "                or token.lemma_ in STOPWORDS \\\n",
    "                or token.lemma_ in punc: continue\n",
    "            else: \n",
    "                sent.append(token.lemma_)\n",
    "        sents_in_lemmas.append(sent)\n",
    "    \n",
    "    return sents_in_lemmas"
   ]
  },
  {
   "cell_type": "code",
   "execution_count": 96,
   "metadata": {
    "collapsed": true
   },
   "outputs": [],
   "source": [
    "def get_norm_fdist(norms, fdist, t2l):\n",
    "    \n",
    "    ret = []\n",
    "    for norm in norms:\n",
    "        if norm in fdist:\n",
    "            ret.append((norm,fdist[norm]))\n",
    "        elif norm in t2l:\n",
    "            norm = t2l[norm]\n",
    "            if norm in fdist: \n",
    "                ret.append((norm,fdist[norm]))\n",
    "    \n",
    "    return ret"
   ]
  },
  {
   "cell_type": "code",
   "execution_count": 97,
   "metadata": {
    "collapsed": true
   },
   "outputs": [],
   "source": [
    "norm_fdist = get_norm_fdist(norms, brown_fdist, brown_t2l)"
   ]
  },
  {
   "cell_type": "code",
   "execution_count": 103,
   "metadata": {
    "collapsed": false
   },
   "outputs": [],
   "source": [
    "norms_set = set(norms) # for quickening 'in norms' check."
   ]
  },
  {
   "cell_type": "code",
   "execution_count": 99,
   "metadata": {
    "collapsed": true
   },
   "outputs": [],
   "source": [
    "import matplotlib.pyplot as plt\n",
    "%matplotlib inline"
   ]
  },
  {
   "cell_type": "code",
   "execution_count": 109,
   "metadata": {
    "collapsed": false,
    "scrolled": false
   },
   "outputs": [
    {
     "data": {
      "image/png": "[encoded data removed]",
      "text/plain": [
       "<matplotlib.figure.Figure at 0x19cfbd090>"
      ]
     },
     "metadata": {},
     "output_type": "display_data"
    }
   ],
   "source": [
    "plt.plot(sorted([count for norm,count in norm_fdist], reverse=True))\n",
    "plt.show()"
   ]
  },
  {
   "cell_type": "code",
   "execution_count": 108,
   "metadata": {
    "collapsed": false
   },
   "outputs": [
    {
     "name": "stdout",
     "output_type": "stream",
     "text": [
      "CPU times: user 1min 20s, sys: 198 ms, total: 1min 21s\n",
      "Wall time: 1min 20s\n"
     ]
    }
   ],
   "source": [
    "%%time\n",
    "brown_sents = tokensent2lemmasent(brown_sents, brown_fdist, norms_set)"
   ]
  },
  {
   "cell_type": "code",
   "execution_count": 110,
   "metadata": {
    "collapsed": true
   },
   "outputs": [],
   "source": [
    "vocab = {word for sent in brown_sents for word in sent}"
   ]
  },
  {
   "cell_type": "code",
   "execution_count": 117,
   "metadata": {
    "collapsed": false
   },
   "outputs": [
    {
     "data": {
      "text/plain": [
       "3992"
      ]
     },
     "execution_count": 117,
     "metadata": {},
     "output_type": "execute_result"
    }
   ],
   "source": [
    "len(vocab)"
   ]
  },
  {
   "cell_type": "code",
   "execution_count": 118,
   "metadata": {
    "collapsed": false
   },
   "outputs": [
    {
     "data": {
      "text/plain": [
       "79"
      ]
     },
     "execution_count": 118,
     "metadata": {},
     "output_type": "execute_result"
    }
   ],
   "source": [
    "len([norm for norm in norms if norm not in vocab]) # out of vocab norms"
   ]
  },
  {
   "cell_type": "code",
   "execution_count": 121,
   "metadata": {
    "collapsed": true
   },
   "outputs": [],
   "source": [
    "def build_cooccurrence_matrix(sents, vocab, win_size):\n",
    "    \n",
    "    w2i = {w:i for i,w in enumerate(vocab)}\n",
    "    print \"... building dictionary\"\n",
    "    cooccurrence_dict = defaultdict(int)\n",
    "    for sent in sents:\n",
    "        for i,target in enumerate(sent):\n",
    "            contexts = sent[max(0,i-win_size):i] + sent[min(i+1,len(sent)):min(i+1+win_size,len(sent))]\n",
    "            for context in contexts:\n",
    "                cooccurrence_dict[(target,context)] += 1\n",
    "    print \"... building cooccurrence matrix\"\n",
    "    cooccurrence_matrix = np.zeros((len(vocab),len(vocab)))\n",
    "    for target in vocab:\n",
    "        for context in vocab:\n",
    "            cooccurrence_matrix[w2i[target]][w2i[context]] += cooccurrence_dict[(target,context)]\n",
    "    \n",
    "    return w2i, cooccurrence_matrix"
   ]
  },
  {
   "cell_type": "code",
   "execution_count": 122,
   "metadata": {
    "collapsed": false
   },
   "outputs": [
    {
     "name": "stdout",
     "output_type": "stream",
     "text": [
      "... building dictionary\n",
      "... building cooccurrence matrix\n",
      "CPU times: user 22.7 s, sys: 1.85 s, total: 24.6 s\n",
      "Wall time: 24 s\n"
     ]
    }
   ],
   "source": [
    "%%time\n",
    "w2i, cooccurrence_matrix = build_cooccurrence_matrix(brown_sents, vocab, 2)"
   ]
  },
  {
   "cell_type": "code",
   "execution_count": 124,
   "metadata": {
    "collapsed": true
   },
   "outputs": [],
   "source": [
    "import cPickle"
   ]
  },
  {
   "cell_type": "code",
   "execution_count": 126,
   "metadata": {
    "collapsed": false
   },
   "outputs": [],
   "source": [
    "# path = \"/Users/jacobsw/Desktop/UNIV/FALL_2016/LIN389C_RSCH_COMPLING/BAYESIAN/CODE_DRAFTS/DATA/\"\n",
    "# cPickle.dump(cooccurrence_matrix, open(path+\"coccurrence_matrix.p\",'wb'))\n",
    "# coocurrence_matrix = cPickle.load(open(path+\"coccurrence_matrix.p\",'rb'))"
   ]
  },
  {
   "cell_type": "code",
   "execution_count": 130,
   "metadata": {
    "collapsed": true
   },
   "outputs": [],
   "source": [
    "def make_fake_documents(matrix, vocab):\n",
    "    \n",
    "    docs = []\n",
    "    for i,row in enumerate(matrix):\n",
    "        if i!=0 and i%1000==0: print \"... processed %d targets.\" % i\n",
    "        doc = []\n",
    "        for j,cell in enumerate(row): # cell (i,j) count.\n",
    "            doc += [vocab[j]] * cell\n",
    "        docs.append(doc)\n",
    "    \n",
    "    return docs"
   ]
  },
  {
   "cell_type": "code",
   "execution_count": 131,
   "metadata": {
    "collapsed": false
   },
   "outputs": [
    {
     "name": "stdout",
     "output_type": "stream",
     "text": [
      "... processed 1000 targets.\n",
      "... processed 2000 targets.\n",
      "... processed 3000 targets.\n",
      "CPU times: user 26.8 s, sys: 1.23 s, total: 28 s\n",
      "Wall time: 27.1 s\n"
     ]
    }
   ],
   "source": [
    "%%time\n",
    "docs = make_fake_documents(cooccurrence_matrix, list(brown_lemmas))"
   ]
  },
  {
   "cell_type": "code",
   "execution_count": 142,
   "metadata": {
    "collapsed": false
   },
   "outputs": [],
   "source": [
    "# cPickle.dump(docs, open(path+\"fake_documents.p\",'wb'))\n",
    "# docs = cPickle.load(open(path+\"fake_documents.p\",'rb'))"
   ]
  },
  {
   "cell_type": "code",
   "execution_count": 136,
   "metadata": {
    "collapsed": false
   },
   "outputs": [],
   "source": [
    "i2w = {i:w for w,i in w2i.iteritems()}"
   ]
  },
  {
   "cell_type": "code",
   "execution_count": 141,
   "metadata": {
    "collapsed": false
   },
   "outputs": [
    {
     "name": "stdout",
     "output_type": "stream",
     "text": [
      "limited\n",
      "[u'deferment', u'rawhide', u'gianicolo', u'succumb', u'locker', u'locker', u'unreconstructed', u'uselessness', u'uninfluenced', u'uninfluenced', u'burial', u'390', u'395', u'395', u'395', u'disturbed', u'positively', u'affairs', u'extend', u'extend', u'arcaded', u'extent', u'1678', u'memorial', u'remand', u'homogeneity', u'shadow', u'administer', u'incinerator', u'wordlessly', u'embark', u'embark', u'wayward', u'ref', u'12-month', u'admirer', u'jig', u'henpecked', u'scratchiness', u'pimple', u'pimple', u'betrothal', u'woodbury', u'carrara', u'otto', u'otto', u'hideaway', u'hideaway', u'world', u'world', u'world', u'melisande', u'divine', u'prepared', u'ferromagnetic', u'hindquarter', u'hindquarter', u'inculcate', u'inculcate', u'inculcate', u'epaulet', u'dyed', u'bismarck', u'bismarck', u'bismarck', u'accreditation', u'greenness', u'mlle', u'enliven', u'enliven', u'enliven', u'patriarch', u'proto', u'palladian', u'purdue', u'purdue', u'vicissitude', u'swanky', u'par-5', u'wansee', u'wansee', u'faulkner', u'33', u'bloodspots', u'contributor', u'charmer', u'retaliatory', u'intrepid', u'bianco', u'disheveled', u'kriss', u'keddah', u'maker', u'maker', u'reavey', u'antagonism', u'jutish', u'loomis', u'loomis', u'carbonyl', u'cohort', u'chartres', u'undulating', u'crux', u'grayer', u'miscegenation', u'miscegenation', u'miscegenation', u'miscegenation', u'miscegenation', u'miscegenation', u'gastronome', u'gaveston', u'monic', u'replication', u'qua', u'tnt', u'divorcee', u'divorcee', u'gloria', u'emselves', u'dumping', u'railroads', u'another', u'offhand', u'guild', u'temporize', u'gesualdo', u'gesualdo', u'reserve', u'reserve', u'reserve', u'reserve', u'reserve', u'reserve', u'rectangle', u'swedes', u'pastel', u'drawn', u'applicability', u'excite', u'brahms', u'cone', u'agreeableness', u'fuse', u'hans', u'unmolested', u'cooler', u'congratulate', u'peed', u'wrongdoing', u'rattzhenfuut', u'hoarseness', u'update', u'tenable', u'2:33', u'washbowl', u'ineffectiveness', u'rainfall', u'grandson', u'corona', u'brain', u'cannibalistic', u'cannibalistic', u'robinsonville', u'deltoid', u'510', u'tredding', u'roster', u'n.d.', u'taxi', u'taxi', u'versa', u'exposit', u'1852', u'bustlin', u'nonliterary', u'.30/mbf', u'pitcher', u'601', u'petted', u'velon', u'velon', u'1916', u'hired', u'hired', u'ansuh', u'unwed', u'torpid', u'sublease', u'irresponsibility', u'vulnerable', u'crispin', u'reviewer', u'dactyl', u'2/c', u'monarque', u'canonist', u'syntactical', u'syntactical', u'stunned', u'stunned', u'michael', u'michael', u'sedentary', u'historically', u'finberg', u'popularly', u'comique']\n"
     ]
    }
   ],
   "source": [
    "print i2w[1]\n",
    "print docs[1]"
   ]
  },
  {
   "cell_type": "markdown",
   "metadata": {},
   "source": [
    "** c. Topic Modeling on Fake Docs **"
   ]
  },
  {
   "cell_type": "code",
   "execution_count": 146,
   "metadata": {
    "collapsed": false,
    "scrolled": false
   },
   "outputs": [
    {
     "name": "stdout",
     "output_type": "stream",
     "text": [
      "CPU times: user 2min 6s, sys: 2.14 s, total: 2min 8s\n",
      "Wall time: 2min 7s\n"
     ]
    }
   ],
   "source": [
    "%%time\n",
    "tm = TopicModel(docs, num_topics=100, num_iters=5)"
   ]
  },
  {
   "cell_type": "code",
   "execution_count": 238,
   "metadata": {
    "collapsed": true
   },
   "outputs": [],
   "source": [
    "# cPickle.dump(tm, open(path+\"topic_model.p\",'wb'))\n",
    "# tm = cPickle.load(open(path+\"topic_model.p\",'rb'))"
   ]
  },
  {
   "cell_type": "code",
   "execution_count": 151,
   "metadata": {
    "collapsed": false
   },
   "outputs": [
    {
     "data": {
      "text/plain": [
       "[(53, 0.66195127235124829), (87, 0.26266411226413711)]"
      ]
     },
     "execution_count": 151,
     "metadata": {},
     "output_type": "execute_result"
    }
   ],
   "source": [
    "tm.lda.get_document_topics(tm.documents[0])"
   ]
  },
  {
   "cell_type": "code",
   "execution_count": 187,
   "metadata": {
    "collapsed": false,
    "scrolled": true
   },
   "outputs": [
    {
     "data": {
      "text/plain": [
       "[(645, 0.032071711177920001),\n",
       " (281, 0.028449992719837135),\n",
       " (3365, 0.015843609286137803),\n",
       " (3955, 0.014937096388109417),\n",
       " (1064, 0.013686571491775401),\n",
       " (41, 0.013176478644017003),\n",
       " (109, 0.011886781180556152),\n",
       " (693, 0.010296370194177463),\n",
       " (1152, 0.0097438514890581338),\n",
       " (1044, 0.009568457878940494)]"
      ]
     },
     "execution_count": 187,
     "metadata": {},
     "output_type": "execute_result"
    }
   ],
   "source": [
    "tm.lda.get_topic_terms(0)"
   ]
  },
  {
   "cell_type": "code",
   "execution_count": 188,
   "metadata": {
    "collapsed": false
   },
   "outputs": [
    {
     "data": {
      "text/plain": [
       "u'raceway'"
      ]
     },
     "execution_count": 188,
     "metadata": {},
     "output_type": "execute_result"
    }
   ],
   "source": [
    "tm.lda.id2word[645]"
   ]
  },
  {
   "cell_type": "code",
   "execution_count": 173,
   "metadata": {
    "collapsed": false
   },
   "outputs": [],
   "source": [
    "tm_i2w = {i:w for i,w in tm.lda.id2word.iteritems()}\n",
    "tm_w2i = {w:i for i,w in tm.lda.id2word.iteritems()}"
   ]
  },
  {
   "cell_type": "code",
   "execution_count": 196,
   "metadata": {
    "collapsed": false
   },
   "outputs": [],
   "source": [
    "def make_topic_word_dict(lda, ntopics=100):\n",
    "    \n",
    "    nwords = lda.num_terms\n",
    "    i2w = lda.id2word\n",
    "    topicword_dict = defaultdict(float)\n",
    "    for i in xrange(ntopics):\n",
    "        for w_id,prob in lda.get_topic_terms(i,topn=nwords):\n",
    "            topicword_dict[(i,i2w[w_id])] = prob\n",
    "    \n",
    "    return topicword_dict"
   ]
  },
  {
   "cell_type": "code",
   "execution_count": 182,
   "metadata": {
    "collapsed": false,
    "scrolled": true
   },
   "outputs": [
    {
     "name": "stdout",
     "output_type": "stream",
     "text": [
      "CPU times: user 656 ms, sys: 56.9 ms, total: 713 ms\n",
      "Wall time: 711 ms\n"
     ]
    }
   ],
   "source": [
    "%%time\n",
    "topicword_dict = make_topic_word_dict(tm.lda)"
   ]
  },
  {
   "cell_type": "code",
   "execution_count": 192,
   "metadata": {
    "collapsed": false
   },
   "outputs": [
    {
     "data": {
      "text/plain": [
       "0.032071711177920001"
      ]
     },
     "execution_count": 192,
     "metadata": {},
     "output_type": "execute_result"
    }
   ],
   "source": [
    "topicword_dict[(0,'raceway')]"
   ]
  },
  {
   "cell_type": "code",
   "execution_count": 193,
   "metadata": {
    "collapsed": true
   },
   "outputs": [],
   "source": [
    "def p_word_given_topic(word, topic):\n",
    "    return topicword_dict[(topic,word)]"
   ]
  },
  {
   "cell_type": "code",
   "execution_count": 223,
   "metadata": {
    "collapsed": true
   },
   "outputs": [],
   "source": [
    "def f_word_prop(word, prop):\n",
    "    return norm2feature[(word,prop)]"
   ]
  },
  {
   "cell_type": "code",
   "execution_count": 224,
   "metadata": {
    "collapsed": false
   },
   "outputs": [
    {
     "name": "stdout",
     "output_type": "stream",
     "text": [
      "0.0320717111779\n",
      "1\n"
     ]
    }
   ],
   "source": [
    "print p_word_given_topic('raceway',0)\n",
    "print f_word_prop('accordion','a_musical_instrument')"
   ]
  },
  {
   "cell_type": "code",
   "execution_count": 234,
   "metadata": {
    "collapsed": false
   },
   "outputs": [],
   "source": [
    "def make_topic_prop_dict(lda, ntopics=100):\n",
    "    \n",
    "    nwords = lda.num_terms\n",
    "    i2w = lda.id2word\n",
    "    topicprop_dict = defaultdict(float)\n",
    "    for i in xrange(ntopics):\n",
    "        if i!=0 and i%5==0: print \"... processed %d topics.\" % i\n",
    "        for prop in features: # features defined at the top.\n",
    "            ret = 0.0\n",
    "            for w_id,prob in lda.get_topic_terms(i,topn=nwords):\n",
    "                word = i2w[w_id]\n",
    "                ret += p_word_given_topic(word,i)*f_word_prop(word,prop)\n",
    "            topicprop_dict[(i,prop)] = ret\n",
    "    \n",
    "    return topicprop_dict\n"
   ]
  },
  {
   "cell_type": "code",
   "execution_count": 235,
   "metadata": {
    "collapsed": false
   },
   "outputs": [
    {
     "name": "stdout",
     "output_type": "stream",
     "text": [
      "... processed 5 topics.\n",
      "... processed 10 topics.\n",
      "... processed 15 topics.\n",
      "... processed 20 topics.\n",
      "... processed 25 topics.\n",
      "... processed 30 topics.\n",
      "... processed 35 topics.\n",
      "... processed 40 topics.\n",
      "... processed 45 topics.\n",
      "... processed 50 topics.\n",
      "... processed 55 topics.\n",
      "... processed 60 topics.\n",
      "... processed 65 topics.\n",
      "... processed 70 topics.\n",
      "... processed 75 topics.\n",
      "... processed 80 topics.\n",
      "... processed 85 topics.\n",
      "... processed 90 topics.\n",
      "... processed 95 topics.\n",
      "CPU times: user 43min 10s, sys: 1min 26s, total: 44min 37s\n",
      "Wall time: 44min 37s\n"
     ]
    }
   ],
   "source": [
    "%%time\n",
    "topicprop_dict = make_topic_prop_dict(tm.lda)"
   ]
  },
  {
   "cell_type": "code",
   "execution_count": 237,
   "metadata": {
    "collapsed": true
   },
   "outputs": [],
   "source": [
    "# cPickle.dump(topicprop_dict, open(path+\"topicprop_dict.p\",'wb'))\n",
    "# topicprop_dict = cPickle.load(open(path+\"topicprop_dict.p\",'rb'))"
   ]
  },
  {
   "cell_type": "code",
   "execution_count": 239,
   "metadata": {
    "collapsed": true
   },
   "outputs": [],
   "source": [
    "def p_prop_given_topic(prop, topic):\n",
    "    return topicprop_dict[(topic,prop)]"
   ]
  },
  {
   "cell_type": "markdown",
   "metadata": {},
   "source": [
    "### B. Word Properties\n",
    "\n",
    "* $p(prop\\mid word) = \\sum_{topic}p(prop\\mid topic)p(topic\\mid word)p(word) = \\sum_{topic}p(prop\\mid topic)p(word\\mid topic)p(topic)$.\n",
    "* NB: $p(prop\\mid topic)p(topic\\mid word)p(word) = \\frac{p(word\\mid topic)p(topic)}{p(word)}p(word) = p(word\\mid topic)p(topic)$."
   ]
  },
  {
   "cell_type": "code",
   "execution_count": 246,
   "metadata": {
    "collapsed": true
   },
   "outputs": [],
   "source": [
    "from __future__ import division"
   ]
  },
  {
   "cell_type": "code",
   "execution_count": 236,
   "metadata": {
    "collapsed": true
   },
   "outputs": [],
   "source": [
    "words = [word for doc in docs for word in doc]\n",
    "nwords = len(words)\n",
    "word_counts = Counter(words)"
   ]
  },
  {
   "cell_type": "code",
   "execution_count": 253,
   "metadata": {
    "collapsed": true
   },
   "outputs": [],
   "source": [
    "# def make_wordprop_dict(ntopics=100):\n",
    "    \n",
    "#     p_topic = 1/ntopics\n",
    "#     wordprop_dict = defaultdict(float)\n",
    "#     for n,word in enumerate(words):\n",
    "#         if n!=0 and n%500==0: \n",
    "#             print \"... processed %d words.\" % n\n",
    "#             break\n",
    "#         for prop in features:\n",
    "#             ret = 0.0\n",
    "#             for i in xrange(ntopics):\n",
    "#                 ret += p_prop_given_topic(prop,i)*p_word_given_topic(word,i)*p_topic\n",
    "#             wordprop_dict[(word,prop)] = ret\n",
    "    \n",
    "#     return wordprop_dict\n",
    "\n",
    "# %%time\n",
    "# wordprop_dict = make_wordprop_dict()\n",
    "# ... processed 500 words.\n",
    "# CPU times: user 1min 43s, sys: 135 ms, total: 1min 43s\n",
    "# Wall time: 1min 43s\n",
    "\n",
    "# ~ 70.8 hrs to run all."
   ]
  },
  {
   "cell_type": "code",
   "execution_count": 261,
   "metadata": {
    "collapsed": true
   },
   "outputs": [],
   "source": [
    "def p_prop_given_word(prop, word, ntopics=100):\n",
    "    \n",
    "    p_topic = 1/ntopics\n",
    "    ret = 0.0\n",
    "    for i in xrange(ntopics):\n",
    "        ret += p_prop_given_topic(prop,i)*p_word_given_topic(word,i)*p_topic\n",
    "        \n",
    "    return ret"
   ]
  },
  {
   "cell_type": "code",
   "execution_count": 266,
   "metadata": {
    "collapsed": false,
    "scrolled": true
   },
   "outputs": [
    {
     "data": {
      "text/plain": [
       "0.0"
      ]
     },
     "execution_count": 266,
     "metadata": {},
     "output_type": "execute_result"
    }
   ],
   "source": [
    "p_prop_given_word('a_musical_instrument','accordion')"
   ]
  },
  {
   "cell_type": "code",
   "execution_count": 277,
   "metadata": {
    "collapsed": false
   },
   "outputs": [
    {
     "data": {
      "text/plain": [
       "defaultdict(float,\n",
       "            {(43, 'used_with_needles'): 0.0,\n",
       "             (34, 'used_for_bubble_baths'): 0.0,\n",
       "             (97, 'is_useful'): 4.4797172438975051e-05,\n",
       "             (41, 'used_by_David_on_Goliath'): 0.0,\n",
       "             (92, 'inbeh_-_produces_a_loud_noise_when_popped'): 0.0,\n",
       "             (8, 'requires_a_stamp'): 0.0,\n",
       "             (93, 'has_an_engine'): 0.0,\n",
       "             (4, 'used_for_oil'): 0.0,\n",
       "             (28, 'found_on_floors'): 2.8520018951272237e-06,\n",
       "             (3, 'used_for_performing_tricks'): 0.0,\n",
       "             (37, 'has_walls'): 9.4239027242112405e-06,\n",
       "             (15, 'used_for_playing_records'): 0.0,\n",
       "             (65, 'made_of_china'): 4.1294592174373593e-06,\n",
       "             (20, 'has_jewels'): 9.3764113111210196e-06,\n",
       "             (84, 'has_no_straps'): 0.0,\n",
       "             (49, 'a_fish'): 0.0,\n",
       "             (3, 'worn_for_winter'): 0.0,\n",
       "             (83, 'has_no_roof'): 0.0,\n",
       "             (13, 'used_for_holding_liquids'): 0.0,\n",
       "             (59, 'lives_in_stables'): 2.7029039042441933e-05,\n",
       "             (38, 'used_for_killing_whales'): 0.0,\n",
       "             (64, 'found_on_couches'): 0.0,\n",
       "             (45, 'a_board'): 0.0,\n",
       "             (71, 'a_building'): 0.0,\n",
       "             (89, 'has_pockets'): 0.0,\n",
       "             (43, 'made_of_cardboard'): 0.0,\n",
       "             (51, 'used_for_butts'): 0.0,\n",
       "             (14, 'has_2_handles'): 0.0,\n",
       "             (28, 'has_four-wheel_drive'): 0.0,\n",
       "             (9, 'used_for_exiting'): 3.316013905922651e-05,\n",
       "             (18, 'used_for_browning_bread'): 0.0,\n",
       "             (56, 'used_by_waving'): 1.6988205989424815e-05,\n",
       "             (45, 'used_by_pulling_by_horses'): 0.0,\n",
       "             (45, 'eaten_as_seasoning'): 0.0,\n",
       "             (18, 'is_melted'): 0.0,\n",
       "             (35, 'has_powerful_jaws'): 0.0,\n",
       "             (58, \"used_by_Hell's_Angels\"): 0.0,\n",
       "             (69, 'used_by_thoughtful_people'): 0.0,\n",
       "             (35, 'requires_baking'): 0.0,\n",
       "             (54, 'inbeh_-_holds_water'): 0.0,\n",
       "             (22, 'worn_for_sports'): 0.0,\n",
       "             (17, 'has_an_udder'): 0.0,\n",
       "             (20, 'symbol_of_freedom'): 0.0,\n",
       "             (80, 'requires_a_lighting_source'): 0.0,\n",
       "             (24, 'used_for_hot_drinks'): 0.0,\n",
       "             (68, 'used_with_rods'): 0.0,\n",
       "             (87, 'inbeh_-_gets_caught'): 0.0,\n",
       "             (4, 'has_vitamin_C'): 0.0,\n",
       "             (45, 'has_bindings'): 0.0,\n",
       "             (41, 'has_a_bill'): 0.0,\n",
       "             (32, 'is_quiet'): 0.0,\n",
       "             (61, 'inbeh_-_melts'): 0.0,\n",
       "             (10, 'a_bug'): 0.0,\n",
       "             (98, 'used_with_helmets'): 0.0,\n",
       "             (55, 'beh_-_squawks'): 0.0,\n",
       "             (92, 'has_a_blade'): 0.0,\n",
       "             (42, 'used_for_tennis'): 0.0,\n",
       "             (89, 'used_for_chopping_food'): 0.0,\n",
       "             (20, 'used_for_achievements'): 0.0,\n",
       "             (14, 'lives_in_cities'): 0.0,\n",
       "             (5, 'beh_-_squawks'): 0.0,\n",
       "             (31, 'comes_from_a_cocoon'): 0.0,\n",
       "             (19, \"used_at_Hallowe'en\"): 0.0,\n",
       "             (44, 'found_in_trees'): 2.3746144898228604e-05,\n",
       "             (96, 'worn_by_brides'): 0.0,\n",
       "             (22, 'requires_ironing'): 0.0,\n",
       "             (87, 'is_caught_in_nets'): 0.0,\n",
       "             (79, 'an_oven'): 0.0,\n",
       "             (1, 'associated_with_polkas'): 0.0,\n",
       "             (67, 'has_a_television'): 0.0,\n",
       "             (49, 'has_flippers'): 0.0,\n",
       "             (50, 'used_for_walking'): 0.0,\n",
       "             (36, 'eaten_in_sandwiches'): 0.0,\n",
       "             (41, 'worn_for_protecting_feet'): 0.0,\n",
       "             (7, 'has_doors'): 0.0,\n",
       "             (42, 'is_long'): 8.5066780531713036e-05,\n",
       "             (50, 'used_for_prying_things_open'): 0.0,\n",
       "             (28, 'has_4_prongs'): 0.0,\n",
       "             (5, 'has_1_piece'): 0.0,\n",
       "             (87, 'a_relative_of_humans'): 0.0,\n",
       "             (47, 'eg_-_dump'): 0.0,\n",
       "             (63, 'has_big_ears'): 0.0,\n",
       "             (29, 'eg_-_a_king'): 0.0,\n",
       "             (12, 'grows_on_vines'): 0.0,\n",
       "             (58, 'found_in_cafeterias'): 0.0,\n",
       "             (33, 'a_watch'): 0.0,\n",
       "             (47, 'has_18_wheels'): 0.0,\n",
       "             (11, 'eaten_as_ham'): 0.0,\n",
       "             (46, 'used_for_storing_ice_cream'): 0.0,\n",
       "             (20, 'grows_in_the_summer'): 0.0,\n",
       "             (18, 'used_by_the_navy'): 0.0,\n",
       "             (46, 'has_a_clasp'): 0.0,\n",
       "             (82, 'found_in_living_rooms'): 0.0,\n",
       "             (65, 'used_for_writing'): 3.2080968295068637e-06,\n",
       "             (91, 'has_metal_bands'): 1.8582364746495599e-06,\n",
       "             (65, 'part_of_a_tree'): 0.0,\n",
       "             (97, 'made_of_graphite'): 3.2083763759676845e-05,\n",
       "             (54, 'made_by_humans'): 0.0,\n",
       "             (62, 'is_opened_by_twisting'): 0.0,\n",
       "             (4, 'used_for_wounding'): 0.0,\n",
       "             (7, 'used_for_wool'): 0.0,\n",
       "             (20, 'has_a_ball_point'): 0.0,\n",
       "             (67, 'has_fangs'): 0.0,\n",
       "             (43, 'is_soft'): 4.4399903586832222e-05,\n",
       "             (18, 'used_by_twirling'): 0.00040994611070995727,\n",
       "             (72, 'has_a_tongue'): 0.0,\n",
       "             (93, 'made_by_bees'): 1.7265283707589907e-07,\n",
       "             (52, 'used_as_a_gift'): 0.0,\n",
       "             (99, 'used_for_walking'): 0.0,\n",
       "             (19, 'worn_for_special_occasions'): 1.3509933355915177e-05,\n",
       "             (12, 'used_for_catching'): 0.0,\n",
       "             (42, 'has_an_oven'): 0.0,\n",
       "             (47, 'used_for_certifying'): 0.0,\n",
       "             (73, 'used_by_magicians'): 6.7968648116132218e-06,\n",
       "             (17, 'used_for_amusement'): 0.0,\n",
       "             (85, 'beh_-_swims_in_schools'): 0.0,\n",
       "             (33, 'has_2_arms'): 0.0,\n",
       "             (2, 'has_large_ears'): 0.0,\n",
       "             (36, 'eg_-_flying_saucer'): 0.0,\n",
       "             (12, 'used_for_music'): 0.0,\n",
       "             (12, 'has_3_valves'): 0.0,\n",
       "             (65, 'requires_a_spoon'): 0.0,\n",
       "             (3, 'hunted_by_people'): 2.7001631357163173e-05,\n",
       "             (87, 'used_by_firing_arrows'): 0.0,\n",
       "             (1, 'has_a_television'): 0.0,\n",
       "             (85, 'requires_hot_air'): 0.0,\n",
       "             (40, 'is_damp'): 2.2765051530243126e-05,\n",
       "             (69, 'has_prongs'): 0.0,\n",
       "             (26, 'inbeh_-_goes_down'): 0.0,\n",
       "             (84, 'beh_-_is_quiet'): 0.0,\n",
       "             (27, 'like_a_box'): 0.0,\n",
       "             (81, 'is_yellow_inside'): 0.0,\n",
       "             (65, 'eg_-_a_pull-over'): 0.0,\n",
       "             (46, 'has_quills'): 2.5459355954124515e-05,\n",
       "             (78, 'found_near_the_ocean'): 8.7365205873882776e-05,\n",
       "             (23, 'used_by_connecting_to_computers'): 0.0,\n",
       "             (0, 'has_a_Y_shaped_part'): 0.0,\n",
       "             (41, 'tastes_dill'): 0.0,\n",
       "             (23, 'is_quiet'): 0.0,\n",
       "             (35, 'used_for_poking'): 0.0,\n",
       "             (29, 'used_for_storing_dishes'): 0.0,\n",
       "             (68, 'used_for_work'): 0.0,\n",
       "             (91, 'has_authors'): 0.0,\n",
       "             (23, 'beh_-_purrs'): 0.0,\n",
       "             (32, 'used_for_storage'): 8.673902294057036e-06,\n",
       "             (60, 'used_for_making_tea'): 0.0,\n",
       "             (71, 'has_a_sheath'): 0.0,\n",
       "             (13, 'has_a_flat_head'): 0.0,\n",
       "             (54, 'has_black_spots'): 0.0,\n",
       "             (72, 'eaten_with_hamburgers'): 0.0,\n",
       "             (18, 'used_for_throwing'): 0.0,\n",
       "             (37, 'used_for_holding_beer'): 0.0,\n",
       "             (72, 'has_stairways'): 3.8987298963535978e-06,\n",
       "             (41, 'made_of_gold'): 5.1121263301379981e-05,\n",
       "             (67, 'has_words_in_it'): 0.0,\n",
       "             (24, 'has_benches'): 0.0,\n",
       "             (64, 'comes_in_a_brine'): 0.0,\n",
       "             (37, 'used_for_emergencies'): 0.0,\n",
       "             (53, 'a_cape'): 0.0,\n",
       "             (80, 'has_handle_bars'): 0.0,\n",
       "             (30, 'used_for_making_guacamole'): 0.0,\n",
       "             (58, 'used_for_racquet_ball'): 0.0,\n",
       "             (85, 'used_for_delivering_babies'): 0.0,\n",
       "             (20, 'inbeh_-_flies'): 0.0,\n",
       "             (7, 'smells_bad'): 0.0,\n",
       "             (44, 'used_by_cheerleaders'): 2.7686231097396142e-05,\n",
       "             (9, 'is_not_illegal_to_wear'): 0.0,\n",
       "             (0, 'lives_in_Africa'): 0.0,\n",
       "             (21, 'used_for_science'): 0.0,\n",
       "             (50, 'lives_in_hot_climates'): 0.0,\n",
       "             (48, 'grows_in_patches'): 0.0,\n",
       "             (52, 'lives_in_ponds'): 0.0,\n",
       "             (98, 'inbeh_-_expands'): 0.0,\n",
       "             (34, 'worn_for_keeping_hands_warm'): 1.8902335089465811e-05,\n",
       "             (20, 'used_for_bathing'): 0.0,\n",
       "             (54, 'has_pants'): 0.0,\n",
       "             (15, 'found_near_the_water'): 6.5325268602384288e-05,\n",
       "             (67, 'has_2_wheels'): 0.0,\n",
       "             (77, 'associated_with_Lion_King'): 0.0,\n",
       "             (60, 'found_in_living_rooms'): 0.0,\n",
       "             (23, 'eg_-_mountain'): 0.0,\n",
       "             (90, 'used_for_destruction'): 0.0,\n",
       "             (47, 'beh_-_fans_tail_feathers'): 0.0,\n",
       "             (62, 'made_of_blocks'): 0.0,\n",
       "             (29, 'has_a_tongue'): 0.0,\n",
       "             (22, 'inbeh_-_produces_music'): 5.6202101063335823e-05,\n",
       "             (18, 'a_shovel'): 0.0,\n",
       "             (78, 'used_by_cutting'): 0.0,\n",
       "             (29, 'lives_in_woods'): 0.00023448295465177988,\n",
       "             (51, 'inbeh_-_produces_loud_noise'): 0.0,\n",
       "             (18, 'used_for_prevention'): 0.0,\n",
       "             (77, 'beh_-_chases'): 0.0,\n",
       "             (3, 'is_scaly'): 0.0,\n",
       "             (23, 'associated_with_football_games'): 0.0,\n",
       "             (93, 'used_for_pounding_nails'): 0.0,\n",
       "             (33, 'made_by_Egyptians'): 0.0,\n",
       "             (54, 'used_for_draining_liquids'): 0.0,\n",
       "             (1, 'has_8_legs'): 0.0,\n",
       "             (58, 'used_for_torture'): 0.0,\n",
       "             (14, 'is_hairy'): 0.0,\n",
       "             (31, 'eg_-_acoustic'): 0.0,\n",
       "             (35, 'has_a_receiver'): 0.0,\n",
       "             (68, 'used_for_killing_whales'): 0.0,\n",
       "             (21, 'used_for_frying'): 0.0,\n",
       "             (2, 'used_for_broiling'): 0.0,\n",
       "             (22, 'is_slow'): 4.6229210786936535e-07,\n",
       "             (99, 'inbeh_-_gets_wet'): 0.0,\n",
       "             (85, 'has_branches'): 0.0,\n",
       "             (49, 'beh_-_squawks'): 0.0,\n",
       "             (23, 'beh_-_cannot_fly'): 0.0,\n",
       "             (72, 'a_seasoning'): 0.00096749417448174562,\n",
       "             (52, 'has_a_large_beak'): 0.0,\n",
       "             (60, 'found_in_bedrooms'): 0.0,\n",
       "             (23, 'has_feet'): 0.0,\n",
       "             (30, 'lives_in_walls'): 0.0,\n",
       "             (6, 'used_by_shooting'): 0.0,\n",
       "             (69, 'a_stick'): 1.4487973740898461e-05,\n",
       "             (48, 'worn_by_knights'): 0.0,\n",
       "             (92, 'used_for_posting'): 0.0,\n",
       "             (53, 'has_minerals'): 0.0,\n",
       "             (61, 'a_hat'): 0.0,\n",
       "             (49, 'is_humorous'): 0.0,\n",
       "             (19, 'used_for_keeping_out_intruders'): 0.0,\n",
       "             (8, 'has_cushions'): 0.0,\n",
       "             (64, 'used_by_1_or_2_people'): 0.0,\n",
       "             (69, 'used_for_events'): 0.0,\n",
       "             (34, 'has_sections'): 0.0,\n",
       "             (13, 'has_a_strap'): 0.0,\n",
       "             (36, 'has_a_Phillips_head'): 0.0,\n",
       "             (28, 'inbeh_-_gives_bad_luck_if_breaks'): 0.0,\n",
       "             (14, 'a_vehicle'): 0.0,\n",
       "             (14, 'has_a_bed'): 0.0,\n",
       "             (60, 'associated_with_Scotland'): 0.0,\n",
       "             (35, 'eg_-_jeans'): 0.0,\n",
       "             (53, 'is_frightening'): 0.0,\n",
       "             (60, 'requires_operators'): 0.0,\n",
       "             (34, 'used_for_removing_dirt'): 0.0,\n",
       "             (28, 'has_own_clothes'): 0.0,\n",
       "             (66, 'made_of_wire'): 0.0,\n",
       "             (44, 'symbol_of_freedom'): 0.0,\n",
       "             (76, 'has_large_teeth'): 0.0,\n",
       "             (13, 'used_by_girls'): 0.0,\n",
       "             (23, 'has_stalks'): 0.0,\n",
       "             (98, 'has_chairs'): 0.0,\n",
       "             (82, 'used_for_picking_up_food'): 2.9602078178216723e-06,\n",
       "             (40, 'is_slow'): 2.2330358722564895e-05,\n",
       "             (35, 'used_for_storing_dishes'): 0.0,\n",
       "             (17, 'eaten_by_baking'): 3.4679792185357505e-05,\n",
       "             (69, 'has_warts'): 0.0,\n",
       "             (29, 'lives_in_a_colony'): 0.0,\n",
       "             (98, 'a_shirt'): 0.0,\n",
       "             (16, 'has_black_spots'): 0.0,\n",
       "             (49, 'like_a_cookie'): 0.0,\n",
       "             (17, 'has_tusks'): 0.0,\n",
       "             (27, 'inbeh_-_produces_noise'): 0.0,\n",
       "             (77, 'clothing'): 0.0022137550202959784,\n",
       "             (10, 'lives_in_deserts'): 0.0,\n",
       "             (68, 'found_over_bathtubs'): 0.0,\n",
       "             (78, 'is_open'): 0.0,\n",
       "             (74, 'lives_in_fields'): 0.0,\n",
       "             (90, 'has_words_on_it'): 0.0,\n",
       "             (97, 'used_a_while_ago'): 0.0,\n",
       "             (95, 'has_18_wheels'): 0.0,\n",
       "             (49, 'is_launched'): 0.0,\n",
       "             (34, 'like_a_snake'): 0.0,\n",
       "             (83, 'inbeh_-_goes_up'): 0.0,\n",
       "             (82, 'used_in_symphonies'): 0.0,\n",
       "             (18, 'dropped_from_airplanes'): 0.0,\n",
       "             (3, 'eaten_by_lions'): 0.0,\n",
       "             (34, 'found_in_workshops'): 0.0,\n",
       "             (21, 'used_with_screwdrivers'): 0.0,\n",
       "             (2, 'eaten_at_Thanksgiving'): 0.0,\n",
       "             (52, 'used_for_cooking'): 9.7928993360731421e-06,\n",
       "             (31, 'eaten_with_dressings'): 0.0,\n",
       "             (60, 'has_a_tail'): 0.00040882562488250666,\n",
       "             (58, 'has_brakes'): 0.0,\n",
       "             (47, 'an_airplane'): 0.0,\n",
       "             (65, 'found_at_the_end_of_a_gun'): 0.0,\n",
       "             (55, 'used_for_gardening'): 0.0,\n",
       "             (33, 'has_brakes'): 0.0,\n",
       "             (48, 'beh_-_puts_holes_in_trees'): 0.0,\n",
       "             (36, 'beh_-_kills_people'): 0.0,\n",
       "             (65, 'has_protein'): 0.0,\n",
       "             (6, 'used_for_connecting_land'): 0.0,\n",
       "             (2, 'has_blades'): 0.0,\n",
       "             (52, 'inbeh_-_flies_in_the_wind'): 0.0,\n",
       "             (42, 'has_heels'): 0.0,\n",
       "             (57, 'has_reeds'): 2.2255336460894969e-05,\n",
       "             (11, 'comes_in_bags'): 0.0,\n",
       "             (31, 'made_by_humans'): 0.0,\n",
       "             (63, 'part_of_a_fence'): 0.0,\n",
       "             (39, 'eaten_at_birthdays'): 0.0,\n",
       "             (33, 'made_of_pearls'): 0.0,\n",
       "             (33, 'has_four-wheel_drive'): 0.0,\n",
       "             (46, 'has_a_green_top'): 0.0,\n",
       "             (62, 'is_furry/fuzzy'): 0.0,\n",
       "             (17, 'used_for_appliances'): 0.0,\n",
       "             (10, 'comes_in_pairs'): 0.00023291712991551264,\n",
       "             (61, 'found_at_bus_stops'): 0.0,\n",
       "             (9, 'a_reward'): 0.0,\n",
       "             (16, 'is_portable'): 0.0,\n",
       "             (16, 'has_a_signature'): 0.0,\n",
       "             (2, 'has_pleats'): 0.0,\n",
       "             (24, 'tastes_hot/spicy'): 0.00027505571146916403,\n",
       "             (77, 'has_stained_glass_windows'): 0.0,\n",
       "             (51, 'worn_for_exposing_feet'): 0.0,\n",
       "             (32, 'used_for_playing_cassettes'): 0.0,\n",
       "             (89, 'associated_with_babies'): 0.0,\n",
       "             (91, 'used_for_cigarettes'): 0.0,\n",
       "             (83, 'has_mercury'): 0.0,\n",
       "             (55, 'used_for_stimulating_imagination'): 0.0,\n",
       "             (35, 'is_casual'): 0.0,\n",
       "             (78, 'beh_-_eats_garbage'): 7.983981382710318e-05,\n",
       "             (27, 'has_beds'): 0.0,\n",
       "             (48, 'used_in_sandwiches'): 0.0,\n",
       "             (57, 'used_for_watering_gardens'): 0.0,\n",
       "             (27, 'found_in_ballrooms'): 0.0,\n",
       "             (58, 'inbeh_-_gets_caught'): 0.0,\n",
       "             (56, 'found_in_dining_rooms'): 0.0,\n",
       "             (57, 'a_jacket'): 0.0,\n",
       "             (22, 'used_for_showers'): 0.0,\n",
       "             (57, 'is_friendly'): 0.0,\n",
       "             (88, 'found_in_clams'): 0.0,\n",
       "             (41, 'worn_over_ears'): 0.0,\n",
       "             (42, 'requires_a_crew'): 0.0,\n",
       "             (88, 'made_of_wood'): 0.0020885753881730233,\n",
       "             (76, 'has_a_ring_in_its_nose'): 0.0,\n",
       "             (18, 'a_wolf'): 0.0,\n",
       "             (69, 'used_by_twirling'): 1.508836400068305e-05,\n",
       "             (23, 'used_for_pounding'): 0.0,\n",
       "             (10, 'has_a_screw_end'): 0.0,\n",
       "             (18, 'has_2_wheels'): 0.0,\n",
       "             (59, 'used_for_privacy'): 0.0,\n",
       "             (59, 'is_scary'): 2.8241650865144715e-05,\n",
       "             (8, 'has_a_long_barrel'): 0.0,\n",
       "             (1, 'is_ferocious'): 0.0,\n",
       "             (78, 'used_for_water'): 0.0,\n",
       "             (31, 'has_tombs'): 0.0,\n",
       "             (33, 'has_words_in_it'): 0.0,\n",
       "             (17, 'used_for_holding_things'): 3.4257170356694599e-05,\n",
       "             (22, 'has_a_latch'): 0.0,\n",
       "             (20, 'grows_underground'): 0.0,\n",
       "             (80, 'associated_with_religion'): 0.0,\n",
       "             (35, 'is_silver'): 5.961337303965273e-05,\n",
       "             (10, 'is_hard_to_kill'): 0.0,\n",
       "             (26, 'has_shakers_inside'): 0.0,\n",
       "             (21, 'requires_caregivers'): 0.0,\n",
       "             (0, 'part_of_refrigerators'): 0.0,\n",
       "             (33, 'worn_for_formal_occasions'): 0.0037603463267672299,\n",
       "             (57, 'has_bowls'): 0.0,\n",
       "             (44, 'symbol_of_marriages'): 0.00043274095883713223,\n",
       "             (29, 'used_on_cars'): 0.0,\n",
       "             (76, 'used_for_alerting'): 0.0,\n",
       "             (19, 'associated_with_knights'): 0.0,\n",
       "             (98, 'used_on_farms'): 0.0,\n",
       "             (33, 'used_in_wood'): 0.0,\n",
       "             (0, 'used_for_torture'): 0.0,\n",
       "             (79, 'made_of_leather'): 7.7312050131293113e-05,\n",
       "             (99, \"is_man's_best_friend\"): 0.0,\n",
       "             (64, 'used_for_boats'): 6.8009989737348494e-05,\n",
       "             (75, 'eaten_by_frying'): 0.0,\n",
       "             (91, 'has_a_pit'): 0.0,\n",
       "             (87, 'worn_by_sports_teams'): 0.0,\n",
       "             (51, 'eaten_with_dips'): 0.0,\n",
       "             (42, 'found_in_toolboxes'): 0.0,\n",
       "             (48, 'different_colours'): 0.00036263110624264042,\n",
       "             (12, 'made_from_milk'): 0.0,\n",
       "             (61, 'requires_operators'): 0.0,\n",
       "             (12, 'used_for_recreation'): 0.0,\n",
       "             (71, 'worn_for_keeping_feet_warm'): 2.9218471501723729e-05,\n",
       "             (8, 'has_bathrooms'): 0.0,\n",
       "             (45, 'used_for_writing_letters'): 0.0,\n",
       "             (66, 'used_for_pasta'): 0.0,\n",
       "             (71, 'has_runs'): 0.0,\n",
       "             (77, 'beh_-_eats_bugs'): 0.0,\n",
       "             (50, 'found_outdoors'): 0.0,\n",
       "             (29, 'has_hinges'): 4.6491620949069106e-05,\n",
       "             (25, 'made_of_graphite'): 4.4234454013438075e-07,\n",
       "             (95, 'has_legs'): 0.0011887654283580611,\n",
       "             (83, 'is_cold'): 4.203692155265459e-06,\n",
       "             (8, 'used_for_tightening_nuts'): 0.0,\n",
       "             (93, 'has_tentacles'): 0.0,\n",
       "             (45, 'beh_-_sits_on_lily_pads'): 0.0,\n",
       "             (97, 'made_of_birch_bark'): 0.0,\n",
       "             (33, 'beh_-_runs'): 0.0,\n",
       "             (49, 'like_a_deer'): 0.0,\n",
       "             (87, 'worn_over_clothes'): 0.0,\n",
       "             (92, 'causes_pollution'): 0.0,\n",
       "             (36, 'beh_-_flies'): 5.232665825337056e-05,\n",
       "             (38, 'eg_-_a_drawbridge'): 0.0,\n",
       "             (71, 'beh_-_walks'): 0.0,\n",
       "             (93, 'made_of_suede'): 0.0,\n",
       "             (40, 'is_small'): 0.011461869903825354,\n",
       "             (11, 'used_for_transporting_liquids'): 0.0,\n",
       "             (2, 'used_for_ploughing'): 0.0,\n",
       "             (84, 'used_for_opening_doors'): 0.0,\n",
       "             (55, 'beh_-_sees_well'): 0.0,\n",
       "             (35, 'inbeh_-_gets_caught'): 0.0,\n",
       "             (5, 'worn_for_covering'): 0.0,\n",
       "             (72, 'used_for_pies'): 0.0,\n",
       "             (5, 'used_by_sailors'): 0.0,\n",
       "             (36, 'used_for_wine'): 0.0,\n",
       "             (40, 'has_chairs'): 0.0,\n",
       "             (17, 'used_by_musicians'): 0.0,\n",
       "             (58, 'inbeh_-_tips'): 0.0,\n",
       "             (50, 'beh_-_eats_worms'): 0.0,\n",
       "             (30, 'beh_-_spouts_water'): 0.0,\n",
       "             (7, 'has_a_red_outside'): 0.0,\n",
       "             (89, 'a_light_fixture'): 0.0,\n",
       "             (0, 'used_in_games'): 0.0,\n",
       "             (85, 'is_sly'): 0.0,\n",
       "             (55, 'a_wolf'): 0.0,\n",
       "             (65, 'is_fashionable'): 0.0,\n",
       "             (81, 'used_for_weddings'): 0.0,\n",
       "             (20, 'inbeh_-_rolls'): 0.0,\n",
       "             (22, 'used_for_certifying'): 0.0,\n",
       "             (4, 'is_mobile'): 0.0,\n",
       "             (84, 'found_in_the_country'): 0.0,\n",
       "             (50, 'used_on_stove_tops'): 0.0,\n",
       "             (28, 'used_for_performing_tricks'): 0.0,\n",
       "             (49, 'has_a_screw_end'): 0.0,\n",
       "             (30, 'a_bag'): 0.0,\n",
       "             (58, 'used_by_riding_by_children'): 0.0,\n",
       "             (20, 'used_long_ago'): 0.0,\n",
       "             (14, 'found_on_the_nickel'): 5.5565883046374162e-07,\n",
       "             (53, 'like_a_cucumber'): 0.0,\n",
       "             (56, 'eg_-_sport'): 1.8390670228992309e-05,\n",
       "             (3, 'has_filling'): 3.8757719655481786e-06,\n",
       "             (25, 'eaten_as_escargot'): 0.0,\n",
       "             (25, 'used_for_carving'): 0.0,\n",
       "             (50, 'beh_-_sees_well'): 0.0,\n",
       "             (8, 'like_a_house'): 0.0,\n",
       "             (28, 'has_a_knob'): 4.9420990740867661e-06,\n",
       "             (96, 'used_for_drawing_blood'): 0.0,\n",
       "             (78, 'has_filling'): 7.8194107676974112e-05,\n",
       "             (1, 'like_a_dog'): 0.0,\n",
       "             (80, 'beh_-_squeals'): 0.0,\n",
       "             (84, 'worn_by_cooks'): 0.0,\n",
       "             (63, 'used_for_breakfast'): 0.0,\n",
       "             (66, 'found_in_hallways'): 0.0,\n",
       "             (50, 'is_stupid'): 0.0,\n",
       "             (6, 'lives_in_houses'): 0.0,\n",
       "             (80, 'has_4_prongs'): 0.0,\n",
       "             (38, 'used_for_performing_tricks'): 0.0,\n",
       "             (48, 'used_in_wood'): 0.0,\n",
       "             (1, 'is_caught_in_nets'): 0.0,\n",
       "             (80, 'has_a_long_neck'): 0.0,\n",
       "             (98, 'has_seeds'): 0.0,\n",
       "             (53, 'has_logos'): 0.0,\n",
       "             (44, 'used_by_men'): 0.0,\n",
       "             (78, 'used_by_thieves'): 0.0,\n",
       "             (79, 'used_for_celebrating'): 0.0,\n",
       "             (74, 'used_with_poles'): 0.0,\n",
       "             (16, 'has_no_seeds'): 0.0,\n",
       "             (68, 'has_a_belt'): 0.0,\n",
       "             (34, 'has_runs'): 0.0,\n",
       "             (92, 'hunted_by_people'): 1.8425222783575544e-05,\n",
       "             (26, 'eaten_by_lions'): 0.0,\n",
       "             (69, 'has_connections'): 0.0,\n",
       "             (54, 'found_in_rooms'): 0.0,\n",
       "             (25, 'has_sharp_teeth'): 4.6324050235889176e-07,\n",
       "             (95, 'beh_-_makes_loud_noises'): 5.4150793522189867e-05,\n",
       "             (91, 'symbol_of_marriages'): 1.0886333745266459e-06,\n",
       "             (24, 'a_vice'): 0.0,\n",
       "             (67, 'is_weaved'): 0.0,\n",
       "             (88, 'used_for_measuring'): 0.0,\n",
       "             (71, 'used_by_smoking'): 0.0,\n",
       "             (51, 'made_of_denim'): 0.0,\n",
       "             (20, 'has_laces'): 0.0,\n",
       "             (66, 'used_for_junk'): 0.0,\n",
       "             (54, 'is_picked'): 0.0,\n",
       "             (4, 'used_for_gifts'): 0.0,\n",
       "             (17, 'an_appliance'): 3.5575337715467839e-05,\n",
       "             (70, 'is_sharp'): 0.0,\n",
       "             (36, 'made_of_straw'): 0.0,\n",
       "             (3, 'used_for_playing'): 0.0,\n",
       "             (20, 'causes_bad_breath'): 0.0,\n",
       "             (33, 'used_for_housing_people'): 0.0,\n",
       "             (72, 'used_for_crossing'): 0.0,\n",
       "             (40, 'used_for_gifts'): 0.0,\n",
       "             (62, 'associated_with_cigarettes'): 0.0,\n",
       "             (39, 'is_the_lowest_floor'): 5.5915733668000378e-07,\n",
       "             (25, 'has_clergy'): 0.0,\n",
       "             (5, 'has_a_dead_nose'): 0.0,\n",
       "             (44, 'like_a_box'): 0.0,\n",
       "             (39, 'has_6_legs'): 0.0,\n",
       "             (77, 'a_tap'): 0.0,\n",
       "             (43, 'has_holders'): 0.0,\n",
       "             (77, 'has_feathers'): 2.1403712757875089e-05,\n",
       "             (47, 'found_on_gifts'): 0.0,\n",
       "             (54, 'has_a_pillow_case'): 0.00031416976667719986,\n",
       "             (83, 'comes_in_a_brine'): 0.0,\n",
       "             (20, 'has_short_sleeves'): 0.0,\n",
       "             (33, 'used_for_wounding'): 0.0,\n",
       "             (20, 'worn_on_torso'): 0.0,\n",
       "             (45, 'beh_-_cocoons'): 0.0,\n",
       "             (77, 'has_a_name_on_it'): 0.0,\n",
       "             (60, 'a_tree'): 0.0,\n",
       "             (0, 'has_smooth_skin'): 0.0,\n",
       "             (39, 'has_cables'): 0.0,\n",
       "             (97, 'used_with_an_outlet'): 0.0,\n",
       "             (35, 'has_a_concave_end/ladle'): 0.0,\n",
       "             (91, 'used_for_attaching_things'): 1.2135296250557618e-06,\n",
       "             (80, 'a_pantyhose'): 0.0,\n",
       "             (89, 'grows_on_houses'): 0.0,\n",
       "             (40, 'is_crunchy'): 2.2208668881955538e-05,\n",
       "             (70, 'has_a_ring_in_its_nose'): 0.0,\n",
       "             (97, 'has_numbers'): 0.0,\n",
       "             (45, 'lives_in_Spain'): 0.0,\n",
       "             (58, 'is_square'): 0.0,\n",
       "             (95, 'is_braided'): 0.0,\n",
       "             (2, 'used_for_walking_on'): 0.00022686989333083551,\n",
       "             (84, 'has_a_retractable_head'): 0.0,\n",
       "             (16, 'is_tight'): 0.0,\n",
       "             (29, 'requires_a_lighting_source'): 0.0,\n",
       "             (66, 'eaten_with_hamburgers'): 0.0,\n",
       "             (86, 'tastes_sweet'): 2.7861784595576934e-05,\n",
       "             (60, 'used_for_listening_to_music'): 0.0,\n",
       "             (44, 'used_for_listening'): 0.0,\n",
       "             (92, 'used_for_getting_cold_water'): 0.0,\n",
       "             (27, 'lives_in_nests'): 0.0,\n",
       "             (67, 'inbeh_-_sprays_water'): 0.0,\n",
       "             (7, 'used_with_saucers'): 0.0,\n",
       "             (59, 'an_appliance'): 2.8319577688519902e-05,\n",
       "             (44, 'like_a_diamond'): 0.0,\n",
       "             (11, 'a_shovel'): 0.0,\n",
       "             (15, 'eaten_in_sandwiches'): 0.0,\n",
       "             (37, 'worn_under_dresses'): 0.0,\n",
       "             (45, 'used_for_plumbing'): 0.0,\n",
       "             (89, 'worn_for_walking'): 0.0,\n",
       "             (23, 'eg_-_iceberg'): 0.0,\n",
       "             (96, 'used_for_making_straight_lines'): 0.0,\n",
       "             (23, 'lives_in_fields'): 0.0,\n",
       "             (42, 'bought/sold_in_stores'): 0.0,\n",
       "             (5, 'a_bolts'): 0.0,\n",
       "             (64, 'found_over_sinks'): 0.0,\n",
       "             (21, 'used_for_eating_on'): 0.0,\n",
       "             (67, 'used_for_appliances'): 0.0,\n",
       "             (58, 'different_shapes'): 0.0,\n",
       "             (63, 'made_in_ovens'): 0.0,\n",
       "             (34, 'requires_water'): 1.8504348028438175e-05,\n",
       "             (66, 'requires_baking'): 0.0,\n",
       "             (32, 'is_cheap'): 3.3539542421316779e-06,\n",
       "             (50, 'eaten_by_lions'): 0.0,\n",
       "             (22, 'found_on_farms'): 0.0,\n",
       "             (66, 'used_for_talking'): 0.0,\n",
       "             (29, 'sounds_great'): 0.0,\n",
       "             (30, 'is_lit_by_flames'): 0.0,\n",
       "             (21, 'used_for_watering_gardens'): 0.0,\n",
       "             (85, 'has_a_bell'): 0.0,\n",
       "             (74, 'used_for_rescuing'): 0.0,\n",
       "             (6, 'inbeh_-_flies_in_the_wind'): 0.0,\n",
       "             (14, 'comes_in_bunches'): 0.0,\n",
       "             (74, 'used_for_cutting_paper'): 0.0,\n",
       "             (0, 'is_not_illegal_to_wear'): 0.0,\n",
       "             (72, 'hunted_by_Eskimos'): 0.0,\n",
       "             (29, 'is_the_lowest_floor'): 6.7620631768319428e-05,\n",
       "             (65, 'worn_for_blocking_the_sun'): 0.0,\n",
       "             (49, 'has_a_red_outside'): 0.0,\n",
       "             (67, 'used_for_farming'): 0.0,\n",
       "             (54, 'smells_nice'): 0.0,\n",
       "             (7, 'used_for_plumbing'): 0.0,\n",
       "             (14, 'used_by_witches'): 7.0512002611407747e-06,\n",
       "             (15, 'lives_in_India'): 0.0,\n",
       "             (70, 'has_ridges'): 0.0,\n",
       "             (41, 'used_on_oceans'): 0.0,\n",
       "             (6, 'is_cold'): 0.00019134300410624821,\n",
       "             (7, 'is_hairy'): 0.0,\n",
       "             (15, 'used_for_storing_cups'): 0.0,\n",
       "             (63, 'beh_-_swims_fast'): 0.0,\n",
       "             (66, 'worn_for_showers'): 0.0,\n",
       "             (63, 'symbol_of_power'): 4.6642539411588941e-06,\n",
       "             (89, 'grows_in_grass'): 0.0,\n",
       "             (69, 'used_for_art'): 0.0,\n",
       "             (75, 'worn_on_shoulders'): 1.4054091218918291e-05,\n",
       "             (45, 'eaten_by_baking'): 2.0272058557359338e-05,\n",
       "             (83, 'used_for_message_boards'): 0.0,\n",
       "             (15, 'has_a_visor'): 0.0,\n",
       "             (7, 'worn_for_the_rain'): 0.0,\n",
       "             (21, 'used_for_living_in'): 0.0,\n",
       "             (4, 'made_of_flowers'): 0.0,\n",
       "             (55, 'beh_-_stores_water'): 0.0,\n",
       "             (56, 'requires_operators'): 0.0,\n",
       "             (71, 'used_for_storing_wine'): 3.1893010013824674e-06,\n",
       "             (46, 'has_hot_water_(right)'): 0.0,\n",
       "             (13, 'used_by_riding_by_children'): 0.0,\n",
       "             (98, 'has_legs'): 3.1401029601778141e-05,\n",
       "             (47, 'used_for_residences'): 0.0,\n",
       "             (38, 'used_for_storing_water'): 1.434881342148332e-05,\n",
       "             (12, 'has_4_hoofs'): 0.0,\n",
       "             (34, 'eaten_in_spaghetti_sauce'): 0.0,\n",
       "             (54, 'has_strings'): 3.5118633150203075e-05,\n",
       "             (73, 'comes_on_cobs'): 0.0,\n",
       "             (53, 'inbeh_-_produces_heat'): 0.0,\n",
       "             (36, 'a_snake'): 0.0,\n",
       "             (24, 'a_pillow'): 0.0,\n",
       "             (41, 'worn_by_knights'): 0.0,\n",
       "             (35, 'beh_-_spits'): 0.0,\n",
       "             (80, 'used_for_protecting_things'): 0.0,\n",
       "             (65, 'used_for_holding_beer'): 0.0,\n",
       "             (18, 'requires_caregivers'): 0.0,\n",
       "             (4, 'a_truck'): 0.0,\n",
       "             (38, 'a_tights'): 0.0,\n",
       "             (16, 'made_of_gold'): 2.9518433986768046e-05,\n",
       "             (85, 'has_decks'): 0.0,\n",
       "             (13, 'used_for_diving_boards'): 0.0,\n",
       "             (81, 'has_a_chin_rest'): 0.0,\n",
       "             (88, 'is_worm_infested'): 0.0,\n",
       "             (76, 'used_for_off_roading'): 0.0,\n",
       "             (55, 'used_for_sending_letters'): 0.0,\n",
       "             (85, 'worn_on_the_head'): 2.7445304601924632e-05,\n",
       "             (75, 'has_racks'): 6.8859319386718867e-05,\n",
       "             (90, 'used_for_wiping_mouth'): 0.0,\n",
       "             (6, 'used_for_appliances'): 0.0,\n",
       "             (18, 'is_twisted'): 0.0,\n",
       "             (27, 'used_for_vegetables'): 0.0,\n",
       "             (12, 'has_tinted_windows'): 0.0,\n",
       "             (37, 'beh_-_migrates'): 0.0,\n",
       "             (54, 'used_for_seating_many_people'): 0.0,\n",
       "             (27, 'a_cat'): 0.0,\n",
       "             (63, 'is_attached_to_chains'): 0.0,\n",
       "             (83, 'a_stone'): 0.0,\n",
       "             (46, 'a_pantyhose'): 0.0,\n",
       "             (76, 'inbeh_-_clicks'): 0.0,\n",
       "             (29, 'has_3_buttons'): 0.0,\n",
       "             (56, 'tastes_sour'): 0.0,\n",
       "             (90, 'has_a_ribbon'): 0.0,\n",
       "             (43, 'used_for_listening_to_news'): 0.0,\n",
       "             (36, 'is_shag'): 6.0462683593361928e-05,\n",
       "             (21, 'used_for_acquiring/storing_knowledge'): 0.0,\n",
       "             (0, 'has_fibre'): 0.0,\n",
       "             (56, 'used_for_holding_animals'): 0.0,\n",
       "             (52, 'grows_in_California'): 0.0025706973640662427,\n",
       "             (33, 'is_restricting'): 0.0,\n",
       "             (60, 'is_dangerous'): 0.00054897582588061568,\n",
       "             (36, 'used_for_flavouring'): 0.00037452118659735069,\n",
       "             (22, 'is_scaly'): 0.0,\n",
       "             (44, 'used_by_lumberjacks'): 0.0,\n",
       "             (59, 'is_popular'): 0.0,\n",
       "             (43, 'used_for_prevention'): 0.0,\n",
       "             (70, 'used_on_Sundays'): 0.0,\n",
       "             (9, 'worn_on_legs'): 0.0,\n",
       "             (21, 'requires_crews'): 0.0,\n",
       "             (36, 'like_a_cow'): 0.0,\n",
       "             (98, 'uses_radiation'): 0.0,\n",
       "             (33, 'used_for_holding_wine'): 0.0,\n",
       "             (90, 'is_green'): 0.0,\n",
       "             (94, 'is_engraved'): 0.0,\n",
       "             (24, 'used_for_lifting'): 0.0,\n",
       "             (84, 'has_a_shell'): 1.5518109532633437e-05,\n",
       "             (71, 'has_feet'): 0.0,\n",
       "             (45, 'has_3_legs'): 0.0,\n",
       "             (92, 'a_watch'): 0.0,\n",
       "             (28, 'requires_money'): 1.3023526593251708e-05,\n",
       "             (8, 'used_for_construction'): 0.0,\n",
       "             (32, 'an_axe'): 0.0,\n",
       "             (64, 'used_on_walls'): 4.4745624805505896e-05,\n",
       "             (43, 'has_a_guard'): 0.0,\n",
       "             (5, 'inbeh_-_produces_beats'): 0.0,\n",
       "             (58, 'eaten_by_old_people'): 0.0,\n",
       "             (67, 'causes_bad_breath'): 0.0,\n",
       "             (49, 'used_for_keeping_food_fresh'): 0.0,\n",
       "             (94, 'used_on_beaches'): 0.0,\n",
       "             (28, 'used_for_washing_dishes'): 2.6211063360165399e-06,\n",
       "             (17, 'has_2_buttons'): 0.0,\n",
       "             (93, 'has_batteries'): 0.0,\n",
       "             (85, 'used_for_covering_windows'): 0.0,\n",
       "             (49, 'associated_with_knights'): 0.0,\n",
       "             (25, 'lives_in_woods'): 1.3759788512483459e-06,\n",
       "             (80, 'like_a_church'): 0.0,\n",
       "             (41, 'used_with_chalk'): 0.0,\n",
       "             (27, 'has_a_temperature_control'): 0.0,\n",
       "             (96, 'beh_-_eats_fish'): 3.3060183148500991e-06,\n",
       "             (96, 'has_a_curly_end'): 0.0,\n",
       "             (24, 'beh_-_runs'): 0.0,\n",
       "             (20, 'is_cute'): 3.6166599784679848e-05,\n",
       "             (54, 'has_beady_eyes'): 0.0,\n",
       "             (57, 'used_for_diving_boards'): 0.0,\n",
       "             (89, 'used_for_attaching_things'): 1.4776776882546916e-06,\n",
       "             (84, 'worn_by_hockey_players'): 0.0,\n",
       "             (16, 'associated_with_Scotland'): 0.0,\n",
       "             (27, 'used_for_destruction'): 0.0,\n",
       "             (4, 'has_a_fireplace'): 0.0,\n",
       "             (6, 'has_a_label'): 0.00018191223986302655,\n",
       "             (89, 'lives_in_grass'): 0.0,\n",
       "             (7, 'used_for_traveling_into_space'): 0.0,\n",
       "             (97, 'has_an_eraser'): 3.2083763759676845e-05,\n",
       "             (7, 'has_hair'): 0.0,\n",
       "             (68, 'beh_-_eats_nuts'): 0.0,\n",
       "             (23, 'used_with_rods'): 0.0,\n",
       "             (92, 'used_for_fastening'): 0.0,\n",
       "             (39, 'has_a_tail'): 0.00012352141270578927,\n",
       "             (46, 'associated_with_polkas'): 0.0,\n",
       "             (78, 'eaten_with_ice_cream'): 0.0,\n",
       "             (15, 'used_by_standing_on'): 0.0,\n",
       "             (95, 'a_fashion_accessory'): 5.2780217577890803e-05,\n",
       "             (60, 'worn_to_bed'): 0.0,\n",
       "             (28, 'used_by_hanging'): 0.0,\n",
       "             (62, 'used_for_racquet_ball'): 0.0,\n",
       "             (0, 'has_units_-_cm'): 0.0,\n",
       "             (37, 'is_convenient'): 0.0,\n",
       "             (68, 'has_gills'): 0.0,\n",
       "             (38, 'used_as_a_home_by_bees'): 1.3725535196363066e-05,\n",
       "             (22, 'found_on_floors'): 7.5290699810309967e-05,\n",
       "             (84, 'beh_-_walks_sideways'): 0.0,\n",
       "             (41, 'used_for_buying_items'): 0.0,\n",
       "             (41, 'used_for_keeping_out_light'): 0.0,\n",
       "             (17, 'a_turtle'): 0.0,\n",
       "             (43, 'eaten_by_fish'): 0.0,\n",
       "             (55, 'is_high_in_fat'): 0.0,\n",
       "             (19, 'inbeh_-_produces_deep_sounds'): 0.0,\n",
       "             (55, 'used_for_sweeping'): 0.0,\n",
       "             (8, 'like_a_church'): 0.0,\n",
       "             (59, 'used_for_sports'): 0.0,\n",
       "             (22, 'made_in_Cuba'): 0.0,\n",
       "             (96, 'used_for_housing_people'): 0.0,\n",
       "             (19, 'a_poultry'): 0.0,\n",
       "             (51, 'found_on_sinks'): 0.0,\n",
       "             (88, 'has_metal_bands'): 1.9214555634359868e-05,\n",
       "             (4, 'beh_-_eats_nuts'): 0.0,\n",
       "             (51, 'beh_-_chases'): 0.0,\n",
       "             (29, 'is_smelly'): 0.0001700986385219268,\n",
       "             (57, 'has_a_bill'): 0.0,\n",
       "             (30, 'a_pan'): 0.0,\n",
       "             (5, 'has_sides'): 0.0,\n",
       "             (21, 'used_for_building'): 0.0,\n",
       "             (29, 'smells_bad'): 0.0,\n",
       "             (16, 'comes_on_cobs'): 0.0,\n",
       "             (61, 'eaten_by_people'): 1.5809811649008763e-05,\n",
       "             (29, 'used_by_inhaling'): 0.0,\n",
       "             (16, 'has_rind'): 0.0,\n",
       "             (95, 'used_for_repairs'): 0.0,\n",
       "             (69, 'found_on_couches'): 0.0,\n",
       "             (56, 'requires_ink'): 0.0,\n",
       "             (34, 'inbeh_-_burns'): 0.0,\n",
       "             (32, 'has_quills'): 4.757724486100721e-06,\n",
       "             (41, 'eg_-_a_pull-over'): 0.0,\n",
       "             (3, 'eaten_with_hamburgers'): 0.0,\n",
       "             (61, 'beh_-_kills_people'): 0.0,\n",
       "             (37, 'eaten_at_birthdays'): 0.0,\n",
       "             (75, 'used_for_keeping_out_sun'): 0.0,\n",
       "             (74, 'used_for_stimulating_imagination'): 0.0,\n",
       "             (94, 'eaten_as_ham'): 0.0,\n",
       "             (34, 'used_for_covering_body'): 0.0,\n",
       "             (58, 'found_in_oysters'): 0.0,\n",
       "             (98, 'used_for_grating_cheese'): 0.0,\n",
       "             (86, 'used_with_paper'): 0.0,\n",
       "             (73, 'requires_bullets'): 6.5524487235561982e-06,\n",
       "             (27, 'has_a_large_pit'): 0.0,\n",
       "             (25, 'found_in_bars'): 0.0,\n",
       "             (60, 'grows_on_vines'): 0.0,\n",
       "             (69, 'used_by_criminals'): 0.0,\n",
       "             (24, 'made_by_humans'): 0.0,\n",
       "             (42, 'has_sharp_teeth'): 8.0725641579439156e-06,\n",
       "             (36, 'used_with_paper'): 0.0,\n",
       "             (0, 'like_a_nail'): 0.0,\n",
       "             (67, 'made_of_birch_bark'): 0.0,\n",
       "             (26, 'a_dresser'): 0.0,\n",
       "             (12, 'is_colourful'): 4.2057172508301915e-05,\n",
       "             (7, 'is_bright'): 0.0,\n",
       "             (46, 'used_for_advertising'): 0.0,\n",
       "             (88, 'has_sections'): 0.0,\n",
       "             (44, 'lives_on_cats'): 0.0,\n",
       "             (49, 'used_for_hunting'): 5.8920752071418605e-06,\n",
       "             (49, 'tastes_dill'): 0.0,\n",
       "             (66, 'made_of_cucumbers'): 0.0,\n",
       "             (89, 'a_boat'): 0.0,\n",
       "             (70, 'a_long_knife'): 0.0,\n",
       "             (55, 'is_graceful'): 0.00044095841327513495,\n",
       "             (58, 'used_for_tennis'): 0.0,\n",
       "             (32, 'has_water_controls'): 0.0,\n",
       "             (99, 'is_wall_to_wall'): 1.0308510309604249e-05,\n",
       "             (0, 'used_on_lawns'): 0.0,\n",
       "             (40, 'used_for_currency'): 0.0,\n",
       "             (66, 'has_heels'): 0.0,\n",
       "             (80, 'beh_-_squeaks'): 0.0,\n",
       "             (4, 'beh_-_eats_leaves'): 1.3717772591021346e-05,\n",
       "             (56, 'associated_with_pageants'): 1.6696076285888079e-05,\n",
       "             (60, 'used_by_David_on_Goliath'): 0.0,\n",
       "             (68, 'used_for_making_jams'): 0.0,\n",
       "             (6, 'requires_bullets'): 0.00020483895700812167,\n",
       "             (48, 'used_by_carrying'): 0.0,\n",
       "             (54, 'made_with_sugar'): 0.0,\n",
       "             (88, 'used_for_achievements'): 0.0,\n",
       "             (4, 'used_by_tightening'): 0.0,\n",
       "             (17, 'beh_-_eats_grain'): 0.0,\n",
       "             (86, 'used_by_sailors'): 0.0,\n",
       "             (11, 'beh_-_eats_nuts'): 0.0,\n",
       "             (7, 'is_metric'): 0.0,\n",
       "             (18, 'a_root'): 0.0,\n",
       "             (0, 'worn_with_suspenders'): 0.0,\n",
       "             (63, 'has_a_light_inside'): 0.0,\n",
       "             (32, 'beh_-_bites'): 0.0,\n",
       "             (44, 'has_racks'): 8.6167689507548839e-05,\n",
       "             (43, 'different_colours'): 0.0038669781095664233,\n",
       "             (75, 'has_1_level'): 0.0,\n",
       "             (99, 'used_for_sealing'): 0.0,\n",
       "             (57, 'requires_licking'): 0.0,\n",
       "             (88, 'used_for_heating_food'): 0.0,\n",
       "             (23, 'used_for_draining_liquids'): 0.0,\n",
       "             (37, 'found_in_clams'): 0.0,\n",
       "             (16, 'used_for_diving_boards'): 0.0,\n",
       "             (41, 'has_carbohydrates'): 0.0,\n",
       "             (85, 'like_a_deer'): 0.0,\n",
       "             (43, 'eaten_as_french_fries'): 0.0,\n",
       "             (35, 'inbeh_-_expands'): 0.0,\n",
       "             (32, 'is_cylindrical'): 0.0,\n",
       "             (75, 'is_nuclear'): 0.0,\n",
       "             (20, 'used_as_a_projectile'): 0.0,\n",
       "             (4, 'has_batteries'): 0.0,\n",
       "             (5, 'is_orange_inside'): 0.0,\n",
       "             (31, 'used_for_swinging'): 0.0,\n",
       "             (44, 'found_at_the_end_of_a_gun'): 0.0,\n",
       "             (18, 'has_a_shell'): 0.00021348620104620321,\n",
       "             (69, 'used_for_cruising'): 0.0,\n",
       "             (39, 'lives_in_a_hill'): 0.0,\n",
       "             (0, 'used_with_paper'): 0.0,\n",
       "             (52, 'used_for_storage'): 1.0873737058741994e-05,\n",
       "             (44, 'eaten_as_sauces'): 0.0,\n",
       "             (3, 'is_harvested'): 0.0,\n",
       "             (21, 'is_twisted'): 0.0,\n",
       "             (71, 'used_on_dogs'): 0.0,\n",
       "             (21, 'beh_-_soars'): 0.0,\n",
       "             (34, 'used_for_living_in'): 0.0,\n",
       "             (26, 'beh_-_cannot_fly'): 0.0,\n",
       "             (59, 'used_for_classical_music'): 0.0,\n",
       "             (43, 'is_leafy'): 0.0,\n",
       "             (20, 'worn_on_legs'): 0.0,\n",
       "             (37, 'has_no_backrest'): 0.0,\n",
       "             (58, 'is_sheer'): 0.0,\n",
       "             (38, 'lives_in_packs'): 0.0,\n",
       "             (20, 'beh_-_oinks'): 0.0,\n",
       "             (21, 'like_a_deer'): 0.0,\n",
       "             (54, 'made_of_silk'): 1.5902300037365481e-05,\n",
       "             (3, 'has_bowls'): 0.0,\n",
       "             (51, 'eaten_by_peeling'): 0.0,\n",
       "             (42, 'inbeh_-_surrounds_yards'): 0.0,\n",
       "             (8, 'found_in_back_yards'): 0.0,\n",
       "             (55, 'worn_for_dancing'): 0.0,\n",
       "             (21, 'requires_setting_up'): 0.0,\n",
       "             (74, 'used_for_moving_things'): 0.0,\n",
       "             (95, 'beh_-_crawls'): 0.0,\n",
       "             (62, 'made_of_cement'): 3.7385537700283992e-05,\n",
       "             (7, 'associated_with_Easter'): 0.0,\n",
       "             (47, 'has_a_hard_shell'): 0.0,\n",
       "             (79, 'a_poultry'): 0.0,\n",
       "             (36, 'used_at_school'): 8.2342631484224929e-05,\n",
       "             (97, 'like_a_peach'): 0.0,\n",
       "             (49, 'beh_-_lays_large_eggs'): 0.0,\n",
       "             (55, 'used_for_wiping_hands'): 0.0,\n",
       "             (65, 'has_2_legs'): 0.0,\n",
       "             (12, 'used_for_opening_things'): 0.0,\n",
       "             (3, 'is_cool'): 0.0,\n",
       "             (86, 'used_for_bubble_baths'): 0.0,\n",
       "             (39, 'like_a_stick'): 0.00030943864111312286,\n",
       "             (43, 'has_many_floors'): 0.0,\n",
       "             (94, 'worn_with_dresses'): 0.0,\n",
       "             (84, 'used_for_throwing'): 0.0,\n",
       "             (20, 'used_for_certifying'): 0.0,\n",
       "             (31, 'eaten_with_ice_cream'): 0.0,\n",
       "             (0, 'worn_in_hot_weather'): 0.0,\n",
       "             (25, 'beh_-_eats_water_plants'): 0.0,\n",
       "             (92, 'worn_on_shoulders'): 1.1482871995047244e-05,\n",
       "             (23, 'inbeh_-_turns'): 0.0,\n",
       "             (36, 'a_tree'): 0.0,\n",
       "             (57, 'made_of_gold'): 3.9146145936673893e-05,\n",
       "             (41, 'has_walls'): 2.5604733567739733e-05,\n",
       "             (41, 'has_a_collar'): 0.0,\n",
       "             (31, 'different_sizes'): 6.8253152752943555e-07,\n",
       "             (81, 'has_peel'): 0.0,\n",
       "             (36, 'has_a_charm'): 0.0,\n",
       "             (75, 'lives_in_north'): 0.0,\n",
       "             (26, 'like_a_train'): 0.0,\n",
       "             (70, 'a_stone'): 0.0,\n",
       "             (34, 'beh_-_walks_sideways'): 0.0,\n",
       "             (40, 'used_for_repelling_dracula'): 0.0,\n",
       "             (25, 'used_for_vegetables'): 0.0,\n",
       "             (7, 'an_axe'): 0.0,\n",
       "             (24, 'grows_in_Florida'): 0.0,\n",
       "             (20, 'used_for_personal_space'): 0.0,\n",
       "             (15, 'is_sly'): 0.0,\n",
       "             (44, 'beh_-_squeaks'): 0.0,\n",
       "             (99, 'associated_with_2_bedrooms'): 0.0,\n",
       "             (97, 'worn_for_swimming'): 0.0,\n",
       "             (79, 'used_for_playing_FM'): 0.0,\n",
       "             (30, 'is_portable'): 0.0,\n",
       "             (6, 'a_tube'): 0.0,\n",
       "             (70, 'made_of_vodka_and_orange_juice'): 0.0,\n",
       "             (91, 'associated_with_couch_potato'): 0.0,\n",
       "             (25, 'an_amphibian'): 0.0,\n",
       "             (96, 'eg_-_granny_smith'): 0.0,\n",
       "             (77, 'an_award'): 0.0,\n",
       "             (51, 'has_rims'): 0.0,\n",
       "             (48, 'has_starch'): 0.0,\n",
       "             (91, 'has_a_large_beak'): 0.0,\n",
       "             (72, 'symbol_of_Canada'): 4.1593409267356775e-06,\n",
       "             (17, 'inbeh_-_produces_beats'): 0.0,\n",
       "             (16, 'has_no_sleeves'): 0.0,\n",
       "             (70, 'has_long_legs'): 0.0,\n",
       "             (59, 'lives_in_warm_climates'): 0.0,\n",
       "             (46, 'comes_in_bulbs'): 0.0,\n",
       "             (32, 'used_in_relay_races'): 0.0013207170140121047,\n",
       "             (49, 'beh_-_communicates'): 0.0,\n",
       "             (50, 'requires_washing'): 4.5110827054710247e-05,\n",
       "             (68, 'used_for_measuring_evenness'): 0.0,\n",
       "             (61, 'a_baby_is_a_kitten'): 0.0,\n",
       "             (31, 'beh_-_pecks'): 0.0,\n",
       "             (26, 'has_2_blades'): 0.0,\n",
       "             (45, 'has_a_pointed_end'): 0.0,\n",
       "             (41, 'used_for_surgery'): 0.0,\n",
       "             (32, 'is_measured_in_degrees_Fahrenheit'): 0.0,\n",
       "             (40, 'worn_with_skirts'): 0.0,\n",
       "             (77, 'has_soles'): 0.0,\n",
       "             (24, 'worn_by_kings'): 4.7685386366996246e-05,\n",
       "             (92, 'has_a_hitch'): 0.0,\n",
       "             (60, 'worn_for_running'): 0.0,\n",
       "             (32, 'has_white_laces'): 0.0,\n",
       "             (25, 'has_a_brown_outside'): 0.0,\n",
       "             (4, 'has_a_closet'): 0.0,\n",
       "             (24, 'a_space'): 0.0,\n",
       "             (16, 'used_for_squash'): 0.0,\n",
       "             (51, 'beh_-_eats_carrots'): 0.0,\n",
       "             (44, 'made_of_canvas'): 0.0,\n",
       "             (48, 'found_below_ground'): 2.4475968177459989e-05,\n",
       "             (46, 'a_feline'): 0.0,\n",
       "             (71, 'used_with_leather'): 0.0,\n",
       "             (43, 'has_candles'): 0.0,\n",
       "             (75, 'used_for_message_boards'): 0.0,\n",
       "             (81, 'used_by_paramedics'): 0.0,\n",
       "             (60, 'a_seafood'): 0.0,\n",
       "             (63, 'causes_freezer_burn'): 0.0,\n",
       "             (61, 'is_casual'): 0.0,\n",
       "             (87, 'has_high_heels'): 0.0,\n",
       "             (70, 'is_scientific'): 0.0,\n",
       "             (40, 'lives_in_a_hole'): 0.0,\n",
       "             (88, 'has_a_red_outside'): 0.0,\n",
       "             (70, 'used_for_repelling'): 0.0,\n",
       "             (47, 'a_food'): 0.00017166187937353388,\n",
       "             (30, 'used_in_sandwiches'): 0.0,\n",
       "             (51, 'has_leaves'): 0.0,\n",
       "             (83, 'requires_a_stamp'): 0.0,\n",
       "             (50, 'has_a_crust'): 0.0,\n",
       "             (98, 'used_on_boards'): 0.0,\n",
       "             (71, 'used_on_waves'): 0.0,\n",
       "             (74, 'used_by_Indians'): 0.0,\n",
       "             (95, 'used_for_locking/unlocking_cars'): 0.0,\n",
       "             (50, 'used_for_riding_rapids'): 0.0,\n",
       "             (0, 'used_for_heating_food'): 0.0,\n",
       "             (99, 'used_for_locks'): 0.0,\n",
       "             (68, 'used_for_amusement'): 0.0,\n",
       "             (91, 'found_outdoors'): 0.0,\n",
       "             (40, 'beh_-_kills'): 0.0,\n",
       "             (29, 'beh_-_drinks'): 0.0,\n",
       "             (43, 'a_musical_instrument'): 0.0062963436319766431,\n",
       "             (83, 'used_for_tightening_screws'): 0.0,\n",
       "             (0, 'is_musty'): 2.9495794969364071e-05,\n",
       "             (25, 'worn_for_keeping_warm'): 0.0,\n",
       "             (1, 'used_for_sleeping_in'): 0.0,\n",
       "             (92, 'has_stairways'): 9.5248159002073074e-06,\n",
       "             (26, 'is_warm'): 5.3156573530841726e-05,\n",
       "             (2, 'used_for_wine'): 0.0,\n",
       "             (68, 'found_in_bedrooms'): 0.0,\n",
       "             (52, 'used_by_mailing'): 0.0,\n",
       "             (4, 'is_beige'): 0.0,\n",
       "             (32, 'worn_for_walking'): 0.0,\n",
       "             (96, 'has_a_wet_nose'): 0.0,\n",
       "             (4, 'lives_in_stables'): 8.346730185288362e-06,\n",
       "             (2, 'a_relative_of_frogs'): 0.0,\n",
       "             (0, 'is_fuzzy/fluffy'): 2.9719360790371179e-05,\n",
       "             (4, 'used_by_babies'): 0.0,\n",
       "             (39, 'worn_under_dresses'): 0.0,\n",
       "             (53, 'used_for_making_holes'): 0.0,\n",
       "             (18, 'used_for_building'): 0.0,\n",
       "             (80, 'has_belt_loops'): 0.0,\n",
       "             (18, 'made_of_glass'): 2.6492387117980904e-05,\n",
       "             (35, 'has_starch'): 0.0,\n",
       "             (35, 'has_a_pointed_end'): 0.0,\n",
       "             (84, 'found_in_rooms'): 0.0,\n",
       "             (67, 'bought/sold_in_stores'): 0.0,\n",
       "             (60, 'has_bowls'): 0.0,\n",
       "             (77, 'used_for_transporting_liquids'): 0.0,\n",
       "             (36, 'a_dog'): 0.0,\n",
       "             (48, 'used_for_holding_animals'): 0.0,\n",
       "             (14, 'a_bike'): 0.0,\n",
       "             (44, 'is_slender'): 0.0,\n",
       "             (29, 'is_pretty'): 4.3724557915461113e-06,\n",
       "             (2, 'smells_distinct'): 0.0,\n",
       "             (74, 'is_common'): 0.0,\n",
       "             (44, 'found_in_forests'): 0.0,\n",
       "             (4, 'used_in_orchestras'): 2.8794586900939254e-05,\n",
       "             (91, 'used_for_communication'): 0.0,\n",
       "             (72, 'used_with_screwdrivers'): 0.0,\n",
       "             (83, 'eaten_as_popcorn'): 0.0,\n",
       "             (18, 'used_for_talking'): 0.0,\n",
       "             (29, 'has_an_outside'): 0.0,\n",
       "             (48, 'used_on_stove_tops'): 0.0,\n",
       "             (46, 'used_as_a_home_by_queen_bees'): 2.3125939517642995e-05,\n",
       "             (81, 'beh_-_sucks_blood'): 0.0,\n",
       "             (3, 'beh_-_talks'): 0.0,\n",
       "             (5, 'is_high_off_ground'): 0.0,\n",
       "             ...})"
      ]
     },
     "execution_count": 277,
     "metadata": {},
     "output_type": "execute_result"
    }
   ],
   "source": [
    "topicprop_dict"
   ]
  },
  {
   "cell_type": "code",
   "execution_count": 276,
   "metadata": {
    "collapsed": false
   },
   "outputs": [
    {
     "data": {
      "text/plain": [
       "[2.7835795565636163e-05,\n",
       " 4.0708253768079464e-07,\n",
       " 5.2188452164033187e-05,\n",
       " 6.1021098837543853e-06,\n",
       " 9.4706931236031319e-06,\n",
       " 1.6097480213343308e-05,\n",
       " 0.00018799429573558853,\n",
       " 5.7800649213755646e-05,\n",
       " 3.4757189803258403e-05,\n",
       " 6.8413770201590892e-06,\n",
       " 8.9656201869028678e-05,\n",
       " 1.2854773969152744e-05,\n",
       " 4.4669918487140622e-05,\n",
       " 1.1075030566405172e-05,\n",
       " 4.2797301852816954e-07,\n",
       " 5.6879038935662239e-05,\n",
       " 1.4713930810165159e-05,\n",
       " 3.2508062018298572e-05,\n",
       " 4.4383418782382336e-07,\n",
       " 1.2702818732615917e-05,\n",
       " 9.5151796474149228e-06,\n",
       " 2.0446992180101387e-05,\n",
       " 4.0061564591181151e-07,\n",
       " 9.5214650936401368e-07,\n",
       " 4.752946841864669e-05,\n",
       " 0.00012585709772363252,\n",
       " 3.2393111088766183e-05,\n",
       " 7.2880883490042362e-05,\n",
       " 2.7870709588338504e-06,\n",
       " 4.3724557915461113e-06,\n",
       " 4.9431480263333088e-06,\n",
       " 5.6255584655307498e-07,\n",
       " 3.3539542421316779e-06,\n",
       " 3.8935327740592043e-05,\n",
       " 1.8984911922098676e-05,\n",
       " 5.7187365403181711e-05,\n",
       " 5.0003632775273777e-05,\n",
       " 8.5471073396177593e-06,\n",
       " 1.3321613475515789e-05,\n",
       " 1.9093092799425117e-07,\n",
       " 3.3172641759353464e-05,\n",
       " 2.5319587578738526e-05,\n",
       " 8.0801451910787479e-06,\n",
       " 1.2920684179486838e-05,\n",
       " 0.00043274095883713223,\n",
       " 9.3207545547572589e-08,\n",
       " 2.2162248408251694e-05,\n",
       " 2.2295542156750577e-05,\n",
       " 2.3948226959399508e-05,\n",
       " 7.2518831354700589e-05,\n",
       " 3.850108173305653e-05,\n",
       " 1.5438488920150917e-05,\n",
       " 5.3648194607076958e-06,\n",
       " 6.1464804376563828e-07,\n",
       " 1.2667810582710085e-05,\n",
       " 0.00018210150323788983,\n",
       " 1.6525221320217444e-05,\n",
       " 1.9729587597134276e-05,\n",
       " 1.0241499882145569e-05,\n",
       " 2.7313615271762007e-05,\n",
       " 0.00012836123641833859,\n",
       " 1.560701509683163e-05,\n",
       " 3.0300300613972745e-05,\n",
       " 4.6463039904680028e-06,\n",
       " 4.1979243077098596e-05,\n",
       " 5.1911161178684257e-06,\n",
       " 7.2912546615354186e-05,\n",
       " 7.1133327275321772e-06,\n",
       " 3.6242306402459823e-06,\n",
       " 1.4537371496392468e-05,\n",
       " 3.9625542895416835e-05,\n",
       " 1.2486205844732527e-06,\n",
       " 3.584962015924638e-06,\n",
       " 6.4584563773856691e-06,\n",
       " 4.6451122517280827e-06,\n",
       " 4.6589989296334009e-07,\n",
       " 2.8464670712397584e-07,\n",
       " 2.0741575068931809e-05,\n",
       " 7.6318003088166465e-05,\n",
       " 4.1874749561733658e-05,\n",
       " 1.4555851380686241e-05,\n",
       " 1.6571416379499105e-05,\n",
       " 0.00069473040934540323,\n",
       " 4.2124115767180249e-06,\n",
       " 1.5176038776086752e-05,\n",
       " 2.741377662132938e-05,\n",
       " 2.0146309620107019e-05,\n",
       " 0.00014117598008697867,\n",
       " 1.5717378322142547e-05,\n",
       " 3.9096667898667396e-05,\n",
       " 2.7299871175933117e-05,\n",
       " 1.0886333745266459e-06,\n",
       " 8.5745089132831998e-06,\n",
       " 1.9152078989091798e-07,\n",
       " 1.9859291841050279e-05,\n",
       " 5.4066660228118115e-05,\n",
       " 4.8382892799063207e-07,\n",
       " 3.2790668382068417e-05,\n",
       " 8.9712059638733989e-06,\n",
       " 8.8329502474578247e-07]"
      ]
     },
     "execution_count": 276,
     "metadata": {},
     "output_type": "execute_result"
    }
   ],
   "source": [
    "[p_prop_given_topic('is_pretty',i) for i in xrange(100)]"
   ]
  },
  {
   "cell_type": "code",
   "execution_count": 269,
   "metadata": {
    "collapsed": false
   },
   "outputs": [
    {
     "data": {
      "text/plain": [
       "[0.032071711177920001,\n",
       " 4.337339312373863e-07,\n",
       " 2.2913792572441009e-05,\n",
       " 3.3671739466501133e-06,\n",
       " 9.6702379243922687e-06,\n",
       " 1.6155921601376109e-05,\n",
       " 0.00018819777143013142,\n",
       " 5.981502483537024e-05,\n",
       " 3.4939761936256769e-05,\n",
       " 7.2918443588069196e-06,\n",
       " 0.00010089286817589648,\n",
       " 1.3496436986178848e-05,\n",
       " 3.7689205135705038e-05,\n",
       " 1.3559558174880924e-05,\n",
       " 4.4756320344192921e-07,\n",
       " 5.7620871762187388e-05,\n",
       " 1.4735287473365678e-05,\n",
       " 3.2376067090696879e-05,\n",
       " 9.3360490670670301e-05,\n",
       " 0.006230197015509969,\n",
       " 9.7696158115192595e-06,\n",
       " 2.1709697535943629e-05,\n",
       " 3.9357074814254607e-07,\n",
       " 9.680099264389565e-07,\n",
       " 5.0440223377959161e-05,\n",
       " 5.8682563744926254e-07,\n",
       " 3.5660979661185271e-05,\n",
       " 7.4406930446467491e-05,\n",
       " 2.6404003673511027e-06,\n",
       " 5.7298513299572185e-05,\n",
       " 2.9338593377149078e-05,\n",
       " 5.5854315697347028e-07,\n",
       " 3.5562461796523948e-06,\n",
       " 4.117794934703849e-05,\n",
       " 1.8611690895109984e-05,\n",
       " 6.8495228210886875e-05,\n",
       " 5.3295704944779272e-05,\n",
       " 8.5458356884943473e-06,\n",
       " 1.3211535002365344e-05,\n",
       " 0.00011617729302069353,\n",
       " 2.3408653891644529e-05,\n",
       " 2.6160782491760017e-05,\n",
       " 8.0481366411740173e-06,\n",
       " 1.5841592025715215e-05,\n",
       " 1.0963290361326791e-06,\n",
       " 8.1671911385684194e-06,\n",
       " 2.2347036996761575e-05,\n",
       " 0.00013547167441243412,\n",
       " 2.825673684821825e-05,\n",
       " 0.00021186797367665145,\n",
       " 3.8472170372367588e-05,\n",
       " 1.5598993606349994e-05,\n",
       " 5.3220848942427612e-06,\n",
       " 6.1638556595731471e-07,\n",
       " 1.3421490733542087e-05,\n",
       " 7.3779266557337702e-06,\n",
       " 1.6954136819086433e-05,\n",
       " 2.0867661676444266e-05,\n",
       " 9.8114464636340493e-06,\n",
       " 2.8555366500737945e-05,\n",
       " 0.00012756525658292012,\n",
       " 1.574281575832615e-05,\n",
       " 3.0846895778985706e-05,\n",
       " 4.6670705080361293e-06,\n",
       " 4.3411180342589063e-05,\n",
       " 3.2403760318037291e-06,\n",
       " 7.3903266822648354e-05,\n",
       " 6.9147499676051226e-06,\n",
       " 3.6766490511670546e-06,\n",
       " 1.7406111506384752e-05,\n",
       " 4.1477044868316361e-05,\n",
       " 4.9728958534189219e-05,\n",
       " 4.410908755360881e-06,\n",
       " 7.2910501688226427e-06,\n",
       " 4.5719598089089336e-06,\n",
       " 4.7529900833806597e-07,\n",
       " 3.3382686786217821e-05,\n",
       " 2.0980520981415749e-05,\n",
       " 7.7022663324718946e-05,\n",
       " 3.9642410949618421e-05,\n",
       " 1.4964194291849124e-05,\n",
       " 1.6251786515042054e-05,\n",
       " 5.5260150199832524e-06,\n",
       " 4.2609337834755874e-06,\n",
       " 1.5221966324837508e-05,\n",
       " 2.7734590592914636e-05,\n",
       " 2.0258652334684539e-05,\n",
       " 0.00013814824220398676,\n",
       " 1.6045055698293565e-05,\n",
       " 1.3894741320880397e-06,\n",
       " 0.00019343057915723332,\n",
       " 1.2620322630794781e-06,\n",
       " 8.9295692281700239e-06,\n",
       " 3.1029459344498248e-06,\n",
       " 1.8704301616833081e-05,\n",
       " 5.3305318150881649e-05,\n",
       " 5.125796664936344e-07,\n",
       " 3.1472081104881179e-05,\n",
       " 8.684318839774141e-06,\n",
       " 0.00036060335362387484]"
      ]
     },
     "execution_count": 269,
     "metadata": {},
     "output_type": "execute_result"
    }
   ],
   "source": [
    "[p_word_given_topic('raceway',i) for i in xrange(100)]"
   ]
  },
  {
   "cell_type": "markdown",
   "metadata": {},
   "source": [
    "### C. New Word Properties\n",
    "\n",
    "* $\\text{new_word}(prop) = \\{prop\\mid prop\\in \\text{top-k new_word context prop}\\}$."
   ]
  },
  {
   "cell_type": "code",
   "execution_count": null,
   "metadata": {
    "collapsed": true
   },
   "outputs": [],
   "source": []
  },
  {
   "cell_type": "code",
   "execution_count": null,
   "metadata": {
    "collapsed": true
   },
   "outputs": [],
   "source": []
  },
  {
   "cell_type": "code",
   "execution_count": null,
   "metadata": {
    "collapsed": true
   },
   "outputs": [],
   "source": []
  }
 ],
 "metadata": {
  "kernelspec": {
   "display_name": "Python 2",
   "language": "python",
   "name": "python2"
  },
  "language_info": {
   "codemirror_mode": {
    "name": "ipython",
    "version": 2
   },
   "file_extension": ".py",
   "mimetype": "text/x-python",
   "name": "python",
   "nbconvert_exporter": "python",
   "pygments_lexer": "ipython2",
   "version": "2.7.11"
  }
 },
 "nbformat": 4,
 "nbformat_minor": 0
}
