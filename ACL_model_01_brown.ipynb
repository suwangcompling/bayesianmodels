{
 "cells": [
  {
   "cell_type": "code",
   "execution_count": 1,
   "metadata": {
    "collapsed": false
   },
   "outputs": [],
   "source": [
    "import sys\n",
    "sys.path = ['/Users/jacobsw/Desktop/CODER/SPARK/spark-2.0.0-bin-hadoop2.7/python',\n",
    " '/Users/jacobsw/Desktop/CODER/SPARK/spark-2.0.0-bin-hadoop2.7/python/lib/py4j-0.10.1-src.zip',\n",
    " '/Users/jacobsw/Desktop/CODER/SPARK/spark-2.0.0-bin-hadoop2.7/python',\n",
    " '/Users/jacobsw/Desktop/CODER/SPARK/spark-2.0.0-bin-hadoop2.7/python/lib/py4j-0.10.1-src.zip',\n",
    " '/Users/jacobsw/Desktop/CODER/SPARK/spark-2.0.0-bin-hadoop2.7/python',\n",
    " u'/private/var/folders/8j/ptm7g49n12g94wn8cn44frr40000gn/T/spark-6d7026cb-1d7f-487b-a18f-adb8e1bd10fc/userFiles-ebdbc2d0-0c68-4c9a-83c8-54ad356cda18',\n",
    " '/Users/jacobsw/Desktop/CODER/SPARK/spark-2.0.0-bin-hadoop2.7/python/lib/py4j-0.10.1-src.zip',\n",
    " '/Users/jacobsw/Desktop/CODER/SPARK/spark-2.0.0-bin-hadoop2.7/python',\n",
    " '/Users/jacobsw/Desktop/CODER/SPARK/spark-2.0.0-bin-hadoop2.7/python/lib/py4j-0.10.1-src.zip',\n",
    " '',\n",
    " '/Users/jacobsw/anaconda2/lib/python27.zip',\n",
    " '/Users/jacobsw/anaconda2/lib/python2.7',\n",
    " '/Users/jacobsw/anaconda2/lib/python2.7/plat-darwin',\n",
    " '/Users/jacobsw/anaconda2/lib/python2.7/plat-mac',\n",
    " '/Users/jacobsw/anaconda2/lib/python2.7/plat-mac/lib-scriptpackages',\n",
    " '/Users/jacobsw/anaconda2/lib/python2.7/lib-tk',\n",
    " '/Users/jacobsw/anaconda2/lib/python2.7/lib-old',\n",
    " '/Users/jacobsw/anaconda2/lib/python2.7/lib-dynload',\n",
    " '/Users/jacobsw/.local/lib/python2.7/site-packages',\n",
    " '/Users/jacobsw/.local/lib/python2.7/site-packages/treetagger-1.0.1-py2.7.egg',\n",
    " '/Users/jacobsw/anaconda2/lib/python2.7/site-packages',\n",
    " '/Users/jacobsw/anaconda2/lib/python2.7/site-packages/Sphinx-1.3.5-py2.7.egg',\n",
    " '/Users/jacobsw/anaconda2/lib/python2.7/site-packages/aeosa',\n",
    " '/Users/jacobsw/anaconda2/lib/python2.7/site-packages/six-1.10.0-py2.7.egg',\n",
    " '/Users/jacobsw/anaconda2/lib/python2.7/site-packages/ojo_ner-0.1-py2.7.egg',\n",
    " '/Users/jacobsw/anaconda2/lib/python2.7/site-packages/calysto_scheme-1.1.8-py2.7.egg',\n",
    " '/Users/jacobsw/.local/lib/python2.7/site-packages',\n",
    " '/Users/jacobsw/.local/lib/python2.7/site-packages/IPython/extensions',\n",
    " '/Users/jacobsw/.ipython']\n",
    "\n",
    "# pyspark-integrated python at: /Users/jacobsw/Desktop/CODER/SPARK/pyspark_path.txt\n",
    "\n",
    "import os\n",
    "os.environ[\"SPARK_HOME\"] = \"/Users/jacobsw/Desktop/CODER/SPARK/spark-2.0.0-bin-hadoop2.7/\"\n",
    "\n",
    "import pyspark\n",
    "from pyspark.context import SparkContext\n",
    "\n",
    "sc = SparkContext() # run once, then you have it until restarting kernel"
   ]
  },
  {
   "cell_type": "markdown",
   "metadata": {},
   "source": [
    "## I. Pseudo Document"
   ]
  },
  {
   "cell_type": "code",
   "execution_count": 2,
   "metadata": {
    "collapsed": false
   },
   "outputs": [],
   "source": [
    "import cPickle\n",
    "import numpy as np\n",
    "from nltk.corpus import brown\n",
    "from spacy.en import English\n",
    "from spacy.en import STOPWORDS\n",
    "from collections import defaultdict"
   ]
  },
  {
   "cell_type": "code",
   "execution_count": 3,
   "metadata": {
    "collapsed": false
   },
   "outputs": [],
   "source": [
    "norms,norm2prop,norm2propprob,props = cPickle.load(open(\"/Users/jacobsw/Desktop/UNIV/FALL_2016/LIN389C_RSCH_COMPLING/BAYESIAN/DATA/MCRAE/mcare_norm_data.p\",'rb'))"
   ]
  },
  {
   "cell_type": "code",
   "execution_count": 4,
   "metadata": {
    "collapsed": false
   },
   "outputs": [
    {
     "name": "stdout",
     "output_type": "stream",
     "text": [
      "CPU times: user 2 µs, sys: 1 µs, total: 3 µs\n",
      "Wall time: 5.96 µs\n"
     ]
    }
   ],
   "source": [
    "%time\n",
    "brown_sents = [unicode(' '.join(sent)) for sent in brown.sents()]\n",
    "parser = English()\n",
    "parsed_sents = [parser(sent) for sent in brown_sents]"
   ]
  },
  {
   "cell_type": "code",
   "execution_count": 5,
   "metadata": {
    "collapsed": true
   },
   "outputs": [],
   "source": [
    "def extract_dep_triples(parsed_sents):   \n",
    "    triples = []\n",
    "    for parsed_sent in parsed_sents:\n",
    "        for token in parsed_sent:\n",
    "            lemma_triple = (token.lemma_, token.dep_, token.head.lemma_)\n",
    "            triples.append(lemma_triple)\n",
    "    return triples"
   ]
  },
  {
   "cell_type": "code",
   "execution_count": 6,
   "metadata": {
    "collapsed": false
   },
   "outputs": [
    {
     "name": "stdout",
     "output_type": "stream",
     "text": [
      "CPU times: user 898 ms, sys: 108 ms, total: 1.01 s\n",
      "Wall time: 994 ms\n"
     ]
    }
   ],
   "source": [
    "%%time\n",
    "dep_triples = extract_dep_triples(parsed_sents)"
   ]
  },
  {
   "cell_type": "code",
   "execution_count": 7,
   "metadata": {
    "collapsed": false
   },
   "outputs": [
    {
     "name": "stdout",
     "output_type": "stream",
     "text": [
      "CPU times: user 304 ms, sys: 5.38 ms, total: 309 ms\n",
      "Wall time: 309 ms\n"
     ]
    }
   ],
   "source": [
    "%%time\n",
    "norms_set = set(norms)\n",
    "norm2vr_f = defaultdict(lambda : defaultdict(list))\n",
    "for norm,dep,head in dep_triples:\n",
    "    if norm in norms_set and (dep=='nsubj' or dep=='dobj'):\n",
    "        vr = head+'-'+dep\n",
    "        f = np.random.choice(norm2prop[norm],p=norm2propprob[norm])\n",
    "        norm2vr_f[norm]['vr'].append(vr)\n",
    "        norm2vr_f[norm]['f'].append(f)"
   ]
  },
  {
   "cell_type": "code",
   "execution_count": 8,
   "metadata": {
    "collapsed": false
   },
   "outputs": [],
   "source": [
    "norms, features = norm2vr_f.keys(), props\n",
    "n2i = {n:i for i,n in enumerate(norms)} # indexing pseudo-docs, each corresponds to 1 norm word.\n",
    "f2i = {f:i for i,f in enumerate(features)}"
   ]
  },
  {
   "cell_type": "code",
   "execution_count": 9,
   "metadata": {
    "collapsed": true
   },
   "outputs": [],
   "source": [
    "words = [] # i.e. v-r pairs.\n",
    "for norm in norms:\n",
    "    words += norm2vr_f[norm]['vr']\n",
    "words = list(set(words))\n",
    "w2i = {w:i for i,w in enumerate(words)}"
   ]
  },
  {
   "cell_type": "code",
   "execution_count": 10,
   "metadata": {
    "collapsed": false
   },
   "outputs": [],
   "source": [
    "word_docs, prop_docs = [], [] # word_docs: for v-r pairs.\n",
    "for norm in norms:\n",
    "    word_docs.append(norm2vr_f[norm]['vr'])\n",
    "    prop_docs.append(norm2vr_f[norm]['f'])"
   ]
  },
  {
   "cell_type": "code",
   "execution_count": 11,
   "metadata": {
    "collapsed": false
   },
   "outputs": [
    {
     "name": "stdout",
     "output_type": "stream",
     "text": [
      "327 327\n"
     ]
    }
   ],
   "source": [
    "print len(word_docs), len(prop_docs)"
   ]
  },
  {
   "cell_type": "code",
   "execution_count": 12,
   "metadata": {
    "collapsed": false,
    "scrolled": false
   },
   "outputs": [
    {
     "name": "stdout",
     "output_type": "stream",
     "text": [
      "Validation for word at idx0: taxi\n",
      "\n",
      "[u'enter-dobj', u'be-nsubj', u'pick-dobj', u'take-nsubj', u'grab-dobj', u'take-dobj', u'call-dobj']\n",
      "\n",
      "['is_yellow', 'requires_money', 'is_expensive', 'a_car', 'a_car', 'a_car', 'is_expensive']\n"
     ]
    }
   ],
   "source": [
    "print \"Validation for word at idx0: taxi\"; print\n",
    "print word_docs[0]; print\n",
    "print prop_docs[0]"
   ]
  },
  {
   "cell_type": "markdown",
   "metadata": {},
   "source": [
    "## II. Bimodal Topic Modeling"
   ]
  },
  {
   "cell_type": "markdown",
   "metadata": {},
   "source": [
    "** Initialize Topics **"
   ]
  },
  {
   "cell_type": "code",
   "execution_count": 13,
   "metadata": {
    "collapsed": true
   },
   "outputs": [],
   "source": [
    "import pandas as pd"
   ]
  },
  {
   "cell_type": "code",
   "execution_count": 14,
   "metadata": {
    "collapsed": true
   },
   "outputs": [],
   "source": [
    "from __future__ import division\n",
    "from operator import add\n",
    "from collections import Counter"
   ]
  },
  {
   "cell_type": "code",
   "execution_count": 15,
   "metadata": {
    "collapsed": false
   },
   "outputs": [],
   "source": [
    "topics = range(100)\n",
    "W, F, D, T = len(words), len(features), len(word_docs), len(topics)"
   ]
  },
  {
   "cell_type": "code",
   "execution_count": 16,
   "metadata": {
    "collapsed": false
   },
   "outputs": [],
   "source": [
    "for word_doc,prop_doc in zip(word_docs,prop_docs):\n",
    "    for i,(word,prop) in enumerate(zip(word_doc,prop_doc)):\n",
    "        sampled_topic = np.random.choice(topics)\n",
    "        word_doc[i] = (word,sampled_topic)\n",
    "        prop_doc[i] = (prop,sampled_topic)"
   ]
  },
  {
   "cell_type": "code",
   "execution_count": 17,
   "metadata": {
    "collapsed": false,
    "scrolled": true
   },
   "outputs": [
    {
     "name": "stdout",
     "output_type": "stream",
     "text": [
      "Validation for word at idx0: taxi\n",
      "\n",
      "[(u'enter-dobj', 29), (u'be-nsubj', 5), (u'pick-dobj', 89), (u'take-nsubj', 72), (u'grab-dobj', 21), (u'take-dobj', 29), (u'call-dobj', 26)]\n",
      "\n",
      "[('is_yellow', 29), ('requires_money', 5), ('is_expensive', 89), ('a_car', 72), ('a_car', 21), ('a_car', 29), ('is_expensive', 26)]\n"
     ]
    }
   ],
   "source": [
    "print \"Validation for word at idx0: taxi\"; print\n",
    "print word_docs[0]; print\n",
    "print prop_docs[0]"
   ]
  },
  {
   "cell_type": "markdown",
   "metadata": {},
   "source": [
    "** Visualization Facilities **"
   ]
  },
  {
   "cell_type": "code",
   "execution_count": 18,
   "metadata": {
    "collapsed": true
   },
   "outputs": [],
   "source": [
    "import matplotlib.pyplot as plt\n",
    "%matplotlib inline\n",
    "import random"
   ]
  },
  {
   "cell_type": "code",
   "execution_count": 19,
   "metadata": {
    "collapsed": true
   },
   "outputs": [],
   "source": [
    "def sample_vis_docs(C_DT): # sample 10 documents, plot distribution over topics the by documents.\n",
    "    doc_ids = random.sample(range(C_DT.shape[0]),10) # randomly sample 10 docs.\n",
    "    print \"Histogram over Topic by Doc\"\n",
    "    plt.subplots(figsize=(12,4))\n",
    "    for i,doc_id in enumerate(doc_ids):\n",
    "        plt.subplot(2,5,i+1)\n",
    "        plt.tight_layout()\n",
    "        plt.title(\"Doc %d\" % doc_id)\n",
    "        plt.ylim((0,10))\n",
    "        plt.plot(C_DT[doc_id])"
   ]
  },
  {
   "cell_type": "code",
   "execution_count": 20,
   "metadata": {
    "collapsed": true
   },
   "outputs": [],
   "source": [
    "def sample_vis_topics(C_WT,C_FT): # sample 10 topics, plot distribution over words/properties by the topics.\n",
    "    topic_ids = random.sample(range(C_WT.shape[1]),10) # randomly sample 10 docs.\n",
    "    print \"Histogram over %s by Topic\" % 'Words'\n",
    "    plt.subplots(figsize=(12,4))\n",
    "    for i,topic_id in enumerate(topic_ids):\n",
    "        plt.subplot(2,5,i+1)\n",
    "        plt.tight_layout()\n",
    "        plt.title(\"Topic %d (Words)\" % topic_id)\n",
    "        plt.ylim((0,10))\n",
    "        plt.plot(C_WT[:,topic_id])\n",
    "    plt.show()\n",
    "    print\n",
    "    print \"Histogram over %s by Topic\" % 'Properties'\n",
    "    plt.subplots(figsize=(12,4))\n",
    "    for i,topic_id in enumerate(topic_ids):\n",
    "        plt.subplot(2,5,i+1)\n",
    "        plt.tight_layout()\n",
    "        plt.title(\"Topic %d (Properties)\" % topic_id)\n",
    "        plt.ylim((0,10))\n",
    "        plt.plot(C_FT[:,topic_id]) \n",
    "    plt.show()"
   ]
  },
  {
   "cell_type": "markdown",
   "metadata": {},
   "source": [
    "** Topic Model **"
   ]
  },
  {
   "cell_type": "code",
   "execution_count": 26,
   "metadata": {
    "collapsed": true
   },
   "outputs": [],
   "source": [
    "alpha, beta, gamma = 50/2, .001, .001\n",
    "alpha_arr = np.array([alpha for _ in range(T)]); Talpha_arr = np.array([alpha*T for _ in range(T)])\n",
    "beta_arr = np.array([beta for _ in range(T)]); Wbeta_arr = np.array([beta*W for _ in range(T)])\n",
    "gamma_arr = np.array([gamma for _ in range(T)]); Fgamma_arr = np.array([gamma*F for _ in range(T)])"
   ]
  },
  {
   "cell_type": "code",
   "execution_count": 27,
   "metadata": {
    "collapsed": true
   },
   "outputs": [],
   "source": [
    "def get_counts(word_docs,prop_docs):\n",
    "    C_WT, C_FT, C_DT = np.zeros((W,T)), np.zeros((F,T)), np.zeros((D,T))\n",
    "    wt_counts = reduce(add,[Counter(word_doc) for word_doc in word_docs])\n",
    "    ft_counts = reduce(add,[Counter(prop_doc) for prop_doc in prop_docs])\n",
    "    for (w,t_w),wt_count in wt_counts.iteritems(): C_WT[w2i[w]][t_w] = wt_count \n",
    "    for (f,t_f),ft_count in ft_counts.iteritems(): C_FT[f2i[f]][t_f] = ft_count\n",
    "    for i,doc in enumerate(word_docs): # word,feature pairs have the same topic assignments.\n",
    "        dt_counts = Counter([t for w,t in doc])\n",
    "        for j in range(T):\n",
    "            C_DT[i][j] = dt_counts[j]\n",
    "    return C_WT, C_FT, C_DT"
   ]
  },
  {
   "cell_type": "code",
   "execution_count": 23,
   "metadata": {
    "collapsed": false
   },
   "outputs": [
    {
     "name": "stdout",
     "output_type": "stream",
     "text": [
      "CPU times: user 661 ms, sys: 14.7 ms, total: 675 ms\n",
      "Wall time: 666 ms\n"
     ]
    }
   ],
   "source": [
    "%%time\n",
    "C_WT, C_FT, C_DT = get_counts(word_docs, prop_docs)"
   ]
  },
  {
   "cell_type": "code",
   "execution_count": 24,
   "metadata": {
    "collapsed": false
   },
   "outputs": [
    {
     "name": "stdout",
     "output_type": "stream",
     "text": [
      "(975, 100) (2526, 100) (327, 100)\n"
     ]
    }
   ],
   "source": [
    "print C_WT.shape, C_FT.shape, C_DT.shape"
   ]
  },
  {
   "cell_type": "code",
   "execution_count": 25,
   "metadata": {
    "collapsed": false
   },
   "outputs": [
    {
     "name": "stdout",
     "output_type": "stream",
     "text": [
      "# words: 975 | # properties: 2526 | # documents: 327 | # topics: 100\n",
      "3049.0 3049.0 3049.0\n"
     ]
    }
   ],
   "source": [
    "print \"# words: %d | # properties: %d | # documents: %d | # topics: %d\" % (W,F,D,T)\n",
    "print C_WT.sum(), C_FT.sum(), C_DT.sum() # confirmation"
   ]
  },
  {
   "cell_type": "markdown",
   "metadata": {},
   "source": [
    "##### Visualization on Initialization: Random Pattern"
   ]
  },
  {
   "cell_type": "code",
   "execution_count": 26,
   "metadata": {
    "collapsed": false
   },
   "outputs": [
    {
     "name": "stdout",
     "output_type": "stream",
     "text": [
      "Histogram over Topic by Doc\n"
     ]
    },
    {
     "data": {
      "image/png": "[encoded data removed]",
      "text/plain": [
       "<matplotlib.figure.Figure at 0x165796310>"
      ]
     },
     "metadata": {},
     "output_type": "display_data"
    }
   ],
   "source": [
    "sample_vis_docs(C_DT)"
   ]
  },
  {
   "cell_type": "code",
   "execution_count": 27,
   "metadata": {
    "collapsed": false
   },
   "outputs": [
    {
     "name": "stdout",
     "output_type": "stream",
     "text": [
      "Histogram over Words by Topic\n"
     ]
    },
    {
     "data": {
      "image/png": "[encoded data removed]",
      "text/plain": [
       "<matplotlib.figure.Figure at 0x16b429e10>"
      ]
     },
     "metadata": {},
     "output_type": "display_data"
    },
    {
     "name": "stdout",
     "output_type": "stream",
     "text": [
      "\n",
      "Histogram over Properties by Topic\n"
     ]
    },
    {
     "data": {
      "image/png": "[encoded data removed]",
      "text/plain": [
       "<matplotlib.figure.Figure at 0x16b5aca10>"
      ]
     },
     "metadata": {},
     "output_type": "display_data"
    }
   ],
   "source": [
    "sample_vis_topics(C_WT,C_FT) # What it looks like on random initialization"
   ]
  },
  {
   "cell_type": "code",
   "execution_count": 90,
   "metadata": {
    "collapsed": false
   },
   "outputs": [],
   "source": [
    "# old version\n",
    "\n",
    "# def sample_topic(w_i,f_i,d): # w_i,f_i: indices of word-feature pair at ith pos in d.\n",
    "#     # compute normalizing constant\n",
    "#     Z = sum( ((C_WT[w_i][k]+beta) / (sum(C_WT[w][k] for w in xrange(W))+W*beta)) * \\\n",
    "#              ((C_FT[f_i][k]+gamma) / (sum(C_FT[f][k] for f in xrange(F))+F*gamma)) * \\\n",
    "#              ((C_DT[d][k]+alpha) / (sum(C_DT[d][t] for t in xrange(T))+T*alpha)) \n",
    "#             for k in xrange(T))  \n",
    "#     # compute numerator (adapted from SG04:8,(3))\n",
    "#     P = [( ((C_WT[w_i][j]+beta) / (sum(C_WT[w][j] for w in xrange(W))+W*beta)) * \\\n",
    "#            ((C_FT[f_i][j]+gamma) / (sum(C_FT[f][j] for f in xrange(F))+F*gamma)) * \\\n",
    "#            ((C_DT[d][j]+alpha) / (sum(C_DT[d][t] for t in xrange(T))+T*alpha)) ) / Z\n",
    "#           for j in xrange(T)]\n",
    "#     return np.random.choice(np.array(topics),p=np.array(P))"
   ]
  },
  {
   "cell_type": "code",
   "execution_count": 94,
   "metadata": {
    "collapsed": true
   },
   "outputs": [],
   "source": [
    "# revision 1: matrix operations on Z\n",
    "\n",
    "# def triple_dot(a,b,c):\n",
    "#     return sum(np.array(a) * np.array(b) * np.array(c))\n",
    "\n",
    "# def sample_topic(w_i,f_i,d): # w_i,f_i: indices of word-feature pair at ith pos in d.\n",
    "#     # compute normalizing constant\n",
    "#     Z_num = triple_dot(C_WT[w_i,:], C_FT[f_i,:], C_DT[d,:]) # NB: need to mult alpha, beta, gamma too!\n",
    "#     Z_denom = (1/T*C_DT[d,:].sum()) * np.dot(np.apply_along_axis(sum,0,C_WT),\n",
    "#                                              np.apply_along_axis(sum,0,C_FT))\n",
    "#     Z = Z_num / Z_denom\n",
    "#     # compute numerator (adapted from SG04:8,(3))\n",
    "#     P = [( ((C_WT[w_i][j]+beta) / (sum(C_WT[w][j] for w in xrange(W))+W*beta)) * \\\n",
    "#            ((C_FT[f_i][j]+gamma) / (sum(C_FT[f][j] for f in xrange(F))+F*gamma)) * \\\n",
    "#            ((C_DT[d][j]+alpha) / (sum(C_DT[d][t] for t in xrange(T))+T*alpha)) ) / Z\n",
    "#           for j in xrange(T)]\n",
    "#     return np.random.choice(np.array(topics),p=np.array(P))"
   ]
  },
  {
   "cell_type": "code",
   "execution_count": 95,
   "metadata": {
    "collapsed": true
   },
   "outputs": [],
   "source": [
    "# revision 2: get rid of Z, which is common for all p(z_j | *)\n",
    "\n",
    "# def normalize(arr):\n",
    "#     return arr / arr.sum()\n",
    "\n",
    "# def sample_topic(w_i,f_i,d): # w_i,f_i: indices of word-feature pair at ith pos in d.\n",
    "    \n",
    "#     P = np.array([( ((C_WT[w_i][j]+beta) / (sum(C_WT[w][j] for w in xrange(W))+W*beta)) * \\\n",
    "#                     ((C_FT[f_i][j]+gamma) / (sum(C_FT[f][j] for f in xrange(F))+F*gamma)) * \\\n",
    "#                     ((C_DT[d][j]+alpha) / (sum(C_DT[d][t] for t in xrange(T))+T*alpha)) ) \n",
    "#                     for j in xrange(T)])\n",
    "#     return np.random.choice(np.array(topics),p=normalize(P))"
   ]
  },
  {
   "cell_type": "code",
   "execution_count": 32,
   "metadata": {
    "collapsed": true
   },
   "outputs": [],
   "source": [
    "# revision 3: revision 1+2, only matrix operations are on P now\n",
    "\n",
    "def normalize(arr):\n",
    "    return arr / arr.sum()\n",
    "\n",
    "def sample_topic(w_i,f_i,d):\n",
    "    P_num_arr = (C_WT[w_i,:]+beta_arr) * (C_FT[f_i,:]+gamma_arr) * (C_DT[d,:]+alpha_arr)\n",
    "    P_denom_arr = (np.apply_along_axis(sum,0,C_WT)+Wbeta_arr) * \\\n",
    "                  (np.apply_along_axis(sum,0,C_FT)+Fgamma_arr) * \\\n",
    "                  (T * (C_DT[d,:].sum()+T*alpha))\n",
    "    P = normalize(P_num_arr / P_denom_arr)\n",
    "    return np.random.choice(np.array(topics),p=normalize(P))"
   ]
  },
  {
   "cell_type": "code",
   "execution_count": 91,
   "metadata": {
    "collapsed": false
   },
   "outputs": [
    {
     "name": "stdout",
     "output_type": "stream",
     "text": [
      "1 loop, best of 3: 271 ms per loop\n"
     ]
    }
   ],
   "source": [
    "%timeit sample_topic(0,0,0)"
   ]
  },
  {
   "cell_type": "code",
   "execution_count": 93,
   "metadata": {
    "collapsed": false
   },
   "outputs": [
    {
     "name": "stdout",
     "output_type": "stream",
     "text": [
      "10 loops, best of 3: 158 ms per loop\n"
     ]
    }
   ],
   "source": [
    "%timeit sample_topic(0,0,0)"
   ]
  },
  {
   "cell_type": "code",
   "execution_count": 96,
   "metadata": {
    "collapsed": false
   },
   "outputs": [
    {
     "name": "stdout",
     "output_type": "stream",
     "text": [
      "10 loops, best of 3: 130 ms per loop\n"
     ]
    }
   ],
   "source": [
    "%timeit sample_topic(0,0,0)"
   ]
  },
  {
   "cell_type": "code",
   "execution_count": 98,
   "metadata": {
    "collapsed": false,
    "scrolled": true
   },
   "outputs": [
    {
     "name": "stdout",
     "output_type": "stream",
     "text": [
      "10 loops, best of 3: 31.6 ms per loop\n"
     ]
    }
   ],
   "source": [
    "%timeit sample_topic(0,0,0)"
   ]
  },
  {
   "cell_type": "markdown",
   "metadata": {},
   "source": [
    "Here we go!"
   ]
  },
  {
   "cell_type": "code",
   "execution_count": 28,
   "metadata": {
    "collapsed": true
   },
   "outputs": [],
   "source": [
    "def normalize(arr):\n",
    "    return arr / arr.sum()\n",
    "\n",
    "def sample_topic(w_i,f_i,d):\n",
    "    P_num_arr = (C_WT[w_i,:]+beta_arr) * (C_FT[f_i,:]+gamma_arr) * (C_DT[d,:]+alpha_arr)\n",
    "    P_denom_arr = (np.apply_along_axis(sum,0,C_WT)+Wbeta_arr) * \\\n",
    "                  (np.apply_along_axis(sum,0,C_FT)+Fgamma_arr) * \\\n",
    "                  (T * (C_DT[d,:].sum()+T*alpha))\n",
    "    P = normalize(P_num_arr / P_denom_arr)\n",
    "    return np.random.choice(np.array(topics),p=normalize(P))"
   ]
  },
  {
   "cell_type": "code",
   "execution_count": 29,
   "metadata": {
    "collapsed": true
   },
   "outputs": [],
   "source": [
    "def gibbs_test():\n",
    "    for d,(word_doc,prop_doc) in enumerate(zip(word_docs,prop_docs)):\n",
    "        for (w,t),(f,_) in zip(word_doc,prop_doc): # a (w,f) pair have the same topic.\n",
    "            if C_WT[w2i[w]][t]==0 or C_FT[f2i[f]][t]==0 or C_DT[d][t]==0: continue\n",
    "            C_WT[w2i[w]][t] -= 1\n",
    "            C_FT[f2i[f]][t] -= 1\n",
    "            C_DT[d][t] -= 1\n",
    "            new_t = sample_topic(w2i[w],f2i[f],d)\n",
    "            C_WT[w2i[w]][new_t] += 1\n",
    "            C_FT[f2i[f]][new_t] += 1\n",
    "            C_DT[d][new_t] += 1   "
   ]
  },
  {
   "cell_type": "code",
   "execution_count": 30,
   "metadata": {
    "collapsed": true
   },
   "outputs": [],
   "source": [
    "def gibbs(n_iters=30, verbose_freq=1):\n",
    "    for e in range(n_iters):\n",
    "        if e!=0 and e%verbose_freq==0: print \"@ %dth iteration\" % e\n",
    "        for d,(word_doc,prop_doc) in enumerate(zip(word_docs,prop_docs)):\n",
    "            for (w,t),(f,_) in zip(word_doc,prop_doc): # a (w,f) pair have the same topic.\n",
    "                if C_WT[w2i[w]][t]==0 or C_FT[f2i[f]][t]==0 or C_DT[d][t]==0: continue\n",
    "                C_WT[w2i[w]][t] -= 1\n",
    "                C_FT[f2i[f]][t] -= 1\n",
    "                C_DT[d][t] -= 1\n",
    "                new_t = sample_topic(w2i[w],f2i[f],d)\n",
    "                C_WT[w2i[w]][new_t] += 1\n",
    "                C_FT[f2i[f]][new_t] += 1\n",
    "                C_DT[d][new_t] += 1"
   ]
  },
  {
   "cell_type": "code",
   "execution_count": 101,
   "metadata": {
    "collapsed": false
   },
   "outputs": [
    {
     "name": "stdout",
     "output_type": "stream",
     "text": [
      "CPU times: user 1min 36s, sys: 1.03 s, total: 1min 37s\n",
      "Wall time: 1min 36s\n"
     ]
    }
   ],
   "source": [
    "%%time\n",
    "gibbs_test()"
   ]
  },
  {
   "cell_type": "code",
   "execution_count": 34,
   "metadata": {
    "collapsed": false
   },
   "outputs": [
    {
     "name": "stdout",
     "output_type": "stream",
     "text": [
      "@ 1th iteration\n",
      "@ 2th iteration\n",
      "@ 3th iteration\n",
      "@ 4th iteration\n",
      "@ 5th iteration\n",
      "@ 6th iteration\n",
      "@ 7th iteration\n",
      "@ 8th iteration\n",
      "@ 9th iteration\n",
      "@ 10th iteration\n",
      "@ 11th iteration\n",
      "@ 12th iteration\n",
      "@ 13th iteration\n",
      "@ 14th iteration\n",
      "@ 15th iteration\n",
      "@ 16th iteration\n",
      "@ 17th iteration\n",
      "@ 18th iteration\n",
      "@ 19th iteration\n",
      "@ 20th iteration\n",
      "@ 21th iteration\n",
      "@ 22th iteration\n",
      "@ 23th iteration\n",
      "@ 24th iteration\n",
      "@ 25th iteration\n",
      "@ 26th iteration\n",
      "@ 27th iteration\n",
      "@ 28th iteration\n",
      "@ 29th iteration\n",
      "CPU times: user 5min 14s, sys: 3.61 s, total: 5min 17s\n",
      "Wall time: 5min 15s\n"
     ]
    }
   ],
   "source": [
    "%%time\n",
    "gibbs()"
   ]
  },
  {
   "cell_type": "code",
   "execution_count": 31,
   "metadata": {
    "collapsed": false
   },
   "outputs": [
    {
     "name": "stdout",
     "output_type": "stream",
     "text": [
      "@ 5th iteration\n",
      "@ 10th iteration\n",
      "@ 15th iteration\n",
      "@ 20th iteration\n",
      "@ 25th iteration\n",
      "@ 30th iteration\n",
      "@ 35th iteration\n",
      "@ 40th iteration\n",
      "@ 45th iteration\n",
      "@ 50th iteration\n",
      "@ 55th iteration\n",
      "@ 60th iteration\n",
      "@ 65th iteration\n",
      "@ 70th iteration\n",
      "@ 75th iteration\n",
      "@ 80th iteration\n",
      "@ 85th iteration\n",
      "@ 90th iteration\n",
      "@ 95th iteration\n",
      "CPU times: user 10min 6s, sys: 6.77 s, total: 10min 12s\n",
      "Wall time: 10min 7s\n"
     ]
    }
   ],
   "source": [
    "%%time\n",
    "gibbs(n_iters=100, verbose_freq=5)"
   ]
  },
  {
   "cell_type": "code",
   "execution_count": null,
   "metadata": {
    "collapsed": true
   },
   "outputs": [],
   "source": []
  },
  {
   "cell_type": "markdown",
   "metadata": {},
   "source": [
    "## III. Evaluation"
   ]
  },
  {
   "cell_type": "markdown",
   "metadata": {},
   "source": [
    "##### Property Inference\n",
    "\n",
    "* $P(f\\mid d) = \\sum_zP(f\\mid z)P(z\\mid d)$, where $d$ corresponds to a norm word $n$"
   ]
  },
  {
   "cell_type": "code",
   "execution_count": 32,
   "metadata": {
    "collapsed": true
   },
   "outputs": [],
   "source": [
    "def p_f_given_z(f, z): # f, z: prop and topic idx.\n",
    "    return C_FT[f][z] / C_FT[:,z].sum()\n",
    "\n",
    "def p_z_given_d(z, d): # z, d: topic and document (norm word) idx.\n",
    "    return C_DT[d][z] / C_DT[d,:].sum()\n",
    "\n",
    "def p_f_given_d(f, d):\n",
    "    return sum(p_f_given_z(f,z)*p_z_given_d(z,d) for z in topics)"
   ]
  },
  {
   "cell_type": "code",
   "execution_count": 33,
   "metadata": {
    "collapsed": true
   },
   "outputs": [],
   "source": [
    "def topk_props(norm, verbose=0, k=5):\n",
    "    d = n2i[norm]\n",
    "    prop_dist = [p_f_given_d(f,d) for f in xrange(len(features))]\n",
    "    topk = np.argsort(prop_dist)[::-1][:k]\n",
    "    if verbose:\n",
    "        print \"Top %d Properties for Word %s\" % (k,norm); print\n",
    "        for i in topk:\n",
    "            print \"#%d Property: %s\" % (i+1,features[i])\n",
    "        return\n",
    "    return map(lambda i:features[i], topk)"
   ]
  },
  {
   "cell_type": "code",
   "execution_count": 34,
   "metadata": {
    "collapsed": false
   },
   "outputs": [
    {
     "name": "stdout",
     "output_type": "stream",
     "text": [
      "Top 5 Properties for Word cat\n",
      "\n",
      "#2424 Property: used_for_carpentry\n",
      "#1509 Property: has_4_legs\n",
      "#1021 Property: made_of_plastic\n",
      "#1975 Property: used_by_bouncing\n",
      "#932 Property: an_animal\n"
     ]
    }
   ],
   "source": [
    "topk_props('cat', verbose=1)"
   ]
  },
  {
   "cell_type": "code",
   "execution_count": 35,
   "metadata": {
    "collapsed": false
   },
   "outputs": [
    {
     "name": "stdout",
     "output_type": "stream",
     "text": [
      "Top 5 Properties for Word car\n",
      "\n",
      "#1875 Property: made_of_metal\n",
      "#961 Property: has_wheels\n",
      "#749 Property: has_an_engine\n",
      "#2213 Property: has_4_wheels\n",
      "#2013 Property: made_of_wood\n"
     ]
    }
   ],
   "source": [
    "topk_props('car', verbose=1)"
   ]
  },
  {
   "cell_type": "code",
   "execution_count": 36,
   "metadata": {
    "collapsed": false
   },
   "outputs": [
    {
     "name": "stdout",
     "output_type": "stream",
     "text": [
      "Top 5 Properties for Word book\n",
      "\n",
      "#597 Property: has_pages\n",
      "#1875 Property: made_of_metal\n",
      "#2480 Property: a_building\n",
      "#2013 Property: made_of_wood\n",
      "#383 Property: has_a_handle\n"
     ]
    }
   ],
   "source": [
    "topk_props('book', verbose=1)"
   ]
  },
  {
   "cell_type": "code",
   "execution_count": 37,
   "metadata": {
    "collapsed": true
   },
   "outputs": [],
   "source": [
    "def evaluate1(): # all correct retrievals in top 5\n",
    "    accuracies = []\n",
    "    for i,norm in enumerate(norms):\n",
    "        if i!=0 and i%50==0: print \"... %d words processed\" % i\n",
    "        props_pred = topk_props(norm) # verbose=0, k=5.\n",
    "        accuracy = sum(.2 if prop in norm2prop[norm] else 0. for prop in props_pred)\n",
    "        accuracies.append(accuracy)\n",
    "    print \"Average Accuracy on Brown: %.6f%%\" % (np.mean(accuracies)*100)"
   ]
  },
  {
   "cell_type": "code",
   "execution_count": 38,
   "metadata": {
    "collapsed": true
   },
   "outputs": [],
   "source": [
    "def evaluate2(): # single correct retrieval in top 5\n",
    "    accuracies = []\n",
    "    for i,norm in enumerate(norms):\n",
    "        if i!=0 and i%50==0: print \"... %d words processed\" % i\n",
    "        props_pred = topk_props(norm) # verbose=0, k=5.\n",
    "        accuracy = 1. if any(prop in norm2prop[norm] for prop in props_pred) else 0\n",
    "        accuracies.append(accuracy)\n",
    "    print \"Average Accuracy on Brown: %.6f%%\" % (np.mean(accuracies)*100)"
   ]
  },
  {
   "cell_type": "code",
   "execution_count": 52,
   "metadata": {
    "collapsed": true
   },
   "outputs": [],
   "source": [
    "def evaluate3(): # MAP (linear)\n",
    "    avg_precs = []\n",
    "    for i,norm in enumerate(norms):\n",
    "        precs = []\n",
    "        if i!=0 and i%50==0: print \"... %d words processed\" % i\n",
    "        props_pred = (topk_props(norm, k=F)) # F = 2526, i.e. all props\n",
    "        props_true = norm2prop[norm]\n",
    "        num_correct = 0\n",
    "        for i,prop in enumerate(props_pred):\n",
    "            if prop in props_true:\n",
    "                num_correct += 1\n",
    "                precs.append(num_correct / (i+1))\n",
    "        avg_precs.append(np.mean(precs))\n",
    "    print \"MAP on Brown: %.6f%%\" % (np.mean(avg_precs)*100)"
   ]
  },
  {
   "cell_type": "code",
   "execution_count": 40,
   "metadata": {
    "collapsed": false
   },
   "outputs": [
    {
     "name": "stdout",
     "output_type": "stream",
     "text": [
      "... 50 words processed\n",
      "... 100 words processed\n",
      "... 150 words processed\n",
      "... 200 words processed\n",
      "... 250 words processed\n",
      "... 300 words processed\n",
      "Average Accuracy on Brown: 18.593272%\n",
      "CPU times: user 13min 4s, sys: 1.22 s, total: 13min 5s\n",
      "Wall time: 13min 6s\n"
     ]
    }
   ],
   "source": [
    "%%time\n",
    "evaluate1()"
   ]
  },
  {
   "cell_type": "code",
   "execution_count": 41,
   "metadata": {
    "collapsed": false
   },
   "outputs": [
    {
     "name": "stdout",
     "output_type": "stream",
     "text": [
      "... 50 words processed\n",
      "... 100 words processed\n",
      "... 150 words processed\n",
      "... 200 words processed\n",
      "... 250 words processed\n",
      "... 300 words processed\n",
      "Average Accuracy on Brown: 60.856269%\n",
      "CPU times: user 13min, sys: 1.5 s, total: 13min 1s\n",
      "Wall time: 13min 2s\n"
     ]
    }
   ],
   "source": [
    "%%time\n",
    "evaluate2()"
   ]
  },
  {
   "cell_type": "code",
   "execution_count": 53,
   "metadata": {
    "collapsed": false
   },
   "outputs": [
    {
     "name": "stdout",
     "output_type": "stream",
     "text": [
      "... 50 words processed\n",
      "... 100 words processed\n",
      "... 150 words processed\n",
      "... 200 words processed\n",
      "... 250 words processed\n",
      "... 300 words processed\n",
      "MAP on Brown: 10.570393%\n",
      "CPU times: user 13min 6s, sys: 1.72 s, total: 13min 8s\n",
      "Wall time: 13min 9s\n"
     ]
    }
   ],
   "source": [
    "%%time\n",
    "evaluate3()"
   ]
  },
  {
   "cell_type": "code",
   "execution_count": null,
   "metadata": {
    "collapsed": true
   },
   "outputs": [],
   "source": []
  },
  {
   "cell_type": "code",
   "execution_count": null,
   "metadata": {
    "collapsed": true
   },
   "outputs": [],
   "source": []
  }
 ],
 "metadata": {
  "kernelspec": {
   "display_name": "Python 2",
   "language": "python",
   "name": "python2"
  },
  "language_info": {
   "codemirror_mode": {
    "name": "ipython",
    "version": 2
   },
   "file_extension": ".py",
   "mimetype": "text/x-python",
   "name": "python",
   "nbconvert_exporter": "python",
   "pygments_lexer": "ipython2",
   "version": "2.7.11"
  }
 },
 "nbformat": 4,
 "nbformat_minor": 0
}
