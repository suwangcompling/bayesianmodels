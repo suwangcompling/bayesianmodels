{
 "cells": [
  {
   "cell_type": "code",
   "execution_count": 110,
   "metadata": {
    "collapsed": true
   },
   "outputs": [],
   "source": [
    "import numpy as np\n",
    "import bayespy.plot as bpplt\n",
    "from bayespy.utils import random\n",
    "from bayespy.nodes import Categorical, Dirichlet, Beta, Mixture, Bernoulli\n",
    "from bayespy.inference import VB\n",
    "from operator import mul\n",
    "from functools import reduce\n",
    "%matplotlib inline"
   ]
  },
  {
   "cell_type": "code",
   "execution_count": 111,
   "metadata": {
    "collapsed": true
   },
   "outputs": [],
   "source": [
    "def prod(l):\n",
    "    return reduce(mul, l, 1)"
   ]
  },
  {
   "cell_type": "code",
   "execution_count": 1,
   "metadata": {
    "collapsed": true
   },
   "outputs": [],
   "source": [
    "predicates = ['animal_pred_' + str(i) for i in range(1,6)] + \\\n",
    "             ['transport_pred_' + str(i) for i in range(1,6)] + \\\n",
    "             ['art_pred_' + str(i) for i in range(1,6)]"
   ]
  },
  {
   "cell_type": "code",
   "execution_count": 3,
   "metadata": {
    "collapsed": false
   },
   "outputs": [
    {
     "name": "stdout",
     "output_type": "stream",
     "text": [
      "['animal_pred_1', 'animal_pred_2', 'animal_pred_3', 'animal_pred_4', 'animal_pred_5', 'transport_pred_1', 'transport_pred_2', 'transport_pred_3', 'transport_pred_4', 'transport_pred_5', 'art_pred_1', 'art_pred_2', 'art_pred_3', 'art_pred_4', 'art_pred_5']\n",
      "15\n"
     ]
    }
   ],
   "source": [
    "print(predicates)\n",
    "print(len(predicates))"
   ]
  },
  {
   "cell_type": "code",
   "execution_count": 14,
   "metadata": {
    "collapsed": true
   },
   "outputs": [],
   "source": [
    "p0 = [.8,.8,.8,.8,.8,.1,.1,.1,.1,.1,.1,.1,.1,.1,.1]\n",
    "p1 = [.1,.1,.1,.1,.1,.8,.8,.8,.8,.8,.1,.1,.1,.1,.1]\n",
    "p2 = [.1,.1,.1,.1,.1,.1,.1,.1,.1,.1,.8,.8,.8,.8,.8]\n",
    "p = np.array([p0, p1, p2])"
   ]
  },
  {
   "cell_type": "code",
   "execution_count": 19,
   "metadata": {
    "collapsed": true
   },
   "outputs": [],
   "source": [
    "z = random.categorical([1/3, 1/3, 1/3], size=300)"
   ]
  },
  {
   "cell_type": "code",
   "execution_count": 20,
   "metadata": {
    "collapsed": false
   },
   "outputs": [
    {
     "name": "stdout",
     "output_type": "stream",
     "text": [
      "[1 0 1 0 1 0 2 2 0 0 0 1 2 0 0 1 0 1 2 2 0 0 2 2 2 2 0 2 2 0 1 2 1 2 0 0 1\n",
      " 2 0 1 2 2 2 2 2 0 1 2 2 1 1 1 0 0 0 0 0 0 0 2 2 0 0 2 0 2 1 1 1 2 2 0 1 0\n",
      " 0 1 0 2 1 0 2 0 2 1 2 1 0 1 1 0 0 2 1 1 1 1 1 2 2 1 0 0 0 2 1 1 1 0 1 1 0\n",
      " 2 2 0 0 0 1 0 2 2 0 2 2 1 2 0 1 1 0 0 1 0 0 2 0 2 0 0 0 0 0 2 0 2 0 1 2 2\n",
      " 0 1 2 1 0 1 0 2 0 2 0 1 0 0 2 2 0 1 0 0 2 0 1 0 2 1 0 0 0 2 1 2 1 2 1 2 1\n",
      " 2 1 2 1 0 1 1 2 0 2 0 0 1 1 0 1 0 2 1 0 2 2 0 2 1 1 2 1 2 2 1 1 2 2 1 2 0\n",
      " 0 1 1 2 1 1 0 2 2 2 1 0 2 0 0 0 0 1 2 1 0 1 2 1 2 0 2 2 1 0 0 2 2 2 2 1 0\n",
      " 1 2 2 2 2 2 0 1 1 1 1 2 2 1 1 1 1 1 0 0 0 1 1 1 1 1 1 2 1 1 2 2 0 0 0 1 1\n",
      " 0 0 0 1]\n"
     ]
    }
   ],
   "source": [
    "print(z)"
   ]
  },
  {
   "cell_type": "code",
   "execution_count": 21,
   "metadata": {
    "collapsed": false
   },
   "outputs": [],
   "source": [
    "x = random.bernoulli(p[z])"
   ]
  },
  {
   "cell_type": "code",
   "execution_count": 22,
   "metadata": {
    "collapsed": false
   },
   "outputs": [
    {
     "name": "stdout",
     "output_type": "stream",
     "text": [
      "(300, 15)\n",
      "[False False False False False  True  True  True  True  True False False\n",
      " False False False]\n"
     ]
    }
   ],
   "source": [
    "print(x.shape)\n",
    "print(x[0])"
   ]
  },
  {
   "cell_type": "code",
   "execution_count": 54,
   "metadata": {
    "collapsed": true
   },
   "outputs": [],
   "source": [
    "N = 300 # num_data\n",
    "D = 15  # num_dim\n",
    "K = 3  # num_comp"
   ]
  },
  {
   "cell_type": "code",
   "execution_count": 55,
   "metadata": {
    "collapsed": true
   },
   "outputs": [],
   "source": [
    "R = Dirichlet(K*[1e-5], name='R') # prior for comps\n",
    "Z = Categorical(R, plates=(N,1), name='Z') # group assignments"
   ]
  },
  {
   "cell_type": "code",
   "execution_count": 56,
   "metadata": {
    "collapsed": true
   },
   "outputs": [],
   "source": [
    "from bayespy.nodes import Beta\n",
    "P = Beta([.5,.5], plates=(D,K), name='P') # dimD=10, compK=10 (prob pattern for each group)"
   ]
  },
  {
   "cell_type": "code",
   "execution_count": 57,
   "metadata": {
    "collapsed": true
   },
   "outputs": [],
   "source": [
    "X = Mixture(Z, Bernoulli, P)"
   ]
  },
  {
   "cell_type": "code",
   "execution_count": 58,
   "metadata": {
    "collapsed": true
   },
   "outputs": [],
   "source": [
    "Q = VB(Z,R,X,P)"
   ]
  },
  {
   "cell_type": "code",
   "execution_count": 59,
   "metadata": {
    "collapsed": true
   },
   "outputs": [],
   "source": [
    "P.initialize_from_random()"
   ]
  },
  {
   "cell_type": "code",
   "execution_count": 60,
   "metadata": {
    "collapsed": false
   },
   "outputs": [],
   "source": [
    "X.observe(x)"
   ]
  },
  {
   "cell_type": "code",
   "execution_count": 61,
   "metadata": {
    "collapsed": false
   },
   "outputs": [
    {
     "name": "stdout",
     "output_type": "stream",
     "text": [
      "Iteration 1: loglike=-3.014632e+03 (0.005 seconds)\n",
      "Iteration 2: loglike=-2.853357e+03 (0.003 seconds)\n",
      "Iteration 3: loglike=-2.506836e+03 (0.003 seconds)\n",
      "Iteration 4: loglike=-2.222900e+03 (0.003 seconds)\n",
      "Iteration 5: loglike=-2.118718e+03 (0.003 seconds)\n",
      "Iteration 6: loglike=-2.101071e+03 (0.003 seconds)\n",
      "Iteration 7: loglike=-2.100304e+03 (0.003 seconds)\n",
      "Iteration 8: loglike=-2.100276e+03 (0.003 seconds)\n",
      "Iteration 9: loglike=-2.100275e+03 (0.002 seconds)\n",
      "Converged at iteration 9.\n"
     ]
    }
   ],
   "source": [
    "Q.update(repeat=1000)"
   ]
  },
  {
   "cell_type": "code",
   "execution_count": 62,
   "metadata": {
    "collapsed": false
   },
   "outputs": [
    {
     "data": {
      "image/png": "[encoded data removed]",
      "text/plain": [
       "<matplotlib.figure.Figure at 0x107740630>"
      ]
     },
     "metadata": {},
     "output_type": "display_data"
    }
   ],
   "source": [
    "bpplt.hinton(R)"
   ]
  },
  {
   "cell_type": "code",
   "execution_count": 63,
   "metadata": {
    "collapsed": false
   },
   "outputs": [
    {
     "data": {
      "image/png": "[encoded data removed]",
      "text/plain": [
       "<matplotlib.figure.Figure at 0x107757dd8>"
      ]
     },
     "metadata": {},
     "output_type": "display_data"
    }
   ],
   "source": [
    "bpplt.hinton(P)"
   ]
  },
  {
   "cell_type": "code",
   "execution_count": 66,
   "metadata": {
    "collapsed": false
   },
   "outputs": [],
   "source": [
    "# bpplt.hinton(Z)"
   ]
  },
  {
   "cell_type": "code",
   "execution_count": 91,
   "metadata": {
    "collapsed": false
   },
   "outputs": [
    {
     "data": {
      "text/plain": [
       "array([ 102.71827749,  100.31608312,   96.96566939])"
      ]
     },
     "execution_count": 91,
     "metadata": {},
     "output_type": "execute_result"
    }
   ],
   "source": [
    "gamma = R.get_parameters()[0]\n",
    "gamma"
   ]
  },
  {
   "cell_type": "code",
   "execution_count": 92,
   "metadata": {
    "collapsed": false
   },
   "outputs": [
    {
     "data": {
      "text/plain": [
       "array([ 0.34239422,  0.33438691,  0.32321887])"
      ]
     },
     "execution_count": 92,
     "metadata": {},
     "output_type": "execute_result"
    }
   ],
   "source": [
    "pi = np.array([gamma[j]/sum(gamma) for j in range(3)])\n",
    "pi"
   ]
  },
  {
   "cell_type": "code",
   "execution_count": 93,
   "metadata": {
    "collapsed": false
   },
   "outputs": [
    {
     "data": {
      "text/plain": [
       "array([[[ 82.61050939,  21.1077581 ],\n",
       "        [  8.58525091,  92.73082221],\n",
       "        [ 11.3042397 ,  86.66141969]],\n",
       "\n",
       "       [[ 89.23478755,  14.48347993],\n",
       "        [ 11.04612505,  90.26994807],\n",
       "        [ 13.21908739,  84.746572  ]],\n",
       "\n",
       "       [[ 88.06067052,  15.65759697],\n",
       "        [ 17.93446148,  83.38161164],\n",
       "        [  4.504868  ,  93.46079139]],\n",
       "\n",
       "       [[ 77.81042323,  25.90784426],\n",
       "        [  9.17862427,  92.13744885],\n",
       "        [  6.5109525 ,  91.45470689]],\n",
       "\n",
       "       [[ 89.36033708,  14.35793041],\n",
       "        [ 10.50651747,  90.80955565],\n",
       "        [ 10.63314545,  87.33251395]],\n",
       "\n",
       "       [[  7.65563748,  96.06263   ],\n",
       "        [ 81.11135339,  20.20471973],\n",
       "        [  3.73300912,  94.23265027]],\n",
       "\n",
       "       [[ 11.09944245,  92.61882504],\n",
       "        [ 85.95342686,  15.36264626],\n",
       "        [ 10.44713069,  87.5185287 ]],\n",
       "\n",
       "       [[  8.6872281 ,  95.03103939],\n",
       "        [ 79.16274112,  22.153332  ],\n",
       "        [  9.65003078,  88.31562861]],\n",
       "\n",
       "       [[  9.06026236,  94.65800513],\n",
       "        [ 79.98849192,  21.3275812 ],\n",
       "        [  9.45124572,  88.51441368]],\n",
       "\n",
       "       [[ 18.46523567,  85.25303181],\n",
       "        [ 81.31494501,  20.00112811],\n",
       "        [  9.71981932,  88.24584008]],\n",
       "\n",
       "       [[  9.50636592,  94.21190157],\n",
       "        [ 10.34779262,  90.9682805 ],\n",
       "        [ 74.64584146,  23.31981793]],\n",
       "\n",
       "       [[  4.39843104,  99.31983645],\n",
       "        [ 12.34909075,  88.96698237],\n",
       "        [ 82.75247821,  15.21318118]],\n",
       "\n",
       "       [[ 11.80782922,  91.91043827],\n",
       "        [  5.54650432,  95.7695688 ],\n",
       "        [ 77.14566646,  20.81999294]],\n",
       "\n",
       "       [[  8.48080219,  95.2374653 ],\n",
       "        [ 10.58659275,  90.72948037],\n",
       "        [ 77.43260506,  20.53305433]],\n",
       "\n",
       "       [[ 10.8770356 ,  92.84123188],\n",
       "        [ 15.34851832,  85.9675548 ],\n",
       "        [ 83.27444608,  14.69121331]]])"
      ]
     },
     "execution_count": 93,
     "metadata": {},
     "output_type": "execute_result"
    }
   ],
   "source": [
    "alpha_beta = P.get_parameters()[0]\n",
    "alpha_beta"
   ]
  },
  {
   "cell_type": "code",
   "execution_count": 101,
   "metadata": {
    "collapsed": false
   },
   "outputs": [],
   "source": [
    "fi = np.array([[alpha_beta[j][0][0]/sum(alpha_beta[j][0]) for j in range(15)],\n",
    "               [alpha_beta[j][1][0]/sum(alpha_beta[j][1]) for j in range(15)],\n",
    "               [alpha_beta[j][2][0]/sum(alpha_beta[j][2]) for j in range(15)]]) # 3 x 15"
   ]
  },
  {
   "cell_type": "code",
   "execution_count": 102,
   "metadata": {
    "collapsed": false,
    "scrolled": true
   },
   "outputs": [
    {
     "data": {
      "text/plain": [
       "array([[ 0.79648948,  0.86035748,  0.84903723,  0.75020944,  0.86156797,\n",
       "         0.07381185,  0.10701531,  0.08375794,  0.08735455,  0.17803263,\n",
       "         0.09165566,  0.04240749,  0.11384522,  0.08176768,  0.10487097],\n",
       "       [ 0.0847373 ,  0.10902638,  0.17701497,  0.09059396,  0.1037004 ,\n",
       "         0.80057735,  0.84836911,  0.78134435,  0.78949459,  0.80258682,\n",
       "         0.10213377,  0.12188679,  0.05474456,  0.10449075,  0.15149144],\n",
       "       [ 0.11538982,  0.13493593,  0.04598415,  0.06646158,  0.10853952,\n",
       "         0.03810528,  0.10664074,  0.09850422,  0.09647509,  0.0992166 ,\n",
       "         0.76195926,  0.84470904,  0.78747662,  0.79040559,  0.85003711]])"
      ]
     },
     "execution_count": 102,
     "metadata": {},
     "output_type": "execute_result"
    }
   ],
   "source": [
    "fi # probs for positives"
   ]
  },
  {
   "cell_type": "code",
   "execution_count": 117,
   "metadata": {
    "collapsed": true
   },
   "outputs": [],
   "source": [
    "def prob_cls(i, obs): # probability of obs from cls i\n",
    "    f_obs = [fi[i][idx] if j==1 else (1-fi[i][idx]) for idx,j in enumerate(obs)]\n",
    "    return pi[i] * prod(f_obs)\n",
    "\n",
    "def classify(obs):\n",
    "    return np.argmax([prob_cls(i,obs) for i in range(3)])"
   ]
  },
  {
   "cell_type": "code",
   "execution_count": 120,
   "metadata": {
    "collapsed": false
   },
   "outputs": [
    {
     "data": {
      "text/plain": [
       "1"
      ]
     },
     "execution_count": 120,
     "metadata": {},
     "output_type": "execute_result"
    }
   ],
   "source": [
    "obs = [0, 0, 0, 0, 0, 1, 1, 1, 1, 1, 0, 0, 0, 0, 0]\n",
    "classify(obs)"
   ]
  }
 ],
 "metadata": {
  "kernelspec": {
   "display_name": "Python 3",
   "language": "python",
   "name": "python3"
  },
  "language_info": {
   "codemirror_mode": {
    "name": "ipython",
    "version": 3
   },
   "file_extension": ".py",
   "mimetype": "text/x-python",
   "name": "python",
   "nbconvert_exporter": "python",
   "pygments_lexer": "ipython3",
   "version": "3.5.2"
  }
 },
 "nbformat": 4,
 "nbformat_minor": 0
}
