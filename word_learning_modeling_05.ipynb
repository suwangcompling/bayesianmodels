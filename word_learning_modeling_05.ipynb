{
 "cells": [
  {
   "cell_type": "markdown",
   "metadata": {},
   "source": [
    "## Model V\n",
    "\n",
    "* **Corpora**: \n",
    "\n",
    "    * Norms: McRae et al. (2005)\n",
    "    * Information Corpus: Brown\n",
    "\n",
    "* **Model**: Jacob & Katrin Model\n",
    "\n",
    "    * Ideas: The same as that of Model IV.\n",
    "    \n",
    "    * Procedures:\n",
    "        * Training: Make predicate-argument (subject/object) cooccurrence matrices $S_{|V|\\times|W_{subj}|}$ and $O_{|V|\\times|W_{obj}|}$, and derive predicate-property cooccurrence matrices $S'_{|V|\\times|P_{subj}|}$ and $O'_{|V|\\times|P_{obj}|}$. Finally make a predicate-topic model from which we can get two distributions $p(prop\\mid topic)$ and $p(topic\\mid predicate)$.\n",
    "        * Learning: On encountering a sentence $s$ with an unknown word $u$ and predicate $v$, we first compute a distribution over properties for $v$: $p({prop}_i\\mid v) = \\sum_{topic}p({prop}_i\\mid topic)p(topic\\mid v)$. Using this distribution, we update the (Dirichlet) weights over properties for $u$ by $u_{props} := u_{props} + \\lambda * v_{props}$, where $\\lambda$ models learning rate of the agent.\n",
    "        * Evaluation: With $u$'s Dirchlet weights $u_{props}$, we obtain $k$ samples of distributions over properties (Multinomial), and\n",
    "            * Qualitative: Observe the spikes in the samples (corresponding to particular properties), see if they correspond to intuition.\n",
    "            * Quantitative: Compute average entropy of sample distribution (multinomials) -- lower entropy indicates good learning outcome.\n",
    "            \n",
    "    * Algorithm:\n",
    "        * Let $W$ be the set of norm nouns ($W_{subj},W_{obj}$ are subj/obj-only sets), $V$ be the set of verbs which have at least one $w\\in W$ evidenced in its core argument position, $P$ be the set of properties.\n",
    "        * For each $v\\in V$, make two lists $v_{subj}$ and $v_{obj}$ -- lists of occurred $w$s in the subject and the object position.\n",
    "        * Make predicate-argument cooccurrence matrix $S_{|V|\\times|W_{subj}|}$ and $O_{|V|\\times|W_{obj}|}$.\n",
    "        * Make predicate-property cooccurrence matrices $S'_{|V|\\times|P_{subj}|}$ and $O'_{|V|\\times|P_{obj}|}$.\n",
    "        * Build predicate topic model from which we get distributions $p(prop\\mid topic)$ and $p(topic\\mid predicate)$.\n",
    "        * Learn the Dirichlet weights of unknown word $u_{props}$.\n",
    "        * Sample from $Dir(u_{props})$ for evaluation."
   ]
  },
  {
   "cell_type": "markdown",
   "metadata": {},
   "source": [
    "## 0. Load Corpora"
   ]
  },
  {
   "cell_type": "markdown",
   "metadata": {},
   "source": [
    "### A. Norms"
   ]
  },
  {
   "cell_type": "code",
   "execution_count": 1,
   "metadata": {
    "collapsed": true
   },
   "outputs": [],
   "source": [
    "import pandas as pd"
   ]
  },
  {
   "cell_type": "code",
   "execution_count": 2,
   "metadata": {
    "collapsed": true
   },
   "outputs": [],
   "source": [
    "data_path = \"/Users/jacobsw/Desktop/CODER/IMPLEMENTATION_CAMP/BASIC_TOPICS/DISTRIBUTIONAL_SEMANTICS/DATA/McRae-BRM-InPress/\""
   ]
  },
  {
   "cell_type": "code",
   "execution_count": 3,
   "metadata": {
    "collapsed": true
   },
   "outputs": [],
   "source": [
    "df = pd.read_csv(data_path+\"CONCS_FEATS_concstats_brm.xls\", delimiter='\\t')"
   ]
  },
  {
   "cell_type": "code",
   "execution_count": 4,
   "metadata": {
    "collapsed": false
   },
   "outputs": [
    {
     "name": "stdout",
     "output_type": "stream",
     "text": [
      "Index([u'Concept', u'Feature', u'WB_Label', u'WB_Maj', u'WB_Min', u'BR_Label',\n",
      "       u'Prod_Freq', u'Rank_PF', u'Sum_PF_No_Tax', u'CPF', u'Disting',\n",
      "       u'Distinct', u'CV_No_Tax', u'Intercorr_Str_Tax',\n",
      "       u'Intercorr_Str_No_Tax', u'Feat_Length_Including_Spaces', u'Phon_1st',\n",
      "       u'KF', u'ln(KF)', u'BNC', u'ln(BNC)', u'Familiarity', u'Length_Letters',\n",
      "       u'Length_Phonemes', u'Length_Syllables', u'Bigram', u'Trigram',\n",
      "       u'ColtheartN', u'Num_Feats_Tax', u'Num_Feats_No_Tax',\n",
      "       u'Num_Disting_Feats_No_Tax', u'Disting_Feats_%_No_Tax',\n",
      "       u'Mean_Distinct_No_Tax', u'Mean_CV_No_Tax', u'Density_No_Tax',\n",
      "       u'Num_Corred_Pairs_No_Tax', u'%_Corred_Pairs_No_Tax', u'Num_Func',\n",
      "       u'Num_Vis_Mot', u'Num_VisF&S', u'Num_Vis_Col', u'Num_Sound',\n",
      "       u'Num_Taste', u'Num_Smell', u'Num_Tact', u'Num_Ency', u'Num_Tax'],\n",
      "      dtype='object')\n"
     ]
    }
   ],
   "source": [
    "print df.columns"
   ]
  },
  {
   "cell_type": "code",
   "execution_count": 5,
   "metadata": {
    "collapsed": false
   },
   "outputs": [
    {
     "data": {
      "text/html": [
       "<div>\n",
       "<table border=\"1\" class=\"dataframe\">\n",
       "  <thead>\n",
       "    <tr style=\"text-align: right;\">\n",
       "      <th></th>\n",
       "      <th>Concept</th>\n",
       "      <th>Feature</th>\n",
       "      <th>WB_Label</th>\n",
       "      <th>WB_Maj</th>\n",
       "      <th>WB_Min</th>\n",
       "      <th>BR_Label</th>\n",
       "      <th>Prod_Freq</th>\n",
       "      <th>Rank_PF</th>\n",
       "      <th>Sum_PF_No_Tax</th>\n",
       "      <th>CPF</th>\n",
       "      <th>...</th>\n",
       "      <th>Num_Func</th>\n",
       "      <th>Num_Vis_Mot</th>\n",
       "      <th>Num_VisF&amp;S</th>\n",
       "      <th>Num_Vis_Col</th>\n",
       "      <th>Num_Sound</th>\n",
       "      <th>Num_Taste</th>\n",
       "      <th>Num_Smell</th>\n",
       "      <th>Num_Tact</th>\n",
       "      <th>Num_Ency</th>\n",
       "      <th>Num_Tax</th>\n",
       "    </tr>\n",
       "  </thead>\n",
       "  <tbody>\n",
       "    <tr>\n",
       "      <th>0</th>\n",
       "      <td>accordion</td>\n",
       "      <td>a_musical_instrument</td>\n",
       "      <td>superordinate</td>\n",
       "      <td>c</td>\n",
       "      <td>h</td>\n",
       "      <td>taxonomic</td>\n",
       "      <td>28</td>\n",
       "      <td>1</td>\n",
       "      <td>NaN</td>\n",
       "      <td>18</td>\n",
       "      <td>...</td>\n",
       "      <td>2</td>\n",
       "      <td>0</td>\n",
       "      <td>2</td>\n",
       "      <td>0</td>\n",
       "      <td>2</td>\n",
       "      <td>0</td>\n",
       "      <td>0</td>\n",
       "      <td>0</td>\n",
       "      <td>2</td>\n",
       "      <td>1</td>\n",
       "    </tr>\n",
       "    <tr>\n",
       "      <th>1</th>\n",
       "      <td>accordion</td>\n",
       "      <td>associated_with_polkas</td>\n",
       "      <td>associated_entity</td>\n",
       "      <td>s</td>\n",
       "      <td>e</td>\n",
       "      <td>encyclopaedic</td>\n",
       "      <td>9</td>\n",
       "      <td>4</td>\n",
       "      <td>9.0</td>\n",
       "      <td>1</td>\n",
       "      <td>...</td>\n",
       "      <td>2</td>\n",
       "      <td>0</td>\n",
       "      <td>2</td>\n",
       "      <td>0</td>\n",
       "      <td>2</td>\n",
       "      <td>0</td>\n",
       "      <td>0</td>\n",
       "      <td>0</td>\n",
       "      <td>2</td>\n",
       "      <td>1</td>\n",
       "    </tr>\n",
       "    <tr>\n",
       "      <th>2</th>\n",
       "      <td>accordion</td>\n",
       "      <td>has_buttons</td>\n",
       "      <td>external_component</td>\n",
       "      <td>e</td>\n",
       "      <td>ce</td>\n",
       "      <td>visual-form_and_surface</td>\n",
       "      <td>8</td>\n",
       "      <td>5</td>\n",
       "      <td>163.0</td>\n",
       "      <td>13</td>\n",
       "      <td>...</td>\n",
       "      <td>2</td>\n",
       "      <td>0</td>\n",
       "      <td>2</td>\n",
       "      <td>0</td>\n",
       "      <td>2</td>\n",
       "      <td>0</td>\n",
       "      <td>0</td>\n",
       "      <td>0</td>\n",
       "      <td>2</td>\n",
       "      <td>1</td>\n",
       "    </tr>\n",
       "    <tr>\n",
       "      <th>3</th>\n",
       "      <td>accordion</td>\n",
       "      <td>has_keys</td>\n",
       "      <td>external_component</td>\n",
       "      <td>e</td>\n",
       "      <td>ce</td>\n",
       "      <td>visual-form_and_surface</td>\n",
       "      <td>17</td>\n",
       "      <td>2</td>\n",
       "      <td>108.0</td>\n",
       "      <td>7</td>\n",
       "      <td>...</td>\n",
       "      <td>2</td>\n",
       "      <td>0</td>\n",
       "      <td>2</td>\n",
       "      <td>0</td>\n",
       "      <td>2</td>\n",
       "      <td>0</td>\n",
       "      <td>0</td>\n",
       "      <td>0</td>\n",
       "      <td>2</td>\n",
       "      <td>1</td>\n",
       "    </tr>\n",
       "    <tr>\n",
       "      <th>4</th>\n",
       "      <td>accordion</td>\n",
       "      <td>inbeh_-_produces_music</td>\n",
       "      <td>entity_behavior</td>\n",
       "      <td>e</td>\n",
       "      <td>b</td>\n",
       "      <td>sound</td>\n",
       "      <td>6</td>\n",
       "      <td>7</td>\n",
       "      <td>178.0</td>\n",
       "      <td>13</td>\n",
       "      <td>...</td>\n",
       "      <td>2</td>\n",
       "      <td>0</td>\n",
       "      <td>2</td>\n",
       "      <td>0</td>\n",
       "      <td>2</td>\n",
       "      <td>0</td>\n",
       "      <td>0</td>\n",
       "      <td>0</td>\n",
       "      <td>2</td>\n",
       "      <td>1</td>\n",
       "    </tr>\n",
       "    <tr>\n",
       "      <th>5</th>\n",
       "      <td>accordion</td>\n",
       "      <td>is_loud</td>\n",
       "      <td>external_surface_property</td>\n",
       "      <td>e</td>\n",
       "      <td>se</td>\n",
       "      <td>sound</td>\n",
       "      <td>6</td>\n",
       "      <td>7</td>\n",
       "      <td>317.0</td>\n",
       "      <td>34</td>\n",
       "      <td>...</td>\n",
       "      <td>2</td>\n",
       "      <td>0</td>\n",
       "      <td>2</td>\n",
       "      <td>0</td>\n",
       "      <td>2</td>\n",
       "      <td>0</td>\n",
       "      <td>0</td>\n",
       "      <td>0</td>\n",
       "      <td>2</td>\n",
       "      <td>1</td>\n",
       "    </tr>\n",
       "    <tr>\n",
       "      <th>6</th>\n",
       "      <td>accordion</td>\n",
       "      <td>requires_air</td>\n",
       "      <td>contingency</td>\n",
       "      <td>i</td>\n",
       "      <td>c</td>\n",
       "      <td>encyclopaedic</td>\n",
       "      <td>11</td>\n",
       "      <td>3</td>\n",
       "      <td>49.0</td>\n",
       "      <td>4</td>\n",
       "      <td>...</td>\n",
       "      <td>2</td>\n",
       "      <td>0</td>\n",
       "      <td>2</td>\n",
       "      <td>0</td>\n",
       "      <td>2</td>\n",
       "      <td>0</td>\n",
       "      <td>0</td>\n",
       "      <td>0</td>\n",
       "      <td>2</td>\n",
       "      <td>1</td>\n",
       "    </tr>\n",
       "    <tr>\n",
       "      <th>7</th>\n",
       "      <td>accordion</td>\n",
       "      <td>used_by_moving_bellows</td>\n",
       "      <td>action</td>\n",
       "      <td>s</td>\n",
       "      <td>a</td>\n",
       "      <td>function</td>\n",
       "      <td>8</td>\n",
       "      <td>5</td>\n",
       "      <td>8.0</td>\n",
       "      <td>1</td>\n",
       "      <td>...</td>\n",
       "      <td>2</td>\n",
       "      <td>0</td>\n",
       "      <td>2</td>\n",
       "      <td>0</td>\n",
       "      <td>2</td>\n",
       "      <td>0</td>\n",
       "      <td>0</td>\n",
       "      <td>0</td>\n",
       "      <td>2</td>\n",
       "      <td>1</td>\n",
       "    </tr>\n",
       "    <tr>\n",
       "      <th>8</th>\n",
       "      <td>accordion</td>\n",
       "      <td>worn_on_chest</td>\n",
       "      <td>function</td>\n",
       "      <td>s</td>\n",
       "      <td>f</td>\n",
       "      <td>function</td>\n",
       "      <td>6</td>\n",
       "      <td>7</td>\n",
       "      <td>6.0</td>\n",
       "      <td>1</td>\n",
       "      <td>...</td>\n",
       "      <td>2</td>\n",
       "      <td>0</td>\n",
       "      <td>2</td>\n",
       "      <td>0</td>\n",
       "      <td>2</td>\n",
       "      <td>0</td>\n",
       "      <td>0</td>\n",
       "      <td>0</td>\n",
       "      <td>2</td>\n",
       "      <td>1</td>\n",
       "    </tr>\n",
       "    <tr>\n",
       "      <th>9</th>\n",
       "      <td>airplane</td>\n",
       "      <td>beh_-_flies</td>\n",
       "      <td>entity_behavior</td>\n",
       "      <td>e</td>\n",
       "      <td>b</td>\n",
       "      <td>visual-motion</td>\n",
       "      <td>25</td>\n",
       "      <td>1</td>\n",
       "      <td>712.0</td>\n",
       "      <td>46</td>\n",
       "      <td>...</td>\n",
       "      <td>3</td>\n",
       "      <td>3</td>\n",
       "      <td>5</td>\n",
       "      <td>0</td>\n",
       "      <td>0</td>\n",
       "      <td>0</td>\n",
       "      <td>0</td>\n",
       "      <td>0</td>\n",
       "      <td>2</td>\n",
       "      <td>0</td>\n",
       "    </tr>\n",
       "  </tbody>\n",
       "</table>\n",
       "<p>10 rows × 47 columns</p>\n",
       "</div>"
      ],
      "text/plain": [
       "     Concept                 Feature                   WB_Label WB_Maj WB_Min  \\\n",
       "0  accordion    a_musical_instrument              superordinate      c      h   \n",
       "1  accordion  associated_with_polkas          associated_entity      s      e   \n",
       "2  accordion             has_buttons         external_component      e     ce   \n",
       "3  accordion                has_keys         external_component      e     ce   \n",
       "4  accordion  inbeh_-_produces_music            entity_behavior      e      b   \n",
       "5  accordion                 is_loud  external_surface_property      e     se   \n",
       "6  accordion            requires_air                contingency      i      c   \n",
       "7  accordion  used_by_moving_bellows                     action      s      a   \n",
       "8  accordion           worn_on_chest                   function      s      f   \n",
       "9   airplane             beh_-_flies            entity_behavior      e      b   \n",
       "\n",
       "                  BR_Label  Prod_Freq  Rank_PF  Sum_PF_No_Tax  CPF   ...     \\\n",
       "0                taxonomic         28        1            NaN   18   ...      \n",
       "1            encyclopaedic          9        4            9.0    1   ...      \n",
       "2  visual-form_and_surface          8        5          163.0   13   ...      \n",
       "3  visual-form_and_surface         17        2          108.0    7   ...      \n",
       "4                    sound          6        7          178.0   13   ...      \n",
       "5                    sound          6        7          317.0   34   ...      \n",
       "6            encyclopaedic         11        3           49.0    4   ...      \n",
       "7                 function          8        5            8.0    1   ...      \n",
       "8                 function          6        7            6.0    1   ...      \n",
       "9            visual-motion         25        1          712.0   46   ...      \n",
       "\n",
       "  Num_Func  Num_Vis_Mot  Num_VisF&S  Num_Vis_Col  Num_Sound  Num_Taste  \\\n",
       "0        2            0           2            0          2          0   \n",
       "1        2            0           2            0          2          0   \n",
       "2        2            0           2            0          2          0   \n",
       "3        2            0           2            0          2          0   \n",
       "4        2            0           2            0          2          0   \n",
       "5        2            0           2            0          2          0   \n",
       "6        2            0           2            0          2          0   \n",
       "7        2            0           2            0          2          0   \n",
       "8        2            0           2            0          2          0   \n",
       "9        3            3           5            0          0          0   \n",
       "\n",
       "  Num_Smell  Num_Tact  Num_Ency  Num_Tax  \n",
       "0         0         0         2        1  \n",
       "1         0         0         2        1  \n",
       "2         0         0         2        1  \n",
       "3         0         0         2        1  \n",
       "4         0         0         2        1  \n",
       "5         0         0         2        1  \n",
       "6         0         0         2        1  \n",
       "7         0         0         2        1  \n",
       "8         0         0         2        1  \n",
       "9         0         0         2        0  \n",
       "\n",
       "[10 rows x 47 columns]"
      ]
     },
     "execution_count": 5,
     "metadata": {},
     "output_type": "execute_result"
    }
   ],
   "source": [
    "df.head(10)"
   ]
  },
  {
   "cell_type": "markdown",
   "metadata": {},
   "source": [
    "### B. Brown"
   ]
  },
  {
   "cell_type": "code",
   "execution_count": 6,
   "metadata": {
    "collapsed": true
   },
   "outputs": [],
   "source": [
    "from nltk.corpus import brown\n",
    "from spacy.en import English"
   ]
  },
  {
   "cell_type": "code",
   "execution_count": 7,
   "metadata": {
    "collapsed": true
   },
   "outputs": [],
   "source": [
    "parser = English()"
   ]
  },
  {
   "cell_type": "code",
   "execution_count": 8,
   "metadata": {
    "collapsed": true
   },
   "outputs": [],
   "source": [
    "brown_sents = [unicode(' '.join(sent)) for sent in brown.sents()]"
   ]
  },
  {
   "cell_type": "code",
   "execution_count": 9,
   "metadata": {
    "collapsed": false
   },
   "outputs": [
    {
     "name": "stdout",
     "output_type": "stream",
     "text": [
      "CPU times: user 1min 24s, sys: 455 ms, total: 1min 24s\n",
      "Wall time: 1min 25s\n"
     ]
    }
   ],
   "source": [
    "%%time\n",
    "parsed_sents = [parser(sent) for sent in brown_sents]"
   ]
  },
  {
   "cell_type": "code",
   "execution_count": 10,
   "metadata": {
    "collapsed": true
   },
   "outputs": [],
   "source": [
    "def make_token2lemma_dict(parsed_sents):\n",
    "    \n",
    "    lemmas = set()\n",
    "    token2lemma = {}\n",
    "    for parsed_sent in parsed_sents:\n",
    "        for token in parsed_sent:\n",
    "            token2lemma[token.orth_] = token.lemma_\n",
    "            lemmas.add(token.lemma_)\n",
    "    \n",
    "    return lemmas, token2lemma"
   ]
  },
  {
   "cell_type": "code",
   "execution_count": 11,
   "metadata": {
    "collapsed": false
   },
   "outputs": [
    {
     "name": "stdout",
     "output_type": "stream",
     "text": [
      "CPU times: user 1.09 s, sys: 36.7 ms, total: 1.13 s\n",
      "Wall time: 1.1 s\n"
     ]
    }
   ],
   "source": [
    "%%time\n",
    "brown_lemmas, brown_t2l = make_token2lemma_dict(parsed_sents)"
   ]
  },
  {
   "cell_type": "code",
   "execution_count": 12,
   "metadata": {
    "collapsed": false
   },
   "outputs": [
    {
     "name": "stdout",
     "output_type": "stream",
     "text": [
      "book\n"
     ]
    }
   ],
   "source": [
    "print brown_t2l['books']"
   ]
  },
  {
   "cell_type": "markdown",
   "metadata": {},
   "source": [
    "### C. Synchronize Norms & Brown"
   ]
  },
  {
   "cell_type": "code",
   "execution_count": 13,
   "metadata": {
    "collapsed": true
   },
   "outputs": [],
   "source": [
    "norms = {df.ix[i]['Concept'] for i in range(df.shape[0])}"
   ]
  },
  {
   "cell_type": "code",
   "execution_count": 14,
   "metadata": {
    "collapsed": true
   },
   "outputs": [],
   "source": [
    "def norm_normalize(norm):\n",
    "    \n",
    "    norm = norm.split('_')[0] if '_' in norm else norm\n",
    "    if norm in brown_t2l: return brown_t2l[norm]\n",
    "    return norm\n"
   ]
  },
  {
   "cell_type": "code",
   "execution_count": 15,
   "metadata": {
    "collapsed": false
   },
   "outputs": [
    {
     "name": "stdout",
     "output_type": "stream",
     "text": [
      "cat\n",
      "cat\n"
     ]
    }
   ],
   "source": [
    "print norm_normalize('cat_(kitchen)')\n",
    "print norm_normalize('cat')"
   ]
  },
  {
   "cell_type": "code",
   "execution_count": 16,
   "metadata": {
    "collapsed": true
   },
   "outputs": [],
   "source": [
    "# Count Out-Of-Vocab Norms For Brown\n",
    "t = [] \n",
    "for norm in norms:\n",
    "    norm = norm.split('_')[0] if '_' in norm else norm\n",
    "    if norm in brown_lemmas or norm in brown_t2l: continue\n",
    "    t.append(norm)"
   ]
  },
  {
   "cell_type": "code",
   "execution_count": 17,
   "metadata": {
    "collapsed": false
   },
   "outputs": [
    {
     "name": "stdout",
     "output_type": "stream",
     "text": [
      "['earmuffs', 'bike', 'screwdriver', 'unicycle', 'camisole', 'crossbow', 'hamster', 'bra', 'sledgehammer', 'skateboard', 'leotards', 'rhubarb', 'platypus', 'pelican', 'minnow', 'canary', 'spatula', 'motorcycle', 'iguana', 'chickadee', 'giraffe', 'tricycle', 'bazooka', 'tomahawk', 'ostrich', 'cucumber', 'lettuce', 'whale', 'stork', 'bluejay', 'colander', 'chipmunk', 'escalator', 'partridge', 'parka', 'zucchini', 'dunebuggy', 'machete', 'crowbar', 'housefly', 'blender', 'nectarine', 'scooter', 'cougar', 'penguin', 'emu', 'honeydew', 'wheelbarrow', 'harmonica', 'eggplant', 'groundhog', 'harpoon', 'yam', 'squid', 'toaster', 'moose', 'tuna', 'surfboard', 'nylons', 'raven', 'budgie', 'fridge', 'gopher', 'flamingo', 'sleigh', 'trombone', 'strainer', 'dagger', 'chimp', 'buzzard', 'guppy', 'grater', 'nightgown', 'cello', 'hornet', 'finch', 'tangerine', 'gorilla', 'caribou']\n",
      "79\n"
     ]
    }
   ],
   "source": [
    "print t\n",
    "print len(t)"
   ]
  },
  {
   "cell_type": "markdown",
   "metadata": {},
   "source": [
    "** SPECIAL BLOCK: FOR LEAVE-ONE-OUT **"
   ]
  },
  {
   "cell_type": "code",
   "execution_count": 18,
   "metadata": {
    "collapsed": true
   },
   "outputs": [],
   "source": [
    "out_word = 'alligator'\n",
    "norms = filter(lambda norm: norm!=out_word, map(lambda norm:norm_normalize(norm), norms))"
   ]
  },
  {
   "cell_type": "code",
   "execution_count": 19,
   "metadata": {
    "collapsed": true
   },
   "outputs": [],
   "source": [
    "norms = map(lambda norm:norm_normalize(norm), norms)"
   ]
  },
  {
   "cell_type": "code",
   "execution_count": 20,
   "metadata": {
    "collapsed": true
   },
   "outputs": [],
   "source": [
    "norms_set = set(norms) # for faster lookup"
   ]
  },
  {
   "cell_type": "markdown",
   "metadata": {},
   "source": [
    "### D. Make Norm2Prop Dictionary"
   ]
  },
  {
   "cell_type": "code",
   "execution_count": 23,
   "metadata": {
    "collapsed": true
   },
   "outputs": [],
   "source": [
    "from collections import defaultdict"
   ]
  },
  {
   "cell_type": "code",
   "execution_count": 41,
   "metadata": {
    "collapsed": false
   },
   "outputs": [],
   "source": [
    "def make_normprop_dicts(df):\n",
    "\n",
    "    norm2prop = defaultdict(list)\n",
    "    normprop_freq = defaultdict(int)\n",
    "    for i in xrange(df.shape[0]):\n",
    "        norm = norm_normalize(df['Concept'][i])\n",
    "        prop = df['Feature'][i]\n",
    "        norm2prop[norm].append(prop) # all unique in McRae.\n",
    "        normprop_freq[(norm,prop)] = df['Prod_Freq'][i]\n",
    "    \n",
    "    return norm2prop, normprop_freq"
   ]
  },
  {
   "cell_type": "code",
   "execution_count": 43,
   "metadata": {
    "collapsed": false
   },
   "outputs": [],
   "source": [
    "norm2prop, normprop_freq = make_normprop_dicts(df) # only 532 after normalization, diminished distinction a bit, but who cares."
   ]
  },
  {
   "cell_type": "code",
   "execution_count": 45,
   "metadata": {
    "collapsed": false,
    "scrolled": true
   },
   "outputs": [
    {
     "name": "stdout",
     "output_type": "stream",
     "text": [
      "['a_baby_is_a_kitten', 'a_feline', 'a_mammal', 'a_pet', 'an_animal', 'beh_-_eats', 'beh_-_eats_mice', 'beh_-_kills', 'beh_-_meows', 'beh_-_purrs', 'has_4_legs', 'has_a_tail', 'has_claws', 'has_eyes', 'has_fur', 'has_legs', 'has_paws', 'has_whiskers', 'is_domestic', 'is_independent']\n"
     ]
    }
   ],
   "source": [
    "print norm2prop['cat']"
   ]
  },
  {
   "cell_type": "code",
   "execution_count": 46,
   "metadata": {
    "collapsed": false
   },
   "outputs": [
    {
     "name": "stdout",
     "output_type": "stream",
     "text": [
      "21\n"
     ]
    }
   ],
   "source": [
    "print normprop_freq[('cat','an_animal')]"
   ]
  },
  {
   "cell_type": "markdown",
   "metadata": {},
   "source": [
    "## I. Training"
   ]
  },
  {
   "cell_type": "markdown",
   "metadata": {},
   "source": [
    "### A. Make Information Dicts/Matrices"
   ]
  },
  {
   "cell_type": "code",
   "execution_count": 26,
   "metadata": {
    "collapsed": true
   },
   "outputs": [],
   "source": [
    "def extract_dep_triples(parsed_sents):\n",
    "    \n",
    "    triples = []\n",
    "    for parsed_sent in parsed_sents:\n",
    "        for token in parsed_sent:\n",
    "            lemma_triple = (token.lemma_, token.dep_, token.head.lemma_)\n",
    "            triples.append(lemma_triple)\n",
    "    \n",
    "    return triples"
   ]
  },
  {
   "cell_type": "code",
   "execution_count": 27,
   "metadata": {
    "collapsed": false
   },
   "outputs": [
    {
     "name": "stdout",
     "output_type": "stream",
     "text": [
      "CPU times: user 983 ms, sys: 114 ms, total: 1.1 s\n",
      "Wall time: 1.09 s\n"
     ]
    }
   ],
   "source": [
    "%%time\n",
    "dep_triples = extract_dep_triples(parsed_sents)"
   ]
  },
  {
   "cell_type": "code",
   "execution_count": 53,
   "metadata": {
    "collapsed": true
   },
   "outputs": [],
   "source": [
    "features = {df.ix[i]['Feature'] for i in range(df.shape[0])}\n",
    "f2i = {f:i for i,f in enumerate(features)}\n",
    "feature_list = list(features)"
   ]
  },
  {
   "cell_type": "code",
   "execution_count": 92,
   "metadata": {
    "collapsed": true
   },
   "outputs": [],
   "source": [
    "def get_w_set(triples, argtype):\n",
    "    \n",
    "    w_set = set()\n",
    "    for triple in triples:\n",
    "        if triple[1].endswith(argtype) and triple[0] in norms_set:\n",
    "            w_set.add(triple[0])\n",
    "    \n",
    "    return w_set"
   ]
  },
  {
   "cell_type": "code",
   "execution_count": 93,
   "metadata": {
    "collapsed": false
   },
   "outputs": [
    {
     "name": "stdout",
     "output_type": "stream",
     "text": [
      "CPU times: user 754 ms, sys: 8.52 ms, total: 763 ms\n",
      "Wall time: 760 ms\n"
     ]
    }
   ],
   "source": [
    "%%time\n",
    "w_subj = get_w_set(dep_triples, argtype='subj')\n",
    "w_obj = get_w_set(dep_triples, argtype='obj')"
   ]
  },
  {
   "cell_type": "code",
   "execution_count": 94,
   "metadata": {
    "collapsed": false
   },
   "outputs": [
    {
     "name": "stdout",
     "output_type": "stream",
     "text": [
      "232 394\n",
      "221\n"
     ]
    }
   ],
   "source": [
    "print len(W_subj), len(W_obj)\n",
    "print len(W_subj.intersection(W_obj))"
   ]
  },
  {
   "cell_type": "code",
   "execution_count": 95,
   "metadata": {
    "collapsed": true
   },
   "outputs": [],
   "source": [
    "def get_v_set(triples, argtype):\n",
    "    \n",
    "    v_set = set()\n",
    "    for triple in triples:\n",
    "        if triple[1].endswith(argtype) and triple[0] in norms_set:\n",
    "            v_set.add(triple[2])\n",
    "    \n",
    "    return v_set"
   ]
  },
  {
   "cell_type": "code",
   "execution_count": 96,
   "metadata": {
    "collapsed": false
   },
   "outputs": [
    {
     "name": "stdout",
     "output_type": "stream",
     "text": [
      "CPU times: user 745 ms, sys: 9.12 ms, total: 754 ms\n",
      "Wall time: 750 ms\n"
     ]
    }
   ],
   "source": [
    "%%time\n",
    "v_subj = get_v_set(dep_triples, 'subj')\n",
    "v_obj = get_v_set(dep_triples, 'obj')"
   ]
  },
  {
   "cell_type": "code",
   "execution_count": 97,
   "metadata": {
    "collapsed": false
   },
   "outputs": [
    {
     "name": "stdout",
     "output_type": "stream",
     "text": [
      "414 619\n",
      "188\n"
     ]
    }
   ],
   "source": [
    "print len(V_subj), len(V_obj)\n",
    "print len(V_subj.intersection(V_obj))"
   ]
  },
  {
   "cell_type": "code",
   "execution_count": 126,
   "metadata": {
    "collapsed": false
   },
   "outputs": [],
   "source": [
    "vsubj2i = {v:i for i,v in enumerate(list(v_subj))}\n",
    "vobj2i = {v:i for i,v in enumerate(list(v_obj))}\n",
    "subj2i = {subj:i for i,subj in enumerate(list(w_subj))}\n",
    "obj2i = {obj:i for i,obj in enumerate(list(w_obj))}"
   ]
  },
  {
   "cell_type": "code",
   "execution_count": 146,
   "metadata": {
    "collapsed": true
   },
   "outputs": [],
   "source": [
    "i2vsubj = list(v_subj) # for easy reference\n",
    "i2vobj = list(v_obj)"
   ]
  },
  {
   "cell_type": "code",
   "execution_count": 127,
   "metadata": {
    "collapsed": false,
    "scrolled": true
   },
   "outputs": [
    {
     "name": "stdout",
     "output_type": "stream",
     "text": [
      "414 619 232 394\n"
     ]
    }
   ],
   "source": [
    "print len(vsubj2i), len(vobj2i), len(subj2i), len(obj2i)"
   ]
  },
  {
   "cell_type": "code",
   "execution_count": 128,
   "metadata": {
    "collapsed": true
   },
   "outputs": [],
   "source": [
    "import numpy as np"
   ]
  },
  {
   "cell_type": "code",
   "execution_count": 129,
   "metadata": {
    "collapsed": true
   },
   "outputs": [],
   "source": [
    "def make_v2prop_matrix(triples, v2i, w2i, argtype):\n",
    "    \n",
    "    v2prop_mat = np.zeros((len(v2i),len(f2i)))\n",
    "    for triple in triples:\n",
    "        if triple[1].endswith(argtype) and triple[0] in w2i:\n",
    "            props = norm2prop[triple[0]]\n",
    "            for prop in props:\n",
    "                v2prop_mat[v2i[triple[2]]][f2i[prop]] += normprop_freq[(triple[0],prop)]\n",
    "    \n",
    "    return v2prop_mat"
   ]
  },
  {
   "cell_type": "code",
   "execution_count": 130,
   "metadata": {
    "collapsed": false
   },
   "outputs": [
    {
     "name": "stdout",
     "output_type": "stream",
     "text": [
      "CPU times: user 901 ms, sys: 20.7 ms, total: 922 ms\n",
      "Wall time: 918 ms\n"
     ]
    }
   ],
   "source": [
    "%%time\n",
    "subj_v2prop_mat = make_v2prop_matrix(dep_triples, vsubj2i, subj2i, 'subj')\n",
    "obj_v2prop_mat = make_v2prop_matrix(dep_triples, vobj2i, obj2i, 'obj')"
   ]
  },
  {
   "cell_type": "code",
   "execution_count": 131,
   "metadata": {
    "collapsed": false
   },
   "outputs": [
    {
     "name": "stdout",
     "output_type": "stream",
     "text": [
      "(414, 2526) (619, 2526)\n"
     ]
    }
   ],
   "source": [
    "print subj_v2prop_mat.shape, obj_v2prop_mat.shape"
   ]
  },
  {
   "cell_type": "markdown",
   "metadata": {},
   "source": [
    "### B. Make Fake Documents & Topic Model"
   ]
  },
  {
   "cell_type": "code",
   "execution_count": 132,
   "metadata": {
    "collapsed": true
   },
   "outputs": [],
   "source": [
    "def make_fake_documents(v2prop_mat):\n",
    "    \n",
    "    docs = []\n",
    "    for prop_counts in v2prop_mat:\n",
    "        doc = []\n",
    "        for i,prop_count in enumerate(prop_counts):\n",
    "            doc += [feature_list[i]] * int(prop_count)\n",
    "        docs.append(doc)\n",
    "    \n",
    "    return docs"
   ]
  },
  {
   "cell_type": "code",
   "execution_count": 133,
   "metadata": {
    "collapsed": false
   },
   "outputs": [
    {
     "name": "stdout",
     "output_type": "stream",
     "text": [
      "CPU times: user 1.22 s, sys: 17.4 ms, total: 1.24 s\n",
      "Wall time: 1.24 s\n"
     ]
    }
   ],
   "source": [
    "%%time\n",
    "subj_docs = make_fake_documents(subj_v2prop_mat)\n",
    "obj_docs = make_fake_documents(obj_v2prop_mat)"
   ]
  },
  {
   "cell_type": "code",
   "execution_count": 134,
   "metadata": {
    "collapsed": false
   },
   "outputs": [
    {
     "name": "stdout",
     "output_type": "stream",
     "text": [
      "414 619\n"
     ]
    }
   ],
   "source": [
    "print len(subj_docs), len(obj_docs)"
   ]
  },
  {
   "cell_type": "code",
   "execution_count": 135,
   "metadata": {
    "collapsed": true
   },
   "outputs": [],
   "source": [
    "from gensim import corpora\n",
    "from gensim.models.ldamodel import LdaModel"
   ]
  },
  {
   "cell_type": "code",
   "execution_count": 136,
   "metadata": {
    "collapsed": true
   },
   "outputs": [],
   "source": [
    "class TopicModel:\n",
    "    \n",
    "    def __init__(self, documents, num_topics=100, num_iters=5):\n",
    "        dic = corpora.Dictionary(documents)\n",
    "        documents = [dic.doc2bow(document) for document in documents]\n",
    "        self.documents = documents\n",
    "        self.lda = LdaModel(documents, num_topics=num_topics, id2word=dic, passes=num_iters)\n",
    "    \n",
    "    def summarize(self, num_topics=100, num_words=5):\n",
    "        freq_stats = self.lda.print_topics(num_topics=num_topics, num_words=num_words)\n",
    "        print \"Statistics\"\n",
    "        print \n",
    "        for i,document in enumerate(self.documents):\n",
    "            print \"Most %d-Frequent Words in Topic %d:\" % (num_words,freq_stats[i][0])\n",
    "            print freq_stats[i][1]\n",
    "            print \"Topic-Distribution:\"\n",
    "            print self.lda.get_document_topics(document)\n",
    "            print"
   ]
  },
  {
   "cell_type": "code",
   "execution_count": 161,
   "metadata": {
    "collapsed": false
   },
   "outputs": [
    {
     "name": "stdout",
     "output_type": "stream",
     "text": [
      "CPU times: user 21.7 s, sys: 190 ms, total: 21.9 s\n",
      "Wall time: 21.8 s\n"
     ]
    }
   ],
   "source": [
    "%%time\n",
    "tm_subj = TopicModel(subj_docs)\n",
    "tm_obj = TopicModel(obj_docs)"
   ]
  },
  {
   "cell_type": "code",
   "execution_count": 162,
   "metadata": {
    "collapsed": false
   },
   "outputs": [],
   "source": [
    "def make_topicprop_dict(lda, ntopics=100):\n",
    "    \n",
    "    topicprop_dict = defaultdict(float)\n",
    "    for topic in xrange(ntopics):\n",
    "        propprob_pairs = lda.get_topic_terms(topic, topn=len(lda.id2word))\n",
    "        for prop,prob in propprob_pairs: # prop here is an index\n",
    "            topicprop_dict[(topic,lda.id2word[prop])] = prob\n",
    "    \n",
    "    return topicprop_dict"
   ]
  },
  {
   "cell_type": "code",
   "execution_count": 163,
   "metadata": {
    "collapsed": false
   },
   "outputs": [
    {
     "name": "stdout",
     "output_type": "stream",
     "text": [
      "CPU times: user 585 ms, sys: 12.5 ms, total: 597 ms\n",
      "Wall time: 596 ms\n"
     ]
    }
   ],
   "source": [
    "%%time\n",
    "subj_topicprop_dict = make_topicprop_dict(tm_subj.lda)\n",
    "obj_topicprop_dict = make_topicprop_dict(tm_obj.lda)"
   ]
  },
  {
   "cell_type": "code",
   "execution_count": 164,
   "metadata": {
    "collapsed": false
   },
   "outputs": [
    {
     "data": {
      "text/plain": [
       "0.0090520232491840876"
      ]
     },
     "execution_count": 164,
     "metadata": {},
     "output_type": "execute_result"
    }
   ],
   "source": [
    "obj_topicprop_dict[(0,'an_animal')]"
   ]
  },
  {
   "cell_type": "code",
   "execution_count": 165,
   "metadata": {
    "collapsed": true
   },
   "outputs": [],
   "source": [
    "def p_prop_given_topic(prop, topic, argtype): \n",
    "    \n",
    "    return subj_topicprop_dict[(topic,prop)] if argtype=='subj' else obj_topicprop_dict[(topic,prop)]\n",
    "        "
   ]
  },
  {
   "cell_type": "code",
   "execution_count": 166,
   "metadata": {
    "collapsed": false
   },
   "outputs": [
    {
     "data": {
      "text/plain": [
       "0.0090520232491840876"
      ]
     },
     "execution_count": 166,
     "metadata": {},
     "output_type": "execute_result"
    }
   ],
   "source": [
    "p_prop_given_topic('an_animal',0,'obj')"
   ]
  },
  {
   "cell_type": "markdown",
   "metadata": {},
   "source": [
    "$p(prop\\mid topic)$ and $p(topic\\mid predicate)$"
   ]
  },
  {
   "cell_type": "code",
   "execution_count": 160,
   "metadata": {
    "collapsed": true
   },
   "outputs": [],
   "source": [
    "def make_topicpred_dict(tm, i2v):\n",
    "    \n",
    "    topicprop_dict = defaultdict(float)\n",
    "    for i,v_doc in enumerate(tm.documents):\n",
    "        topicprob_pairs = tm.lda.get_document_topics(v_doc)\n",
    "        for topic,prob in topicprob_pairs:\n",
    "            topicprop_dict[(topic,i2v[i])] = prob\n",
    "            \n",
    "    return topicprop_dict\n",
    "    "
   ]
  },
  {
   "cell_type": "code",
   "execution_count": 167,
   "metadata": {
    "collapsed": false
   },
   "outputs": [
    {
     "name": "stdout",
     "output_type": "stream",
     "text": [
      "CPU times: user 896 ms, sys: 15.4 ms, total: 911 ms\n",
      "Wall time: 905 ms\n"
     ]
    }
   ],
   "source": [
    "%%time\n",
    "subj_topicpred_dict = make_topicpred_dict(tm_subj, i2vsubj)\n",
    "obj_topicpred_dict = make_topicpred_dict(tm_obj, i2vobj)"
   ]
  },
  {
   "cell_type": "code",
   "execution_count": 177,
   "metadata": {
    "collapsed": false
   },
   "outputs": [],
   "source": [
    "def p_topic_given_pred(topic, v, argtype):\n",
    "    \n",
    "    return subj_topicpred_dict[(topic,v)] if argtype=='subj' else obj_topicpred_dict[(topic,v)]"
   ]
  },
  {
   "cell_type": "code",
   "execution_count": 180,
   "metadata": {
    "collapsed": false
   },
   "outputs": [
    {
     "data": {
      "text/plain": [
       "0.037383539774057117"
      ]
     },
     "execution_count": 180,
     "metadata": {},
     "output_type": "execute_result"
    }
   ],
   "source": [
    "sum(p_prop_given_topic('an_animal',t,'obj')*p_topic_given_pred(t,'feed','obj') for t in range(100))"
   ]
  },
  {
   "cell_type": "markdown",
   "metadata": {},
   "source": [
    "## II. Learning"
   ]
  },
  {
   "cell_type": "code",
   "execution_count": 188,
   "metadata": {
    "collapsed": true
   },
   "outputs": [],
   "source": [
    "def get_pred_prop_dist(v, argtype, ntopics=100):\n",
    "    \n",
    "    return np.asarray([sum(p_prop_given_topic(prop,t,argtype)*p_topic_given_pred(t,v,argtype) \n",
    "                           for t in xrange(ntopics))\n",
    "                       for prop in feature_list])\n",
    "\n",
    "def initialize_propdist(): \n",
    "    \n",
    "    return np.zeros(len(feature_list)) + 1e-20"
   ]
  },
  {
   "cell_type": "markdown",
   "metadata": {},
   "source": [
    "### A. Single Update"
   ]
  },
  {
   "cell_type": "code",
   "execution_count": 196,
   "metadata": {
    "collapsed": true
   },
   "outputs": [],
   "source": [
    "import matplotlib.pyplot as plt\n",
    "%matplotlib inline"
   ]
  },
  {
   "cell_type": "code",
   "execution_count": 198,
   "metadata": {
    "collapsed": true
   },
   "outputs": [],
   "source": [
    "from scipy.stats import entropy"
   ]
  },
  {
   "cell_type": "code",
   "execution_count": 220,
   "metadata": {
    "collapsed": true
   },
   "outputs": [],
   "source": [
    "def update(u, v, argtype, lmd=5, ntopics=100):\n",
    "    \n",
    "    u_propwgts = initialize_propdist()\n",
    "    update_propwgts = lmd * get_pred_prop_dist(v, argtype, ntopics)\n",
    "    \n",
    "    return u_propwgts + update_propwgts"
   ]
  },
  {
   "cell_type": "code",
   "execution_count": 218,
   "metadata": {
    "collapsed": true
   },
   "outputs": [],
   "source": [
    "def update_summary(w, v, w_propwgts, size=100, topk=5):\n",
    "    \n",
    "    avg_propdist = np.mean(np.random.dirichlet(w_propwgts, size),axis=0)\n",
    "    \n",
    "    plt.plot(avg_propdist)\n",
    "    plt.title('Word: %s | Updated by %s' % (w, v))\n",
    "    plt.xlabel('Properties')\n",
    "    plt.ylabel('Probability')\n",
    "    plt.show()\n",
    "    \n",
    "    print entropy(avg_propdist); print\n",
    "    \n",
    "    topk_props_idx = np.argsort(avg_propdist)[::-1][:topk]\n",
    "    for i,idx in enumerate(topk_props_idx):\n",
    "        print \"%dth Property: %s (prob=%.6f%%,idx=%d)\" % (i+1,feature_list[idx],avg_propdist[idx],idx)"
   ]
  },
  {
   "cell_type": "code",
   "execution_count": 221,
   "metadata": {
    "collapsed": false
   },
   "outputs": [],
   "source": [
    "feed_propwgts = update('alligator', 'feed', 'obj')"
   ]
  },
  {
   "cell_type": "code",
   "execution_count": 223,
   "metadata": {
    "collapsed": false
   },
   "outputs": [
    {
     "data": {
      "image/png": "[encoded data removed]",
      "text/plain": [
       "<matplotlib.figure.Figure at 0x13660aa50>"
      ]
     },
     "metadata": {},
     "output_type": "display_data"
    },
    {
     "name": "stdout",
     "output_type": "stream",
     "text": [
      "4.94428473795\n",
      "\n",
      "1th Property: made_of_metal (prob=0.034918%,idx=1874)\n",
      "2th Property: an_animal (prob=0.030312%,idx=931)\n",
      "3th Property: is_large (prob=0.027420%,idx=735)\n",
      "4th Property: used_by_riding (prob=0.026073%,idx=1022)\n",
      "5th Property: has_4_legs (prob=0.024619%,idx=1508)\n"
     ]
    }
   ],
   "source": [
    "update_summary('alligator', 'feed', feed_propwgts)"
   ]
  },
  {
   "cell_type": "code",
   "execution_count": 224,
   "metadata": {
    "collapsed": true
   },
   "outputs": [],
   "source": [
    "is_propwgts = update('alligator', 'be', 'subj')"
   ]
  },
  {
   "cell_type": "code",
   "execution_count": 225,
   "metadata": {
    "collapsed": false
   },
   "outputs": [
    {
     "data": {
      "image/png": "[encoded data removed]",
      "text/plain": [
       "<matplotlib.figure.Figure at 0x13474d550>"
      ]
     },
     "metadata": {},
     "output_type": "display_data"
    },
    {
     "name": "stdout",
     "output_type": "stream",
     "text": [
      "5.43274610466\n",
      "\n",
      "1th Property: made_of_wood (prob=0.027258%,idx=2012)\n",
      "2th Property: made_of_metal (prob=0.022159%,idx=1874)\n",
      "3th Property: used_for_living_in (prob=0.019740%,idx=2072)\n",
      "4th Property: is_small (prob=0.019333%,idx=2493)\n",
      "5th Property: requires_drivers (prob=0.016551%,idx=1767)\n"
     ]
    }
   ],
   "source": [
    "update_summary('alligator', 'is', is_propwgts)"
   ]
  },
  {
   "cell_type": "markdown",
   "metadata": {},
   "source": [
    "### B. 3-Updates"
   ]
  },
  {
   "cell_type": "code",
   "execution_count": 229,
   "metadata": {
    "collapsed": true
   },
   "outputs": [],
   "source": [
    "class Update:\n",
    "    \n",
    "    def __init__(self, word, lmd=5):\n",
    "        self.word = word\n",
    "        self.lmd = lmd\n",
    "        self.word_propwgts = initialize_propdist()\n",
    "    \n",
    "    def single_update(self, v, argtype):\n",
    "        self.word_propwgts = self.word_propwgts + self.lmd * get_pred_prop_dist(v, argtype)\n",
    "\n",
    "    def update(self, v_argtype_pairs, topk=5, size=100):\n",
    "        for v, argtype in v_argtype_pairs:\n",
    "            self.single_update(v, argtype)\n",
    "        avg_propdist = np.mean(np.random.dirichlet(self.word_propwgts, size),axis=0)\n",
    "        plt.plot(avg_propdist)\n",
    "        plt.title('Word: %s' % self.word)\n",
    "        plt.xlabel('Properties')\n",
    "        plt.ylabel('Probability')\n",
    "        plt.show() \n",
    "        print entropy(avg_propdist); print\n",
    "        topk_props_idx = np.argsort(avg_propdist)[::-1][:topk]\n",
    "        for i,idx in enumerate(topk_props_idx):\n",
    "            print \"%dth Property: %s (prob=%.6f%%,idx=%d)\" % (i+1,feature_list[idx],avg_propdist[idx],idx)         \n",
    "  "
   ]
  },
  {
   "cell_type": "code",
   "execution_count": 230,
   "metadata": {
    "collapsed": true
   },
   "outputs": [],
   "source": [
    "informative_update = Update('alligator')"
   ]
  },
  {
   "cell_type": "code",
   "execution_count": 231,
   "metadata": {
    "collapsed": false
   },
   "outputs": [
    {
     "data": {
      "image/png": "[encoded data removed]",
      "text/plain": [
       "<matplotlib.figure.Figure at 0x13b92ef50>"
      ]
     },
     "metadata": {},
     "output_type": "display_data"
    },
    {
     "name": "stdout",
     "output_type": "stream",
     "text": [
      "5.21266372159\n",
      "\n",
      "1th Property: is_large (prob=0.054280%,idx=735)\n",
      "2th Property: an_animal (prob=0.047534%,idx=931)\n",
      "3th Property: has_4_legs (prob=0.024407%,idx=1508)\n",
      "4th Property: used_for_transportation (prob=0.021455%,idx=155)\n",
      "5th Property: a_mammal (prob=0.020295%,idx=802)\n"
     ]
    }
   ],
   "source": [
    "informative_update.update([('feed','obj'),('catch','obj'),('roam','subj')])"
   ]
  },
  {
   "cell_type": "code",
   "execution_count": 232,
   "metadata": {
    "collapsed": true
   },
   "outputs": [],
   "source": [
    "uninformative_update = Update('alligator')"
   ]
  },
  {
   "cell_type": "code",
   "execution_count": 233,
   "metadata": {
    "collapsed": false
   },
   "outputs": [
    {
     "data": {
      "image/png": "[encoded data removed]",
      "text/plain": [
       "<matplotlib.figure.Figure at 0x1b361a9d0>"
      ]
     },
     "metadata": {},
     "output_type": "display_data"
    },
    {
     "name": "stdout",
     "output_type": "stream",
     "text": [
      "5.80263256205\n",
      "\n",
      "1th Property: made_of_metal (prob=0.022895%,idx=1874)\n",
      "2th Property: used_for_transportation (prob=0.021831%,idx=155)\n",
      "3th Property: made_of_wood (prob=0.020837%,idx=2012)\n",
      "4th Property: has_doors (prob=0.017335%,idx=1377)\n",
      "5th Property: has_4_wheels (prob=0.015165%,idx=2212)\n"
     ]
    }
   ],
   "source": [
    "uninformative_update.update([('be','subj'),('have','obj'),('get','obj')])"
   ]
  },
  {
   "cell_type": "code",
   "execution_count": null,
   "metadata": {
    "collapsed": true
   },
   "outputs": [],
   "source": []
  }
 ],
 "metadata": {
  "kernelspec": {
   "display_name": "Python 2",
   "language": "python",
   "name": "python2"
  },
  "language_info": {
   "codemirror_mode": {
    "name": "ipython",
    "version": 2
   },
   "file_extension": ".py",
   "mimetype": "text/x-python",
   "name": "python",
   "nbconvert_exporter": "python",
   "pygments_lexer": "ipython2",
   "version": "2.7.11"
  }
 },
 "nbformat": 4,
 "nbformat_minor": 0
}
