{
 "cells": [
  {
   "cell_type": "markdown",
   "metadata": {},
   "source": [
    "## 0. Load Data"
   ]
  },
  {
   "cell_type": "code",
   "execution_count": 115,
   "metadata": {
    "collapsed": true
   },
   "outputs": [],
   "source": [
    "import cPickle"
   ]
  },
  {
   "cell_type": "code",
   "execution_count": 116,
   "metadata": {
    "collapsed": true
   },
   "outputs": [],
   "source": [
    "norm_path = \"/Users/jacobsw/Desktop/UNIV/FALL_2016/LIN389C_RSCH_COMPLING/BAYESIAN/DATA/MCRAE/mcare_norm_data.p\"\n",
    "norms,norm2prop,norm2propprob,props = cPickle.load(open(norm_path,'rb'))"
   ]
  },
  {
   "cell_type": "code",
   "execution_count": 117,
   "metadata": {
    "collapsed": true
   },
   "outputs": [],
   "source": [
    "n2i = {n:i for i,n in enumerate(norms)}\n",
    "p2i = {p:i for i,p in enumerate(props)}"
   ]
  },
  {
   "cell_type": "markdown",
   "metadata": {},
   "source": [
    "## 1. Corpus $\\Rightarrow$ Parsed Sents"
   ]
  },
  {
   "cell_type": "code",
   "execution_count": 118,
   "metadata": {
    "collapsed": true
   },
   "outputs": [],
   "source": [
    "from nltk.corpus import brown\n",
    "from spacy.en import STOPWORDS, English"
   ]
  },
  {
   "cell_type": "code",
   "execution_count": 100,
   "metadata": {
    "collapsed": true
   },
   "outputs": [],
   "source": [
    "def spacy_parse(sents):\n",
    "    \n",
    "    parser = English()\n",
    "    parsed_sents = [parser(sent) for sent in sents]\n",
    "    triples = []\n",
    "    for parsed_sent in parsed_sents:\n",
    "        for token in parsed_sent:\n",
    "            triples.append((token.lemma_,token.dep_,token.head.lemma_))\n",
    "    \n",
    "    return parsed_sents, triples"
   ]
  },
  {
   "cell_type": "code",
   "execution_count": 9,
   "metadata": {
    "collapsed": false
   },
   "outputs": [
    {
     "name": "stdout",
     "output_type": "stream",
     "text": [
      "CPU times: user 1min 35s, sys: 1.66 s, total: 1min 36s\n",
      "Wall time: 1min 36s\n"
     ]
    }
   ],
   "source": [
    "%%time\n",
    "brown_sents = [unicode(' '.join(sent)) for sent in brown.sents()]\n",
    "parsed_sents, triples = spacy_parse(brown_sents)"
   ]
  },
  {
   "cell_type": "markdown",
   "metadata": {},
   "source": [
    "## 2. Parsed Sents $\\Rightarrow$ Mappings\n",
    "\n",
    "* $W$: Norm Vocab; $VR$: Verb-Role Pair Vocab; $Q$: Property Vocab\n",
    "* $f: VR\\mapsto W$\n",
    "* $g: W\\mapsto Q$ (read from preprocessed McRae set)\n",
    "* $h: VR\\mapsto count(Q)$"
   ]
  },
  {
   "cell_type": "code",
   "execution_count": 119,
   "metadata": {
    "collapsed": true
   },
   "outputs": [],
   "source": [
    "from collections import defaultdict, Counter"
   ]
  },
  {
   "cell_type": "code",
   "execution_count": 131,
   "metadata": {
    "collapsed": true
   },
   "outputs": [],
   "source": [
    "def make_vr2norm(triples,norms):\n",
    "    \n",
    "    norms_set = set(norms)\n",
    "    vr2norm = defaultdict(set)\n",
    "    for word,dep,head in triples:\n",
    "        if word in norms_set and dep in {'nsubj','dobj'} and head not in STOPWORDS:\n",
    "            vr2norm[(head,dep)].add(word)\n",
    "    \n",
    "    return vr2norm"
   ]
  },
  {
   "cell_type": "code",
   "execution_count": 132,
   "metadata": {
    "collapsed": false
   },
   "outputs": [
    {
     "name": "stdout",
     "output_type": "stream",
     "text": [
      "CPU times: user 125 ms, sys: 7.67 ms, total: 133 ms\n",
      "Wall time: 127 ms\n"
     ]
    }
   ],
   "source": [
    "%%time\n",
    "vr2norm = make_vr2norm(triples,norms)"
   ]
  },
  {
   "cell_type": "code",
   "execution_count": 136,
   "metadata": {
    "collapsed": false
   },
   "outputs": [],
   "source": [
    "def make_vr2pcdic(vr2norm,norm2prop,norm2propprob,out_word,mode='binary'): # pcdic: property-count dictionary\n",
    "                                                                  # to directly compare with fagarasan et al. (2015)\n",
    "                                                                  # i only look at binary.\n",
    "    vr2pcdic = defaultdict(Counter)\n",
    "    for (v,r) in vr2norm.iterkeys():\n",
    "        norm_list = list(vr2norm[(v,r)])\n",
    "        for norm in norm_list:\n",
    "            if norm!=out_word:\n",
    "                if mode=='binary': vr2pcdic[(v,r)] += Counter(norm2prop[norm])\n",
    "                else: vr2pcdic[(v,r)] += Counter({prop:prob for prop,prob in zip(norm2prop[norm],norm2propprob[norm])})\n",
    "    \n",
    "    return vr2pcdic"
   ]
  },
  {
   "cell_type": "code",
   "execution_count": 137,
   "metadata": {
    "collapsed": true
   },
   "outputs": [],
   "source": [
    "out_word = 'cat'"
   ]
  },
  {
   "cell_type": "code",
   "execution_count": 138,
   "metadata": {
    "collapsed": false
   },
   "outputs": [
    {
     "name": "stdout",
     "output_type": "stream",
     "text": [
      "CPU times: user 70.8 ms, sys: 5.63 ms, total: 76.5 ms\n",
      "Wall time: 72.4 ms\n"
     ]
    }
   ],
   "source": [
    "%%time\n",
    "vr2pcdic = make_vr2pcdic(vr2norm,norm2prop,norm2propprob,out_word,mode='binary')"
   ]
  },
  {
   "cell_type": "markdown",
   "metadata": {},
   "source": [
    "## 3. Property Learning\n",
    "\n",
    "* Eval 1: Top 1 Frequently-Seen $(v,r)$ for $u$ in Corpus\n",
    "* Eval 2: Top 3\n",
    "* Eval 3: Top 5\n",
    "\n",
    "**NB**: maybe 1,5,10 for BNC, with more data."
   ]
  },
  {
   "cell_type": "code",
   "execution_count": 139,
   "metadata": {
    "collapsed": true
   },
   "outputs": [],
   "source": [
    "import numpy as np\n",
    "from __future__ import division"
   ]
  },
  {
   "cell_type": "code",
   "execution_count": 140,
   "metadata": {
    "collapsed": true
   },
   "outputs": [],
   "source": [
    "def make_norm2vr(triples,norms):\n",
    "    \n",
    "    norms_set = set(norms)\n",
    "    norm2vr = defaultdict(list)\n",
    "    for word,dep,head in triples:\n",
    "        if word in norms_set and dep in {'nsubj','dobj'} and head not in STOPWORDS:\n",
    "            norm2vr[word].append((head,dep))\n",
    "    \n",
    "    return norm2vr"
   ]
  },
  {
   "cell_type": "code",
   "execution_count": 141,
   "metadata": {
    "collapsed": false
   },
   "outputs": [
    {
     "name": "stdout",
     "output_type": "stream",
     "text": [
      "CPU times: user 117 ms, sys: 3.97 ms, total: 121 ms\n",
      "Wall time: 119 ms\n"
     ]
    }
   ],
   "source": [
    "%%time\n",
    "norm2vr = make_norm2vr(triples,norms)"
   ]
  },
  {
   "cell_type": "code",
   "execution_count": 142,
   "metadata": {
    "collapsed": true
   },
   "outputs": [],
   "source": [
    "def get_topk_vrs(u, norm2vr, k=1):\n",
    "    return map(lambda (vr,c): vr, Counter(norm2vr[u]).most_common(k))"
   ]
  },
  {
   "cell_type": "code",
   "execution_count": 153,
   "metadata": {
    "collapsed": false
   },
   "outputs": [],
   "source": [
    "def learn_topk_props(u, norm2vr, norm2prop, props, vr2pcdic, k=1):\n",
    "    prop_vec = np.ones(len(props))\n",
    "    topk_vrs = get_topk_vrs(u,norm2vr,k)\n",
    "    for v,r in topk_vrs:\n",
    "        for prop in props:\n",
    "            prop_vec[p2i[prop]] += vr2pcdic[(v,r)][prop]\n",
    "    pred_props = map(lambda (i,c):props[i] if c>1 else 'none', enumerate(prop_vec))\n",
    "    accuracy = len(set(pred_props).intersection(set(norm2prop[u]))) / len(norm2prop[u])\n",
    "    print \"Target Word: %s | k = %d | Accuracy = %.2f%%\" % (u,k,accuracy*100)\n",
    "    return filter(lambda prop:prop!='none',pred_props)\n",
    "    "
   ]
  },
  {
   "cell_type": "code",
   "execution_count": 160,
   "metadata": {
    "collapsed": false
   },
   "outputs": [
    {
     "data": {
      "text/plain": [
       "[(u'like', u'dobj'),\n",
       " (u'manage', u'nsubj'),\n",
       " (u'watch', u'dobj'),\n",
       " (u'feed', u'dobj'),\n",
       " (u'complement', u'nsubj'),\n",
       " (u'meet', u'nsubj'),\n",
       " (u'send', u'dobj'),\n",
       " (u'dye', u'dobj'),\n",
       " (u'come', u'nsubj')]"
      ]
     },
     "execution_count": 160,
     "metadata": {},
     "output_type": "execute_result"
    }
   ],
   "source": [
    "get_topk_vrs('cat',norm2vr,100)"
   ]
  },
  {
   "cell_type": "code",
   "execution_count": 163,
   "metadata": {
    "collapsed": false
   },
   "outputs": [
    {
     "name": "stdout",
     "output_type": "stream",
     "text": [
      "Target Word: cat | k = 1 | Accuracy = 0.00%\n"
     ]
    },
    {
     "data": {
      "text/plain": [
       "['is_loud',\n",
       " 'used_by_the_police',\n",
       " 'is_black',\n",
       " 'is_dangerous',\n",
       " 'has_a_trigger',\n",
       " 'used_for_war',\n",
       " 'inbeh_-_fires',\n",
       " 'used_for_protection',\n",
       " 'a_weapon',\n",
       " 'eg_-_rifle',\n",
       " 'inbeh_-_fires_bullets',\n",
       " 'made_of_metal',\n",
       " 'used_for_hunting',\n",
       " 'used_for_shooting',\n",
       " 'used_for_crimes',\n",
       " 'used_for_killing']"
      ]
     },
     "execution_count": 163,
     "metadata": {},
     "output_type": "execute_result"
    }
   ],
   "source": [
    "learn_topk_props('cat',norm2vr,norm2prop,props,vr2pcdic,k=1) # 100 because its seen"
   ]
  },
  {
   "cell_type": "code",
   "execution_count": 155,
   "metadata": {
    "collapsed": false,
    "scrolled": false
   },
   "outputs": [
    {
     "data": {
      "text/plain": [
       "[(u'come', u'nsubj'),\n",
       " (u'like', u'dobj'),\n",
       " (u'feed', u'dobj'),\n",
       " (u'complement', u'nsubj'),\n",
       " (u'like', u'dobj'),\n",
       " (u'meet', u'nsubj'),\n",
       " (u'watch', u'dobj'),\n",
       " (u'dye', u'dobj'),\n",
       " (u'manage', u'nsubj'),\n",
       " (u'send', u'dobj')]"
      ]
     },
     "execution_count": 155,
     "metadata": {},
     "output_type": "execute_result"
    }
   ],
   "source": [
    "norm2vr['cat']"
   ]
  },
  {
   "cell_type": "code",
   "execution_count": 158,
   "metadata": {
    "collapsed": false
   },
   "outputs": [
    {
     "data": {
      "text/plain": [
       "{u'cat', u'corn', u'crocodile', u'horse', u'pig', u'rice'}"
      ]
     },
     "execution_count": 158,
     "metadata": {},
     "output_type": "execute_result"
    }
   ],
   "source": [
    "vr2norm[('feed','dobj')]"
   ]
  },
  {
   "cell_type": "code",
   "execution_count": 156,
   "metadata": {
    "collapsed": false
   },
   "outputs": [
    {
     "data": {
      "text/plain": [
       "Counter({'a_baby_is_a_piglet': 1,\n",
       "         'a_food': 1,\n",
       "         'a_grain': 1,\n",
       "         'a_mammal': 1,\n",
       "         'a_reptile': 1,\n",
       "         'a_vegetable': 1,\n",
       "         'an_animal': 3,\n",
       "         'associated_with_China': 1,\n",
       "         'associated_with_saddles': 1,\n",
       "         'beh_-_eats': 2,\n",
       "         'beh_-_eats_animals': 1,\n",
       "         'beh_-_eats_people': 1,\n",
       "         'beh_-_lays_eggs': 1,\n",
       "         'beh_-_oinks': 1,\n",
       "         'beh_-_squeals': 1,\n",
       "         'beh_-_swims': 1,\n",
       "         'comes_on_cobs': 1,\n",
       "         'eaten_as_bacon': 1,\n",
       "         'eaten_as_ham': 1,\n",
       "         'eaten_as_popcorn': 1,\n",
       "         'eaten_as_pork': 1,\n",
       "         'eaten_by_cooking': 1,\n",
       "         'eaten_with_butter': 1,\n",
       "         'grows_in_fields': 1,\n",
       "         'grows_in_water': 1,\n",
       "         'has_4_legs': 3,\n",
       "         'has_a_curly_tail': 1,\n",
       "         'has_a_mane': 1,\n",
       "         'has_a_snout': 1,\n",
       "         'has_a_tail': 3,\n",
       "         'has_ears': 1,\n",
       "         'has_hooves': 1,\n",
       "         'has_husks': 1,\n",
       "         'has_kernels': 1,\n",
       "         'has_legs': 2,\n",
       "         'has_powerful_jaws': 1,\n",
       "         'has_scales': 1,\n",
       "         'has_stalks': 1,\n",
       "         'has_teeth': 1,\n",
       "         'is_beautiful': 1,\n",
       "         'is_brown': 1,\n",
       "         'is_dangerous': 1,\n",
       "         'is_dirty': 1,\n",
       "         'is_edible': 3,\n",
       "         'is_fast': 1,\n",
       "         'is_fat': 1,\n",
       "         'is_green': 1,\n",
       "         'is_harvested': 1,\n",
       "         'is_large': 2,\n",
       "         'is_long': 1,\n",
       "         'is_muddy': 1,\n",
       "         'is_pink': 1,\n",
       "         'is_round': 1,\n",
       "         'is_small': 1,\n",
       "         'is_smelly': 1,\n",
       "         'is_strong': 1,\n",
       "         'is_white': 1,\n",
       "         'is_yellow': 1,\n",
       "         'likes_mud': 1,\n",
       "         'lives_in_stables': 1,\n",
       "         'lives_in_swamps': 1,\n",
       "         'lives_in_water': 1,\n",
       "         'lives_on_farms': 2,\n",
       "         'tastes_sweet': 1,\n",
       "         'used_by_riding': 1,\n",
       "         'used_for_pulling': 1,\n",
       "         'used_for_racing': 1,\n",
       "         'used_for_transportation': 1,\n",
       "         'used_for_working': 1})"
      ]
     },
     "execution_count": 156,
     "metadata": {},
     "output_type": "execute_result"
    }
   ],
   "source": [
    "vr2pcdic[('feed','dobj')]"
   ]
  },
  {
   "cell_type": "code",
   "execution_count": 113,
   "metadata": {
    "collapsed": false
   },
   "outputs": [
    {
     "data": {
      "text/plain": [
       "['a_baby_is_a_kitten',\n",
       " 'a_feline',\n",
       " 'a_mammal',\n",
       " 'a_pet',\n",
       " 'an_animal',\n",
       " 'beh_-_eats',\n",
       " 'beh_-_eats_mice',\n",
       " 'beh_-_kills',\n",
       " 'beh_-_meows',\n",
       " 'beh_-_purrs',\n",
       " 'has_4_legs',\n",
       " 'has_a_tail',\n",
       " 'has_claws',\n",
       " 'has_eyes',\n",
       " 'has_fur',\n",
       " 'has_legs',\n",
       " 'has_paws',\n",
       " 'has_whiskers',\n",
       " 'is_domestic',\n",
       " 'is_independent']"
      ]
     },
     "execution_count": 113,
     "metadata": {},
     "output_type": "execute_result"
    }
   ],
   "source": [
    "norm2prop['cat']"
   ]
  },
  {
   "cell_type": "code",
   "execution_count": null,
   "metadata": {
    "collapsed": true
   },
   "outputs": [],
   "source": []
  },
  {
   "cell_type": "code",
   "execution_count": null,
   "metadata": {
    "collapsed": true
   },
   "outputs": [],
   "source": []
  },
  {
   "cell_type": "code",
   "execution_count": null,
   "metadata": {
    "collapsed": true
   },
   "outputs": [],
   "source": []
  },
  {
   "cell_type": "code",
   "execution_count": null,
   "metadata": {
    "collapsed": true
   },
   "outputs": [],
   "source": []
  },
  {
   "cell_type": "code",
   "execution_count": null,
   "metadata": {
    "collapsed": true
   },
   "outputs": [],
   "source": []
  },
  {
   "cell_type": "code",
   "execution_count": null,
   "metadata": {
    "collapsed": true
   },
   "outputs": [],
   "source": []
  },
  {
   "cell_type": "code",
   "execution_count": null,
   "metadata": {
    "collapsed": true
   },
   "outputs": [],
   "source": []
  },
  {
   "cell_type": "code",
   "execution_count": null,
   "metadata": {
    "collapsed": true
   },
   "outputs": [],
   "source": []
  },
  {
   "cell_type": "code",
   "execution_count": null,
   "metadata": {
    "collapsed": true
   },
   "outputs": [],
   "source": []
  },
  {
   "cell_type": "code",
   "execution_count": null,
   "metadata": {
    "collapsed": true
   },
   "outputs": [],
   "source": []
  },
  {
   "cell_type": "code",
   "execution_count": null,
   "metadata": {
    "collapsed": true
   },
   "outputs": [],
   "source": []
  },
  {
   "cell_type": "code",
   "execution_count": null,
   "metadata": {
    "collapsed": true
   },
   "outputs": [],
   "source": []
  },
  {
   "cell_type": "code",
   "execution_count": null,
   "metadata": {
    "collapsed": true
   },
   "outputs": [],
   "source": []
  },
  {
   "cell_type": "code",
   "execution_count": null,
   "metadata": {
    "collapsed": true
   },
   "outputs": [],
   "source": []
  },
  {
   "cell_type": "code",
   "execution_count": null,
   "metadata": {
    "collapsed": true
   },
   "outputs": [],
   "source": []
  }
 ],
 "metadata": {
  "kernelspec": {
   "display_name": "Python 2",
   "language": "python",
   "name": "python2"
  },
  "language_info": {
   "codemirror_mode": {
    "name": "ipython",
    "version": 2
   },
   "file_extension": ".py",
   "mimetype": "text/x-python",
   "name": "python",
   "nbconvert_exporter": "python",
   "pygments_lexer": "ipython2",
   "version": "2.7.11"
  }
 },
 "nbformat": 4,
 "nbformat_minor": 0
}
