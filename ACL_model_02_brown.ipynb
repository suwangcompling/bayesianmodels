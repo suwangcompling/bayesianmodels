{
 "cells": [
  {
   "cell_type": "code",
   "execution_count": 1,
   "metadata": {
    "collapsed": false
   },
   "outputs": [],
   "source": [
    "import sys\n",
    "sys.path = ['/Users/jacobsw/Desktop/CODER/SPARK/spark-2.0.0-bin-hadoop2.7/python',\n",
    " '/Users/jacobsw/Desktop/CODER/SPARK/spark-2.0.0-bin-hadoop2.7/python/lib/py4j-0.10.1-src.zip',\n",
    " '/Users/jacobsw/Desktop/CODER/SPARK/spark-2.0.0-bin-hadoop2.7/python',\n",
    " '/Users/jacobsw/Desktop/CODER/SPARK/spark-2.0.0-bin-hadoop2.7/python/lib/py4j-0.10.1-src.zip',\n",
    " '/Users/jacobsw/Desktop/CODER/SPARK/spark-2.0.0-bin-hadoop2.7/python',\n",
    " u'/private/var/folders/8j/ptm7g49n12g94wn8cn44frr40000gn/T/spark-6d7026cb-1d7f-487b-a18f-adb8e1bd10fc/userFiles-ebdbc2d0-0c68-4c9a-83c8-54ad356cda18',\n",
    " '/Users/jacobsw/Desktop/CODER/SPARK/spark-2.0.0-bin-hadoop2.7/python/lib/py4j-0.10.1-src.zip',\n",
    " '/Users/jacobsw/Desktop/CODER/SPARK/spark-2.0.0-bin-hadoop2.7/python',\n",
    " '/Users/jacobsw/Desktop/CODER/SPARK/spark-2.0.0-bin-hadoop2.7/python/lib/py4j-0.10.1-src.zip',\n",
    " '',\n",
    " '/Users/jacobsw/anaconda2/lib/python27.zip',\n",
    " '/Users/jacobsw/anaconda2/lib/python2.7',\n",
    " '/Users/jacobsw/anaconda2/lib/python2.7/plat-darwin',\n",
    " '/Users/jacobsw/anaconda2/lib/python2.7/plat-mac',\n",
    " '/Users/jacobsw/anaconda2/lib/python2.7/plat-mac/lib-scriptpackages',\n",
    " '/Users/jacobsw/anaconda2/lib/python2.7/lib-tk',\n",
    " '/Users/jacobsw/anaconda2/lib/python2.7/lib-old',\n",
    " '/Users/jacobsw/anaconda2/lib/python2.7/lib-dynload',\n",
    " '/Users/jacobsw/.local/lib/python2.7/site-packages',\n",
    " '/Users/jacobsw/.local/lib/python2.7/site-packages/treetagger-1.0.1-py2.7.egg',\n",
    " '/Users/jacobsw/anaconda2/lib/python2.7/site-packages',\n",
    " '/Users/jacobsw/anaconda2/lib/python2.7/site-packages/Sphinx-1.3.5-py2.7.egg',\n",
    " '/Users/jacobsw/anaconda2/lib/python2.7/site-packages/aeosa',\n",
    " '/Users/jacobsw/anaconda2/lib/python2.7/site-packages/six-1.10.0-py2.7.egg',\n",
    " '/Users/jacobsw/anaconda2/lib/python2.7/site-packages/ojo_ner-0.1-py2.7.egg',\n",
    " '/Users/jacobsw/anaconda2/lib/python2.7/site-packages/calysto_scheme-1.1.8-py2.7.egg',\n",
    " '/Users/jacobsw/.local/lib/python2.7/site-packages',\n",
    " '/Users/jacobsw/.local/lib/python2.7/site-packages/IPython/extensions',\n",
    " '/Users/jacobsw/.ipython']\n",
    "\n",
    "# pyspark-integrated python at: /Users/jacobsw/Desktop/CODER/SPARK/pyspark_path.txt\n",
    "\n",
    "import os\n",
    "os.environ[\"SPARK_HOME\"] = \"/Users/jacobsw/Desktop/CODER/SPARK/spark-2.0.0-bin-hadoop2.7/\"\n",
    "\n",
    "import pyspark\n",
    "from pyspark.context import SparkContext\n",
    "\n",
    "sc = SparkContext() # run once, then you have it until restarting kernel"
   ]
  },
  {
   "cell_type": "markdown",
   "metadata": {},
   "source": [
    "## I. Pseudo Document"
   ]
  },
  {
   "cell_type": "code",
   "execution_count": 2,
   "metadata": {
    "collapsed": false
   },
   "outputs": [],
   "source": [
    "import cPickle\n",
    "import numpy as np\n",
    "from nltk.corpus import brown\n",
    "from spacy.en import English\n",
    "from spacy.en import STOPWORDS\n",
    "from collections import defaultdict"
   ]
  },
  {
   "cell_type": "code",
   "execution_count": 3,
   "metadata": {
    "collapsed": false
   },
   "outputs": [],
   "source": [
    "norms,norm2prop,_,props = cPickle.load(open(\"/Users/jacobsw/Desktop/UNIV/FALL_2016/LIN389C_RSCH_COMPLING/BAYESIAN/DATA/MCRAE/mcare_norm_data.p\",'rb'))"
   ]
  },
  {
   "cell_type": "code",
   "execution_count": 4,
   "metadata": {
    "collapsed": true
   },
   "outputs": [],
   "source": [
    "bern_norm2propprob = cPickle.load(open(\"/Users/jacobsw/Desktop/UNIV/FALL_2016/LIN389C_RSCH_COMPLING/BAYESIAN/DATA/MCRAE/mcare_norm_bern_norm2propprob.p\",'rb'))"
   ]
  },
  {
   "cell_type": "code",
   "execution_count": 5,
   "metadata": {
    "collapsed": false
   },
   "outputs": [
    {
     "name": "stdout",
     "output_type": "stream",
     "text": [
      "CPU times: user 1min 49s, sys: 2.73 s, total: 1min 52s\n",
      "Wall time: 1min 53s\n"
     ]
    }
   ],
   "source": [
    "%%time\n",
    "brown_sents = [unicode(' '.join(sent)) for sent in brown.sents()]\n",
    "parser = English()\n",
    "parsed_sents = [parser(sent) for sent in brown_sents]"
   ]
  },
  {
   "cell_type": "code",
   "execution_count": 6,
   "metadata": {
    "collapsed": true
   },
   "outputs": [],
   "source": [
    "def extract_dep_triples(parsed_sents):   \n",
    "    triples = []\n",
    "    for parsed_sent in parsed_sents:\n",
    "        for token in parsed_sent:\n",
    "            lemma_triple = (token.lemma_, token.dep_, token.head.lemma_)\n",
    "            triples.append(lemma_triple)\n",
    "    return triples"
   ]
  },
  {
   "cell_type": "code",
   "execution_count": 7,
   "metadata": {
    "collapsed": false
   },
   "outputs": [
    {
     "name": "stdout",
     "output_type": "stream",
     "text": [
      "CPU times: user 994 ms, sys: 128 ms, total: 1.12 s\n",
      "Wall time: 1.13 s\n"
     ]
    }
   ],
   "source": [
    "%%time\n",
    "dep_triples = extract_dep_triples(parsed_sents)"
   ]
  },
  {
   "cell_type": "code",
   "execution_count": 8,
   "metadata": {
    "collapsed": false
   },
   "outputs": [
    {
     "name": "stdout",
     "output_type": "stream",
     "text": [
      "1188973\n"
     ]
    }
   ],
   "source": [
    "print len(dep_triples)"
   ]
  },
  {
   "cell_type": "code",
   "execution_count": 9,
   "metadata": {
    "collapsed": true
   },
   "outputs": [],
   "source": [
    "# path = \"/Users/jacobsw/Desktop/UNIV/FALL_2016/LIN389C_RSCH_COMPLING/BAYESIAN/DATA/BROWN/\"\n",
    "# cPickle.dump(dep_triples, open(path+\"brown_triples.p\",'wb'))\n",
    "# dep_triples = cPickle.load(open(path+\"brown_triples.p\",'rb'))"
   ]
  },
  {
   "cell_type": "code",
   "execution_count": 81,
   "metadata": {
    "collapsed": true
   },
   "outputs": [],
   "source": [
    "def sample_bernoulli(p):\n",
    "    return 1 if np.random.uniform()<p else 0"
   ]
  },
  {
   "cell_type": "code",
   "execution_count": 83,
   "metadata": {
    "collapsed": false
   },
   "outputs": [
    {
     "name": "stdout",
     "output_type": "stream",
     "text": [
      "CPU times: user 293 ms, sys: 3.59 ms, total: 296 ms\n",
      "Wall time: 296 ms\n"
     ]
    }
   ],
   "source": [
    "%%time \n",
    "norms_set = set(norms)\n",
    "norm2vr_f = defaultdict(lambda : defaultdict(list))\n",
    "for norm,dep,head in dep_triples:\n",
    "    if norm in norms_set and (dep=='nsubj' or dep=='dobj'):\n",
    "        vr = head+'-'+dep\n",
    "        for i,f in enumerate(norm2prop[norm]):\n",
    "            if sample_bernoulli(bern_norm2propprob[norm][i]): \n",
    "                norm2vr_f[norm]['vr'].append(vr)\n",
    "                norm2vr_f[norm]['f'].append(f)"
   ]
  },
  {
   "cell_type": "code",
   "execution_count": 85,
   "metadata": {
    "collapsed": false
   },
   "outputs": [
    {
     "name": "stdout",
     "output_type": "stream",
     "text": [
      "['a_musical_instrument', 'associated_with_polkas', 'has_buttons', 'has_keys', 'inbeh_-_produces_music', 'is_loud', 'requires_air', 'used_by_moving_bellows', 'worn_on_chest'] 9\n",
      "[0.93333333333333335, 0.29999999999999999, 0.26666666666666666, 0.56666666666666665, 0.20000000000000001, 0.20000000000000001, 0.36666666666666664, 0.26666666666666666, 0.20000000000000001] 9\n"
     ]
    }
   ],
   "source": [
    "print norm2prop['accordion'], len(norm2prop['accordion'])\n",
    "print bern_norm2propprob['accordion'], len(bern_norm2propprob['accordion'])"
   ]
  },
  {
   "cell_type": "code",
   "execution_count": 86,
   "metadata": {
    "collapsed": false
   },
   "outputs": [],
   "source": [
    "norms, features = norm2vr_f.keys(), props\n",
    "n2i = {n:i for i,n in enumerate(norms)} # indexing pseudo-docs, each corresponds to 1 norm word.\n",
    "f2i = {f:i for i,f in enumerate(features)}"
   ]
  },
  {
   "cell_type": "code",
   "execution_count": 87,
   "metadata": {
    "collapsed": true
   },
   "outputs": [],
   "source": [
    "words = [] # i.e. v-r pairs.\n",
    "for norm in norms:\n",
    "    words += norm2vr_f[norm]['vr']\n",
    "words = list(set(words))\n",
    "w2i = {w:i for i,w in enumerate(words)}"
   ]
  },
  {
   "cell_type": "code",
   "execution_count": 88,
   "metadata": {
    "collapsed": false
   },
   "outputs": [],
   "source": [
    "word_docs, prop_docs = [], [] # word_docs: for v-r pairs.\n",
    "for norm in norms:\n",
    "    word_docs.append(norm2vr_f[norm]['vr'])\n",
    "    prop_docs.append(norm2vr_f[norm]['f'])"
   ]
  },
  {
   "cell_type": "code",
   "execution_count": 89,
   "metadata": {
    "collapsed": false
   },
   "outputs": [
    {
     "name": "stdout",
     "output_type": "stream",
     "text": [
      "327 327\n"
     ]
    }
   ],
   "source": [
    "print len(word_docs), len(prop_docs)"
   ]
  },
  {
   "cell_type": "code",
   "execution_count": 90,
   "metadata": {
    "collapsed": false,
    "scrolled": false
   },
   "outputs": [
    {
     "name": "stdout",
     "output_type": "stream",
     "text": [
      "Validation for word at idx0: taxi\n",
      "\n",
      "[u'enter-dobj', u'enter-dobj', u'enter-dobj', u'enter-dobj', u'be-nsubj', u'be-nsubj', u'pick-dobj', u'take-nsubj', u'take-nsubj', u'take-nsubj', u'take-nsubj', u'take-nsubj', u'grab-dobj', u'grab-dobj', u'grab-dobj', u'grab-dobj', u'grab-dobj', u'take-dobj', u'take-dobj', u'take-dobj', u'take-dobj', u'take-dobj', u'call-dobj', u'call-dobj', u'call-dobj', u'call-dobj', u'call-dobj', u'call-dobj']\n",
      "\n",
      "['found_in_New_York', 'is_expensive', 'requires_drivers', 'used_for_transportation', 'requires_drivers', 'requires_money', 'is_yellow', 'a_car', 'is_fast', 'is_yellow', 'requires_drivers', 'used_for_transportation', 'a_cab', 'a_car', 'is_yellow', 'requires_drivers', 'used_for_transportation', 'a_car', 'is_yellow', 'requires_drivers', 'requires_money', 'used_for_transportation', 'a_car', 'is_yellow', 'requires_drivers', 'requires_money', 'used_for_passengers', 'used_for_transportation']\n"
     ]
    }
   ],
   "source": [
    "print \"Validation for word at idx0: taxi\"; print\n",
    "print word_docs[0]; print\n",
    "print prop_docs[0]"
   ]
  },
  {
   "cell_type": "markdown",
   "metadata": {},
   "source": [
    "## II. Bimodal Topic Modeling"
   ]
  },
  {
   "cell_type": "markdown",
   "metadata": {},
   "source": [
    "** Initialize Topics **"
   ]
  },
  {
   "cell_type": "code",
   "execution_count": 91,
   "metadata": {
    "collapsed": true
   },
   "outputs": [],
   "source": [
    "import pandas as pd"
   ]
  },
  {
   "cell_type": "code",
   "execution_count": 92,
   "metadata": {
    "collapsed": true
   },
   "outputs": [],
   "source": [
    "from __future__ import division\n",
    "from operator import add\n",
    "from collections import Counter"
   ]
  },
  {
   "cell_type": "code",
   "execution_count": 93,
   "metadata": {
    "collapsed": false
   },
   "outputs": [],
   "source": [
    "topics = range(100)\n",
    "W, F, D, T = len(words), len(features), len(word_docs), len(topics)"
   ]
  },
  {
   "cell_type": "code",
   "execution_count": null,
   "metadata": {
    "collapsed": true
   },
   "outputs": [],
   "source": [
    "alpha, beta, gamma = 50/2, .001, .001\n",
    "alpha_arr = np.array([alpha for _ in range(T)]); Talpha_arr = np.array([alpha*T for _ in range(T)])\n",
    "beta_arr = np.array([beta for _ in range(T)]); Wbeta_arr = np.array([beta*W for _ in range(T)])\n",
    "gamma_arr = np.array([gamma for _ in range(T)]); Fgamma_arr = np.array([gamma*F for _ in range(T)])"
   ]
  },
  {
   "cell_type": "code",
   "execution_count": 94,
   "metadata": {
    "collapsed": false
   },
   "outputs": [],
   "source": [
    "for word_doc,prop_doc in zip(word_docs,prop_docs):\n",
    "    for i,(word,prop) in enumerate(zip(word_doc,prop_doc)):\n",
    "        sampled_topic = np.random.choice(topics)\n",
    "        word_doc[i] = (word,sampled_topic)\n",
    "        prop_doc[i] = (prop,sampled_topic)"
   ]
  },
  {
   "cell_type": "code",
   "execution_count": 95,
   "metadata": {
    "collapsed": false,
    "scrolled": true
   },
   "outputs": [
    {
     "name": "stdout",
     "output_type": "stream",
     "text": [
      "Validation for word at idx0: taxi\n",
      "\n",
      "[(u'enter-dobj', 60), (u'enter-dobj', 3), (u'enter-dobj', 33), (u'enter-dobj', 7), (u'be-nsubj', 48), (u'be-nsubj', 18), (u'pick-dobj', 67), (u'take-nsubj', 27), (u'take-nsubj', 48), (u'take-nsubj', 34), (u'take-nsubj', 80), (u'take-nsubj', 7), (u'grab-dobj', 11), (u'grab-dobj', 31), (u'grab-dobj', 96), (u'grab-dobj', 17), (u'grab-dobj', 76), (u'take-dobj', 62), (u'take-dobj', 16), (u'take-dobj', 47), (u'take-dobj', 11), (u'take-dobj', 76), (u'call-dobj', 21), (u'call-dobj', 43), (u'call-dobj', 28), (u'call-dobj', 27), (u'call-dobj', 97), (u'call-dobj', 68)]\n",
      "\n",
      "[('found_in_New_York', 60), ('is_expensive', 3), ('requires_drivers', 33), ('used_for_transportation', 7), ('requires_drivers', 48), ('requires_money', 18), ('is_yellow', 67), ('a_car', 27), ('is_fast', 48), ('is_yellow', 34), ('requires_drivers', 80), ('used_for_transportation', 7), ('a_cab', 11), ('a_car', 31), ('is_yellow', 96), ('requires_drivers', 17), ('used_for_transportation', 76), ('a_car', 62), ('is_yellow', 16), ('requires_drivers', 47), ('requires_money', 11), ('used_for_transportation', 76), ('a_car', 21), ('is_yellow', 43), ('requires_drivers', 28), ('requires_money', 27), ('used_for_passengers', 97), ('used_for_transportation', 68)]\n"
     ]
    }
   ],
   "source": [
    "print \"Validation for word at idx0: taxi\"; print\n",
    "print word_docs[0]; print\n",
    "print prop_docs[0]"
   ]
  },
  {
   "cell_type": "markdown",
   "metadata": {},
   "source": [
    "** Visualization Facilities **"
   ]
  },
  {
   "cell_type": "code",
   "execution_count": 96,
   "metadata": {
    "collapsed": true
   },
   "outputs": [],
   "source": [
    "import matplotlib.pyplot as plt\n",
    "%matplotlib inline\n",
    "import random"
   ]
  },
  {
   "cell_type": "code",
   "execution_count": 97,
   "metadata": {
    "collapsed": true
   },
   "outputs": [],
   "source": [
    "def sample_vis_docs(C_DT): # sample 10 documents, plot distribution over topics the by documents.\n",
    "    doc_ids = random.sample(range(C_DT.shape[0]),10) # randomly sample 10 docs.\n",
    "    print \"Histogram over Topic by Doc\"\n",
    "    plt.subplots(figsize=(12,4))\n",
    "    for i,doc_id in enumerate(doc_ids):\n",
    "        plt.subplot(2,5,i+1)\n",
    "        plt.tight_layout()\n",
    "        plt.title(\"Doc %d\" % doc_id)\n",
    "        plt.ylim((0,10))\n",
    "        plt.plot(C_DT[doc_id])"
   ]
  },
  {
   "cell_type": "code",
   "execution_count": 98,
   "metadata": {
    "collapsed": true
   },
   "outputs": [],
   "source": [
    "def sample_vis_topics(C_WT,C_FT): # sample 10 topics, plot distribution over words/properties by the topics.\n",
    "    topic_ids = random.sample(range(C_WT.shape[1]),10) # randomly sample 10 docs.\n",
    "    print \"Histogram over %s by Topic\" % 'Words'\n",
    "    plt.subplots(figsize=(12,4))\n",
    "    for i,topic_id in enumerate(topic_ids):\n",
    "        plt.subplot(2,5,i+1)\n",
    "        plt.tight_layout()\n",
    "        plt.title(\"Topic %d (Words)\" % topic_id)\n",
    "        plt.ylim((0,10))\n",
    "        plt.plot(C_WT[:,topic_id])\n",
    "    plt.show()\n",
    "    print\n",
    "    print \"Histogram over %s by Topic\" % 'Properties'\n",
    "    plt.subplots(figsize=(12,4))\n",
    "    for i,topic_id in enumerate(topic_ids):\n",
    "        plt.subplot(2,5,i+1)\n",
    "        plt.tight_layout()\n",
    "        plt.title(\"Topic %d (Properties)\" % topic_id)\n",
    "        plt.ylim((0,10))\n",
    "        plt.plot(C_FT[:,topic_id]) \n",
    "    plt.show()"
   ]
  },
  {
   "cell_type": "markdown",
   "metadata": {},
   "source": [
    "** Topic Model **"
   ]
  },
  {
   "cell_type": "code",
   "execution_count": 100,
   "metadata": {
    "collapsed": true
   },
   "outputs": [],
   "source": [
    "def get_counts(word_docs,prop_docs):\n",
    "    C_WT, C_FT, C_DT = np.zeros((W,T)), np.zeros((F,T)), np.zeros((D,T))\n",
    "    wt_counts = reduce(add,[Counter(word_doc) for word_doc in word_docs])\n",
    "    ft_counts = reduce(add,[Counter(prop_doc) for prop_doc in prop_docs])\n",
    "    for (w,t_w),wt_count in wt_counts.iteritems(): C_WT[w2i[w]][t_w] = wt_count \n",
    "    for (f,t_f),ft_count in ft_counts.iteritems(): C_FT[f2i[f]][t_f] = ft_count\n",
    "    for i,doc in enumerate(word_docs): # word,feature pairs have the same topic assignments.\n",
    "        dt_counts = Counter([t for w,t in doc])\n",
    "        for j in range(T):\n",
    "            C_DT[i][j] = dt_counts[j]\n",
    "    return C_WT, C_FT, C_DT"
   ]
  },
  {
   "cell_type": "code",
   "execution_count": 113,
   "metadata": {
    "collapsed": false
   },
   "outputs": [
    {
     "name": "stdout",
     "output_type": "stream",
     "text": [
      "CPU times: user 4.25 s, sys: 32.4 ms, total: 4.28 s\n",
      "Wall time: 4.28 s\n"
     ]
    }
   ],
   "source": [
    "%%time\n",
    "C_WT, C_FT, C_DT = get_counts(word_docs, prop_docs)"
   ]
  },
  {
   "cell_type": "code",
   "execution_count": 114,
   "metadata": {
    "collapsed": false
   },
   "outputs": [
    {
     "name": "stdout",
     "output_type": "stream",
     "text": [
      "(973, 100) (2526, 100) (327, 100)\n"
     ]
    }
   ],
   "source": [
    "print C_WT.shape, C_FT.shape, C_DT.shape"
   ]
  },
  {
   "cell_type": "code",
   "execution_count": 115,
   "metadata": {
    "collapsed": false
   },
   "outputs": [
    {
     "name": "stdout",
     "output_type": "stream",
     "text": [
      "# words: 973 | # properties: 2526 | # documents: 327 | # topics: 100\n",
      "15118.0 15118.0 15118.0\n"
     ]
    }
   ],
   "source": [
    "print \"# words: %d | # properties: %d | # documents: %d | # topics: %d\" % (W,F,D,T)\n",
    "print C_WT.sum(), C_FT.sum(), C_DT.sum() # confirmation"
   ]
  },
  {
   "cell_type": "markdown",
   "metadata": {},
   "source": [
    "##### Visualization on Initialization: Random Pattern"
   ]
  },
  {
   "cell_type": "code",
   "execution_count": 104,
   "metadata": {
    "collapsed": false
   },
   "outputs": [
    {
     "name": "stdout",
     "output_type": "stream",
     "text": [
      "Histogram over Topic by Doc\n"
     ]
    },
    {
     "data": {
      "image/png": "[encoded data removed]",
      "text/plain": [
       "<matplotlib.figure.Figure at 0x112a8d550>"
      ]
     },
     "metadata": {},
     "output_type": "display_data"
    }
   ],
   "source": [
    "sample_vis_docs(C_DT)"
   ]
  },
  {
   "cell_type": "code",
   "execution_count": 105,
   "metadata": {
    "collapsed": false
   },
   "outputs": [
    {
     "name": "stdout",
     "output_type": "stream",
     "text": [
      "Histogram over Words by Topic\n"
     ]
    },
    {
     "data": {
      "image/png": "[encoded data removed]",
      "text/plain": [
       "<matplotlib.figure.Figure at 0x118588290>"
      ]
     },
     "metadata": {},
     "output_type": "display_data"
    },
    {
     "name": "stdout",
     "output_type": "stream",
     "text": [
      "\n",
      "Histogram over Properties by Topic\n"
     ]
    },
    {
     "data": {
      "image/png": "[encoded data removed]",
      "text/plain": [
       "<matplotlib.figure.Figure at 0x1184d2f50>"
      ]
     },
     "metadata": {},
     "output_type": "display_data"
    }
   ],
   "source": [
    "sample_vis_topics(C_WT,C_FT) # What it looks like on random initialization"
   ]
  },
  {
   "cell_type": "markdown",
   "metadata": {},
   "source": [
    "Here we go!"
   ]
  },
  {
   "cell_type": "code",
   "execution_count": 108,
   "metadata": {
    "collapsed": true
   },
   "outputs": [],
   "source": [
    "def normalize(arr):\n",
    "    return arr / arr.sum()\n",
    "\n",
    "def sample_topic(w_i,f_i,d):\n",
    "    P_num_arr = (C_WT[w_i,:]+beta_arr) * (C_FT[f_i,:]+gamma_arr) * (C_DT[d,:]+alpha_arr)\n",
    "    P_denom_arr = (np.apply_along_axis(sum,0,C_WT)+Wbeta_arr) * \\\n",
    "                  (np.apply_along_axis(sum,0,C_FT)+Fgamma_arr) * \\\n",
    "                  (T * (C_DT[d,:].sum()+T*alpha))\n",
    "    P = normalize(P_num_arr / P_denom_arr)\n",
    "    return np.random.choice(np.array(topics),p=normalize(P))"
   ]
  },
  {
   "cell_type": "code",
   "execution_count": 109,
   "metadata": {
    "collapsed": true
   },
   "outputs": [],
   "source": [
    "def gibbs_test():\n",
    "    for d,(word_doc,prop_doc) in enumerate(zip(word_docs,prop_docs)):\n",
    "        for (w,t),(f,_) in zip(word_doc,prop_doc): # a (w,f) pair have the same topic.\n",
    "            if C_WT[w2i[w]][t]==0 or C_FT[f2i[f]][t]==0 or C_DT[d][t]==0: continue\n",
    "            C_WT[w2i[w]][t] -= 1\n",
    "            C_FT[f2i[f]][t] -= 1\n",
    "            C_DT[d][t] -= 1\n",
    "            new_t = sample_topic(w2i[w],f2i[f],d)\n",
    "            C_WT[w2i[w]][new_t] += 1\n",
    "            C_FT[f2i[f]][new_t] += 1\n",
    "            C_DT[d][new_t] += 1   \n",
    "\n",
    "def gibbs(n_iters=30, verbose_freq=1):\n",
    "    for e in range(n_iters):\n",
    "        if e!=0 and e%verbose_freq==0: print \"@ %dth iteration\" % e\n",
    "        for d,(word_doc,prop_doc) in enumerate(zip(word_docs,prop_docs)):\n",
    "            for (w,t),(f,_) in zip(word_doc,prop_doc): # a (w,f) pair have the same topic.\n",
    "                if C_WT[w2i[w]][t]==0 or C_FT[f2i[f]][t]==0 or C_DT[d][t]==0: continue\n",
    "                C_WT[w2i[w]][t] -= 1\n",
    "                C_FT[f2i[f]][t] -= 1\n",
    "                C_DT[d][t] -= 1\n",
    "                new_t = sample_topic(w2i[w],f2i[f],d)\n",
    "                C_WT[w2i[w]][new_t] += 1\n",
    "                C_FT[f2i[f]][new_t] += 1\n",
    "                C_DT[d][new_t] += 1"
   ]
  },
  {
   "cell_type": "code",
   "execution_count": 110,
   "metadata": {
    "collapsed": false
   },
   "outputs": [
    {
     "name": "stdout",
     "output_type": "stream",
     "text": [
      "CPU times: user 8min 43s, sys: 5.84 s, total: 8min 49s\n",
      "Wall time: 8min 45s\n"
     ]
    }
   ],
   "source": [
    "%%time\n",
    "gibbs_test()"
   ]
  },
  {
   "cell_type": "code",
   "execution_count": 116,
   "metadata": {
    "collapsed": false
   },
   "outputs": [
    {
     "name": "stdout",
     "output_type": "stream",
     "text": [
      "@ 5th iteration\n",
      "@ 10th iteration\n",
      "@ 15th iteration\n",
      "@ 20th iteration\n",
      "@ 25th iteration\n",
      "@ 30th iteration\n",
      "@ 35th iteration\n",
      "@ 40th iteration\n",
      "@ 45th iteration\n",
      "@ 50th iteration\n",
      "@ 55th iteration\n",
      "@ 60th iteration\n",
      "@ 65th iteration\n",
      "@ 70th iteration\n",
      "@ 75th iteration\n",
      "@ 80th iteration\n",
      "@ 85th iteration\n",
      "@ 90th iteration\n",
      "@ 95th iteration\n",
      "CPU times: user 40min 55s, sys: 30.4 s, total: 41min 25s\n",
      "Wall time: 41min 11s\n"
     ]
    }
   ],
   "source": [
    "%%time\n",
    "gibbs(n_iters=100, verbose_freq=5)"
   ]
  },
  {
   "cell_type": "markdown",
   "metadata": {
    "collapsed": true
   },
   "source": [
    "## III. Evaluation"
   ]
  },
  {
   "cell_type": "markdown",
   "metadata": {},
   "source": [
    "##### Property Inference\n",
    "\n",
    "* $P(f\\mid d) = \\sum_zP(f\\mid z)P(z\\mid d)$, where $d$ corresponds to a norm word $n$"
   ]
  },
  {
   "cell_type": "code",
   "execution_count": 117,
   "metadata": {
    "collapsed": true
   },
   "outputs": [],
   "source": [
    "def p_f_given_z(f, z): # f, z: prop and topic idx.\n",
    "    return C_FT[f][z] / C_FT[:,z].sum()\n",
    "\n",
    "def p_z_given_d(z, d): # z, d: topic and document (norm word) idx.\n",
    "    return C_DT[d][z] / C_DT[d,:].sum()\n",
    "\n",
    "def p_f_given_d(f, d):\n",
    "    return sum(p_f_given_z(f,z)*p_z_given_d(z,d) for z in topics)"
   ]
  },
  {
   "cell_type": "code",
   "execution_count": 118,
   "metadata": {
    "collapsed": true
   },
   "outputs": [],
   "source": [
    "def topk_props(norm, verbose=0, k=5):\n",
    "    d = n2i[norm]\n",
    "    prop_dist = [p_f_given_d(f,d) for f in xrange(len(features))]\n",
    "    topk = np.argsort(prop_dist)[::-1][:k]\n",
    "    if verbose:\n",
    "        print \"Top %d Properties for Word %s\" % (k,norm); print\n",
    "        for i in topk:\n",
    "            print \"#%d Property: %s\" % (i+1,features[i])\n",
    "        return\n",
    "    return map(lambda i:features[i], topk)"
   ]
  },
  {
   "cell_type": "code",
   "execution_count": 119,
   "metadata": {
    "collapsed": false
   },
   "outputs": [
    {
     "name": "stdout",
     "output_type": "stream",
     "text": [
      "Top 5 Properties for Word cat\n",
      "\n",
      "#2013 Property: made_of_wood\n",
      "#932 Property: an_animal\n",
      "#1051 Property: used_for_war\n",
      "#1875 Property: made_of_metal\n",
      "#1768 Property: requires_drivers\n",
      "None\n",
      "\n",
      "Top 5 Properties for Word car\n",
      "\n",
      "#156 Property: used_for_transportation\n",
      "#961 Property: has_wheels\n",
      "#811 Property: has_windows\n",
      "#1378 Property: has_doors\n",
      "#1875 Property: made_of_metal\n",
      "None\n",
      "\n",
      "Top 5 Properties for Word book\n",
      "\n",
      "#2013 Property: made_of_wood\n",
      "#1364 Property: is_round\n",
      "#1875 Property: made_of_metal\n",
      "#736 Property: is_large\n",
      "#1728 Property: used_by_reading\n",
      "None\n"
     ]
    }
   ],
   "source": [
    "print topk_props('cat', verbose=1); print\n",
    "print topk_props('car', verbose=1); print\n",
    "print topk_props('book', verbose=1)"
   ]
  },
  {
   "cell_type": "code",
   "execution_count": 120,
   "metadata": {
    "collapsed": true
   },
   "outputs": [],
   "source": [
    "def evaluate1(): # all correct retrievals in top 5\n",
    "    accuracies = []\n",
    "    for i,norm in enumerate(norms):\n",
    "        if i!=0 and i%50==0: print \"... %d words processed\" % i\n",
    "        props_pred = topk_props(norm) # verbose=0, k=5.\n",
    "        accuracy = sum(.2 if prop in norm2prop[norm] else 0. for prop in props_pred)\n",
    "        accuracies.append(accuracy)\n",
    "    print \"Average Accuracy on Brown: %.6f%%\" % (np.mean(accuracies)*100)\n",
    "\n",
    "def evaluate2(): # single correct retrieval in top 5\n",
    "    accuracies = []\n",
    "    for i,norm in enumerate(norms):\n",
    "        if i!=0 and i%50==0: print \"... %d words processed\" % i\n",
    "        props_pred = topk_props(norm) # verbose=0, k=5.\n",
    "        accuracy = 1. if any(prop in norm2prop[norm] for prop in props_pred) else 0\n",
    "        accuracies.append(accuracy)\n",
    "    print \"Average Accuracy on Brown: %.6f%%\" % (np.mean(accuracies)*100)\n",
    "\n",
    "def evaluate3(): # MAP (linear)\n",
    "    avg_precs = []\n",
    "    for i,norm in enumerate(norms):\n",
    "        precs = []\n",
    "        if i!=0 and i%50==0: print \"... %d words processed\" % i\n",
    "        props_pred = (topk_props(norm, k=F)) # F = 2526, i.e. all props\n",
    "        props_true = norm2prop[norm]\n",
    "        num_correct = 0\n",
    "        for i,prop in enumerate(props_pred):\n",
    "            if prop in props_true:\n",
    "                num_correct += 1\n",
    "                precs.append(num_correct / (i+1))\n",
    "        avg_precs.append(np.mean(precs))\n",
    "    print \"MAP on Brown: %.6f%%\" % (np.mean(avg_precs)*100)    "
   ]
  },
  {
   "cell_type": "code",
   "execution_count": 123,
   "metadata": {
    "collapsed": false
   },
   "outputs": [
    {
     "name": "stdout",
     "output_type": "stream",
     "text": [
      "... 50 words processed\n",
      "... 100 words processed\n",
      "... 150 words processed\n",
      "... 200 words processed\n",
      "... 250 words processed\n",
      "... 300 words processed\n",
      "Average Accuracy on Brown: 17.308869%\n",
      "CPU times: user 12min 52s, sys: 939 ms, total: 12min 52s\n",
      "Wall time: 12min 53s\n"
     ]
    }
   ],
   "source": [
    "%%time\n",
    "evaluate1()"
   ]
  },
  {
   "cell_type": "code",
   "execution_count": 122,
   "metadata": {
    "collapsed": false
   },
   "outputs": [
    {
     "name": "stdout",
     "output_type": "stream",
     "text": [
      "... 50 words processed\n",
      "... 100 words processed\n",
      "... 150 words processed\n",
      "... 200 words processed\n",
      "... 250 words processed\n",
      "... 300 words processed\n",
      "Average Accuracy on Brown: 55.351682%\n",
      "CPU times: user 12min 43s, sys: 1.29 s, total: 12min 44s\n",
      "Wall time: 12min 45s\n"
     ]
    }
   ],
   "source": [
    "%%time\n",
    "evaluate2()"
   ]
  },
  {
   "cell_type": "code",
   "execution_count": 121,
   "metadata": {
    "collapsed": false
   },
   "outputs": [
    {
     "name": "stdout",
     "output_type": "stream",
     "text": [
      "... 50 words processed\n",
      "... 100 words processed\n",
      "... 150 words processed\n",
      "... 200 words processed\n",
      "... 250 words processed\n",
      "... 300 words processed\n",
      "MAP on Brown: 11.851138%\n",
      "CPU times: user 13min 46s, sys: 2.82 s, total: 13min 49s\n",
      "Wall time: 13min 51s\n"
     ]
    }
   ],
   "source": [
    "%%time\n",
    "evaluate3()"
   ]
  },
  {
   "cell_type": "code",
   "execution_count": null,
   "metadata": {
    "collapsed": true
   },
   "outputs": [],
   "source": []
  },
  {
   "cell_type": "code",
   "execution_count": null,
   "metadata": {
    "collapsed": true
   },
   "outputs": [],
   "source": []
  },
  {
   "cell_type": "code",
   "execution_count": null,
   "metadata": {
    "collapsed": true
   },
   "outputs": [],
   "source": []
  },
  {
   "cell_type": "code",
   "execution_count": null,
   "metadata": {
    "collapsed": true
   },
   "outputs": [],
   "source": []
  }
 ],
 "metadata": {
  "kernelspec": {
   "display_name": "Python 2",
   "language": "python",
   "name": "python2"
  },
  "language_info": {
   "codemirror_mode": {
    "name": "ipython",
    "version": 2
   },
   "file_extension": ".py",
   "mimetype": "text/x-python",
   "name": "python",
   "nbconvert_exporter": "python",
   "pygments_lexer": "ipython2",
   "version": "2.7.11"
  }
 },
 "nbformat": 4,
 "nbformat_minor": 0
}
